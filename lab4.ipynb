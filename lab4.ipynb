{
 "cells": [
  {
   "cell_type": "markdown",
   "id": "850356b3",
   "metadata": {},
   "source": [
    "# Laboratorio 4\n",
    "\n",
    "Sean bienvenidos de nuevo al laboratorio 4 de Deep Learning y Sistemas Inteligentes. Así como en los laboratorios pasados, espero que esta ejercitación les sirva para consolidar sus conocimientos en el tema de Encoder-Decoder y AutoEnconders.\n",
    "\n",
    "Para este laboratorio estaremos usando una herramienta para Jupyter Notebooks que facilitará la calificación, no solo asegurándo que ustedes tengan una nota pronto sino también mostrandoles su nota final al terminar el laboratorio.\n",
    "\n",
    "Espero que esta vez si se muestren los *marks*. De nuevo me discupo si algo no sale bien, seguiremos mejorando conforme vayamos iterando. Siempre pido su comprensión y colaboración si algo no funciona como debería. \n",
    "\n",
    "Al igual que en el laboratorio pasado, estaremos usando la librería de Dr John Williamson et al de la University of Glasgow, además de ciertas piezas de código de Dr Bjorn Jensen de su curso de Introduction to Data Science and System de la University of Glasgow para la visualización de sus calificaciones. \n",
    "\n",
    "**NOTA:** Ahora tambien hay una tercera dependecia que se necesita instalar. Ver la celda de abajo por favor\n",
    "\n",
    "<script type=\"text/javascript\" src=\"https://cdn.mathjax.org/mathjax/latest/MathJax.js?config=TeX-AMS-MML_HTMLorMML\">\n",
    "</script>"
   ]
  },
  {
   "cell_type": "code",
   "execution_count": 2,
   "id": "49183e54",
   "metadata": {
    "ExecuteTime": {
     "end_time": "2023-08-06T06:29:54.419993Z",
     "start_time": "2023-08-06T06:29:54.409473Z"
    }
   },
   "outputs": [
    {
     "name": "stdout",
     "output_type": "stream",
     "text": [
      "Collecting https://github.com/johnhw/jhwutils/zipball/master\n",
      "  Downloading https://github.com/johnhw/jhwutils/zipball/master\n",
      "     - 0 bytes ? 0:00:00\n",
      "     | 93.3 kB 714.8 kB/s 0:00:00\n",
      "     | 119.1 kB 664.7 kB/s 0:00:00\n",
      "  Preparing metadata (setup.py): started\n",
      "  Preparing metadata (setup.py): finished with status 'done'\n",
      "Building wheels for collected packages: jhwutils\n",
      "  Building wheel for jhwutils (setup.py): started\n",
      "  Building wheel for jhwutils (setup.py): finished with status 'done'\n",
      "  Created wheel for jhwutils: filename=jhwutils-1.3-py3-none-any.whl size=41918 sha256=a2a388f087192f29eaac1dfd7eeaaa14a73d63091b0bf91428c2fdc9d51b8f6b\n",
      "  Stored in directory: C:\\Users\\usuario\\AppData\\Local\\Temp\\pip-ephem-wheel-cache-2921vkxj\\wheels\\a8\\e7\\e3\\9542f8e4159ba644c6acd9f78babbe8489bb72667fb02ac54d\n",
      "Successfully built jhwutils\n",
      "Installing collected packages: jhwutils\n",
      "  Attempting uninstall: jhwutils\n",
      "    Found existing installation: jhwutils 1.3\n",
      "    Uninstalling jhwutils-1.3:\n",
      "      Successfully uninstalled jhwutils-1.3\n",
      "Successfully installed jhwutils-1.3\n"
     ]
    },
    {
     "name": "stderr",
     "output_type": "stream",
     "text": [
      "\n",
      "[notice] A new release of pip is available: 25.0.1 -> 25.2\n",
      "[notice] To update, run: C:\\Users\\usuario\\AppData\\Local\\Microsoft\\WindowsApps\\PythonSoftwareFoundation.Python.3.11_qbz5n2kfra8p0\\python.exe -m pip install --upgrade pip\n"
     ]
    },
    {
     "name": "stdout",
     "output_type": "stream",
     "text": [
      "Requirement already satisfied: scikit-image in c:\\users\\usuario\\appdata\\local\\packages\\pythonsoftwarefoundation.python.3.11_qbz5n2kfra8p0\\localcache\\local-packages\\python311\\site-packages (0.25.2)\n",
      "Requirement already satisfied: numpy>=1.24 in c:\\users\\usuario\\appdata\\local\\packages\\pythonsoftwarefoundation.python.3.11_qbz5n2kfra8p0\\localcache\\local-packages\\python311\\site-packages (from scikit-image) (1.26.4)\n",
      "Requirement already satisfied: scipy>=1.11.4 in c:\\users\\usuario\\appdata\\local\\packages\\pythonsoftwarefoundation.python.3.11_qbz5n2kfra8p0\\localcache\\local-packages\\python311\\site-packages (from scikit-image) (1.15.2)\n",
      "Requirement already satisfied: networkx>=3.0 in c:\\users\\usuario\\appdata\\local\\packages\\pythonsoftwarefoundation.python.3.11_qbz5n2kfra8p0\\localcache\\local-packages\\python311\\site-packages (from scikit-image) (3.3)\n",
      "Requirement already satisfied: pillow>=10.1 in c:\\users\\usuario\\appdata\\local\\packages\\pythonsoftwarefoundation.python.3.11_qbz5n2kfra8p0\\localcache\\local-packages\\python311\\site-packages (from scikit-image) (11.1.0)\n",
      "Requirement already satisfied: imageio!=2.35.0,>=2.33 in c:\\users\\usuario\\appdata\\local\\packages\\pythonsoftwarefoundation.python.3.11_qbz5n2kfra8p0\\localcache\\local-packages\\python311\\site-packages (from scikit-image) (2.37.0)\n",
      "Requirement already satisfied: tifffile>=2022.8.12 in c:\\users\\usuario\\appdata\\local\\packages\\pythonsoftwarefoundation.python.3.11_qbz5n2kfra8p0\\localcache\\local-packages\\python311\\site-packages (from scikit-image) (2025.6.11)\n",
      "Requirement already satisfied: packaging>=21 in c:\\users\\usuario\\appdata\\local\\packages\\pythonsoftwarefoundation.python.3.11_qbz5n2kfra8p0\\localcache\\local-packages\\python311\\site-packages (from scikit-image) (24.2)\n",
      "Requirement already satisfied: lazy-loader>=0.4 in c:\\users\\usuario\\appdata\\local\\packages\\pythonsoftwarefoundation.python.3.11_qbz5n2kfra8p0\\localcache\\local-packages\\python311\\site-packages (from scikit-image) (0.4)\n"
     ]
    },
    {
     "name": "stderr",
     "output_type": "stream",
     "text": [
      "\n",
      "[notice] A new release of pip is available: 25.0.1 -> 25.2\n",
      "[notice] To update, run: C:\\Users\\usuario\\AppData\\Local\\Microsoft\\WindowsApps\\PythonSoftwareFoundation.Python.3.11_qbz5n2kfra8p0\\python.exe -m pip install --upgrade pip\n"
     ]
    },
    {
     "name": "stdout",
     "output_type": "stream",
     "text": [
      "Collecting https://github.com/AlbertS789/lautils/zipball/master\n",
      "  Downloading https://github.com/AlbertS789/lautils/zipball/master\n",
      "     - 0 bytes ? 0:00:00\n",
      "     - 4.2 kB ? 0:00:00\n",
      "  Preparing metadata (setup.py): started\n",
      "  Preparing metadata (setup.py): finished with status 'done'\n",
      "Building wheels for collected packages: lautils\n",
      "  Building wheel for lautils (setup.py): started\n",
      "  Building wheel for lautils (setup.py): finished with status 'done'\n",
      "  Created wheel for lautils: filename=lautils-1.0-py3-none-any.whl size=2890 sha256=65fef2134240e96e11a22c0a0fb5181b6b5a08b471bc2ab3352338d35195abac\n",
      "  Stored in directory: C:\\Users\\usuario\\AppData\\Local\\Temp\\pip-ephem-wheel-cache-76izm13n\\wheels\\1a\\50\\ba\\b3ceb937949f5894a896b68af5b5fdb598e50244141063e4db\n",
      "Successfully built lautils\n",
      "Installing collected packages: lautils\n",
      "  Attempting uninstall: lautils\n",
      "    Found existing installation: lautils 1.0\n",
      "    Uninstalling lautils-1.0:\n",
      "      Successfully uninstalled lautils-1.0\n",
      "Successfully installed lautils-1.0\n"
     ]
    },
    {
     "name": "stderr",
     "output_type": "stream",
     "text": [
      "\n",
      "[notice] A new release of pip is available: 25.0.1 -> 25.2\n",
      "[notice] To update, run: C:\\Users\\usuario\\AppData\\Local\\Microsoft\\WindowsApps\\PythonSoftwareFoundation.Python.3.11_qbz5n2kfra8p0\\python.exe -m pip install --upgrade pip\n"
     ]
    }
   ],
   "source": [
    "# Una vez instalada la librería por favor, recuerden volverla a comentar.\n",
    "!pip install -U --force-reinstall --no-cache https://github.com/johnhw/jhwutils/zipball/master\n",
    "!pip install scikit-image\n",
    "!pip install -U --force-reinstall --no-cache https://github.com/AlbertS789/lautils/zipball/master"
   ]
  },
  {
   "cell_type": "code",
   "execution_count": 3,
   "id": "1c2378f6",
   "metadata": {
    "ExecuteTime": {
     "end_time": "2023-08-07T22:24:37.953793Z",
     "start_time": "2023-08-07T22:24:34.644956Z"
    }
   },
   "outputs": [],
   "source": [
    "import numpy as np\n",
    "import copy\n",
    "import matplotlib.pyplot as plt\n",
    "import scipy\n",
    "from PIL import Image\n",
    "import os\n",
    "from collections import defaultdict\n",
    "\n",
    "#from IPython import display\n",
    "#from base64 import b64decode\n",
    "\n",
    "\n",
    "# Other imports\n",
    "from unittest.mock import patch\n",
    "from uuid import getnode as get_mac\n",
    "\n",
    "from jhwutils.checkarr import array_hash, check_hash, check_scalar, check_string, array_hash, _check_scalar\n",
    "import jhwutils.image_audio as ia\n",
    "import jhwutils.tick as tick\n",
    "from lautils.gradeutils import new_representation, hex_to_float, compare_numbers, compare_lists_by_percentage, calculate_coincidences_percentage\n",
    "\n",
    "###\n",
    "tick.reset_marks()\n",
    "\n",
    "%matplotlib inline"
   ]
  },
  {
   "cell_type": "code",
   "execution_count": 4,
   "id": "872e6c48",
   "metadata": {
    "ExecuteTime": {
     "end_time": "2023-08-06T06:29:55.567829Z",
     "start_time": "2023-08-06T06:29:55.560965Z"
    },
    "deletable": false,
    "editable": false,
    "nbgrader": {
     "cell_type": "code",
     "checksum": "29e52b805cfebe42903d0379a3f485da",
     "grade": false,
     "grade_id": "cell-95b81aaa3e57306b",
     "locked": true,
     "schema_version": 3,
     "solution": false,
     "task": false
    }
   },
   "outputs": [],
   "source": [
    "# Seeds\n",
    "seed_ = 2023\n",
    "np.random.seed(seed_)"
   ]
  },
  {
   "cell_type": "code",
   "execution_count": 5,
   "id": "d2e571e0",
   "metadata": {
    "ExecuteTime": {
     "end_time": "2023-08-06T06:29:55.581630Z",
     "start_time": "2023-08-06T06:29:55.567829Z"
    },
    "deletable": false,
    "editable": false,
    "nbgrader": {
     "cell_type": "code",
     "checksum": "3aa8961ba46ffd91e0ae666686e967e7",
     "grade": true,
     "grade_id": "cell-b2ae10e4b3198bb2",
     "locked": true,
     "points": 0,
     "schema_version": 3,
     "solution": false,
     "task": false
    }
   },
   "outputs": [],
   "source": [
    "# Celda escondida para utlidades necesarias, por favor NO edite esta celda\n"
   ]
  },
  {
   "cell_type": "markdown",
   "id": "1a97c050",
   "metadata": {
    "deletable": false,
    "editable": false,
    "nbgrader": {
     "cell_type": "markdown",
     "checksum": "ea27899c011d00466ba84d10df3c8450",
     "grade": false,
     "grade_id": "cell-37707c73cc6055e5",
     "locked": true,
     "schema_version": 3,
     "solution": false,
     "task": false
    }
   },
   "source": [
    "###### Información del estudiante en dos variables\n",
    "\n",
    "* carne_1 : un string con su carne (e.g. \"12281\"), debe ser de al menos 5 caracteres.\n",
    "* firma_mecanografiada_1: un string con su nombre (e.g. \"Albero Suriano\") que se usará para la declaracion que este trabajo es propio (es decir, no hay plagio)\n",
    "* carne_2 : un string con su carne (e.g. \"12281\"), debe ser de al menos 5 caracteres.\n",
    "* firma_mecanografiada_2: un string con su nombre (e.g. \"Albero Suriano\") que se usará para la declaracion que este trabajo es propio (es decir, no hay plagio)"
   ]
  },
  {
   "cell_type": "code",
   "execution_count": 6,
   "id": "e766e448",
   "metadata": {
    "ExecuteTime": {
     "end_time": "2023-08-06T06:29:55.588643Z",
     "start_time": "2023-08-06T06:29:55.581630Z"
    },
    "deletable": false,
    "nbgrader": {
     "cell_type": "code",
     "checksum": "e7c7bd38d70a53f41a59434e097ebf75",
     "grade": false,
     "grade_id": "cell-887917342d3eaa54",
     "locked": false,
     "schema_version": 3,
     "solution": true,
     "task": false
    }
   },
   "outputs": [],
   "source": [
    "carne_1 = \"22596\"\n",
    "firma_mecanografiada_1 = \"Michelle Mejía\"\n",
    "carne_2 = \"22376\"\n",
    "firma_mecanografiada_2 = \"Silvia Illescas\""
   ]
  },
  {
   "cell_type": "code",
   "execution_count": 7,
   "id": "4d41a5c0",
   "metadata": {
    "ExecuteTime": {
     "end_time": "2023-08-06T06:29:55.602639Z",
     "start_time": "2023-08-06T06:29:55.588643Z"
    },
    "deletable": false,
    "editable": false,
    "nbgrader": {
     "cell_type": "code",
     "checksum": "6069d482a40ebc901473d44861baeb63",
     "grade": true,
     "grade_id": "cell-4aa33cdbf61b184d",
     "locked": true,
     "points": 0,
     "schema_version": 3,
     "solution": false,
     "task": false
    }
   },
   "outputs": [
    {
     "data": {
      "text/html": [
       "\n",
       "        <div class=\"alert alert-box alert-success\">\n",
       "        <h1> <!--{id:\"CORRECTMARK\", marks:\"0\"}--> \n",
       "         ✓ [0 marks] \n",
       "         </h1> </div>"
      ],
      "text/plain": [
       "<IPython.core.display.HTML object>"
      ]
     },
     "metadata": {},
     "output_type": "display_data"
    },
    {
     "data": {
      "text/html": [
       "\n",
       "        <div class=\"alert alert-box alert-success\">\n",
       "        <h1> <!--{id:\"CORRECTMARK\", marks:\"0\"}--> \n",
       "         ✓ [0 marks] \n",
       "         </h1> </div>"
      ],
      "text/plain": [
       "<IPython.core.display.HTML object>"
      ]
     },
     "metadata": {},
     "output_type": "display_data"
    }
   ],
   "source": [
    "# Deberia poder ver dos checkmarks verdes [0 marks], que indican que su información básica está OK \n",
    "\n",
    "with tick.marks(0): \n",
    "    assert(len(carne_1)>=5 and len(carne_2)>=5)\n",
    "\n",
    "with tick.marks(0):  \n",
    "    assert(len(firma_mecanografiada_1)>0 and len(firma_mecanografiada_2)>0)"
   ]
  },
  {
   "cell_type": "markdown",
   "id": "96c98973",
   "metadata": {
    "deletable": false,
    "editable": false,
    "nbgrader": {
     "cell_type": "markdown",
     "checksum": "1c296a7f61dad354a3388f85563084bc",
     "grade": false,
     "grade_id": "cell-d37c69d4d3712b18",
     "locked": true,
     "schema_version": 3,
     "solution": false,
     "task": false
    }
   },
   "source": [
    "## Parte 1 - Word2Vec\n",
    "\n",
    "**Créditos:** La primera parte de este laboratorio está tomado y basado en uno de los post de Musashi (Jacobs-) Harukawa\n",
    "\n",
    "La eficacia de las técnicas de embedding está directamente relacionada con los desafíos iniciales que motivaron los enfoques de texto como datos. Al convertir el lenguaje natural en representaciones numéricas, los métodos de incrustación abren oportunidades para aplicar varias herramientas cuantitativas a fuentes de datos previamente sin explotar.\n",
    "\n",
    "En términos generales, word embedding representa cada palabra en un conjunto dado de textos (corpus) como vectores en un espacio k-dimensional (donde k es elegido por el investigador; más detalles sobre esto más adelante). Estos vectores contienen información valiosa sobre las relaciones de las palabras y su contexto, sirviendo como herramientas esenciales para las tareas posteriores de modelado del lenguaje.\n",
    "\n",
    "Entonces, es entendible que se pregunten\n",
    "\n",
    "* ¿Cómo funciona este proceso de incrustación?\n",
    "* ¿Cuál es la razón subyacente de su éxito?\n",
    "* ¿Cómo podemos determinar su eficacia?\n",
    "\n",
    "Para poder responder las primeras dos preguntas, vamos a implementar este modelo usando PyTorch. Noten que el state-of-the-art ya no solo se usa Word2Vec, como BERT (Bidirectional Encoder Representations from Transformers). Pero siempre es un buen ejercicio entender estos algoritmos.\n",
    "\n",
    "### Paso 1 - DataLoader\n",
    "\n",
    "Como en laboratorios, lo primero que necesitamos es definir un DataLoader. Para esta primera parte estaremos usando el dataset llamado \"tweets_hate_speech_detection\" de HugginFace.\n",
    "\n",
    "Para esto necesitamos una función que separe los textos en listas de tokens. El preprocesamiento para cuando se trabaja con textos debe ser un poco más exhaustivo de lo que haremos en este laboratorio, pero para fines del mismo solamente haremos:\n",
    "\n",
    "1- Pasar a minusculas\n",
    "\n",
    "2- Quitar todos los simbolos diferentes de a-z@#\n",
    "\n",
    "3- Separar en espacios\n",
    "\n",
    "4- Quitar \"stopword\" y tokens vacíos\n",
    "\n",
    "5- Aplicar snowball stemmer al resto (snowball? sí, refieran a la nota de abajo para la explicación rápida)\n",
    "\n",
    "Para esto nos apoyaremos en el paquete de natural language processing toolkit o nltk para los cuates. Entonces, recuerden instalarlo por favor \"pip install nltk\"\n",
    "\n",
    "**Snowball Stemmer** es un modulo en la librería NLTK que implementa la técnica de stemming. ¿Stemming?\n",
    "Stemming es una técnica utilizada para extraer la forma base de las palabras mediante la eliminación de los (pre-post)fijos de ellos. Imaginen que cortan la ramas de un árbol hasta los tallos. Por ejemplo, la raíz de las palabras comiendo, come, comido es comer. Refieran a este [link](https://www.tutorialspoint.com/natural_language_toolkit/natural_language_toolkit_stemming_lemmatization.htm) para más información"
   ]
  },
  {
   "cell_type": "code",
   "execution_count": 8,
   "id": "27b5c601",
   "metadata": {
    "ExecuteTime": {
     "end_time": "2023-08-06T06:29:58.840015Z",
     "start_time": "2023-08-06T06:29:55.602639Z"
    }
   },
   "outputs": [],
   "source": [
    "import torch\n",
    "import datasets\n",
    "\n",
    "dataset = datasets.load_dataset('tweets_hate_speech_detection')"
   ]
  },
  {
   "cell_type": "code",
   "execution_count": 9,
   "id": "a7ba8aa1",
   "metadata": {},
   "outputs": [
    {
     "name": "stderr",
     "output_type": "stream",
     "text": [
      "[nltk_data] Downloading package stopwords to\n",
      "[nltk_data]     C:\\Users\\usuario\\AppData\\Roaming\\nltk_data...\n",
      "[nltk_data]   Package stopwords is already up-to-date!\n"
     ]
    },
    {
     "data": {
      "text/plain": [
       "True"
      ]
     },
     "execution_count": 9,
     "metadata": {},
     "output_type": "execute_result"
    }
   ],
   "source": [
    "import nltk\n",
    "nltk.download('stopwords')\n"
   ]
  },
  {
   "cell_type": "code",
   "execution_count": 10,
   "id": "9b66ea76",
   "metadata": {
    "ExecuteTime": {
     "end_time": "2023-08-06T06:29:59.004447Z",
     "start_time": "2023-08-06T06:29:58.840015Z"
    }
   },
   "outputs": [],
   "source": [
    "# Para simplicidad quitemos characteres pero mantegamos @ y #\n",
    "import re\n",
    "from nltk.corpus import stopwords\n",
    "from nltk.stem.snowball import SnowballStemmer\n",
    "\n",
    "ss = SnowballStemmer('english')\n",
    "sw = stopwords.words('english')\n",
    "\n",
    "def split_tokens(row):                             # PASO\n",
    "    row['all_tokens'] = [ss.stem(i) for i in       # 5\n",
    "                     re.split(r\" +\",               # 3\n",
    "                     re.sub(r\"[^a-z@# ]\", \"\",      # 2\n",
    "                            row['tweet'].lower())) # 1\n",
    "                     if (i not in sw) and len(i)]  # 4\n",
    "    return row\n",
    "\n",
    "def split_tokens(row):\n",
    "    # 1- Pasar a minusculas\n",
    "    tweet_lower = row['tweet'].lower()\n",
    "    \n",
    "    # 2- Quitar todos los simbolos diferentes de a-z@#\n",
    "    tweet_cleaned = re.sub(r\"[^a-z@# ]\", \"\", tweet_lower)\n",
    "    \n",
    "    # 3- Separar en espacios\n",
    "    tweet_tokens = re.split(r\" +\", tweet_cleaned)\n",
    "    \n",
    "    # 4- Quitar \"stopword\" y tokens vacíos\n",
    "    # 5- Aplicar snowball stemmer al resto \n",
    "    filtered_tokens = [ss.stem(i) for i in tweet_tokens if (i not in sw) and len(i)]\n",
    "    \n",
    "    \n",
    "    row['all_tokens'] = filtered_tokens\n",
    "    \n",
    "    return row"
   ]
  },
  {
   "cell_type": "code",
   "execution_count": 11,
   "id": "186eecad",
   "metadata": {
    "ExecuteTime": {
     "end_time": "2023-08-06T06:29:59.025478Z",
     "start_time": "2023-08-06T06:29:59.004447Z"
    }
   },
   "outputs": [],
   "source": [
    "# Determinamos el vocabulario\n",
    "dataset = dataset.map(split_tokens)"
   ]
  },
  {
   "cell_type": "markdown",
   "id": "686a92c6",
   "metadata": {
    "ExecuteTime": {
     "end_time": "2023-08-06T01:41:00.383114Z",
     "start_time": "2023-08-06T01:41:00.367813Z"
    }
   },
   "source": [
    "Ahora podemos crear algunas variables que nos serán útiles en futuros pasos. Además, debemos quitar los tokens que ocurren menos de 10 veces para reducir el tamaño del vocabulario"
   ]
  },
  {
   "cell_type": "code",
   "execution_count": 12,
   "id": "c0837b22",
   "metadata": {
    "ExecuteTime": {
     "end_time": "2023-08-06T06:29:59.486408Z",
     "start_time": "2023-08-06T06:29:59.025478Z"
    },
    "deletable": false,
    "nbgrader": {
     "cell_type": "code",
     "checksum": "0d1e8d5c6985acc13aa5f87a951182e5",
     "grade": false,
     "grade_id": "cell-0305720eb97e48ae",
     "locked": false,
     "schema_version": 3,
     "solution": true,
     "task": false
    }
   },
   "outputs": [],
   "source": [
    "from collections import Counter\n",
    "\n",
    "# Total de palabras\n",
    "\n",
    "counts = Counter([i for s in dataset['train']['all_tokens'] for i in s])\n",
    "counts = {k:v for k, v in counts.items() if v>10} # Filtering\n",
    "\n",
    "# Aprox 1 linea para obtener los tokens unicos\n",
    "vocab = list(counts.keys())\n",
    "# Hint: Use list de python\n",
    "# Hint2: Use la variable counts\n",
    "\n",
    "# Aprox 1 linea para determinar el tamaño del vocabulario\n",
    "vocab_size = len(vocab)\n",
    "n_v = len(vocab)  # vocab_size\n",
    "\n",
    "# Aprox 2 lineas para definir \n",
    "#     los diccionarios para ir de un token a un id numérico y viceversa\n",
    "id2tok = {i: tok for i, tok in enumerate(vocab)}  # id -> token \n",
    "tok2id = {tok: i for i, tok in enumerate(vocab)}  # token -> id\n",
    "# Hint: Puede que dict y enumerate le sirva para una definición\n",
    "\n",
    "# Funcion para quitar tokens \"raros\"\n",
    "def remove_rare_tokens(row):\n",
    "    row['tokens'] = [t for t in row['all_tokens'] if t in vocab]\n",
    "    return row\n",
    "\n",
    "dataset = dataset.map(remove_rare_tokens)"
   ]
  },
  {
   "cell_type": "code",
   "execution_count": 13,
   "id": "f1d8a6c3",
   "metadata": {
    "ExecuteTime": {
     "end_time": "2023-08-06T06:29:59.501418Z",
     "start_time": "2023-08-06T06:29:59.487438Z"
    }
   },
   "outputs": [
    {
     "data": {
      "text/plain": [
       "DatasetDict({\n",
       "    train: Dataset({\n",
       "        features: ['label', 'tweet', 'all_tokens', 'tokens'],\n",
       "        num_rows: 31962\n",
       "    })\n",
       "    test: Dataset({\n",
       "        features: ['label', 'tweet', 'all_tokens', 'tokens'],\n",
       "        num_rows: 17197\n",
       "    })\n",
       "})"
      ]
     },
     "execution_count": 13,
     "metadata": {},
     "output_type": "execute_result"
    }
   ],
   "source": [
    "dataset"
   ]
  },
  {
   "cell_type": "code",
   "execution_count": 14,
   "id": "d7c79775",
   "metadata": {
    "ExecuteTime": {
     "end_time": "2023-08-06T06:29:59.517184Z",
     "start_time": "2023-08-06T06:29:59.502434Z"
    },
    "deletable": false,
    "editable": false,
    "nbgrader": {
     "cell_type": "code",
     "checksum": "d4cf221bfa47a4f32352470e32c09b04",
     "grade": true,
     "grade_id": "cell-801ad99c67585892",
     "locked": true,
     "points": 18,
     "schema_version": 3,
     "solution": false,
     "task": false
    }
   },
   "outputs": [
    {
     "data": {
      "text/html": [
       "\n",
       "        <div class=\"alert alert-box alert-success\">\n",
       "        <h1> <!--{id:\"CORRECTMARK\", marks:\"3\"}--> \n",
       "         ✓ [3 marks] \n",
       "         </h1> </div>"
      ],
      "text/plain": [
       "<IPython.core.display.HTML object>"
      ]
     },
     "metadata": {},
     "output_type": "display_data"
    },
    {
     "data": {
      "text/html": [
       "\n",
       "        <div class=\"alert alert-box alert-success\">\n",
       "        <h1> <!--{id:\"CORRECTMARK\", marks:\"3\"}--> \n",
       "         ✓ [3 marks] \n",
       "         </h1> </div>"
      ],
      "text/plain": [
       "<IPython.core.display.HTML object>"
      ]
     },
     "metadata": {},
     "output_type": "display_data"
    },
    {
     "data": {
      "text/html": [
       "\n",
       "        <div class=\"alert alert-box alert-success\">\n",
       "        <h1> <!--{id:\"CORRECTMARK\", marks:\"3\"}--> \n",
       "         ✓ [3 marks] \n",
       "         </h1> </div>"
      ],
      "text/plain": [
       "<IPython.core.display.HTML object>"
      ]
     },
     "metadata": {},
     "output_type": "display_data"
    },
    {
     "data": {
      "text/html": [
       "\n",
       "        <div class=\"alert alert-box alert-success\">\n",
       "        <h1> <!--{id:\"CORRECTMARK\", marks:\"3\"}--> \n",
       "         ✓ [3 marks] \n",
       "         </h1> </div>"
      ],
      "text/plain": [
       "<IPython.core.display.HTML object>"
      ]
     },
     "metadata": {},
     "output_type": "display_data"
    },
    {
     "data": {
      "text/html": [
       "\n",
       "        <div class=\"alert alert-box alert-success\">\n",
       "        <h1> <!--{id:\"CORRECTMARK\", marks:\"3\"}--> \n",
       "         ✓ [3 marks] \n",
       "         </h1> </div>"
      ],
      "text/plain": [
       "<IPython.core.display.HTML object>"
      ]
     },
     "metadata": {},
     "output_type": "display_data"
    },
    {
     "data": {
      "text/html": [
       "\n",
       "        <div class=\"alert alert-box alert-success\">\n",
       "        <h1> <!--{id:\"CORRECTMARK\", marks:\"3\"}--> \n",
       "         ✓ [3 marks] \n",
       "         </h1> </div>"
      ],
      "text/plain": [
       "<IPython.core.display.HTML object>"
      ]
     },
     "metadata": {},
     "output_type": "display_data"
    }
   ],
   "source": [
    "with tick.marks(3):        \n",
    "    assert(check_scalar(len(counts), '0xf4f4eb83'))\n",
    "    \n",
    "with tick.marks(3):        \n",
    "    assert(check_scalar(len(id2tok), '0xf4f4eb83'))\n",
    "    \n",
    "with tick.marks(3):        \n",
    "    assert(check_scalar(len(vocab), '0xf4f4eb83'))\n",
    "    \n",
    "with tick.marks(3):        \n",
    "    assert(check_scalar(n_v, '0xf4f4eb83'))\n",
    "    \n",
    "with tick.marks(3):        \n",
    "    assert(check_scalar(tok2id['father'], '0xb44c37ea'))\n",
    "    \n",
    "with tick.marks(3):        \n",
    "    assert(check_string(id2tok[1], '0xcf2531b8'))"
   ]
  },
  {
   "cell_type": "markdown",
   "id": "67f310c6",
   "metadata": {},
   "source": [
    "Ahora, recordemos que Word2Vec ayuda a representar una palabra por su contexto, para ello necesitamos definir una ventana movil (sliding window) que se usa dentro del algoritmo. Esta consiste en tomar cada palabra de una frase, y luego se parea con las N palabras más cercanas (hacia la derecha e izquierda). Por ejemplo, consideremos una frase como \"every good dog does fine\", con una ventana de 2. El resultado sería algo como:\n",
    "\n",
    "`(every, good)`\n",
    "`(every, dog)`\n",
    "`(good, every)`\n",
    "`(good, dog)`\n",
    "`(good, does)`\n",
    "`(dog, every)`\n",
    "`(dog, good)`\n",
    "`...`\n",
    "\n",
    "Y así consecutivamente. La frase u oración, es convertida en un par `target, context` donde el contex es una lista de tokens dentro de la ventana.\n",
    "\n",
    "Luego, definiremos el DataSet usando las clases correspondiente como lo hemos hecho antes."
   ]
  },
  {
   "cell_type": "code",
   "execution_count": 15,
   "id": "6dc3dfec",
   "metadata": {
    "ExecuteTime": {
     "end_time": "2023-08-06T06:29:59.580001Z",
     "start_time": "2023-08-06T06:29:59.520187Z"
    },
    "deletable": false,
    "nbgrader": {
     "cell_type": "code",
     "checksum": "f3be587ebad6002016b9a1210d7dfb2d",
     "grade": false,
     "grade_id": "cell-7d04d85a04e5fc7a",
     "locked": false,
     "schema_version": 3,
     "solution": true,
     "task": false
    }
   },
   "outputs": [],
   "source": [
    "def windowizer(row, wsize=3):\n",
    "   \"\"\"\n",
    "   Windowizer function for Word2Vec. Converts sentence to sliding-window\n",
    "   pairs.\n",
    "   \"\"\"\n",
    "   doc = row['tokens']\n",
    "   wsize = 3\n",
    "   out = []\n",
    "   for i, word in enumerate(doc):\n",
    "       target = tok2id[word]\n",
    "       window = [i+j for j in\n",
    "                 range(-wsize, wsize+1, 1)\n",
    "                 if (i+j>=0) &\n",
    "                    (i+j<len(doc)) &\n",
    "                    (j!=0)]\n",
    "\n",
    "       out += [(target, tok2id[doc[w]]) for w in window]\n",
    "   row['moving_window'] = out\n",
    "   return row\n",
    "\n",
    "\n",
    "def windowizer(row, wsize=3):\n",
    "    \"\"\"\n",
    "    Windowizer function for Word2Vec. Converts sentence to sliding-window\n",
    "    pairs.\n",
    "    \"\"\"\n",
    "    doc = row['tokens']\n",
    "    out = []\n",
    "\n",
    "    for i, word in enumerate(doc):\n",
    "        target = tok2id[word]\n",
    "\n",
    "        # 1 - Definimos el rango de la ventana movil\n",
    "        window = [i + j for j in range(-wsize, wsize + 1, 1) if (i + j >= 0) & (i + j < len(doc)) & (j != 0)]\n",
    "\n",
    "        # 2 - Creamos pares de la ventana movil\n",
    "        # Aprox 1 linea\n",
    "        window_pairs = [(target, tok2id[doc[w]]) for w in window] \n",
    "        \n",
    "        # 3 - Agregamos los pares a la lista de salida\n",
    "        # Aprox 1 linea \n",
    "        out += window_pairs\n",
    "        \n",
    "    # 4 - Asingamos el \"movin_window\" a la fila\n",
    "    row['moving_window'] = out\n",
    "    \n",
    "    return row\n",
    "\n",
    "dataset = dataset.map(windowizer)"
   ]
  },
  {
   "cell_type": "code",
   "execution_count": 16,
   "id": "dc357ed4",
   "metadata": {
    "ExecuteTime": {
     "end_time": "2023-08-06T06:30:02.539396Z",
     "start_time": "2023-08-06T06:30:02.518455Z"
    },
    "deletable": false,
    "editable": false,
    "nbgrader": {
     "cell_type": "code",
     "checksum": "726e16c824a2e5b29968e3f1bbab59bf",
     "grade": true,
     "grade_id": "cell-66be60a252d35f9d",
     "locked": true,
     "points": 5,
     "schema_version": 3,
     "solution": false,
     "task": false
    }
   },
   "outputs": [
    {
     "data": {
      "text/html": [
       "\n",
       "        <div class=\"alert alert-box alert-success\">\n",
       "        <h1> <!--{id:\"CORRECTMARK\", marks:\"5\"}--> \n",
       "         ✓ [5 marks] \n",
       "         </h1> </div>"
      ],
      "text/plain": [
       "<IPython.core.display.HTML object>"
      ]
     },
     "metadata": {},
     "output_type": "display_data"
    }
   ],
   "source": [
    "with tick.marks(5):        \n",
    "    assert(check_scalar(dataset[\"train\"].num_rows, '0xcd61d16b'))"
   ]
  },
  {
   "cell_type": "code",
   "execution_count": 17,
   "id": "de5447bf",
   "metadata": {
    "ExecuteTime": {
     "end_time": "2023-08-06T06:30:02.555506Z",
     "start_time": "2023-08-06T06:30:02.539396Z"
    },
    "deletable": false,
    "editable": false,
    "nbgrader": {
     "cell_type": "code",
     "checksum": "8c728e41718e96a23aa6a0f9ce216263",
     "grade": false,
     "grade_id": "cell-1d4097cccc4ceee4",
     "locked": true,
     "schema_version": 3,
     "solution": false,
     "task": false
    }
   },
   "outputs": [],
   "source": [
    "#from torch.utils.data import Dataset, DataLoader\n",
    "import torch\n",
    "from torch.utils.data import TensorDataset, Dataset, DataLoader\n",
    " \n",
    "    \n",
    "class Word2VecDataset(Dataset):\n",
    "    def __init__(self, dataset, vocab_size, wsize=3):\n",
    "        self.dataset = dataset\n",
    "        self.vocab_size = vocab_size\n",
    "        self.data = [i for s in dataset['moving_window'] for i in s]\n",
    "\n",
    "    def __len__(self):\n",
    "        return len(self.data)\n",
    "\n",
    "    def __getitem__(self, idx):\n",
    "        return self.data[idx][0], self.data[idx][1]\n",
    "    "
   ]
  },
  {
   "cell_type": "markdown",
   "id": "f6e73cd3",
   "metadata": {
    "deletable": false,
    "editable": false,
    "nbgrader": {
     "cell_type": "markdown",
     "checksum": "9fa751aadaad5be9ec05ab3c4f6e31a4",
     "grade": false,
     "grade_id": "cell-249f95b6dcc39bde",
     "locked": true,
     "schema_version": 3,
     "solution": false,
     "task": false
    }
   },
   "source": [
    "Ahora definiremos dos variables globales, el `BATCH_SIZE` y `N_LOADER_PROCS`.\n",
    "\n",
    "`BATCH_SIZE` es el número de observaciones devueltas con cada llamada. Gran parte de las aceleraciones del procesamiento de GPU provienen de cálculos de matriz por batches masivos. Al elegir el tamaño del batch, recuerden que generalmente se trata de un trade-off entre el uso de VRAM y la velocidad, excepto cuando el Data Loader en sí es el cuello de botella. Para acelerar el DataLoader, podemos pasar un argumento a num_workers para habilitar la paralelización en la preparación y carga de datos."
   ]
  },
  {
   "cell_type": "code",
   "execution_count": 18,
   "id": "2f74f352",
   "metadata": {
    "ExecuteTime": {
     "end_time": "2023-08-06T06:30:05.406175Z",
     "start_time": "2023-08-06T06:30:02.556990Z"
    },
    "deletable": false,
    "editable": false,
    "nbgrader": {
     "cell_type": "code",
     "checksum": "de6b1867f45bd4673c2fe7c464049ae0",
     "grade": false,
     "grade_id": "cell-12cd6ba3b1e9f944",
     "locked": true,
     "schema_version": 3,
     "solution": false,
     "task": false
    }
   },
   "outputs": [],
   "source": [
    "\n",
    "# Create an instance of the Word2VecDataset\n",
    "word2vec_dataset_ = Word2VecDataset(dataset['train'], vocab_size=n_v)\n",
    "\n",
    "# Convert the Word2VecDataset into a TensorDataset\n",
    "word2vec_dataset = TensorDataset(torch.tensor(word2vec_dataset_.data, dtype=torch.long))\n",
    "\n",
    "BATCH_SIZE = 2**16\n",
    "N_LOADER_PROCS = 5\n",
    "\n",
    "dataloader_train = DataLoader(word2vec_dataset, batch_size=BATCH_SIZE, shuffle=True, num_workers=N_LOADER_PROCS)"
   ]
  },
  {
   "cell_type": "markdown",
   "id": "c53220df",
   "metadata": {},
   "source": [
    "### Paso 2 - Construyendo la Red\n",
    "La arquitectura que usaremos para esta ocasión será la dada por una versión de Word2Vec, esta consiste en:\n",
    "* Tres capas: Input, hidden y output\n",
    "* Tanto el tamaño de la input como la output son del tamaño del vocabulario. Pero la hidden es un poco más pequeña\n",
    "* Todas son Fully Connected con Funciones de Activación Lineales\n",
    "\n",
    "Como mencionamos en clase hay dos variantes\n",
    "* CBOW (Continuous Bag of Words): El enfoque está dado en las palabras de contexto para dar énfasis a la palabra central. O en otras palabras, las palabras de contexto son el input y la palabra central son el output (Espero que esto haga más sentido de la explicación en clase)\n",
    "* Skip-gram: La palabra central es el input, y las de contexto son la salida.\n",
    "\n",
    "Definamos CBOW para este laboratorio...\n",
    "\n",
    "Pero antes, debemos encodear nuestras palabras (otra vez como lo hicimos en el laboratorio pasado), esta implementación es similar a la que hicimos anteriormente, pero observen el uso de tensores. "
   ]
  },
  {
   "cell_type": "code",
   "execution_count": 19,
   "id": "b7927273",
   "metadata": {
    "ExecuteTime": {
     "end_time": "2023-08-06T06:30:05.419716Z",
     "start_time": "2023-08-06T06:30:05.412780Z"
    },
    "deletable": false,
    "nbgrader": {
     "cell_type": "code",
     "checksum": "79bcbc0e794ad778277522e74da6198f",
     "grade": false,
     "grade_id": "cell-719345b22d8a6412",
     "locked": false,
     "schema_version": 3,
     "solution": true,
     "task": false
    }
   },
   "outputs": [],
   "source": [
    "from torch import nn\n",
    "\n",
    "size = 20\n",
    "input_ = 7\n",
    "\n",
    "def one_hot_encode(input_, size):\n",
    "    vec = torch.zeros(size).float()\n",
    "    # Aprox 1 linea para\n",
    "    vec[input_] = 1.0\n",
    "    return vec\n",
    "\n",
    "ohe = one_hot_encode(input_, size)\n",
    "linear_layer = nn.Linear(size, 1, bias=False)"
   ]
  },
  {
   "cell_type": "code",
   "execution_count": 20,
   "id": "afda896e",
   "metadata": {
    "ExecuteTime": {
     "end_time": "2023-08-06T06:30:05.426787Z",
     "start_time": "2023-08-06T06:30:05.419716Z"
    },
    "deletable": false,
    "editable": false,
    "nbgrader": {
     "cell_type": "code",
     "checksum": "b9076aa87b82f56230dfbf2cec1760ad",
     "grade": true,
     "grade_id": "cell-87b60412b0ba69d1",
     "locked": true,
     "points": 3,
     "schema_version": 3,
     "solution": false,
     "task": false
    }
   },
   "outputs": [
    {
     "data": {
      "text/html": [
       "\n",
       "        <div class=\"alert alert-box alert-success\">\n",
       "        <h1> <!--{id:\"CORRECTMARK\", marks:\"3\"}--> \n",
       "         ✓ [3 marks] \n",
       "         </h1> </div>"
      ],
      "text/plain": [
       "<IPython.core.display.HTML object>"
      ]
     },
     "metadata": {},
     "output_type": "display_data"
    }
   ],
   "source": [
    "with tick.marks(3):        \n",
    "    assert int(ohe[7])  == 1"
   ]
  },
  {
   "cell_type": "markdown",
   "id": "245325be",
   "metadata": {},
   "source": [
    "Ahora, sobreescribamos el comportamiento natural de la inicializacion de pesos, para que estos en lugar de iniciar aleatoriamente, sean valores de 0 - size. Esto lo hacemos dentro `torch.no_grad()` para quitar el tracking de la gradiente (recuerden que cuando usamos los tensores de PyTorch la gradiente se le hace tracking, es decir que se almacenan para hacer la diferenciar la pérdida con respecto de cada parametro en el modelo. Debido a que en esta ocasion lo estamos seteando manualmente no queremos que se almacene y sea considerado en futuras backpropagations.\n",
    "\n",
    "Observen como al pasar el vector encodeado a la capa nos devuelve efectivamente el número que corresponde en `linear_layer(ohe)`"
   ]
  },
  {
   "cell_type": "code",
   "execution_count": 21,
   "id": "8fbbf1cb",
   "metadata": {
    "ExecuteTime": {
     "end_time": "2023-08-06T06:30:05.440557Z",
     "start_time": "2023-08-06T06:30:05.426787Z"
    },
    "deletable": false,
    "editable": false,
    "nbgrader": {
     "cell_type": "code",
     "checksum": "7d26f4b5566a553c62c142900b507a20",
     "grade": false,
     "grade_id": "cell-4c85a0ffbffa8e55",
     "locked": true,
     "schema_version": 3,
     "solution": false,
     "task": false
    }
   },
   "outputs": [
    {
     "name": "stdout",
     "output_type": "stream",
     "text": [
      "Parameter containing:\n",
      "tensor([[ 0.,  1.,  2.,  3.,  4.,  5.,  6.,  7.,  8.,  9., 10., 11., 12., 13.,\n",
      "         14., 15., 16., 17., 18., 19.]], requires_grad=True)\n",
      "tensor([7.], grad_fn=<SqueezeBackward4>)\n"
     ]
    }
   ],
   "source": [
    "with torch.no_grad():\n",
    "    linear_layer.weight = nn.Parameter(\n",
    "        torch.arange(size, dtype=torch.float).reshape(linear_layer.weight.shape))\n",
    "\n",
    "print(linear_layer.weight)\n",
    "print(linear_layer(ohe))"
   ]
  },
  {
   "cell_type": "markdown",
   "id": "56a7ee35",
   "metadata": {
    "deletable": false,
    "editable": false,
    "nbgrader": {
     "cell_type": "markdown",
     "checksum": "d9a663115c0df77e2c807969aac5ba8e",
     "grade": false,
     "grade_id": "cell-71d644e296aee563",
     "locked": true,
     "schema_version": 3,
     "solution": false,
     "task": false
    }
   },
   "source": [
    "Ya que tenemos un mejor entendimiento de este tipo de layers en Word2Vec, debemos saber que PyTorch tiene una implementación más eficiente usando `nn.Embedding`, el cual toma los índices de input y regresa el peso del borde correspondiente a ese índice.\n",
    "\n",
    "Un equivalente a lo que hemos hecho anteriormente sería lo que se presenta en la siguiente celda.\n",
    "\n",
    "Noten como volvemos a obtener un tensor similar al que obtuvimos antes."
   ]
  },
  {
   "cell_type": "code",
   "execution_count": 22,
   "id": "c53403aa",
   "metadata": {
    "ExecuteTime": {
     "end_time": "2023-08-06T06:30:05.463215Z",
     "start_time": "2023-08-06T06:30:05.440557Z"
    },
    "deletable": false,
    "editable": false,
    "nbgrader": {
     "cell_type": "code",
     "checksum": "bc320f7bb25be19e4e0033321279d77c",
     "grade": false,
     "grade_id": "cell-bf93477666a5691e",
     "locked": true,
     "schema_version": 3,
     "solution": false,
     "task": false
    }
   },
   "outputs": [
    {
     "name": "stdout",
     "output_type": "stream",
     "text": [
      "Parameter containing:\n",
      "tensor([[ 0.],\n",
      "        [ 1.],\n",
      "        [ 2.],\n",
      "        [ 3.],\n",
      "        [ 4.],\n",
      "        [ 5.],\n",
      "        [ 6.],\n",
      "        [ 7.],\n",
      "        [ 8.],\n",
      "        [ 9.],\n",
      "        [10.],\n",
      "        [11.],\n",
      "        [12.],\n",
      "        [13.],\n",
      "        [14.],\n",
      "        [15.],\n",
      "        [16.],\n",
      "        [17.],\n",
      "        [18.],\n",
      "        [19.]], requires_grad=True)\n",
      "tensor([7.], grad_fn=<EmbeddingBackward0>)\n"
     ]
    }
   ],
   "source": [
    "embedding_layer = nn.Embedding(size, 1)\n",
    "\n",
    "with torch.no_grad():\n",
    "    embedding_layer.weight = nn.Parameter(\n",
    "        torch.arange(size, dtype=torch.float\n",
    "        ).reshape(embedding_layer.weight.shape))\n",
    "\n",
    "print(embedding_layer.weight)\n",
    "print(embedding_layer(torch.tensor(input_)))"
   ]
  },
  {
   "cell_type": "markdown",
   "id": "7610c2f8",
   "metadata": {
    "deletable": false,
    "editable": false,
    "nbgrader": {
     "cell_type": "markdown",
     "checksum": "3bcc21a605eb207c161b41a6ded571ad",
     "grade": false,
     "grade_id": "cell-508a31edfe7f0cfc",
     "locked": true,
     "schema_version": 3,
     "solution": false,
     "task": false
    }
   },
   "source": [
    "Con esto en consideración, es momento de implementar nuestro modelo Word2Vec.\n",
    "\n",
    "Noten el embedding_size, este corresponde a la cantidad de representaciones de cada palabra, como dijimos en clase, esto sería la cantidad de funciones de activaciones con las que trabajaremos.\n",
    "\n",
    "Además, consideren las siguientes explicaciones\n",
    "\n",
    "`self.embed`: Es una capa de embedding para convertir la entrada (el índice del token de centro/contexto) en la codificación one-hot, y luego recuperar los pesos correspondientes a estos índices en la capa hidden de menor dimensión.\n",
    "\n",
    "`self.expand`: Es una capa lineal para predecir la probabilidad de una palabra de centro/contexto dada la hidden layer. Deshabilitamos el bias (la intercepción) porque cambiamos la escala de nuestras predicciones de todos modos.\n",
    "\n",
    "`logits`: Este vuelve a expandir la capa hidden para hacer predicciones. Estas predicciones sin procesar deben volver a escalarse con softmax, pero omitimos este paso aquí, ya que PyTorch implementa los pasos relevantes en la Cross Entropy loss. "
   ]
  },
  {
   "cell_type": "code",
   "execution_count": 23,
   "id": "159c2e13",
   "metadata": {
    "ExecuteTime": {
     "end_time": "2023-08-06T06:30:05.479149Z",
     "start_time": "2023-08-06T06:30:05.465210Z"
    }
   },
   "outputs": [],
   "source": [
    "class Word2Vec(nn.Module):\n",
    "    def __init__(self, vocab_size, embedding_size):\n",
    "        super().__init__()\n",
    "        self.embed = nn.Embedding(vocab_size, embedding_size)\n",
    "        self.expand = nn.Linear(embedding_size, vocab_size, bias=False)\n",
    "\n",
    "    def forward(self, input_):\n",
    "        # Pasamos el input a una representación más pequeña\n",
    "        hidden = self.embed(input_)\n",
    "        # Expandemos hacia las predicciones\n",
    "        logits = self.expand(hidden)\n",
    "        return logits"
   ]
  },
  {
   "cell_type": "markdown",
   "id": "9b549e68",
   "metadata": {
    "deletable": false,
    "editable": false,
    "nbgrader": {
     "cell_type": "markdown",
     "checksum": "d2424728d269e4533722e107620b3f37",
     "grade": false,
     "grade_id": "cell-821b7f6886ebdd0d",
     "locked": true,
     "schema_version": 3,
     "solution": false,
     "task": false
    }
   },
   "source": [
    "### Paso 3 - Entrenamiento (Training)\n",
    "\n",
    "\n",
    "El entrenamiento en el contexto de las redes neuronales significa hacer predicciones repetidamente utilizando las observaciones en el conjunto de datos y luego ajustar los parámetros para corregir el error en las predicciones. \n",
    "\n",
    "Debido a que no queremos que la red aprenda perfectamente la predicción más reciente mientras olvida todas las demás predicciones, generalmente le damos un \"learning rate\", que es una penalización en el ajuste de pérdida para evitar que se ajuste solo a la observación más reciente. (Recuerden como funciona backpropgation)\n",
    "\n",
    "Cuanto más tiempo entrenemos la red, con mayor perfección aprenderá los datos de entrenamiento, pero a menudo esto conlleva el riesgo de overfitting y no poder generalizar a datos no vistos. Sin embargo, dado que con Word2Vec nuestro objetivo no es inferir datos no vistos, sino describir datos \"vistos\", ¿cuál creen que es la implicación del overfitting en este tipo de modelos? (Más adelante se deja nuevamente la pregunta para que sea respondida)"
   ]
  },
  {
   "cell_type": "code",
   "execution_count": 27,
   "id": "0b5522dc",
   "metadata": {
    "ExecuteTime": {
     "end_time": "2023-08-06T22:14:29.330767Z",
     "start_time": "2023-08-06T22:14:29.296636Z"
    },
    "deletable": false,
    "editable": false,
    "nbgrader": {
     "cell_type": "code",
     "checksum": "1a82d8c2a18f8548fa5a4b5765fb2fc1",
     "grade": false,
     "grade_id": "cell-588eec0490d68d93",
     "locked": true,
     "schema_version": 3,
     "solution": false,
     "task": false
    }
   },
   "outputs": [
    {
     "name": "stdout",
     "output_type": "stream",
     "text": [
      "Using: cpu\n"
     ]
    }
   ],
   "source": [
    "# Algunos hyper parametros\n",
    "\n",
    "# Demasiado pequeño pero es solo para fines de aprendizaje\n",
    "EMBED_SIZE = 5\n",
    "model = Word2Vec(n_v, EMBED_SIZE)\n",
    "\n",
    "# Traten de usar ya el CUDA si pueden por favor\n",
    "device = torch.device('cuda') if torch.cuda.is_available() else torch.device('cpu')\n",
    "print(\"Using:\",device)\n",
    "model.to(device)\n",
    "\n",
    "# Otros parametros para el training\n",
    "LR = 3e-4\n",
    "EPOCHS = 3\n",
    "loss_fn = nn.CrossEntropyLoss()\n",
    "# Noten el tipo de optimizador que estamos usando :)\n",
    "optimizer = torch.optim.AdamW(model.parameters(), lr=LR)"
   ]
  },
  {
   "cell_type": "code",
   "execution_count": 29,
   "id": "784bfe0c",
   "metadata": {
    "ExecuteTime": {
     "end_time": "2023-08-06T22:56:25.851356Z",
     "start_time": "2023-08-06T22:14:39.282185Z"
    },
    "deletable": false,
    "nbgrader": {
     "cell_type": "code",
     "checksum": "469a6891ae3c2d3ef10bfe706471264f",
     "grade": false,
     "grade_id": "cell-8a89fd3a288c223a",
     "locked": false,
     "schema_version": 3,
     "solution": true,
     "task": false
    }
   },
   "outputs": [
    {
     "name": "stdout",
     "output_type": "stream",
     "text": [
      "Working with batch 0\n",
      "Done working with element 0\n",
      "Done working with element 6500\n",
      "Done working with element 13000\n",
      "Done working with element 19500\n",
      "Done working with element 26000\n",
      "Done working with element 32500\n",
      "Done working with element 39000\n",
      "Done working with element 45500\n",
      "Done working with element 52000\n",
      "Done working with element 58500\n",
      "Done working with element 65000\n",
      "Working with batch 1\n",
      "Done working with element 0\n",
      "Done working with element 6500\n",
      "Done working with element 13000\n",
      "Done working with element 19500\n",
      "Done working with element 26000\n",
      "Done working with element 32500\n",
      "Done working with element 39000\n",
      "Done working with element 45500\n",
      "Done working with element 52000\n",
      "Done working with element 58500\n",
      "Done working with element 65000\n",
      "Working with batch 2\n",
      "Done working with element 0\n",
      "Done working with element 6500\n",
      "Done working with element 13000\n",
      "Done working with element 19500\n",
      "Done working with element 26000\n",
      "Done working with element 32500\n",
      "Done working with element 39000\n",
      "Done working with element 45500\n",
      "Done working with element 52000\n",
      "Done working with element 58500\n",
      "Done working with element 65000\n",
      "Working with batch 3\n",
      "Done working with element 0\n",
      "Done working with element 6500\n",
      "Done working with element 13000\n",
      "Done working with element 19500\n",
      "Done working with element 26000\n",
      "Done working with element 32500\n",
      "Done working with element 39000\n",
      "Done working with element 45500\n",
      "Done working with element 52000\n",
      "Done working with element 58500\n",
      "Done working with element 65000\n",
      "Working with batch 4\n",
      "Done working with element 0\n",
      "Done working with element 6500\n",
      "Done working with element 13000\n",
      "Done working with element 19500\n",
      "Done working with element 26000\n",
      "Done working with element 32500\n",
      "Done working with element 39000\n",
      "Done working with element 45500\n",
      "Done working with element 52000\n",
      "Done working with element 58500\n",
      "Done working with element 65000\n",
      "Working with batch 5\n",
      "Done working with element 0\n",
      "Done working with element 6500\n",
      "Done working with element 13000\n",
      "Done working with element 19500\n",
      "Done working with element 26000\n",
      "Done working with element 32500\n",
      "Done working with element 39000\n",
      "Done working with element 45500\n",
      "Done working with element 52000\n",
      "Done working with element 58500\n",
      "Done working with element 65000\n",
      "Working with batch 6\n",
      "Done working with element 0\n",
      "Done working with element 6500\n",
      "Done working with element 13000\n",
      "Done working with element 19500\n",
      "Done working with element 26000\n",
      "Done working with element 32500\n",
      "Done working with element 39000\n",
      "Done working with element 45500\n",
      "Done working with element 52000\n",
      "Done working with element 58500\n",
      "Done working with element 65000\n",
      "Working with batch 7\n",
      "Done working with element 0\n",
      "Done working with element 6500\n",
      "Done working with element 13000\n",
      "Done working with element 19500\n",
      "Done working with element 26000\n",
      "Done working with element 32500\n",
      "Done working with element 39000\n",
      "Done working with element 45500\n",
      "Done working with element 52000\n",
      "Done working with element 58500\n",
      "Done working with element 65000\n",
      "Working with batch 8\n",
      "Done working with element 0\n",
      "Done working with element 6500\n",
      "Done working with element 13000\n",
      "Done working with element 19500\n",
      "Done working with element 26000\n",
      "Done working with element 32500\n",
      "Done working with element 39000\n",
      "Done working with element 45500\n",
      "Done working with element 52000\n",
      "Done working with element 58500\n",
      "Done working with element 65000\n",
      "Working with batch 9\n",
      "Done working with element 0\n",
      "Done working with element 6500\n",
      "Done working with element 13000\n",
      "Done working with element 19500\n",
      "Done working with element 26000\n",
      "Done working with element 32500\n",
      "Done working with element 39000\n",
      "Done working with element 45500\n",
      "Done working with element 52000\n",
      "Done working with element 58500\n",
      "Done working with element 65000\n",
      "Working with batch 10\n",
      "Done working with element 0\n",
      "Done working with element 6500\n",
      "Done working with element 13000\n",
      "Done working with element 19500\n",
      "Done working with element 26000\n",
      "Done working with element 32500\n",
      "Done working with element 39000\n",
      "Done working with element 45500\n",
      "Done working with element 52000\n",
      "Done working with element 58500\n",
      "Done working with element 65000\n",
      "Working with batch 11\n",
      "Done working with element 0\n",
      "Done working with element 6500\n",
      "Done working with element 13000\n",
      "Done working with element 19500\n",
      "Done working with element 26000\n",
      "Done working with element 32500\n",
      "Done working with element 39000\n",
      "Done working with element 45500\n",
      "Done working with element 52000\n",
      "Done working with element 58500\n",
      "Done working with element 65000\n",
      "Working with batch 12\n",
      "Done working with element 0\n",
      "Done working with element 6500\n",
      "Done working with element 13000\n",
      "Done working with element 19500\n",
      "Done working with element 26000\n",
      "Done working with element 32500\n",
      "Done working with element 39000\n",
      "Done working with element 45500\n",
      "Done working with element 52000\n",
      "Done working with element 58500\n",
      "Done working with element 65000\n",
      "Working with batch 13\n",
      "Done working with element 0\n",
      "Epoca 0, loss: 7.11682027494379\n",
      "Working with batch 0\n",
      "Done working with element 0\n",
      "Done working with element 6500\n",
      "Done working with element 13000\n",
      "Done working with element 19500\n",
      "Done working with element 26000\n",
      "Done working with element 32500\n",
      "Done working with element 39000\n",
      "Done working with element 45500\n",
      "Done working with element 52000\n",
      "Done working with element 58500\n",
      "Done working with element 65000\n",
      "Working with batch 1\n",
      "Done working with element 0\n",
      "Done working with element 6500\n",
      "Done working with element 13000\n",
      "Done working with element 19500\n",
      "Done working with element 26000\n",
      "Done working with element 32500\n",
      "Done working with element 39000\n",
      "Done working with element 45500\n",
      "Done working with element 52000\n",
      "Done working with element 58500\n",
      "Done working with element 65000\n",
      "Working with batch 2\n",
      "Done working with element 0\n",
      "Done working with element 6500\n",
      "Done working with element 13000\n",
      "Done working with element 19500\n",
      "Done working with element 26000\n",
      "Done working with element 32500\n",
      "Done working with element 39000\n",
      "Done working with element 45500\n",
      "Done working with element 52000\n",
      "Done working with element 58500\n",
      "Done working with element 65000\n",
      "Working with batch 3\n",
      "Done working with element 0\n",
      "Done working with element 6500\n",
      "Done working with element 13000\n",
      "Done working with element 19500\n",
      "Done working with element 26000\n",
      "Done working with element 32500\n",
      "Done working with element 39000\n",
      "Done working with element 45500\n",
      "Done working with element 52000\n",
      "Done working with element 58500\n",
      "Done working with element 65000\n",
      "Working with batch 4\n",
      "Done working with element 0\n",
      "Done working with element 6500\n",
      "Done working with element 13000\n",
      "Done working with element 19500\n",
      "Done working with element 26000\n",
      "Done working with element 32500\n",
      "Done working with element 39000\n",
      "Done working with element 45500\n",
      "Done working with element 52000\n",
      "Done working with element 58500\n",
      "Done working with element 65000\n",
      "Working with batch 5\n",
      "Done working with element 0\n",
      "Done working with element 6500\n",
      "Done working with element 13000\n",
      "Done working with element 19500\n",
      "Done working with element 26000\n",
      "Done working with element 32500\n",
      "Done working with element 39000\n",
      "Done working with element 45500\n",
      "Done working with element 52000\n",
      "Done working with element 58500\n",
      "Done working with element 65000\n",
      "Working with batch 6\n",
      "Done working with element 0\n",
      "Done working with element 6500\n",
      "Done working with element 13000\n",
      "Done working with element 19500\n",
      "Done working with element 26000\n",
      "Done working with element 32500\n",
      "Done working with element 39000\n",
      "Done working with element 45500\n",
      "Done working with element 52000\n",
      "Done working with element 58500\n",
      "Done working with element 65000\n",
      "Working with batch 7\n",
      "Done working with element 0\n",
      "Done working with element 6500\n",
      "Done working with element 13000\n",
      "Done working with element 19500\n",
      "Done working with element 26000\n",
      "Done working with element 32500\n",
      "Done working with element 39000\n",
      "Done working with element 45500\n",
      "Done working with element 52000\n",
      "Done working with element 58500\n",
      "Done working with element 65000\n",
      "Working with batch 8\n",
      "Done working with element 0\n",
      "Done working with element 6500\n",
      "Done working with element 13000\n",
      "Done working with element 19500\n",
      "Done working with element 26000\n",
      "Done working with element 32500\n",
      "Done working with element 39000\n",
      "Done working with element 45500\n",
      "Done working with element 52000\n",
      "Done working with element 58500\n",
      "Done working with element 65000\n",
      "Working with batch 9\n",
      "Done working with element 0\n",
      "Done working with element 6500\n",
      "Done working with element 13000\n",
      "Done working with element 19500\n",
      "Done working with element 26000\n",
      "Done working with element 32500\n",
      "Done working with element 39000\n",
      "Done working with element 45500\n",
      "Done working with element 52000\n",
      "Done working with element 58500\n",
      "Done working with element 65000\n",
      "Working with batch 10\n",
      "Done working with element 0\n",
      "Done working with element 6500\n",
      "Done working with element 13000\n",
      "Done working with element 19500\n",
      "Done working with element 26000\n",
      "Done working with element 32500\n",
      "Done working with element 39000\n",
      "Done working with element 45500\n",
      "Done working with element 52000\n",
      "Done working with element 58500\n",
      "Done working with element 65000\n",
      "Working with batch 11\n",
      "Done working with element 0\n",
      "Done working with element 6500\n",
      "Done working with element 13000\n",
      "Done working with element 19500\n",
      "Done working with element 26000\n",
      "Done working with element 32500\n",
      "Done working with element 39000\n",
      "Done working with element 45500\n",
      "Done working with element 52000\n",
      "Done working with element 58500\n",
      "Done working with element 65000\n",
      "Working with batch 12\n",
      "Done working with element 0\n",
      "Done working with element 6500\n",
      "Done working with element 13000\n",
      "Done working with element 19500\n",
      "Done working with element 26000\n",
      "Done working with element 32500\n",
      "Done working with element 39000\n",
      "Done working with element 45500\n",
      "Done working with element 52000\n",
      "Done working with element 58500\n",
      "Done working with element 65000\n",
      "Working with batch 13\n",
      "Done working with element 0\n",
      "Epoca 1, loss: 6.912918519831631\n",
      "Working with batch 0\n",
      "Done working with element 0\n",
      "Done working with element 6500\n",
      "Done working with element 13000\n",
      "Done working with element 19500\n",
      "Done working with element 26000\n",
      "Done working with element 32500\n",
      "Done working with element 39000\n",
      "Done working with element 45500\n",
      "Done working with element 52000\n",
      "Done working with element 58500\n",
      "Done working with element 65000\n",
      "Working with batch 1\n",
      "Done working with element 0\n",
      "Done working with element 6500\n",
      "Done working with element 13000\n",
      "Done working with element 19500\n",
      "Done working with element 26000\n",
      "Done working with element 32500\n",
      "Done working with element 39000\n",
      "Done working with element 45500\n",
      "Done working with element 52000\n",
      "Done working with element 58500\n",
      "Done working with element 65000\n",
      "Working with batch 2\n",
      "Done working with element 0\n",
      "Done working with element 6500\n",
      "Done working with element 13000\n",
      "Done working with element 19500\n",
      "Done working with element 26000\n",
      "Done working with element 32500\n",
      "Done working with element 39000\n",
      "Done working with element 45500\n",
      "Done working with element 52000\n",
      "Done working with element 58500\n",
      "Done working with element 65000\n",
      "Working with batch 3\n",
      "Done working with element 0\n",
      "Done working with element 6500\n",
      "Done working with element 13000\n",
      "Done working with element 19500\n",
      "Done working with element 26000\n",
      "Done working with element 32500\n",
      "Done working with element 39000\n",
      "Done working with element 45500\n",
      "Done working with element 52000\n",
      "Done working with element 58500\n",
      "Done working with element 65000\n",
      "Working with batch 4\n",
      "Done working with element 0\n",
      "Done working with element 6500\n",
      "Done working with element 13000\n",
      "Done working with element 19500\n",
      "Done working with element 26000\n",
      "Done working with element 32500\n",
      "Done working with element 39000\n",
      "Done working with element 45500\n",
      "Done working with element 52000\n",
      "Done working with element 58500\n",
      "Done working with element 65000\n",
      "Working with batch 5\n",
      "Done working with element 0\n",
      "Done working with element 6500\n",
      "Done working with element 13000\n",
      "Done working with element 19500\n",
      "Done working with element 26000\n",
      "Done working with element 32500\n",
      "Done working with element 39000\n",
      "Done working with element 45500\n",
      "Done working with element 52000\n",
      "Done working with element 58500\n",
      "Done working with element 65000\n",
      "Working with batch 6\n",
      "Done working with element 0\n",
      "Done working with element 6500\n",
      "Done working with element 13000\n",
      "Done working with element 19500\n",
      "Done working with element 26000\n",
      "Done working with element 32500\n",
      "Done working with element 39000\n",
      "Done working with element 45500\n",
      "Done working with element 52000\n",
      "Done working with element 58500\n",
      "Done working with element 65000\n",
      "Working with batch 7\n",
      "Done working with element 0\n",
      "Done working with element 6500\n",
      "Done working with element 13000\n",
      "Done working with element 19500\n",
      "Done working with element 26000\n",
      "Done working with element 32500\n",
      "Done working with element 39000\n",
      "Done working with element 45500\n",
      "Done working with element 52000\n",
      "Done working with element 58500\n",
      "Done working with element 65000\n",
      "Working with batch 8\n",
      "Done working with element 0\n",
      "Done working with element 6500\n",
      "Done working with element 13000\n",
      "Done working with element 19500\n",
      "Done working with element 26000\n",
      "Done working with element 32500\n",
      "Done working with element 39000\n",
      "Done working with element 45500\n",
      "Done working with element 52000\n",
      "Done working with element 58500\n",
      "Done working with element 65000\n",
      "Working with batch 9\n",
      "Done working with element 0\n",
      "Done working with element 6500\n",
      "Done working with element 13000\n",
      "Done working with element 19500\n",
      "Done working with element 26000\n",
      "Done working with element 32500\n",
      "Done working with element 39000\n",
      "Done working with element 45500\n",
      "Done working with element 52000\n",
      "Done working with element 58500\n",
      "Done working with element 65000\n",
      "Working with batch 10\n",
      "Done working with element 0\n",
      "Done working with element 6500\n",
      "Done working with element 13000\n",
      "Done working with element 19500\n",
      "Done working with element 26000\n",
      "Done working with element 32500\n",
      "Done working with element 39000\n",
      "Done working with element 45500\n",
      "Done working with element 52000\n",
      "Done working with element 58500\n",
      "Done working with element 65000\n",
      "Working with batch 11\n",
      "Done working with element 0\n",
      "Done working with element 6500\n",
      "Done working with element 13000\n",
      "Done working with element 19500\n",
      "Done working with element 26000\n",
      "Done working with element 32500\n",
      "Done working with element 39000\n",
      "Done working with element 45500\n",
      "Done working with element 52000\n",
      "Done working with element 58500\n",
      "Done working with element 65000\n",
      "Working with batch 12\n",
      "Done working with element 0\n",
      "Done working with element 6500\n",
      "Done working with element 13000\n",
      "Done working with element 19500\n",
      "Done working with element 26000\n",
      "Done working with element 32500\n",
      "Done working with element 39000\n",
      "Done working with element 45500\n",
      "Done working with element 52000\n",
      "Done working with element 58500\n",
      "Done working with element 65000\n",
      "Working with batch 13\n",
      "Done working with element 0\n",
      "Epoca 2, loss: 6.907926933175259\n"
     ]
    }
   ],
   "source": [
    "running_loss = []\n",
    "for epoch in range(EPOCHS):\n",
    "    epoch_loss = 0\n",
    "    losses = []\n",
    "    for ix, batch in enumerate(dataloader_train):\n",
    "        print(f\"Working with batch {ix}\")\n",
    "        for i in range(len(batch[0])):\n",
    "            center = batch[0][i][0]\n",
    "            context = batch[0][i][1]\n",
    "            center, context = center.to(device), context.to(device)\n",
    "            # Aprox 1 linea para \n",
    "            optimizer.zero_grad()\n",
    "            logits = model(input_=context)\n",
    "            # Aprox 1 linea para\n",
    "            loss = loss_fn(logits, center)\n",
    "            losses.append(loss.item())\n",
    "            loss.backward()\n",
    "            optimizer.step()\n",
    "            \n",
    "            if i% 6500 == 0:\n",
    "                print(f\"Done working with element {i}\")\n",
    "            \n",
    "    epoch_loss = np.mean(losses)\n",
    "    running_loss.append(epoch_loss)\n",
    "    \n",
    "    # Mostrar la perdida cada N epocas\n",
    "    if epoch % 1 == 0:\n",
    "        print(f'Epoca {epoch}, loss: {epoch_loss}')"
   ]
  },
  {
   "cell_type": "code",
   "execution_count": 34,
   "id": "fe24f3e7",
   "metadata": {
    "ExecuteTime": {
     "end_time": "2023-08-07T00:08:24.732102Z",
     "start_time": "2023-08-07T00:08:24.725620Z"
    },
    "deletable": false,
    "editable": false,
    "nbgrader": {
     "cell_type": "code",
     "checksum": "32ff5c07dd800c1cc3e4b2446f56cded",
     "grade": true,
     "grade_id": "cell-5fe835d2e4773764",
     "locked": true,
     "points": 0,
     "schema_version": 3,
     "solution": false,
     "task": false
    }
   },
   "outputs": [
    {
     "data": {
      "text/html": [
       "<hr style=\"height:10px;border:none;color:#f00;background-color:#f00;\" />\n",
       "        <div class=\"alert alert-box alert-danger\">\n",
       "        <h1> <!--{id:\"WRONGMARK\", marks:\"5\"}--> Test failed ✘ [0/5] marks  </h1> </div>"
      ],
      "text/plain": [
       "<IPython.core.display.HTML object>"
      ]
     },
     "metadata": {},
     "output_type": "display_data"
    },
    {
     "ename": "AssertionError",
     "evalue": "",
     "output_type": "error",
     "traceback": [
      "\u001b[31m---------------------------------------------------------------------------\u001b[39m",
      "\u001b[31mAssertionError\u001b[39m                            Traceback (most recent call last)",
      "\u001b[36mCell\u001b[39m\u001b[36m \u001b[39m\u001b[32mIn[34]\u001b[39m\u001b[32m, line 2\u001b[39m\n\u001b[32m      1\u001b[39m \u001b[38;5;28;01mwith\u001b[39;00m tick.marks(\u001b[32m5\u001b[39m):        \n\u001b[32m----> \u001b[39m\u001b[32m2\u001b[39m     \u001b[38;5;28;01massert\u001b[39;00m compare_numbers(new_representation(running_loss[\u001b[38;5;28mlen\u001b[39m(running_loss)-\u001b[32m1\u001b[39m]), \u001b[33m\"\u001b[39m\u001b[33m3c3d\u001b[39m\u001b[33m\"\u001b[39m, \u001b[33m'\u001b[39m\u001b[33m0x1.b000000000000p+2\u001b[39m\u001b[33m'\u001b[39m)\n\u001b[32m      3\u001b[39m     \u001b[38;5;66;03m#Notar que fue porque recortamos las epocas, tardó casi 4hrs en completarse, anteriormente se quedo toda la noche y no terminó las 50 :(\u001b[39;00m\n",
      "\u001b[31mAssertionError\u001b[39m: "
     ]
    }
   ],
   "source": [
    "with tick.marks(5):        \n",
    "    assert compare_numbers(new_representation(running_loss[len(running_loss)-1]), \"3c3d\", '0x1.b000000000000p+2')\n",
    "    #Notar que fue porque recortamos las epocas, tardó casi 4hrs en completarse, anteriormente se quedo toda la noche y no terminó las 50 :("
   ]
  },
  {
   "cell_type": "code",
   "execution_count": 31,
   "id": "55ce97f6",
   "metadata": {
    "ExecuteTime": {
     "end_time": "2023-08-06T23:47:02.588400Z",
     "start_time": "2023-08-06T23:47:02.385345Z"
    }
   },
   "outputs": [
    {
     "data": {
      "image/png": "[encoded data removed]",
      "text/plain": [
       "<Figure size 640x480 with 1 Axes>"
      ]
     },
     "metadata": {},
     "output_type": "display_data"
    }
   ],
   "source": [
    "# Graficamos la perdida\n",
    "epoch_ = np.arange(len(running_loss))\n",
    "plt.figure()\n",
    "plt.plot(epoch_, running_loss, 'r', label='Loss',)\n",
    "plt.legend()\n",
    "plt.xlabel('Epoch'), plt.ylabel('NLL')\n",
    "plt.show()"
   ]
  },
  {
   "cell_type": "markdown",
   "id": "7f0a4424",
   "metadata": {
    "deletable": false,
    "editable": false,
    "nbgrader": {
     "cell_type": "markdown",
     "checksum": "bead7c6fdad67968d9b943584a416c84",
     "grade": false,
     "grade_id": "cell-6ba5a104f61555b3",
     "locked": true,
     "schema_version": 3,
     "solution": false,
     "task": false
    }
   },
   "source": [
    "Bueno, hemos visto la cantidad de tiemp que hay que invertirle para entrenar una red tan sencilla como la que se usa en Wor2Vec. En mi caso, usando CUDA le tomó alrededor de **42 minutos**. Ahora consideren aquel modelo donde no solo se sacan 50 representaciones de cada palabra sino miles, además que se entrenan por más epocas, no solo 3. \n",
    "\n",
    "Ahora veamos que tipo de palabras son las más cercanas a una pequeña muestra de 4 palabras. Para esto primero necesitamos sacar los pesos del modelo y pasarlos al cpu para trabajarlos como NumPy Arrays. Luego aplicaremos una función para encontrar la distancia dada una métrica (en este caso la distancia del coseno). "
   ]
  },
  {
   "cell_type": "code",
   "execution_count": 32,
   "id": "3acd42a5",
   "metadata": {
    "ExecuteTime": {
     "end_time": "2023-08-07T00:38:03.418312Z",
     "start_time": "2023-08-07T00:38:03.384629Z"
    },
    "deletable": false,
    "editable": false,
    "nbgrader": {
     "cell_type": "code",
     "checksum": "adf71f64fc49e300a12791c23246a50b",
     "grade": false,
     "grade_id": "cell-79c39d4b13d3ed81",
     "locked": true,
     "schema_version": 3,
     "solution": false,
     "task": false
    }
   },
   "outputs": [],
   "source": [
    "wordvecs = model.expand.weight.cpu().detach().numpy()\n",
    "tokens = ['good', 'bad', 'school', 'day']"
   ]
  },
  {
   "cell_type": "code",
   "execution_count": 33,
   "id": "bae64a29",
   "metadata": {
    "ExecuteTime": {
     "end_time": "2023-08-07T00:38:23.499862Z",
     "start_time": "2023-08-07T00:38:23.360937Z"
    },
    "deletable": false,
    "nbgrader": {
     "cell_type": "code",
     "checksum": "6e097e2559d99154cefeabf845d4aa0d",
     "grade": false,
     "grade_id": "cell-1d82d3393549def7",
     "locked": false,
     "schema_version": 3,
     "solution": true,
     "task": false
    }
   },
   "outputs": [
    {
     "name": "stdout",
     "output_type": "stream",
     "text": [
      "good ['#posit', '@', 'realli', 'morn', 'think', '#life', 'life', 'thing', '#summer', '#smile'] \n",
      "\n",
      "bad ['kill', 'hate', 'someth', 'chang', 'free', 'person', 'thought', 'face', 'white', 'gonna'] \n",
      "\n",
      "school ['ill', 'job', 'put', 'hea', 'left', 'hous', 'post', 'fan', 'real', 'video'] \n",
      "\n",
      "day ['amp', 'get', 'happi', 'go', 'im', '@user', 'like', 'make', 'today', '#love'] \n",
      "\n"
     ]
    }
   ],
   "source": [
    "from scipy.spatial import distance\n",
    "import numpy as np\n",
    "\n",
    "def get_distance_matrix(wordvecs, metric):\n",
    "    dist_matrix = distance.squareform(distance.pdist(wordvecs, metric))\n",
    "    return dist_matrix\n",
    "\n",
    "def get_k_similar_words(word, dist_matrix, k=10):\n",
    "    # Aprox 2 lineas para\n",
    "    idx = tok2id[word]\n",
    "    dists = dist_matrix[idx]\n",
    "    ind = np.argpartition(dists, k)[:k+1]\n",
    "    ind = ind[np.argsort(dists[ind])][1:]\n",
    "    out = [(i, id2tok[i], dists[i]) for i in ind]\n",
    "    return out\n",
    "\n",
    "dmat = get_distance_matrix(wordvecs, 'cosine')\n",
    "for word in tokens:\n",
    "    print(word, [t[1] for t in get_k_similar_words(word, dmat)], \"\\n\")"
   ]
  },
  {
   "cell_type": "markdown",
   "id": "e1d8137d",
   "metadata": {
    "ExecuteTime": {
     "end_time": "2023-08-07T00:38:47.402752Z",
     "start_time": "2023-08-07T00:38:47.384725Z"
    },
    "deletable": false,
    "editable": false,
    "nbgrader": {
     "cell_type": "markdown",
     "checksum": "639c2eb3f9df4bd7244c8a482d492350",
     "grade": false,
     "grade_id": "cell-5e5ce486e8860c29",
     "locked": true,
     "schema_version": 3,
     "solution": false,
     "task": false
    }
   },
   "source": [
    "**PREGUNTAS:**\n",
    "* ¿Cuál es la implicación del overfitting en modelos como Word2Vec?\n",
    "\n",
    "En Word2Vec, el overfitting no tiene el mismo impacto negativo que en modelos de predicción. El objetivo de Word2Vec es capturar relaciones semánticas entre palabras dentro del corpus de entrenamiento, no generalizar a nuevos datos. Por lo tanto, un cierto grado de overfitting puede ser aceptable e incluso útil para representar con precisión el significado de las palabras en ese corpus específico. Sin embargo, si el corpus es muy pequeño o poco representativo, el modelo puede aprender asociaciones poco generales o ruidosas.\n",
    "\n",
    "\n",
    "* ¿Qué tan bien encontró palabras cercanas su modelo Word2Vec? ¿Podría mejorar? ¿Cómo podría mejorar?\n",
    "El modelo Word2Vec logró encontrar algunas palabras cercanas relevantes, especialmente en el grupo asociado a la palabra \"good\", donde aparecen términos positivos como #posit, #smile, y #summer, lo cual indica que el modelo empieza a capturar asociaciones semánticas. Sin embargo, en los grupos como \"bad\", \"school\" y \"day\", se observan palabras que no siempre están claramente relacionadas con el concepto central, como free, face, o hea, lo que sugiere que aún falta refinamiento en las representaciones. Esto es esperable, ya que el entrenamiento solo ha transcurrido por 2 épocas, y el gráfico de pérdida muestra que el modelo está apenas comenzando a aprender (la NLL apenas baja de ~7.1 a ~6.9).\n",
    "\n",
    "El modelo podría mejorar significativamente si se entrena por más épocas (por ejemplo, 50 como se sugiere en el ejemplo original), ya que eso permitiría ajustar mejor los vectores de palabras. Además, se podrían probar las siguientes mejoras:\n",
    "\n",
    "- Usar ventanas de contexto más grandes para capturar más información contextual.\n",
    "- Aumentar el tamaño del embedding si se cuenta con suficientes datos.\n",
    "- Usar técnicas como submuestreo de palabras frecuentes para evitar sesgos.\n",
    "- Aplicar regularización o técnicas como negative sampling para mejorar la calidad del embedding.\n",
    "- Asegurar una correcta tokenización y preprocesamiento (por ejemplo, normalizar hashtags y menciones).\n",
    "\n",
    "* A grandes rasgos, ¿cuál es la diferencia entre Word2Vec y BERT?\n",
    "\n",
    "Word2Vec y BERT son modelos de representación de texto, pero funcionan de manera muy distinta. Word2Vec asigna un vector fijo a cada palabra, independientemente del contexto en el que aparece, lo que lo hace rápido y útil para tareas como medir similitud semántica. En cambio, BERT genera vectores contextuales, es decir, el significado de una palabra depende de las palabras que la rodean, permitiéndole entender mejor el lenguaje natural. Además, BERT es un modelo bidireccional, lo que significa que considera tanto el contexto anterior como el posterior, mientras que Word2Vec solo usa unidireccionalidad (ventanas de contexto limitadas). Por ello, BERT es mucho más preciso en tareas complejas como análisis de sentimientos, preguntas y respuestas, y clasificación de texto."
   ]
  },
  {
   "cell_type": "markdown",
   "id": "de1f5579",
   "metadata": {
    "deletable": false,
    "editable": false,
    "nbgrader": {
     "cell_type": "markdown",
     "checksum": "2a9b67df22196d0cba2dfbdcb310efc3",
     "grade": false,
     "grade_id": "cell-b8252dd53c19ab29",
     "locked": true,
     "schema_version": 3,
     "solution": false,
     "task": false
    }
   },
   "source": [
    "## Parte 2 - Encoder - Decoder\n",
    "\n",
    "**Créditos:** La segunda parte de este laboratorio está tomado y basado en uno de los repositorios de Ben Trevett\n",
    "\n",
    "En esta ocasión vamos a centrarnos en una arquitectura Sequence to Sequence (Seq2Seq), entonces estaremos desarrollando un modelo que nos ayude a traducir de alemán a inglés. Tomaremos como base el paper [Sequence to Sequence Learning with Neural Networks](https://arxiv.org/abs/1409.3215). Recuerden que a pesar que esto es para frases/oraciones, los conceptos pueden ser aplicados para otras arquitecturas similares.\n",
    "\n",
    "**IMPORTANTE:** Recuerden usar virtual enviroments debido a que estaremos usando versiones viejas de la librerías. ¿Por qué? Las librerías eran un poco más explícitas que sus versiones más recientes. A continuación se dejan los comandos para la instalación de las más importantes\n",
    "\n",
    "```\n",
    "pip install -U torch==1.9.0+cu111 -f  https://download.pytorch.org/whl/cu111/torch_stable.html\n",
    "pip install -U torchtext==0.10.0\n",
    "```\n",
    "\n",
    "El primer comando instalará la librería de PyTorch con CUDA 11.1\n",
    "El segundo, instala TorchText en una versión donde la formulación del vocabulario para training, test y validation era más claro (esta es la principal por la que estamos usando esta versiones).\n",
    "\n",
    "\n",
    "### Introducción\n",
    "Los modelos más comunes seq2seq son los modelos *encoder-decoder*, los cuales usan una RNN para encodear el input y llevarlo a un solo vector. En este laboratorio nos estaremos refiriendo a dicho vector como *vector contexto*. Pensemos sobre el vector contexto como un ser abstracto que representa una frase completa. Este vector es luego decodeado por una segunda RNN, que aprende a generar la frase target (output) deseada al generar palabra por palabra. \n",
    "\n",
    "\n",
    "Consideren la siguiente ilustración para representar el proceso que estaremos realizando\n",
    "\n",
    "<img src=\"https://raw.githubusercontent.com/bentrevett/pytorch-seq2seq/49df8404d938a6edbf729876405558cc2c2b3013/assets/seq2seq1.png\" alt=\"Seq2Seq\" />\n",
    "\n",
    "*Crédito de imagen al autor, imagen tomada de \"Sequence to Sequence Learning with Neural Networks\" de Ben Trevett*\n",
    "\n",
    "Noten como la frase de input \"guten morgen\", se pasa a través de una capa de embedding (cuadros amarillos) y luego entra en los encodeadores (cuadros verdes). En esta ocasión agregamos un token de \"start of sequence\" (`<sos>`) al inicio de la frase, además de un token de \"end of sequence\" (`<eos>`) al final de la oración. Vean como en cada paso, la entrada del encoder RNN es tanto la representación embedding $e$ de la palabra actual $e(x_t)$, así como el estado oculto del paso anterior $h_{t-1}$, y el encoder genera un nuevo hidden state $h_t$. Entonces, podemos pensar en el hidden state como una representación vectorial de la oración hasta ese momento. La RNN se puede representar como una función de tanto $e(x_t)$ y $h_{t-1}$\n",
    "\n",
    "$$h_t = \\text{EncoderRNN}(e(x_t), h_{t-1})$$\n",
    "\n",
    "Por favor noten que estamos usando el termino RNN de forma general en este contexto, puede ser cualquier arquitectura como LSTM o GRU.\n",
    "\n",
    "Entonces estaremos trabajando con una secuencia como $X = \\{x_1, x_2, ..., x_T\\}$, donde $x_1 = <sos>$, $x_2 = guten$, y así consecutivamente. El hidden state inicial $h_0$ es usualmente iniciado con ceros o con algún parametro pre-aprendido.\n",
    "\n",
    "Una vez la palabra final $X_T$ ha pasado en la RNN a través de la embedding layer, usamos el hidden state final $h_T$ como vector de contexto. Es decir, $h_T = z$. El cual será la representación vectorial de toda la oración.\n",
    "\n",
    "Ahora que tenemos nuestro vector de contexto $z$, podemos empezar a decodear para obtener la oración target, \"good morning\". De nuevo, agregamos los tokens de inicio y fin de la secuencia de nuestra oración target. En cada paso, el input al decoder RNN (cuadros azules de la imagen) es la versión embedding $d$ de la palabra actual $d(y_t)$ así como también el hidden state del paso previo $s_{t-1}$m donde el hidden state del decoder incial $s_0$ es el vector de contexto $s_0 = z = h_T$, es decir, el hidden state decoder es el último hidden state encoder. Por ende, simlar al encoder, podemos representarlo como: \n",
    "\n",
    "$$s_t = \\text{DecoderRNN}(d(y_t), s_{t-1})$$\n",
    "\n",
    "A pesar que el input embeeding layer $e$ y el target embedding layer $d$ están representados como cuadros amarillos en la imagen, como dijimos en clase, estas son dos embedding layers diferentes con sus propios parametros.\n",
    "\n",
    "En el decoder, necestamos ir del hidden state a la palabra actual, por ello en cada paso usamos $s_t$ para predecir (a traves de pasarlo en una layer lineal, mostrada como cuadros morados) lo que se cree que es la siguiente palabra en la secuencia $\\hat{y}_t$\n",
    "\n",
    "$$\\hat{y}_t = f(s_t)$$\n",
    "\n",
    "Las palabras en el decoder son siempre generadas una después de la otra, con una por paso. Siempre usamos `<sos>` para el primer input del decodr $y_1$ y algumas veces usamos la palabra predicha por nuestro decoder, $\\hat{y}_{t-1}$. Que, como mencionamos en clase, se le llama *teacher forcing*.\n",
    "\n",
    "Cuando estamos entrenando o probando nuestro modelo, siempre sabemso cuantas palabras hay en nuestra secuencia target, entonces nos detenemos de generar palabras una vez alcanzamos esa cantidad. Durante las fases de inferencia (uso del modelo en la \"vida real\") seguimos generando palabras hasta que el modelo genere un token `<eos>` o después de una cierta cantidad de palabras dada. (Esto tambien lo mencionamoos en clase, es solo para refrescar los conceptos) \n",
    "\n",
    "Una vez tengamos nuestra secuencia target predicha $\\hat{Y} = \\{ \\hat{y}_1, \\hat{y}_2, ..., \\hat{y}_T \\}$, la comparamos contra nuestra secuencia target real. $Y = \\{ y_1, y_2, ..., y_T \\}$, para calcular la perdida. Usamos esta pérdida para actualizar los parámetros del modelo, como bien hemos hecho en otras ocasiones.\n",
    "\n",
    "### Preparación de Data\n",
    "\n",
    "Es momento de ponernos a manos a la obra. Estaremos programando nuestro modelo usando PyTorch y usando torchtext para ayudarnos a hacer todo el pre-procesamiento necesario. Ahora usaremos spaCy para ayudarnos en la tokenización de los datos"
   ]
  },
  {
   "cell_type": "code",
   "execution_count": null,
   "id": "6b5246f2",
   "metadata": {
    "ExecuteTime": {
     "end_time": "2023-08-07T12:10:04.622634Z",
     "start_time": "2023-08-07T12:09:55.185815Z"
    }
   },
   "outputs": [],
   "source": [
    "import torch\n",
    "import torch.nn as nn\n",
    "import torch.optim as optim\n",
    "\n",
    "from torchtext.legacy.datasets import Multi30k\n",
    "\n",
    "train_url = \"https://raw.githubusercontent.com/neychev/small_DL_repo/master/datasets/Multi30k/training.tar.gz\"\n",
    "val_url = \"https://raw.githubusercontent.com/neychev/small_DL_repo/master/datasets/Multi30k/validation.tar.gz\"\n",
    "test_url = \"https://raw.githubusercontent.com/neychev/small_DL_repo/master/datasets/Multi30k/mmt16_task1_test.tar.gz\"\n",
    "\n",
    "# Update the URLs in the Multi30k module\n",
    "Multi30k.urls = (train_url, val_url, test_url)\n",
    "\n",
    "from torchtext.legacy.data import Field, BucketIterator\n",
    "\n",
    "import spacy\n",
    "import numpy as np\n",
    "\n",
    "import random\n",
    "import math\n",
    "import time"
   ]
  },
  {
   "cell_type": "markdown",
   "id": "bb5f19f9",
   "metadata": {
    "deletable": false,
    "editable": false,
    "nbgrader": {
     "cell_type": "markdown",
     "checksum": "cb193611b74e155202745762d0e05a22",
     "grade": false,
     "grade_id": "cell-960a94af6dbde6f6",
     "locked": true,
     "schema_version": 3,
     "solution": false,
     "task": false
    }
   },
   "source": [
    "Colocamos las semillas para tener resultados consistentes."
   ]
  },
  {
   "cell_type": "code",
   "execution_count": null,
   "id": "e2182c4e",
   "metadata": {
    "ExecuteTime": {
     "end_time": "2023-08-07T12:10:12.966554Z",
     "start_time": "2023-08-07T12:10:12.934552Z"
    }
   },
   "outputs": [],
   "source": [
    "SEED = 1234\n",
    "\n",
    "random.seed(SEED)\n",
    "np.random.seed(SEED)\n",
    "torch.manual_seed(SEED)\n",
    "torch.cuda.manual_seed(SEED)\n",
    "torch.backends.cudnn.deterministic = True"
   ]
  },
  {
   "cell_type": "markdown",
   "id": "85333315",
   "metadata": {
    "deletable": false,
    "editable": false,
    "nbgrader": {
     "cell_type": "markdown",
     "checksum": "32e4c72dc8e544489e4bb9de559fc363",
     "grade": false,
     "grade_id": "cell-1a4d13aff19cbbc7",
     "locked": true,
     "schema_version": 3,
     "solution": false,
     "task": false
    }
   },
   "source": [
    "Ahora, necesitamos crear un tokenizador. Un tokenizador es una función que ayudará a convertir un string de alguna frase u oración en una lista de tokens individuales. Consideren que en una frase como \"good morning!\" se tienen tres tokens, siendo cada uno \"good\", \"morning\" y \"!\", noten que a pesar que el signo de admiracion no se considera una palabra, sí se considera como un token. \n",
    "\n",
    "Para la creación de nuestro tokenizador nos apoyaremos en spaCy, en este caso necesitamos los paquetes de aleman e inglés (se nombran abajo).\n",
    "\n",
    "Para instalar spaCy necesitarán ejecutar en la cmd \n",
    "```\n",
    "pip install spacy\n",
    "python -m spacy download en_core_web_sm\n",
    "python -m spacy download de_core_news_sm\n",
    "```\n",
    "\n",
    "**IMPORTANTE:** Recuerden usar virtual environments de Python, debido a que este laboratorio usa algunas librerías deprecadas, que como se explicó previamente, se hizo de este modo para ser más explícito el aprendizaje.\n",
    "\n",
    "Regresando al tema del tokenizer, primero cargaremos las dos versiones para los diferentes idiomas con los que estamos trabajando.\n",
    "\n",
    "Despues, crearemos unas funciones de tokenización. Estas pueden ser pasadas a TorchText y tomarán una oración y regresara la oración como una lista de tokens.\n",
    "\n",
    "Cabe la pena mencionar que en el paper que estamos tomando de base, ellos encontrarón util el revertir el orden del input dado que se cree que introducía varias dependencias a corto plazo en los datos que facilitan mucho el problema de optimización.\n",
    "\n",
    "Más adelante, usaremos `Field` (que actualmente está deprecado :( ) para manejar como la data debería ser procesada. Después, seteamos el parametro `tokenize` como función para cada caso. El aleman será el `SRC` y el inglés será el `TRG`. Además también se agrega el token para inicio y fin de la secuencia, además que convertirá todo en lowercase."
   ]
  },
  {
   "cell_type": "code",
   "execution_count": null,
   "id": "d4bc4d31",
   "metadata": {
    "ExecuteTime": {
     "end_time": "2023-08-07T12:10:15.907822Z",
     "start_time": "2023-08-07T12:10:14.202661Z"
    }
   },
   "outputs": [],
   "source": [
    "spacy_de = spacy.load('de_core_news_sm')\n",
    "spacy_en = spacy.load('en_core_web_sm')"
   ]
  },
  {
   "cell_type": "code",
   "execution_count": null,
   "id": "16e7543a",
   "metadata": {
    "ExecuteTime": {
     "end_time": "2023-08-07T12:10:16.426717Z",
     "start_time": "2023-08-07T12:10:16.410680Z"
    }
   },
   "outputs": [],
   "source": [
    "def tokenize_de(text):\n",
    "    \"\"\"\n",
    "    Tokenizes German text from a string into a list of strings (tokens) and reverses it\n",
    "    \"\"\"\n",
    "    return [tok.text for tok in spacy_de.tokenizer(text)][::-1]\n",
    "\n",
    "def tokenize_en(text):\n",
    "    \"\"\"\n",
    "    Tokenizes English text from a string into a list of strings (tokens)\n",
    "    \"\"\"\n",
    "    return [tok.text for tok in spacy_en.tokenizer(text)]"
   ]
  },
  {
   "cell_type": "code",
   "execution_count": null,
   "id": "1227f75a",
   "metadata": {
    "ExecuteTime": {
     "end_time": "2023-08-07T12:10:16.775400Z",
     "start_time": "2023-08-07T12:10:16.767392Z"
    }
   },
   "outputs": [],
   "source": [
    "SRC = Field(tokenize = tokenize_de, \n",
    "            init_token = '<sos>', \n",
    "            eos_token = '<eos>', \n",
    "            lower = True)\n",
    "\n",
    "TRG = Field(tokenize = tokenize_en, \n",
    "            init_token = '<sos>', \n",
    "            eos_token = '<eos>', \n",
    "            lower = True)"
   ]
  },
  {
   "cell_type": "markdown",
   "id": "d48fd2f4",
   "metadata": {
    "deletable": false,
    "editable": false,
    "nbgrader": {
     "cell_type": "markdown",
     "checksum": "e4c7c0410bb12c03fd3a415d086f6aa1",
     "grade": false,
     "grade_id": "cell-f059a0654bba3e20",
     "locked": true,
     "schema_version": 3,
     "solution": false,
     "task": false
    }
   },
   "source": [
    "Ahora, debemos descargar el dataset. Para este caso estaremos usando el dataset llamado Multi30k. Este tiene aproximadamente 30K frases en inglés, aleman y francés, cada uno tiene alrededor de 12 palabras por frase. \n",
    "\n",
    "Además noten que `exts` especifica cual lenguage se debe usar como source y target, y `fields` da cuales campos usar para el source y target. "
   ]
  },
  {
   "cell_type": "code",
   "execution_count": null,
   "id": "5c2f3811",
   "metadata": {
    "ExecuteTime": {
     "end_time": "2023-08-07T12:10:21.558532Z",
     "start_time": "2023-08-07T12:10:17.137695Z"
    }
   },
   "outputs": [],
   "source": [
    "train_data, valid_data, test_data = Multi30k.splits(exts = ('.de', '.en'), \n",
    "                                                    fields = (SRC, TRG),\n",
    "                                                    path = 'C:\\\\Users\\\\Al\\\\.cache\\\\torch\\\\text\\\\datasets\\\\\\multi30k2')\n",
    "\n"
   ]
  },
  {
   "cell_type": "code",
   "execution_count": null,
   "id": "9daf8a6a",
   "metadata": {
    "ExecuteTime": {
     "end_time": "2023-08-07T12:10:21.990868Z",
     "start_time": "2023-08-07T12:10:21.982854Z"
    }
   },
   "outputs": [],
   "source": [
    "print(f\"Numero de observaciones de training: {len(train_data.examples)}\")\n",
    "print(f\"Numero de observaciones en validation: {len(valid_data.examples)}\")\n",
    "print(f\"Numero de observaciones en test: {len(test_data.examples)}\")"
   ]
  },
  {
   "cell_type": "code",
   "execution_count": null,
   "id": "56422a53",
   "metadata": {
    "ExecuteTime": {
     "end_time": "2023-08-07T12:10:23.001453Z",
     "start_time": "2023-08-07T12:10:22.753770Z"
    }
   },
   "outputs": [],
   "source": [
    "SRC.build_vocab(train_data, min_freq = 2)\n",
    "TRG.build_vocab(train_data, min_freq = 2)"
   ]
  },
  {
   "cell_type": "code",
   "execution_count": null,
   "id": "af8e7be9",
   "metadata": {
    "ExecuteTime": {
     "end_time": "2023-08-07T12:10:22.369708Z",
     "start_time": "2023-08-07T12:10:22.353942Z"
    }
   },
   "outputs": [],
   "source": [
    "print(vars(train_data.examples[0]))"
   ]
  },
  {
   "cell_type": "markdown",
   "id": "f09e20d7",
   "metadata": {},
   "source": [
    "Observen como el punto está al comienzo de la oración en alemán (src), por lo que parece que la oración se invirtió correctamente.\n",
    "\n",
    "Ahora, construiremos el vocabulario para los idiomas de source y de target. El vocabulario se utiliza para asociar cada token único con un índice (un número entero). Los vocabularios de los idiomas de origen y de destino son distintos.\n",
    "\n",
    "Usando el argumento `min_freq`, solo permitimos que aparezcan en nuestro vocabulario tokens que aparecen al menos 2 veces. Los tokens que aparecen solo una vez se convierten en un token desconocido `<unk>`.\n",
    "\n",
    "Es importante tener en cuenta que nuestro vocabulario solo debe construirse a partir del conjunto de entrenamiento y no del conjunto de validación/test. Esto evita la \"fuga de información\" en nuestro modelo, dándonos puntajes de validación/prueba inflados artificialmente."
   ]
  },
  {
   "cell_type": "code",
   "execution_count": null,
   "id": "0b865dee",
   "metadata": {
    "ExecuteTime": {
     "end_time": "2023-08-07T12:10:23.312139Z",
     "start_time": "2023-08-07T12:10:23.299580Z"
    }
   },
   "outputs": [],
   "source": [
    "print(f\"Unique tokens in source (de) vocabulary: {len(SRC.vocab)}\")\n",
    "print(f\"Unique tokens in target (en) vocabulary: {len(TRG.vocab)}\")"
   ]
  },
  {
   "cell_type": "markdown",
   "id": "3686bcfc",
   "metadata": {},
   "source": [
    "El paso final de preparar los datos es crear los iteradores. Estos se pueden iterar para devolver un lote de datos que tendrá un atributo `src` (los tensores de PyTorch \n",
    "que contienen un lote de oraciones de origen numeradas) y un atributo `trg` (los tensores de PyTorch que contienen un batch de oraciones de destino numeradas). \n",
    "\"Numericalized\" es solo una forma elegante de decir que se han convertido de una secuencia de tokens legibles a una secuencia de índices correspondientes, usando el vocabulario.\n",
    "\n",
    "También necesitamos definir un dispositivo `torch.device`. Esto se usa para indicarle a torchText que coloque o no los tensores en la GPU. \n",
    "Usamos la función `torch.cuda.is_available()`, que devolverá True si se detecta una GPU en nuestra computadora. Pasamos este dispositivo al iterador.\n",
    "\n",
    "Cuando obtenemos un lote de ejemplos usando un iterador, debemos asegurarnos de que todas las oraciones de origen tengan la misma longitud, \n",
    "al igual que las oraciones de destino. ¡Afortunadamente, los iteradores de torchText manejan esto por nosotros!\n",
    "\n",
    "Usamos un `BucketIterator` en lugar del `Iterador` estándar, ya que crea lotes de tal manera que minimiza la cantidad de padding en las oraciones de origen y de destino."
   ]
  },
  {
   "cell_type": "code",
   "execution_count": null,
   "id": "c6fbb387",
   "metadata": {
    "ExecuteTime": {
     "end_time": "2023-08-07T12:10:23.716604Z",
     "start_time": "2023-08-07T12:10:23.695697Z"
    }
   },
   "outputs": [],
   "source": [
    "device = torch.device('cuda' if torch.cuda.is_available() else 'cpu')\n",
    "print(device)"
   ]
  },
  {
   "cell_type": "code",
   "execution_count": null,
   "id": "fa44707d",
   "metadata": {
    "ExecuteTime": {
     "end_time": "2023-08-07T12:10:29.661585Z",
     "start_time": "2023-08-07T12:10:29.630173Z"
    }
   },
   "outputs": [],
   "source": [
    "BATCH_SIZE = 128\n",
    "\n",
    "train_iterator, valid_iterator, test_iterator = BucketIterator.splits(\n",
    "    (train_data, valid_data, test_data), \n",
    "    batch_size = BATCH_SIZE, \n",
    "    device = device)"
   ]
  },
  {
   "cell_type": "markdown",
   "id": "725df266",
   "metadata": {},
   "source": [
    "### Construyendo el Modelo Seq2Seq\n",
    "Vamos a definir nuestro modelo en tres partes, el encoder, el decoder y el modelo Seq2Seq. Este ultimo encapsulará el proceso y transferencia entre los primeros dos.\n",
    "\n",
    "#### Encoder\n",
    "Primero, el encoder, es un LSTM de 2 capas. El paper que estamos implementando usa un LSTM de 4 capas, pero en favor del tiempo de entrenamiento lo reducimos a 2 capas. \n",
    "El concepto de RNN multicapa es fácil de expandir de 2 a 4 capas.\n",
    "\n",
    "Para un RNN multicapa, la oración de entrada, $X$, después de ser embeddida va a la primera capa (inferior) del RNN y los estados ocultos, $H=\\{h_1, h_2, ..., h_T\\}$ , \n",
    "la salida de esta capa se utiliza como entrada a la RNN en la capa superior. Así, representando cada capa con un superíndice, los hidden states en la primera capa vienen dados por:\n",
    "\n",
    "$$h_t^1 = \\text{EncoderRNN}^1(e(x_t), h_{t-1}^1)$$\n",
    "\n",
    "Las hidden states en la segunda layer son dadas por:\n",
    "\n",
    "$$h_t^2 = \\text{EncoderRNN}^2(h_t^1, h_{t-1}^2)$$\n",
    "\n",
    "El uso de un RNN multicapa también significa que también necesitaremos un hidden state inicial como entrada por capa, $h_0^l$, y también generaremos un vector de contexto por capa, $z^l$.\n",
    "\n",
    "Si desean repasar un poco sobre LSTM pueden consultar este [enlance] (https://colah.github.io/posts/2015-08-Understanding-LSTMs/)\n",
    "Para este laboratorio, es suficiente que recuerden que lo que necesitamos saber es los LSTM, en lugar de simplemente tomar un estado oculto y devolver un nuevo estado oculto por paso de tiempo, \n",
    "también toman y devuelven un *estado de celda*, $c_t$, por paso de tiempo.\n",
    "\n",
    "$$\\begin{align*}\n",
    "h_t &= \\text{RNN}(e(x_t), h_{t-1})\\\\\n",
    "(h_t, c_t) &= \\text{LSTM}(e(x_t), h_{t-1}, c_{t-1})\n",
    "\\end{align*}$$\n",
    "\n",
    "Podemos pensar en $c_t$ como otro tipo de hidden state. Similar a $h_0^l$, $c_0^l$ se inicializará en un tensor de ceros. \n",
    "Además, nuestro vector de contexto ahora será tanto el hidden state final como el estado de celda final, es decir, $z^l = (h_T^l, c_T^l)$.\n",
    "\n",
    "Al extender nuestras ecuaciones multicapa a LSTM, obtenemos:\n",
    "\n",
    "$$\\begin{align*}\n",
    "(h_t^1, c_t^1) &= \\text{EncoderLSTM}^1(e(x_t), (h_{t-1}^1, c_{t-1}^1))\\\\\n",
    "(h_t^2, c_t^2) &= \\text{EncoderLSTM}^2(h_t^1, (h_{t-1}^2, c_{t-1}^2))\n",
    "\\end{align*}$$\n",
    "\n",
    "\n",
    "Observen cómo solo nuestro hidden state de la primera capa se pasa como entrada a la segunda capa, y no el estado de la celda.\n",
    "\n",
    "Así que nuestro codificador se parece a esto:\n",
    "\n",
    "IMAGEN\n",
    "\n",
    "Creamos esto en el código creando un módulo `Encoder`, que requiere que heredemos de `torch.nn.Module` y usemos `super().__init__()` como un código repetitivo. \n",
    "El codificador toma los siguientes argumentos:\n",
    "- `input_dim` es el tamaño/dimensionalidad de los vectores one-hot que se ingresarán al codificador. Esto es igual al tamaño del vocabulario de entrada (fuente).\n",
    "- `emb_dim` es la dimensionalidad de la capa de embedding. Esta capa convierte los vectores one-hot en vectores densos con dimensiones `emb_dim`.\n",
    "- `hid_dim` es la dimensionalidad de los estados ocultos y de celda.\n",
    "- `n_layers` es el número de capas en el RNN.\n",
    "- `dropout` es la cantidad de abandono a utilizar. Este es un parámetro de regularización para evitar el overfitting. \n",
    "Consulte [aqui] (https://www.coursera.org/lecture/deep-neural-network/understanding-dropout-YaGbR) para obtener más detalles sobre dropout.\n",
    "\n",
    "\n",
    "No vamos a discutir la capa de embedding en detalle durante aqui pues ya lo hicimos previamente. Todo lo que necesitamos saber es que hay un paso antes de que las palabras \n",
    "(técnicamente, los índices de las palabras) pasen al RNN, donde las palabras se transforman en vectores. Para leer más sobre embedding de palabras, \n",
    "consulten estos artículos: [1](https://monkeylearn.com/blog/word-embeddings-transform-text-numbers/), [2](http://p.migdal.pl /2017/01/06/rey-hombre-mujer-reina-por qué.html), [3](http://mccormickml.com/2016/04/19/word2vec-tutorial-the-skip-gram-model/ ), [4](http://mccormickml.com/2017/01/11/word2vec-tutorial-part-2-negative-sampling/).\n",
    "\n",
    "La capa de embedding se crea usando `nn.Embedding`, el LSTM con `nn.LSTM` y una capa de dropout con `nn.Dropout`. \n",
    "Consulten la [documentación de PyTorch ] (https://pytorch.org/docs/stable/nn.html) para obtener más información al respecto.\n",
    "\n",
    "Una cosa a tener en cuenta es que el argumento `dropout` para el LSTM es cuánto dropout aplicar entre las capas de un RNN multicapa, \n",
    "es decir, entre la salida de estados ocultos de la capa $l$ y esos mismos estados ocultos que se utilizan para el entrada de la capa $l+1$.\n",
    "\n",
    "En el método `forward`, pasamos la oración fuente, $X$, que se convierte en vectores densos usando la capa `embedding`, y luego se aplica el dropout. \n",
    "Estos embedding luego se pasan a la RNN. A medida que pasamos una secuencia completa a la RNN, ¡automáticamente hará el cálculo recurrente de los estados \n",
    "ocultos en toda la secuencia por nosotros! Tenga en cuenta que no pasamos un estado inicial oculto o de celda al RNN. \n",
    "Esto se debe a que, como se indica en la [documentación](https://pytorch.org/docs/stable/nn.html#torch.nn.LSTM), si no se pasa ningún estado de celda/oculto a la RNN, crea automáticamente un estado inicial de celda/oculto como un tensor de ceros.\n",
    "\n",
    "El RNN devuelve: `outputs` (el hidden state de la capa superior para cada paso de tiempo), `hidden` (el hidden state final para cada capa, $h_T$, \n",
    "apiladas una encima de la otra) y `cell` (la estado de celda final para cada capa, $c_T$, apilados uno encima del otro).\n",
    "\n",
    "Como solo necesitamos los hidden state y de celda finales (para hacer nuestro vector de contexto), `forward` solo devuelve `hidden` y `cell`.\n",
    "\n",
    "Los tamaños de cada uno de los tensores se dejan como comentarios en el código. En esta implementación, `n_directions` siempre será 1, sin embargo, \n",
    "tengan en cuenta que los RNN bidireccionales (cubiertos en el tutorial 3) tendrán `n_directions` como 2."
   ]
  },
  {
   "cell_type": "code",
   "execution_count": null,
   "id": "1b79c7b4",
   "metadata": {
    "ExecuteTime": {
     "end_time": "2023-08-07T12:10:30.685603Z",
     "start_time": "2023-08-07T12:10:30.659165Z"
    },
    "deletable": false,
    "nbgrader": {
     "cell_type": "code",
     "checksum": "24a7fe486fef7641af76e0308c8553e5",
     "grade": false,
     "grade_id": "cell-819cfe4960d74aaf",
     "locked": false,
     "schema_version": 3,
     "solution": true,
     "task": false
    }
   },
   "outputs": [],
   "source": [
    "class Encoder(nn.Module):\n",
    "    def __init__(self, input_dim, emb_dim, hid_dim, n_layers, dropout):\n",
    "        super().__init__()\n",
    "        \n",
    "        self.hid_dim = hid_dim\n",
    "        self.n_layers = n_layers\n",
    "        \n",
    "        # Aprox 1 linea para \n",
    "        # self.embedding = \n",
    "        # YOUR CODE HERE\n",
    "        raise NotImplementedError()\n",
    "\n",
    "        # Aprox 1 linea para \n",
    "        # self.rnn = \n",
    "        # YOUR CODE HERE\n",
    "        raise NotImplementedError()\n",
    "        \n",
    "        self.dropout = nn.Dropout(dropout)\n",
    "        \n",
    "    def forward(self, src):\n",
    "        \n",
    "        #src = [src len, batch size]\n",
    "        \n",
    "        embedded = self.dropout(self.embedding(src))\n",
    "        \n",
    "        #embedded = [src len, batch size, emb dim]\n",
    "        \n",
    "        outputs, (hidden, cell) = self.rnn(embedded)\n",
    "        \n",
    "        #outputs = [src len, batch size, hid dim * n directions]\n",
    "        #hidden = [n layers * n directions, batch size, hid dim]\n",
    "        #cell = [n layers * n directions, batch size, hid dim]\n",
    "        \n",
    "        #outputs are always from the top hidden layer\n",
    "        \n",
    "        return hidden, cell"
   ]
  },
  {
   "cell_type": "markdown",
   "id": "e85acaa4",
   "metadata": {
    "deletable": false,
    "editable": false,
    "nbgrader": {
     "cell_type": "markdown",
     "checksum": "d9c175e73457d779955f7a23deb52244",
     "grade": false,
     "grade_id": "cell-5f5382d652012307",
     "locked": true,
     "schema_version": 3,
     "solution": false,
     "task": false
    }
   },
   "source": [
    "#### Decoder\n",
    "Ahora pasaremos a construir el decoder, el cual también será una 2-layer (4 en el paper) LSTM.\n",
    "\n",
    "![](assets/seq2seq3.png)\n",
    "\n",
    "\n",
    "La clase `Decoder` hace un solo paso de decodificación, es decir, genera un solo token por paso. La primera capa recibirá un hidden state y de celda del paso de tiempo anterior,\n",
    "$(s_{t-1}^1, c_{t-1}^1)$, y lo alimenta a través del LSTM con el token incrustado actual, $y_t$, para producir un nuevo hidden state y de celda, $(s_t ^1, c_t^1)$.\n",
    "Las capas subsiguientes usarán el estado oculto de la capa inferior, $s_t^{l-1}$, y los estados ocultos y de celda anteriores de su capa, $(s_{t-1}^l, c_{t-1) }^l)$.\n",
    "Esto proporciona ecuaciones muy similares a las del codificador.\n",
    "\n",
    "$$\\begin{align*}\n",
    "(s_t^1, c_t^1) = \\text{DecoderLSTM}^1(d(y_t), (s_{t-1}^1, c_{t-1}^1))\\\\\n",
    "(s_t^2, c_t^2) = \\text{DecoderLSTM}^2(s_t^1, (s_{t-1}^2, c_{t-1}^2))\n",
    "\\end{align*}$$\n",
    "\n",
    "\n",
    "Recuerde que los estados iniciales ocultos y de celda de nuestro decoder son nuestros vectores de contexto, que son los estados finales ocultos y de celda de nuestro decoder de la misma capa,\n",
    "es decir, $(s_0^l,c_0^l)=z^l=(h_T^l,c_T^l)$.\n",
    "\n",
    "Luego pasamos el hidden state desde la capa superior del RNN, $s_t^L$, a través de una capa lineal, $f$, para hacer una predicción de cuál será el siguiente token en la secuencia de destino (salida).\n",
    "debería ser, $\\hat{y}_{t+1}$.\n",
    "\n",
    "$$\\sombrero{y}_{t+1} = f(s_t^L)$$\n",
    "\n",
    "Los argumentos y la inicialización son similares a la clase `Encoder`, excepto que ahora tenemos un `output_dim` que es el tamaño del vocabulario para la salida/objetivo.\n",
    "También está la adición de la capa 'Lineal', utilizada para hacer las predicciones desde el hidden state de la capa superior.\n",
    "\n",
    "Dentro del método `forward`, aceptamos un batch de tokens de entrada, hidden state anteriores y estados de celda anteriores. Como solo estamos decodificando un token a la vez,\n",
    "los tokens de entrada siempre tendrán una longitud de secuencia de 1. \"Aflojamos\" los tokens de entrada para agregar una dimensión de longitud de oración de 1. Luego, de forma similar al encoder,\n",
    "pasamos a través de una capa de embedding y aplicamos dropout. Este batch de tokens embeddidos luego se pasa al RNN con los estados ocultos y de celda anteriores.\n",
    "Esto produce una \"salida\" (hidden state de la capa superior de la RNN), un nuevo \"hidden state\" (uno para cada capa, apilados uno encima del otro) y una nueva \"celda\".\n",
    "estado (también uno por capa, apilados uno encima del otro). Luego pasamos la `salida` (después de deshacernos de la dimensión de longitud de la oración) a través de la capa lineal para recibir nuestra\n",
    "`predicción`. Luego devolvemos la `predicción`, el nuevo hidden state y el nuevo estado `celular`.\n",
    "\n",
    "**Nota**: como siempre tenemos una longitud de secuencia de 1, podríamos usar `nn.LSTMCell`, en lugar de `nn.LSTM`, ya que está diseñado para manejar un lote de entradas que no son\n",
    "necesariamente en una secuencia. `nn.LSTMCell` es solo una sola celda y `nn.LSTM` es un envoltorio alrededor de múltiples celdas potenciales. Usando `nn.LSTMCell` en este caso\n",
    "significaría que no tenemos que `descomprimir` para agregar una dimensión de longitud de secuencia falsa, pero necesitaríamos un `nn.LSTMCell` por capa en el decoder y para asegurar que cada `nn.LSTMCell`\n",
    "recibe el hidden state inicial correcto del codificador. Todo esto hace que el código sea menos conciso, de ahí la decisión de seguir con el `nn.LSTM` regular."
   ]
  },
  {
   "cell_type": "code",
   "execution_count": null,
   "id": "caa53fcf",
   "metadata": {
    "ExecuteTime": {
     "end_time": "2023-08-07T12:10:33.673863Z",
     "start_time": "2023-08-07T12:10:33.642635Z"
    },
    "deletable": false,
    "nbgrader": {
     "cell_type": "code",
     "checksum": "9062a639f1c3bd604869ed020a65ea7e",
     "grade": false,
     "grade_id": "cell-84131f43444e74fa",
     "locked": false,
     "schema_version": 3,
     "solution": true,
     "task": false
    }
   },
   "outputs": [],
   "source": [
    "class Decoder(nn.Module):\n",
    "    def __init__(self, output_dim, emb_dim, hid_dim, n_layers, dropout):\n",
    "        super().__init__()\n",
    "        \n",
    "        # Aprox 3 lineas para\n",
    "        # self.output_dim = \n",
    "        # self.hid_dim =\n",
    "        # self.n_layers = \n",
    "        # YOUR CODE HERE\n",
    "        raise NotImplementedError()\n",
    "        \n",
    "        # Aprox 1 linea para \n",
    "        # self.embedding = \n",
    "        # YOUR CODE HERE\n",
    "        raise NotImplementedError()\n",
    "        \n",
    "        # Aprox 1 linea para \n",
    "        # self.rnn = \n",
    "        # YOUR CODE HERE\n",
    "        raise NotImplementedError()\n",
    "        \n",
    "        self.fc_out = nn.Linear(hid_dim, output_dim)\n",
    "        \n",
    "        self.dropout = nn.Dropout(dropout)\n",
    "        \n",
    "    def forward(self, input, hidden, cell):\n",
    "        \n",
    "        #input = [batch size]\n",
    "        #hidden = [n layers * n directions, batch size, hid dim]\n",
    "        #cell = [n layers * n directions, batch size, hid dim]\n",
    "        \n",
    "        #n directions in the decoder will both always be 1, therefore:\n",
    "        #hidden = [n layers, batch size, hid dim]\n",
    "        #context = [n layers, batch size, hid dim]\n",
    "        \n",
    "        input = input.unsqueeze(0)\n",
    "        \n",
    "        #input = [1, batch size]\n",
    "        \n",
    "        embedded = self.dropout(self.embedding(input))\n",
    "        \n",
    "        #embedded = [1, batch size, emb dim]\n",
    "                \n",
    "        output, (hidden, cell) = self.rnn(embedded, (hidden, cell))\n",
    "        \n",
    "        #output = [seq len, batch size, hid dim * n directions]\n",
    "        #hidden = [n layers * n directions, batch size, hid dim]\n",
    "        #cell = [n layers * n directions, batch size, hid dim]\n",
    "        \n",
    "        #seq len and n directions will always be 1 in the decoder, therefore:\n",
    "        #output = [1, batch size, hid dim]\n",
    "        #hidden = [n layers, batch size, hid dim]\n",
    "        #cell = [n layers, batch size, hid dim]\n",
    "        \n",
    "        prediction = self.fc_out(output.squeeze(0))\n",
    "        \n",
    "        #prediction = [batch size, output dim]\n",
    "        \n",
    "        return prediction, hidden, cell"
   ]
  },
  {
   "cell_type": "markdown",
   "id": "c2746420",
   "metadata": {},
   "source": [
    "### Seq2Seq\n",
    "\n",
    "\n",
    "Para la parte final de la implementación, implementaremos el modelo seq2seq. Esto manejará:\n",
    "- recibir la oración de entrada/fuente\n",
    "- usar el encoder para producir los vectores de contexto\n",
    "- usar el decoder para producir la salida predicha/oración objetivo\n",
    "\n",
    "Nuestro modelo completo se verá así:\n",
    "\n",
    "![](activos/seq2seq4.png)\n",
    "\n",
    "El modelo `Seq2Seq` incluye un `Encoder`, un `Decoder` y un `dispositivo` (usado para colocar tensores en la GPU, si existe).\n",
    "\n",
    "Para esta implementación, debemos asegurarnos de que el número de capas y las dimensiones ocultas (y de celda) sean iguales en el 'Encoder' y 'Decoder'.\n",
    "Este no es siempre el caso, no necesariamente necesitamos la misma cantidad de capas o los mismos tamaños de dimensiones ocultas en un modelo de sequence to sequence.\n",
    "Sin embargo, si hiciéramos algo como tener un número diferente de capas, tendríamos que tomar decisiones sobre cómo manejar esto.\n",
    "Por ejemplo, si nuestro encoder tiene 2 capas y nuestro decoder solo tiene 1, ¿cómo se maneja esto? ¿Promediamos los dos vectores de contexto generados por el decoder?\n",
    "¿Pasamos ambos por una capa lineal? ¿Solo usamos el vector de contexto de la capa más alta? Etc.\n",
    "\n",
    "Nuestro método \"forward\" toma la oración fuente, la oración objetivo y un ratio de teacher-forcing. El ratio de teacher-forcing se usa cuando entrenamos nuestro modelo.\n",
    "Al decodificar, en cada paso, predeciremos cuál será el próximo token en la secuencia de destino de los tokens anteriores decodificados, $\\hat{y}_{t+1}=f(s_t^L)$. \n",
    "Con una probabilidad igual a la tasa de teacher forcing (`teacher_forcing_ratio`), utilizaremos el siguiente token real de la secuencia como entrada al decoder durante el siguiente paso.\n",
    "Sin embargo, con probabilidad `1 - Teacher_forcing_ratio`, usaremos el token que el modelo predijo como la próxima entrada al modelo, incluso si no coincide con el siguiente token real en la secuencia.\n",
    "\n",
    "Lo primero que hacemos en el método `forward` es crear un tensor `outputs` que almacenará todas nuestras predicciones, $\\hat{Y}$.\n",
    "\n",
    "Luego alimentamos la oración de entrada/fuente, `src`, en el encoder y recibimos los estados ocultos y de celda finales.\n",
    "\n",
    "La primera entrada al decoder es el token de inicio de secuencia (`<sos>`). Como nuestro tensor `trg` ya tiene el token `<sos>` agregado (desde cuando definimos el `init_token` en nuestro campo `TRG`)\n",
    "obtenemos nuestro $y_1$ cortándolo. Sabemos qué tan largas deben ser nuestras oraciones de destino (`max_len`), por lo que las repetimos muchas veces. El último token ingresado en el decoder es el **antes** del token `<eos>` - el `<eos>`\n",
    "el token nunca se ingresa en el decoder.\n",
    "\n",
    "Durante cada iteración del ciclo, nosotros:\n",
    "- pasar la entrada, los estados de celda anteriores ocultos y anteriores ($y_t, s_{t-1}, c_{t-1}$) al decoder\n",
    "- recibir una predicción, el siguiente estado oculto y el siguiente estado de celda ($\\hat{y}_{t+1}, s_{t}, c_{t}$) del decoder\n",
    "- colocar nuestra predicción, $\\hat{y}_{t+1}$/`output` en nuestro tensor de predicciones, $\\hat{Y}$/`outputs`\n",
    "- decidir si vamos a \"fuerza de maestros\" o no\n",
    "     - si lo hacemos, la siguiente 'entrada' es el siguiente token de verdad fundamental en la secuencia, $y_{t+1}$/`trg[t]`\n",
    "     - si no lo hacemos, la siguiente `entrada` es el siguiente token predicho en la secuencia, $\\hat{y}_{t+1}$/`top1`, que obtenemos al hacer un `argmax` sobre el tensor de salida\n",
    "    \n",
    "Una vez que hemos hecho todas nuestras predicciones, devolvemos nuestro tensor lleno de predicciones, $\\hat{Y}$/`outputs`.\n",
    "\n",
    "**Nota**: nuestro ccilo decodificador comienza en 1, no en 0. Esto significa que el elemento 0 de nuestro tensor de `salidas` sigue siendo todo ceros. Así que nuestras `trg` y `outputs` se parecen a:\n",
    "\n",
    "$$\\begin{alinear*}\n",
    "\\text{trg} = [<sos>, &y_1, y_2, y_3, <eos>]\\\\\n",
    "\\text{resultados} = [0, &\\hat{y}_1, \\hat{y}_2, \\hat{y}_3, <eos>]\n",
    "\\end{align*}$$\n",
    "\n",
    "Posteriormente cuando calculamos la pérdida, cortamos el primer elemento de cada tensor para obtener:\n",
    "\n",
    "$$\\begin{alinear*}\n",
    "\\text{trg} = [&y_1, y_2, y_3, <eos>]\\\\\n",
    "\\text{salidas} = [&\\hat{y}_1, \\hat{y}_2, \\hat{y}_3, <eos>]\n",
    "\\end{align*}$$"
   ]
  },
  {
   "cell_type": "code",
   "execution_count": null,
   "id": "7f50e76b",
   "metadata": {
    "ExecuteTime": {
     "end_time": "2023-08-07T12:10:34.696215Z",
     "start_time": "2023-08-07T12:10:34.680165Z"
    },
    "deletable": false,
    "nbgrader": {
     "cell_type": "code",
     "checksum": "a053dcb6ba362103fad11691a8c9cdfd",
     "grade": false,
     "grade_id": "cell-3cf708a546f162a5",
     "locked": false,
     "schema_version": 3,
     "solution": true,
     "task": false
    }
   },
   "outputs": [],
   "source": [
    "class Seq2Seq(nn.Module):\n",
    "    def __init__(self, encoder, decoder, device):\n",
    "        super().__init__()\n",
    "        \n",
    "        self.encoder = encoder\n",
    "        self.decoder = decoder\n",
    "        self.device = device\n",
    "        \n",
    "        assert encoder.hid_dim == decoder.hid_dim, \\\n",
    "            \"Hidden dimensions of encoder and decoder must be equal!\"\n",
    "        assert encoder.n_layers == decoder.n_layers, \\\n",
    "            \"Encoder and decoder must have equal number of layers!\"\n",
    "        \n",
    "    def forward(self, src, trg, teacher_forcing_ratio = 0.5):\n",
    "        \n",
    "        #src = [src len, batch size]\n",
    "        #trg = [trg len, batch size]\n",
    "        #teacher_forcing_ratio is probability to use teacher forcing\n",
    "        #e.g. if teacher_forcing_ratio is 0.75 we use ground-truth inputs 75% of the time\n",
    "        \n",
    "        batch_size = trg.shape[1]\n",
    "        trg_len = trg.shape[0]\n",
    "        trg_vocab_size = self.decoder.output_dim\n",
    "        \n",
    "        #tensor to store decoder outputs\n",
    "        outputs = torch.zeros(trg_len, batch_size, trg_vocab_size).to(self.device)\n",
    "        \n",
    "        #last hidden state of the encoder is used as the initial hidden state of the decoder\n",
    "        hidden, cell = self.encoder(src)\n",
    "        \n",
    "        #first input to the decoder is the <sos> tokens\n",
    "        input = trg[0,:]\n",
    "        \n",
    "        for t in range(1, trg_len):\n",
    "            \n",
    "            #insert input token embedding, previous hidden and previous cell states\n",
    "            #receive output tensor (predictions) and new hidden and cell states\n",
    "            \n",
    "            # Aprox 1 linea para \n",
    "            # output, hidden, cell =\n",
    "            # YOUR CODE HERE\n",
    "            raise NotImplementedError()\n",
    "            \n",
    "            #place predictions in a tensor holding predictions for each token\n",
    "            outputs[t] = output\n",
    "            \n",
    "            #decide if we are going to use teacher forcing or not\n",
    "            teacher_force = random.random() < teacher_forcing_ratio\n",
    "            \n",
    "            #get the highest predicted token from our predictions\n",
    "            top1 = output.argmax(1) \n",
    "            \n",
    "            #if teacher forcing, use actual next token as next input\n",
    "            #if not, use predicted token\n",
    "            input = trg[t] if teacher_force else top1\n",
    "        \n",
    "        return outputs\n"
   ]
  },
  {
   "cell_type": "markdown",
   "id": "e6723282",
   "metadata": {
    "deletable": false,
    "editable": false,
    "nbgrader": {
     "cell_type": "markdown",
     "checksum": "206f7ba1031ec9e31fc458fbe10ce7a4",
     "grade": false,
     "grade_id": "cell-8024abbda3c1898a",
     "locked": true,
     "schema_version": 3,
     "solution": false,
     "task": false
    }
   },
   "source": [
    "### Training Seq2Seq Model\n",
    "\n",
    "Ahora que tenemos nuestro modelo implementado, podemos comenzar a entrenarlo.\n",
    "\n",
    "Primero, inicializaremos nuestro modelo. Como se mencionó anteriormente, las dimensiones de entrada y salida están definidas por el tamaño del vocabulario.\n",
    "Las dimensiones de embedding y el dropout del encoder y el decoder pueden ser diferentes, pero el número de capas y el tamaño de los estados ocultos/de celda deben ser los mismos.\n",
    "\n",
    "Luego definimos el encoder, el decoder y luego nuestro modelo Seq2Seq, que colocamos en el \"device\".\n",
    "\n",
    "\n",
    "El siguiente paso es inicializar los pesos de nuestro modelo. En el paper afirman que inicializan todos los pesos a partir de una distribución uniforme entre -0,08 y +0,08, es decir, $\\mathcal{U}(-0,08, 0,08)$.\n",
    "\n",
    "Inicializamos los pesos en PyTorch creando una función que \"aplicamos\" a nuestro modelo. Al usar `apply`, se llamará a la función `init_weights` en cada módulo y submódulo dentro de nuestro modelo.\n",
    "Para cada módulo, recorremos todos los parámetros y los muestreamos desde una distribución uniforme con `nn.init.uniform_`.\n",
    "\n",
    "\n",
    "También definimos una función que calculará el número de parámetros entrenables en el modelo.\n",
    "\n",
    "\n",
    "Definimos nuestro optimizador, que usamos para actualizar nuestros parámetros en el ciclo de entrenamiento. Consulte [esta publicación](http://ruder.io/optimizing-gradient-descent/) \n",
    "para obtener información sobre diferentes optimizadores. Aquí usaremos a Adam\n",
    "\n",
    "A continuación, definimos nuestra función de pérdida. La función `CrossEntropyLoss` calcula tanto el log softmax como la log-likelihood negativo de nuestras predicciones.\n",
    "\n",
    "Nuestra función de pérdida calcula la pérdida promedio por token, sin embargo, al pasar el índice del token `<pad>` como el argumento `ignore_index`, ignoramos la pérdida siempre que el token de destino sea un token de relleno (padding)."
   ]
  },
  {
   "cell_type": "code",
   "execution_count": null,
   "id": "ac8eac57",
   "metadata": {
    "ExecuteTime": {
     "end_time": "2023-08-07T12:10:41.167607Z",
     "start_time": "2023-08-07T12:10:35.024487Z"
    }
   },
   "outputs": [],
   "source": [
    "INPUT_DIM = len(SRC.vocab)\n",
    "OUTPUT_DIM = len(TRG.vocab)\n",
    "ENC_EMB_DIM = 256\n",
    "DEC_EMB_DIM = 256\n",
    "HID_DIM = 512\n",
    "N_LAYERS = 2\n",
    "ENC_DROPOUT = 0.5\n",
    "DEC_DROPOUT = 0.5\n",
    "\n",
    "enc = Encoder(INPUT_DIM, ENC_EMB_DIM, HID_DIM, N_LAYERS, ENC_DROPOUT)\n",
    "dec = Decoder(OUTPUT_DIM, DEC_EMB_DIM, HID_DIM, N_LAYERS, DEC_DROPOUT)\n",
    "\n",
    "model = Seq2Seq(enc, dec, device).to(device)"
   ]
  },
  {
   "cell_type": "code",
   "execution_count": null,
   "id": "04cb6773",
   "metadata": {
    "ExecuteTime": {
     "end_time": "2023-08-07T12:10:41.857202Z",
     "start_time": "2023-08-07T12:10:41.472920Z"
    }
   },
   "outputs": [],
   "source": [
    "def init_weights(m):\n",
    "    for name, param in m.named_parameters():\n",
    "        nn.init.uniform_(param.data, -0.08, 0.08)\n",
    "        \n",
    "model.apply(init_weights)"
   ]
  },
  {
   "cell_type": "code",
   "execution_count": null,
   "id": "f7d5fffe",
   "metadata": {
    "ExecuteTime": {
     "end_time": "2023-08-07T12:10:42.370872Z",
     "start_time": "2023-08-07T12:10:42.339409Z"
    }
   },
   "outputs": [],
   "source": [
    "def count_parameters(model):\n",
    "    return sum(p.numel() for p in model.parameters() if p.requires_grad)\n",
    "\n",
    "print(f'El modelo tiene {count_parameters(model):,} parametros entrenables')"
   ]
  },
  {
   "cell_type": "code",
   "execution_count": null,
   "id": "c927da4e",
   "metadata": {
    "ExecuteTime": {
     "end_time": "2023-08-07T12:10:42.863269Z",
     "start_time": "2023-08-07T12:10:42.847270Z"
    }
   },
   "outputs": [],
   "source": [
    "optimizer = optim.Adam(model.parameters())\n"
   ]
  },
  {
   "cell_type": "code",
   "execution_count": null,
   "id": "1655eb2b",
   "metadata": {
    "ExecuteTime": {
     "end_time": "2023-08-07T12:10:43.263371Z",
     "start_time": "2023-08-07T12:10:43.247371Z"
    }
   },
   "outputs": [],
   "source": [
    "TRG_PAD_IDX = TRG.vocab.stoi[TRG.pad_token]\n",
    "\n",
    "criterion = nn.CrossEntropyLoss(ignore_index = TRG_PAD_IDX)"
   ]
  },
  {
   "cell_type": "markdown",
   "id": "8aae5ea8",
   "metadata": {},
   "source": [
    "A continuación, definiremos nuestro ciclo de entrenamiento.\n",
    "\n",
    "Primero, configuraremos el modelo en \"modo de entrenamiento\" con `model.train()`. Esto activará el dropout (y batch normalization, que no estamos usando) y luego iterará a través de nuestro iterador de datos.\n",
    "\n",
    "Como se indicó anteriormente, nuestro ciclo decodificador comienza en 1, no en 0. Esto significa que el elemento 0 de nuestro tensor de \"salidas\" sigue siendo todo ceros. Así que nuestras `trg` y `outputs` se parecen a:\n",
    "\n",
    "$$\\begin{alinear*}\n",
    "\\text{trg} = [<sos>, &y_1, y_2, y_3, <eos>]\\\\\n",
    "\\text{resultados} = [0, &\\hat{y}_1, \\hat{y}_2, \\hat{y}_3, <eos>]\n",
    "\\end{align*}$$\n",
    "\n",
    "Aquí, cuando calculamos la pérdida, cortamos el primer elemento de cada tensor para obtener:\n",
    "\n",
    "$$\\begin{alinear*}\n",
    "\\text{trg} = [&y_1, y_2, y_3, <eos>]\\\\\n",
    "\\text{salidas} = [&\\hat{y}_1, \\hat{y}_2, \\hat{y}_3, <eos>]\n",
    "\\end{align*}$$\n",
    "\n",
    "En cada iteración:\n",
    "- obtener las oraciones de origen y de destino del lote, $X$ y $Y$\n",
    "- poner a cero los gradientes calculados a partir del último lote\n",
    "- introduzca el origen y el destino en el modelo para obtener el resultado, $\\hat{Y}$\n",
    "- como la función de pérdida solo funciona en entradas 2d con objetivos 1d, necesitamos aplanar cada uno de ellos con `.view`\n",
    "     - cortamos la primera columna de los tensores de salida y destino como se mencionó anteriormente\n",
    "- calcula los gradientes con `loss.backward()`\n",
    "- recorte los gradientes para evitar que exploten (un problema común en RNN)\n",
    "- actualizar los parámetros de nuestro modelo haciendo un paso optimizador\n",
    "- sumar el valor de la pérdida a un total acumulado\n",
    "\n",
    "Finalmente, devolvemos la pérdida que se promedia en todos los batches."
   ]
  },
  {
   "cell_type": "code",
   "execution_count": null,
   "id": "7a2c0aff",
   "metadata": {
    "ExecuteTime": {
     "end_time": "2023-08-07T12:10:43.863678Z",
     "start_time": "2023-08-07T12:10:43.847678Z"
    },
    "deletable": false,
    "nbgrader": {
     "cell_type": "code",
     "checksum": "6ae8296e47d370619304a765919b81b2",
     "grade": false,
     "grade_id": "cell-5e78bda9de1a9bb9",
     "locked": false,
     "schema_version": 3,
     "solution": true,
     "task": false
    }
   },
   "outputs": [],
   "source": [
    "def train(model, iterator, optimizer, criterion, clip):\n",
    "    \n",
    "    model.train()\n",
    "    \n",
    "    epoch_loss = 0\n",
    "    \n",
    "    for i, batch in enumerate(iterator):\n",
    "        \n",
    "        src = batch.src\n",
    "        trg = batch.trg\n",
    "        \n",
    "        # Aprox 1 linea para\n",
    "        # optimizer.zero...\n",
    "        # YOUR CODE HERE\n",
    "        raise NotImplementedError()\n",
    "        \n",
    "        output = model(src, trg)\n",
    "        \n",
    "        #trg = [trg len, batch size]\n",
    "        #output = [trg len, batch size, output dim]\n",
    "        \n",
    "        output_dim = output.shape[-1]\n",
    "        \n",
    "        output = output[1:].view(-1, output_dim)\n",
    "        trg = trg[1:].view(-1)\n",
    "        \n",
    "        #trg = [(trg len - 1) * batch size]\n",
    "        #output = [(trg len - 1) * batch size, output dim]\n",
    "        \n",
    "        # Aprox 1 linea para\n",
    "        # loss = \n",
    "        # YOUR CODE HERE\n",
    "        raise NotImplementedError()\n",
    "        \n",
    "        loss.backward()\n",
    "        \n",
    "        torch.nn.utils.clip_grad_norm_(model.parameters(), clip)\n",
    "        \n",
    "        optimizer.step()\n",
    "        \n",
    "        epoch_loss += loss.item()\n",
    "        \n",
    "    return epoch_loss / len(iterator)"
   ]
  },
  {
   "cell_type": "markdown",
   "id": "8efc0050",
   "metadata": {},
   "source": [
    "Nuestro ciclo de evaluación es similar a nuestro ciclo de entrenamiento, sin embargo, como no estamos actualizando ningún parámetro, no necesitamos pasar un optimizador o un valor de clip.\n",
    "\n",
    "Debemos recordar poner el modelo en modo de evaluación con `model.eval()`. Esto desactivará el dropout (y la batch normalization, si se usa).\n",
    "\n",
    "Usamos el bloque `with torch.no_grad()` para garantizar que no se calculen gradientes dentro del bloque. Esto reduce el consumo de memoria y acelera el proceso.\n",
    "\n",
    "El ciclo de iteración es similar (sin las actualizaciones de parámetros); sin embargo, debemos asegurarnos de desactivar el forzado del maestro para la evaluación. }\n",
    "Esto hará que el modelo solo use sus propias predicciones para hacer más predicciones dentro de una oración, lo que refleja cómo se usaría en la implementación."
   ]
  },
  {
   "cell_type": "code",
   "execution_count": null,
   "id": "75e62dbc",
   "metadata": {
    "ExecuteTime": {
     "end_time": "2023-08-07T12:10:44.241992Z",
     "start_time": "2023-08-07T12:10:44.225998Z"
    }
   },
   "outputs": [],
   "source": [
    "def evaluate(model, iterator, criterion):\n",
    "    \n",
    "    model.eval()\n",
    "    \n",
    "    epoch_loss = 0\n",
    "    \n",
    "    with torch.no_grad():\n",
    "    \n",
    "        for i, batch in enumerate(iterator):\n",
    "\n",
    "            src = batch.src\n",
    "            trg = batch.trg\n",
    "\n",
    "            output = model(src, trg, 0) #turn off teacher forcing\n",
    "\n",
    "            #trg = [trg len, batch size]\n",
    "            #output = [trg len, batch size, output dim]\n",
    "\n",
    "            output_dim = output.shape[-1]\n",
    "            \n",
    "            output = output[1:].view(-1, output_dim)\n",
    "            trg = trg[1:].view(-1)\n",
    "\n",
    "            #trg = [(trg len - 1) * batch size]\n",
    "            #output = [(trg len - 1) * batch size, output dim]\n",
    "\n",
    "            loss = criterion(output, trg)\n",
    "            \n",
    "            epoch_loss += loss.item()\n",
    "        \n",
    "    return epoch_loss / len(iterator)"
   ]
  },
  {
   "cell_type": "markdown",
   "id": "d4e696c7",
   "metadata": {},
   "source": [
    "A continuación, crearemos una función que usaremos para decirnos cuánto tarda una época.\n"
   ]
  },
  {
   "cell_type": "code",
   "execution_count": null,
   "id": "68230473",
   "metadata": {
    "ExecuteTime": {
     "end_time": "2023-08-07T12:10:44.738487Z",
     "start_time": "2023-08-07T12:10:44.726276Z"
    }
   },
   "outputs": [],
   "source": [
    "def epoch_time(start_time, end_time):\n",
    "    elapsed_time = end_time - start_time\n",
    "    elapsed_mins = int(elapsed_time / 60)\n",
    "    elapsed_secs = int(elapsed_time - (elapsed_mins * 60))\n",
    "    return elapsed_mins, elapsed_secs"
   ]
  },
  {
   "cell_type": "markdown",
   "id": "3fe81d58",
   "metadata": {},
   "source": [
    "Ahora sí, ¡empecemos a entrenar a nuestro modelo!\n",
    "\n",
    "En cada época, comprobaremos si nuestro modelo ha logrado la mejor pérdida de validación hasta el momento. Si es así, actualizaremos nuestra mejor pérdida de validación y guardaremos los parámetros de nuestro modelo \n",
    "(llamado `state_dict` en PyTorch). Luego, cuando lleguemos a probar nuestro modelo, usaremos los parámetros guardados para lograr la mejor pérdida de validación.\n",
    "\n",
    "Estaremos mostrando tanto la pérdida como la perplejidad en cada época. Es más fácil ver un cambio en la perplejidad que un cambio en la pérdida ya que los números son mucho mayores.\n",
    "\n",
    "Ademas, cargaremos los parámetros (`state_dict`) que dieron a nuestro modelo la mejor pérdida de validación y ejecutaremos el modelo en el conjunto de prueba."
   ]
  },
  {
   "cell_type": "code",
   "execution_count": null,
   "id": "7b0215ac",
   "metadata": {
    "ExecuteTime": {
     "end_time": "2023-08-07T12:18:56.768139Z",
     "start_time": "2023-08-07T12:10:46.646109Z"
    },
    "deletable": false,
    "nbgrader": {
     "cell_type": "code",
     "checksum": "3abe75f3dec72dbef634b76eecb3cb54",
     "grade": false,
     "grade_id": "cell-c2a7405dde118a6e",
     "locked": false,
     "schema_version": 3,
     "solution": true,
     "task": false
    }
   },
   "outputs": [],
   "source": [
    "# para que pueda definir\n",
    "# N_EPOCHS = 3\n",
    "# CLIP = 1\n",
    "# YOUR CODE HERE\n",
    "raise NotImplementedError()\n",
    "\n",
    "best_valid_loss = float('inf')\n",
    "\n",
    "for epoch in range(N_EPOCHS):\n",
    "    \n",
    "    start_time = time.time()\n",
    "    \n",
    "    train_loss = train(model, train_iterator, optimizer, criterion, CLIP)\n",
    "    valid_loss = evaluate(model, valid_iterator, criterion)\n",
    "    \n",
    "    end_time = time.time()\n",
    "    \n",
    "    epoch_mins, epoch_secs = epoch_time(start_time, end_time)\n",
    "    \n",
    "    if valid_loss < best_valid_loss:\n",
    "        best_valid_loss = valid_loss\n",
    "        torch.save(model.state_dict(), 'tut1-model.pt')\n",
    "    \n",
    "    print(f'Epoch: {epoch+1:02} | Time: {epoch_mins}m {epoch_secs}s')\n",
    "    print(f'\\tTrain Loss: {train_loss:.3f} | Train PPL: {math.exp(train_loss):7.3f}')\n",
    "    print(f'\\t Val. Loss: {valid_loss:.3f} |  Val. PPL: {math.exp(valid_loss):7.3f}')"
   ]
  },
  {
   "cell_type": "code",
   "execution_count": null,
   "id": "71971818",
   "metadata": {
    "ExecuteTime": {
     "end_time": "2023-08-07T22:26:39.976008Z",
     "start_time": "2023-08-07T22:26:39.653650Z"
    },
    "deletable": false,
    "editable": false,
    "nbgrader": {
     "cell_type": "code",
     "checksum": "6f8a150031eecd843b79d77d31d64804",
     "grade": true,
     "grade_id": "cell-b70f37945f5a9981",
     "locked": true,
     "points": 50,
     "schema_version": 3,
     "solution": false,
     "task": false
    }
   },
   "outputs": [],
   "source": [
    "# Se valuara que el loss de training sea menor a 4 y el de validacion a 4.5\n",
    "\n",
    "with tick.marks(25):        \n",
    "    assert compare_numbers(new_representation(train_loss), \"3c3d\", '0x1.0000000000000p+2')\n",
    "    \n",
    "with tick.marks(25):        \n",
    "    assert compare_numbers(new_representation(valid_loss), \"3c3d\", '0x1.2000000000000p+2')"
   ]
  },
  {
   "cell_type": "code",
   "execution_count": null,
   "id": "fe2c01e5",
   "metadata": {
    "ExecuteTime": {
     "end_time": "2023-08-07T12:25:14.650820Z",
     "start_time": "2023-08-07T12:25:12.622015Z"
    }
   },
   "outputs": [],
   "source": [
    "model.load_state_dict(torch.load('tut1-model.pt'))\n",
    "\n",
    "test_loss = evaluate(model, test_iterator, criterion)\n",
    "\n",
    "print(f'| Test Loss: {test_loss:.3f} | Test PPL: {math.exp(test_loss):7.3f} |')"
   ]
  },
  {
   "cell_type": "code",
   "execution_count": 35,
   "id": "a77cbb7c",
   "metadata": {
    "deletable": false,
    "editable": false,
    "nbgrader": {
     "cell_type": "code",
     "checksum": "58fd9a560ef4d1a143e87ce331286237",
     "grade": true,
     "grade_id": "cell-e94ae9af3a4c26ff",
     "locked": true,
     "points": 0,
     "schema_version": 3,
     "solution": false,
     "task": false
    }
   },
   "outputs": [
    {
     "name": "stdout",
     "output_type": "stream",
     "text": [
      "\n",
      "La fraccion de abajo muestra su rendimiento basado en las partes visibles de este laboratorio\n"
     ]
    },
    {
     "data": {
      "text/html": [
       "<!--{id:\"TOTALMARK\",marks:\"26\", available:\"36\"}  -->\n",
       "        \n",
       "        <h1> 26 / 36 marks (72.2%) </h1>\n",
       "        "
      ],
      "text/plain": [
       "<IPython.core.display.HTML object>"
      ]
     },
     "metadata": {},
     "output_type": "display_data"
    }
   ],
   "source": [
    "\n",
    "print()\n",
    "print(\"La fraccion de abajo muestra su rendimiento basado en las partes visibles de este laboratorio\")\n",
    "tick.summarise_marks() # "
   ]
  }
 ],
 "metadata": {
  "hide_input": false,
  "kernelspec": {
   "display_name": "Python 3",
   "language": "python",
   "name": "python3"
  },
  "language_info": {
   "codemirror_mode": {
    "name": "ipython",
    "version": 3
   },
   "file_extension": ".py",
   "mimetype": "text/x-python",
   "name": "python",
   "nbconvert_exporter": "python",
   "pygments_lexer": "ipython3",
   "version": "3.11.9"
  },
  "toc": {
   "base_numbering": 1,
   "nav_menu": {},
   "number_sections": true,
   "sideBar": true,
   "skip_h1_title": false,
   "title_cell": "Table of Contents",
   "title_sidebar": "Contents",
   "toc_cell": false,
   "toc_position": {},
   "toc_section_display": true,
   "toc_window_display": false
  },
  "varInspector": {
   "cols": {
    "lenName": 16,
    "lenType": 16,
    "lenVar": 40
   },
   "kernels_config": {
    "python": {
     "delete_cmd_postfix": "",
     "delete_cmd_prefix": "del ",
     "library": "var_list.py",
     "varRefreshCmd": "print(var_dic_list())"
    },
    "r": {
     "delete_cmd_postfix": ") ",
     "delete_cmd_prefix": "rm(",
     "library": "var_list.r",
     "varRefreshCmd": "cat(var_dic_list()) "
    }
   },
   "types_to_exclude": [
    "module",
    "function",
    "builtin_function_or_method",
    "instance",
    "_Feature"
   ],
   "window_display": false
  }
 },
 "nbformat": 4,
 "nbformat_minor": 5
}
