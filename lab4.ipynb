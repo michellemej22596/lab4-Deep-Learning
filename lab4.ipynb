{
  "cells": [
    {
      "cell_type": "markdown",
      "metadata": {
        "id": "view-in-github",
        "colab_type": "text"
      },
      "source": [
        "<a href=\"https://colab.research.google.com/github/michellemej22596/lab4-Deep-Learning/blob/main/lab4.ipynb\" target=\"_parent\"><img src=\"https://colab.research.google.com/assets/colab-badge.svg\" alt=\"Open In Colab\"/></a>"
      ]
    },
    {
      "cell_type": "markdown",
      "id": "850356b3",
      "metadata": {
        "id": "850356b3"
      },
      "source": [
        "# Laboratorio 4\n",
        "\n",
        "Sean bienvenidos de nuevo al laboratorio 4 de Deep Learning y Sistemas Inteligentes. Así como en los laboratorios pasados, espero que esta ejercitación les sirva para consolidar sus conocimientos en el tema de Encoder-Decoder y AutoEnconders.\n",
        "\n",
        "Para este laboratorio estaremos usando una herramienta para Jupyter Notebooks que facilitará la calificación, no solo asegurándo que ustedes tengan una nota pronto sino también mostrandoles su nota final al terminar el laboratorio.\n",
        "\n",
        "Espero que esta vez si se muestren los *marks*. De nuevo me discupo si algo no sale bien, seguiremos mejorando conforme vayamos iterando. Siempre pido su comprensión y colaboración si algo no funciona como debería.\n",
        "\n",
        "Al igual que en el laboratorio pasado, estaremos usando la librería de Dr John Williamson et al de la University of Glasgow, además de ciertas piezas de código de Dr Bjorn Jensen de su curso de Introduction to Data Science and System de la University of Glasgow para la visualización de sus calificaciones.\n",
        "\n",
        "**NOTA:** Ahora tambien hay una tercera dependecia que se necesita instalar. Ver la celda de abajo por favor\n",
        "\n",
        "<script type=\"text/javascript\" src=\"https://cdn.mathjax.org/mathjax/latest/MathJax.js?config=TeX-AMS-MML_HTMLorMML\">\n",
        "</script>"
      ]
    },
    {
      "cell_type": "code",
      "execution_count": 45,
      "id": "49183e54",
      "metadata": {
        "ExecuteTime": {
          "end_time": "2023-08-06T06:29:54.419993Z",
          "start_time": "2023-08-06T06:29:54.409473Z"
        },
        "colab": {
          "base_uri": "https://localhost:8080/"
        },
        "id": "49183e54",
        "outputId": "d5c10034-b4c2-4402-9e02-0999c57abb60"
      },
      "outputs": [
        {
          "output_type": "stream",
          "name": "stdout",
          "text": [
            "Collecting https://github.com/johnhw/jhwutils/zipball/master\n",
            "  Downloading https://github.com/johnhw/jhwutils/zipball/master\n",
            "\u001b[2K     \u001b[32m-\u001b[0m \u001b[32m119.1 kB\u001b[0m \u001b[31m28.2 MB/s\u001b[0m \u001b[33m0:00:00\u001b[0m\n",
            "\u001b[?25h  Preparing metadata (setup.py) ... \u001b[?25l\u001b[?25hdone\n",
            "Building wheels for collected packages: jhwutils\n",
            "  Building wheel for jhwutils (setup.py) ... \u001b[?25l\u001b[?25hdone\n",
            "  Created wheel for jhwutils: filename=jhwutils-1.3-py3-none-any.whl size=41854 sha256=a9f462639d960aef6c24c42993ee2e4fde8b14796a4d979c57e355ef209b386f\n",
            "  Stored in directory: /tmp/pip-ephem-wheel-cache-qotj_ynh/wheels/a8/e7/e3/9542f8e4159ba644c6acd9f78babbe8489bb72667fb02ac54d\n",
            "Successfully built jhwutils\n",
            "Installing collected packages: jhwutils\n",
            "  Attempting uninstall: jhwutils\n",
            "    Found existing installation: jhwutils 1.3\n",
            "    Uninstalling jhwutils-1.3:\n",
            "      Successfully uninstalled jhwutils-1.3\n",
            "Successfully installed jhwutils-1.3\n",
            "Requirement already satisfied: scikit-image in /usr/local/lib/python3.11/dist-packages (0.25.2)\n",
            "Requirement already satisfied: numpy>=1.24 in /usr/local/lib/python3.11/dist-packages (from scikit-image) (2.0.2)\n",
            "Requirement already satisfied: scipy>=1.11.4 in /usr/local/lib/python3.11/dist-packages (from scikit-image) (1.16.1)\n",
            "Requirement already satisfied: networkx>=3.0 in /usr/local/lib/python3.11/dist-packages (from scikit-image) (3.5)\n",
            "Requirement already satisfied: pillow>=10.1 in /usr/local/lib/python3.11/dist-packages (from scikit-image) (11.3.0)\n",
            "Requirement already satisfied: imageio!=2.35.0,>=2.33 in /usr/local/lib/python3.11/dist-packages (from scikit-image) (2.37.0)\n",
            "Requirement already satisfied: tifffile>=2022.8.12 in /usr/local/lib/python3.11/dist-packages (from scikit-image) (2025.6.11)\n",
            "Requirement already satisfied: packaging>=21 in /usr/local/lib/python3.11/dist-packages (from scikit-image) (25.0)\n",
            "Requirement already satisfied: lazy-loader>=0.4 in /usr/local/lib/python3.11/dist-packages (from scikit-image) (0.4)\n",
            "Collecting https://github.com/AlbertS789/lautils/zipball/master\n",
            "  Downloading https://github.com/AlbertS789/lautils/zipball/master\n",
            "\u001b[2K     \u001b[32m-\u001b[0m \u001b[32m4.2 kB\u001b[0m \u001b[31m?\u001b[0m \u001b[33m0:00:00\u001b[0m\n",
            "\u001b[?25h  Preparing metadata (setup.py) ... \u001b[?25l\u001b[?25hdone\n",
            "Building wheels for collected packages: lautils\n",
            "  Building wheel for lautils (setup.py) ... \u001b[?25l\u001b[?25hdone\n",
            "  Created wheel for lautils: filename=lautils-1.0-py3-none-any.whl size=2826 sha256=c81432a9320245c59bf9b7c95db8d76c1c617d64b2f2318406cbaea12bf6527e\n",
            "  Stored in directory: /tmp/pip-ephem-wheel-cache-s6d1kfws/wheels/1a/50/ba/b3ceb937949f5894a896b68af5b5fdb598e50244141063e4db\n",
            "Successfully built lautils\n",
            "Installing collected packages: lautils\n",
            "  Attempting uninstall: lautils\n",
            "    Found existing installation: lautils 1.0\n",
            "    Uninstalling lautils-1.0:\n",
            "      Successfully uninstalled lautils-1.0\n",
            "Successfully installed lautils-1.0\n"
          ]
        }
      ],
      "source": [
        "# Una vez instalada la librería por favor, recuerden volverla a comentar.\n",
        "!pip install -U --force-reinstall --no-cache https://github.com/johnhw/jhwutils/zipball/master\n",
        "!pip install scikit-image\n",
        "!pip install -U --force-reinstall --no-cache https://github.com/AlbertS789/lautils/zipball/master"
      ]
    },
    {
      "cell_type": "code",
      "execution_count": 46,
      "id": "1c2378f6",
      "metadata": {
        "ExecuteTime": {
          "end_time": "2023-08-07T22:24:37.953793Z",
          "start_time": "2023-08-07T22:24:34.644956Z"
        },
        "id": "1c2378f6"
      },
      "outputs": [],
      "source": [
        "import numpy as np\n",
        "import copy\n",
        "import matplotlib.pyplot as plt\n",
        "import scipy\n",
        "from PIL import Image\n",
        "import os\n",
        "from collections import defaultdict\n",
        "\n",
        "#from IPython import display\n",
        "#from base64 import b64decode\n",
        "\n",
        "\n",
        "# Other imports\n",
        "from unittest.mock import patch\n",
        "from uuid import getnode as get_mac\n",
        "\n",
        "from jhwutils.checkarr import array_hash, check_hash, check_scalar, check_string, array_hash, _check_scalar\n",
        "import jhwutils.image_audio as ia\n",
        "import jhwutils.tick as tick\n",
        "from lautils.gradeutils import new_representation, hex_to_float, compare_numbers, compare_lists_by_percentage, calculate_coincidences_percentage\n",
        "\n",
        "###\n",
        "tick.reset_marks()\n",
        "\n",
        "%matplotlib inline"
      ]
    },
    {
      "cell_type": "code",
      "execution_count": 48,
      "id": "872e6c48",
      "metadata": {
        "ExecuteTime": {
          "end_time": "2023-08-06T06:29:55.567829Z",
          "start_time": "2023-08-06T06:29:55.560965Z"
        },
        "deletable": false,
        "editable": false,
        "nbgrader": {
          "cell_type": "code",
          "checksum": "29e52b805cfebe42903d0379a3f485da",
          "grade": false,
          "grade_id": "cell-95b81aaa3e57306b",
          "locked": true,
          "schema_version": 3,
          "solution": false,
          "task": false
        },
        "id": "872e6c48"
      },
      "outputs": [],
      "source": [
        "# Seeds\n",
        "seed_ = 2023\n",
        "np.random.seed(seed_)"
      ]
    },
    {
      "cell_type": "code",
      "execution_count": 47,
      "id": "d2e571e0",
      "metadata": {
        "ExecuteTime": {
          "end_time": "2023-08-06T06:29:55.581630Z",
          "start_time": "2023-08-06T06:29:55.567829Z"
        },
        "deletable": false,
        "editable": false,
        "nbgrader": {
          "cell_type": "code",
          "checksum": "3aa8961ba46ffd91e0ae666686e967e7",
          "grade": true,
          "grade_id": "cell-b2ae10e4b3198bb2",
          "locked": true,
          "points": 0,
          "schema_version": 3,
          "solution": false,
          "task": false
        },
        "id": "d2e571e0"
      },
      "outputs": [],
      "source": [
        "# Celda escondida para utlidades necesarias, por favor NO edite esta celda\n"
      ]
    },
    {
      "cell_type": "markdown",
      "id": "1a97c050",
      "metadata": {
        "deletable": false,
        "editable": false,
        "nbgrader": {
          "cell_type": "markdown",
          "checksum": "ea27899c011d00466ba84d10df3c8450",
          "grade": false,
          "grade_id": "cell-37707c73cc6055e5",
          "locked": true,
          "schema_version": 3,
          "solution": false,
          "task": false
        },
        "id": "1a97c050"
      },
      "source": [
        "###### Información del estudiante en dos variables\n",
        "\n",
        "* carne_1 : un string con su carne (e.g. \"12281\"), debe ser de al menos 5 caracteres.\n",
        "* firma_mecanografiada_1: un string con su nombre (e.g. \"Albero Suriano\") que se usará para la declaracion que este trabajo es propio (es decir, no hay plagio)\n",
        "* carne_2 : un string con su carne (e.g. \"12281\"), debe ser de al menos 5 caracteres.\n",
        "* firma_mecanografiada_2: un string con su nombre (e.g. \"Albero Suriano\") que se usará para la declaracion que este trabajo es propio (es decir, no hay plagio)"
      ]
    },
    {
      "cell_type": "code",
      "execution_count": 49,
      "id": "e766e448",
      "metadata": {
        "ExecuteTime": {
          "end_time": "2023-08-06T06:29:55.588643Z",
          "start_time": "2023-08-06T06:29:55.581630Z"
        },
        "deletable": false,
        "nbgrader": {
          "cell_type": "code",
          "checksum": "e7c7bd38d70a53f41a59434e097ebf75",
          "grade": false,
          "grade_id": "cell-887917342d3eaa54",
          "locked": false,
          "schema_version": 3,
          "solution": true,
          "task": false
        },
        "id": "e766e448"
      },
      "outputs": [],
      "source": [
        "carne_1 = \"22596\"\n",
        "firma_mecanografiada_1 = \"Michelle Mejía\"\n",
        "carne_2 = \"22376\"\n",
        "firma_mecanografiada_2 = \"Silvia Illescas\""
      ]
    },
    {
      "cell_type": "code",
      "execution_count": 50,
      "id": "4d41a5c0",
      "metadata": {
        "ExecuteTime": {
          "end_time": "2023-08-06T06:29:55.602639Z",
          "start_time": "2023-08-06T06:29:55.588643Z"
        },
        "deletable": false,
        "editable": false,
        "nbgrader": {
          "cell_type": "code",
          "checksum": "6069d482a40ebc901473d44861baeb63",
          "grade": true,
          "grade_id": "cell-4aa33cdbf61b184d",
          "locked": true,
          "points": 0,
          "schema_version": 3,
          "solution": false,
          "task": false
        },
        "colab": {
          "base_uri": "https://localhost:8080/",
          "height": 128
        },
        "id": "4d41a5c0",
        "outputId": "12d2c2de-0be8-40c7-fbf4-c01e3a7c6303"
      },
      "outputs": [
        {
          "output_type": "display_data",
          "data": {
            "text/plain": [
              "<IPython.core.display.HTML object>"
            ],
            "text/html": [
              "\n",
              "        <div class=\"alert alert-box alert-success\">\n",
              "        <h1> <!--{id:\"CORRECTMARK\", marks:\"0\"}--> \n",
              "         ✓ [0 marks] \n",
              "         </h1> </div>"
            ]
          },
          "metadata": {}
        },
        {
          "output_type": "display_data",
          "data": {
            "text/plain": [
              "<IPython.core.display.HTML object>"
            ],
            "text/html": [
              "\n",
              "        <div class=\"alert alert-box alert-success\">\n",
              "        <h1> <!--{id:\"CORRECTMARK\", marks:\"0\"}--> \n",
              "         ✓ [0 marks] \n",
              "         </h1> </div>"
            ]
          },
          "metadata": {}
        }
      ],
      "source": [
        "# Deberia poder ver dos checkmarks verdes [0 marks], que indican que su información básica está OK\n",
        "\n",
        "with tick.marks(0):\n",
        "    assert(len(carne_1)>=5 and len(carne_2)>=5)\n",
        "\n",
        "with tick.marks(0):\n",
        "    assert(len(firma_mecanografiada_1)>0 and len(firma_mecanografiada_2)>0)"
      ]
    },
    {
      "cell_type": "markdown",
      "id": "96c98973",
      "metadata": {
        "deletable": false,
        "editable": false,
        "nbgrader": {
          "cell_type": "markdown",
          "checksum": "1c296a7f61dad354a3388f85563084bc",
          "grade": false,
          "grade_id": "cell-d37c69d4d3712b18",
          "locked": true,
          "schema_version": 3,
          "solution": false,
          "task": false
        },
        "id": "96c98973"
      },
      "source": [
        "## Parte 1 - Word2Vec\n",
        "\n",
        "**Créditos:** La primera parte de este laboratorio está tomado y basado en uno de los post de Musashi (Jacobs-) Harukawa\n",
        "\n",
        "La eficacia de las técnicas de embedding está directamente relacionada con los desafíos iniciales que motivaron los enfoques de texto como datos. Al convertir el lenguaje natural en representaciones numéricas, los métodos de incrustación abren oportunidades para aplicar varias herramientas cuantitativas a fuentes de datos previamente sin explotar.\n",
        "\n",
        "En términos generales, word embedding representa cada palabra en un conjunto dado de textos (corpus) como vectores en un espacio k-dimensional (donde k es elegido por el investigador; más detalles sobre esto más adelante). Estos vectores contienen información valiosa sobre las relaciones de las palabras y su contexto, sirviendo como herramientas esenciales para las tareas posteriores de modelado del lenguaje.\n",
        "\n",
        "Entonces, es entendible que se pregunten\n",
        "\n",
        "* ¿Cómo funciona este proceso de incrustación?\n",
        "* ¿Cuál es la razón subyacente de su éxito?\n",
        "* ¿Cómo podemos determinar su eficacia?\n",
        "\n",
        "Para poder responder las primeras dos preguntas, vamos a implementar este modelo usando PyTorch. Noten que el state-of-the-art ya no solo se usa Word2Vec, como BERT (Bidirectional Encoder Representations from Transformers). Pero siempre es un buen ejercicio entender estos algoritmos.\n",
        "\n",
        "### Paso 1 - DataLoader\n",
        "\n",
        "Como en laboratorios, lo primero que necesitamos es definir un DataLoader. Para esta primera parte estaremos usando el dataset llamado \"tweets_hate_speech_detection\" de HugginFace.\n",
        "\n",
        "Para esto necesitamos una función que separe los textos en listas de tokens. El preprocesamiento para cuando se trabaja con textos debe ser un poco más exhaustivo de lo que haremos en este laboratorio, pero para fines del mismo solamente haremos:\n",
        "\n",
        "1- Pasar a minusculas\n",
        "\n",
        "2- Quitar todos los simbolos diferentes de a-z@#\n",
        "\n",
        "3- Separar en espacios\n",
        "\n",
        "4- Quitar \"stopword\" y tokens vacíos\n",
        "\n",
        "5- Aplicar snowball stemmer al resto (snowball? sí, refieran a la nota de abajo para la explicación rápida)\n",
        "\n",
        "Para esto nos apoyaremos en el paquete de natural language processing toolkit o nltk para los cuates. Entonces, recuerden instalarlo por favor \"pip install nltk\"\n",
        "\n",
        "**Snowball Stemmer** es un modulo en la librería NLTK que implementa la técnica de stemming. ¿Stemming?\n",
        "Stemming es una técnica utilizada para extraer la forma base de las palabras mediante la eliminación de los (pre-post)fijos de ellos. Imaginen que cortan la ramas de un árbol hasta los tallos. Por ejemplo, la raíz de las palabras comiendo, come, comido es comer. Refieran a este [link](https://www.tutorialspoint.com/natural_language_toolkit/natural_language_toolkit_stemming_lemmatization.htm) para más información"
      ]
    },
    {
      "cell_type": "code",
      "execution_count": 18,
      "id": "27b5c601",
      "metadata": {
        "ExecuteTime": {
          "end_time": "2023-08-06T06:29:58.840015Z",
          "start_time": "2023-08-06T06:29:55.602639Z"
        },
        "colab": {
          "base_uri": "https://localhost:8080/",
          "height": 301,
          "referenced_widgets": [
            "4a9b40b6eefd49f38a9a42fb59a94685",
            "a500e27e221b441fb78a9f61d6c4e61c",
            "ac23d6799a564b2b9e9430645880cb17",
            "fc7cabe68c164cf8afa4edcf63679d7b",
            "df264ba5a37347d3b83ac35b2e2afb7c",
            "42de2f379419489faa5be16f8e22b9b6",
            "a8d791cef4774d00a65c3ddd488902ff",
            "9f0a157608ea469c82c3ac468a29f876",
            "071da15077aa477e897530974c448878",
            "1c810ff0f27e476ca8d7537db00add0b",
            "63ed053cd9d841b39175a6ec1d5bf605",
            "e8030f9844f14f9d80b5ace027f467d1",
            "1852ed0a5d9147498153f74efc5e610d",
            "72c3ca9219fe4ec681509101647ef212",
            "e4caa5c6038c4aa1a5b9a197d5819a37",
            "c867b62b8fae4e1f9c7a01697f64abc8",
            "ef4d2671b6454f899e4c59bbb74ad70a",
            "7c5e32ebd3044f219e9fb7fd5582a070",
            "de24025f4d2342f982576c110319077e",
            "7b735aef142249459911b7ca5a02c089",
            "84999e9617bf4d1ba9e8b5a50f479453",
            "2d06a836a1104f8494260aceddeb0a89",
            "da7b215fbe9b474b956055989dafa1cf",
            "7db7164975e449f8ac1af8caaabbc792",
            "7547523ec88b40bb82d3461637da0126",
            "c6db0e350b1a469888f7eb44996247bc",
            "491a60ce044449b7855747f67e7ba8cb",
            "e91380b857724cf09a0633749518e1ae",
            "358d3e2d382748638b955c1426d42494",
            "94bf7b6ecdff4f52a5fdda2bcf161b84",
            "043f050160a544379dc898c486f83950",
            "572a2f370fc843f19759c968961adca6",
            "c2b10caec1c645e794a913fe7ab795c2",
            "cbe712b32bf74a959c2b7d04d8b6032e",
            "6d7f2eb76176487b8ec6fda2b6753f2b",
            "02557696182c4d199ea6346c5ee5ae84",
            "0f0d4d34f78b428398e158ea05359439",
            "f3acb8511f844192b49a504619bb3e57",
            "9ca33dd6012f40ae8557a303b15edb53",
            "03f886970174463b8e2fbb63ac008f2f",
            "b45034468eb14716aa5eaa71ee7e04b3",
            "1419ae2d59f9473181aef928c38b9993",
            "4688940320234d5bb270bab48c9b30ba",
            "ce87c2e1dec24d60a9588dd57717e20f",
            "bd3b9caa6ef64050a86e2d1958d1acc6",
            "c8354779acdf41709eef28954ff4c397",
            "75ee9b7d7fea42beaefa5342ac08ffab",
            "a5549c7831054e42965816685de109ec",
            "7569d68eb05c489e86ac54f07278c7f0",
            "30b2a4812d0b4b04beb43c33145b8ed3",
            "078ba808725341dc9bff76d3784486af",
            "41a3b88b33a5468282a3032d6f43dd7e",
            "ffe349b769de4880a929bcaaf0f83de0",
            "944246ab449d480388e774d1aa5719c8",
            "aeee6d39ae434628a26a97388f559f23"
          ]
        },
        "id": "27b5c601",
        "outputId": "aeef879f-6946-44fa-fb34-cc0b3af70be6"
      },
      "outputs": [
        {
          "output_type": "stream",
          "name": "stderr",
          "text": [
            "/usr/local/lib/python3.11/dist-packages/huggingface_hub/utils/_auth.py:94: UserWarning: \n",
            "The secret `HF_TOKEN` does not exist in your Colab secrets.\n",
            "To authenticate with the Hugging Face Hub, create a token in your settings tab (https://huggingface.co/settings/tokens), set it as secret in your Google Colab and restart your session.\n",
            "You will be able to reuse this secret in all of your notebooks.\n",
            "Please note that authentication is recommended but still optional to access public models or datasets.\n",
            "  warnings.warn(\n"
          ]
        },
        {
          "output_type": "display_data",
          "data": {
            "text/plain": [
              "README.md: 0.00B [00:00, ?B/s]"
            ],
            "application/vnd.jupyter.widget-view+json": {
              "version_major": 2,
              "version_minor": 0,
              "model_id": "4a9b40b6eefd49f38a9a42fb59a94685"
            }
          },
          "metadata": {}
        },
        {
          "output_type": "display_data",
          "data": {
            "text/plain": [
              "train-00000-of-00001.parquet:   0%|          | 0.00/2.07M [00:00<?, ?B/s]"
            ],
            "application/vnd.jupyter.widget-view+json": {
              "version_major": 2,
              "version_minor": 0,
              "model_id": "e8030f9844f14f9d80b5ace027f467d1"
            }
          },
          "metadata": {}
        },
        {
          "output_type": "display_data",
          "data": {
            "text/plain": [
              "test-00000-of-00001.parquet:   0%|          | 0.00/1.11M [00:00<?, ?B/s]"
            ],
            "application/vnd.jupyter.widget-view+json": {
              "version_major": 2,
              "version_minor": 0,
              "model_id": "da7b215fbe9b474b956055989dafa1cf"
            }
          },
          "metadata": {}
        },
        {
          "output_type": "display_data",
          "data": {
            "text/plain": [
              "Generating train split:   0%|          | 0/31962 [00:00<?, ? examples/s]"
            ],
            "application/vnd.jupyter.widget-view+json": {
              "version_major": 2,
              "version_minor": 0,
              "model_id": "cbe712b32bf74a959c2b7d04d8b6032e"
            }
          },
          "metadata": {}
        },
        {
          "output_type": "display_data",
          "data": {
            "text/plain": [
              "Generating test split:   0%|          | 0/17197 [00:00<?, ? examples/s]"
            ],
            "application/vnd.jupyter.widget-view+json": {
              "version_major": 2,
              "version_minor": 0,
              "model_id": "bd3b9caa6ef64050a86e2d1958d1acc6"
            }
          },
          "metadata": {}
        }
      ],
      "source": [
        "import torch\n",
        "import datasets\n",
        "\n",
        "dataset = datasets.load_dataset('tweets_hate_speech_detection')"
      ]
    },
    {
      "cell_type": "code",
      "execution_count": 19,
      "id": "a7ba8aa1",
      "metadata": {
        "colab": {
          "base_uri": "https://localhost:8080/"
        },
        "id": "a7ba8aa1",
        "outputId": "cc7e40e0-184b-4b8b-efb0-bab78512a371"
      },
      "outputs": [
        {
          "output_type": "stream",
          "name": "stderr",
          "text": [
            "[nltk_data] Downloading package stopwords to /root/nltk_data...\n",
            "[nltk_data]   Unzipping corpora/stopwords.zip.\n"
          ]
        },
        {
          "output_type": "execute_result",
          "data": {
            "text/plain": [
              "True"
            ]
          },
          "metadata": {},
          "execution_count": 19
        }
      ],
      "source": [
        "import nltk\n",
        "nltk.download('stopwords')\n"
      ]
    },
    {
      "cell_type": "code",
      "execution_count": 20,
      "id": "9b66ea76",
      "metadata": {
        "ExecuteTime": {
          "end_time": "2023-08-06T06:29:59.004447Z",
          "start_time": "2023-08-06T06:29:58.840015Z"
        },
        "id": "9b66ea76"
      },
      "outputs": [],
      "source": [
        "# Para simplicidad quitemos characteres pero mantegamos @ y #\n",
        "import re\n",
        "from nltk.corpus import stopwords\n",
        "from nltk.stem.snowball import SnowballStemmer\n",
        "\n",
        "ss = SnowballStemmer('english')\n",
        "sw = stopwords.words('english')\n",
        "\n",
        "def split_tokens(row):                             # PASO\n",
        "    row['all_tokens'] = [ss.stem(i) for i in       # 5\n",
        "                     re.split(r\" +\",               # 3\n",
        "                     re.sub(r\"[^a-z@# ]\", \"\",      # 2\n",
        "                            row['tweet'].lower())) # 1\n",
        "                     if (i not in sw) and len(i)]  # 4\n",
        "    return row\n",
        "\n",
        "def split_tokens(row):\n",
        "    # 1- Pasar a minusculas\n",
        "    tweet_lower = row['tweet'].lower()\n",
        "\n",
        "    # 2- Quitar todos los simbolos diferentes de a-z@#\n",
        "    tweet_cleaned = re.sub(r\"[^a-z@# ]\", \"\", tweet_lower)\n",
        "\n",
        "    # 3- Separar en espacios\n",
        "    tweet_tokens = re.split(r\" +\", tweet_cleaned)\n",
        "\n",
        "    # 4- Quitar \"stopword\" y tokens vacíos\n",
        "    # 5- Aplicar snowball stemmer al resto\n",
        "    filtered_tokens = [ss.stem(i) for i in tweet_tokens if (i not in sw) and len(i)]\n",
        "\n",
        "\n",
        "    row['all_tokens'] = filtered_tokens\n",
        "\n",
        "    return row"
      ]
    },
    {
      "cell_type": "code",
      "execution_count": 21,
      "id": "186eecad",
      "metadata": {
        "ExecuteTime": {
          "end_time": "2023-08-06T06:29:59.025478Z",
          "start_time": "2023-08-06T06:29:59.004447Z"
        },
        "colab": {
          "base_uri": "https://localhost:8080/",
          "height": 81,
          "referenced_widgets": [
            "d79f79b4daec46e3b033a86f7c765504",
            "1440881ef80c4d03b2c9fa591f97b051",
            "d55c21b960d14017a472c1b83c5b32c4",
            "dfd3af46c0e4430698f415e7f9797f5f",
            "73caa1a3f52c4efc8e5892cffe425a1f",
            "d8659f16cb1a448cb64c987914f25524",
            "1e50aadcba4f40d0a1bd33f5239c86c8",
            "6a21f74c930f422089cb5c50743e7121",
            "f2e94bbd3fd24c12b03d2c91af556fae",
            "c003bc7191da46e6b5b2b54285d6e57a",
            "8f02477a78994f42b9fdd2549c331832",
            "06d12f1361984eb68d1564a2b4a6e28f",
            "b98e59b20cbe4094ac97bb5cfa6fb690",
            "c843020c2c634dd0a072a22daeb7cc94",
            "1857593493694c109439adf5e88d2152",
            "58bf6e67d77a47c6ac54d7a152e06796",
            "77572681fb554dc3b7aa412da66a5764",
            "78b137ae1c3745d6a4ff3125469fa318",
            "252ec4933ae14e1aa2394f8a8ddf83b9",
            "659c52ea6bb844079d5af1db416bf266",
            "905d4690533d4455adce9fca0ddde758",
            "8fe19813b2f14779a51f1be2f4759c74"
          ]
        },
        "id": "186eecad",
        "outputId": "53b2a500-84f2-4c7d-aa74-3b953b6660cb"
      },
      "outputs": [
        {
          "output_type": "display_data",
          "data": {
            "text/plain": [
              "Map:   0%|          | 0/31962 [00:00<?, ? examples/s]"
            ],
            "application/vnd.jupyter.widget-view+json": {
              "version_major": 2,
              "version_minor": 0,
              "model_id": "d79f79b4daec46e3b033a86f7c765504"
            }
          },
          "metadata": {}
        },
        {
          "output_type": "display_data",
          "data": {
            "text/plain": [
              "Map:   0%|          | 0/17197 [00:00<?, ? examples/s]"
            ],
            "application/vnd.jupyter.widget-view+json": {
              "version_major": 2,
              "version_minor": 0,
              "model_id": "06d12f1361984eb68d1564a2b4a6e28f"
            }
          },
          "metadata": {}
        }
      ],
      "source": [
        "# Determinamos el vocabulario\n",
        "dataset = dataset.map(split_tokens)"
      ]
    },
    {
      "cell_type": "markdown",
      "id": "686a92c6",
      "metadata": {
        "ExecuteTime": {
          "end_time": "2023-08-06T01:41:00.383114Z",
          "start_time": "2023-08-06T01:41:00.367813Z"
        },
        "id": "686a92c6"
      },
      "source": [
        "Ahora podemos crear algunas variables que nos serán útiles en futuros pasos. Además, debemos quitar los tokens que ocurren menos de 10 veces para reducir el tamaño del vocabulario"
      ]
    },
    {
      "cell_type": "code",
      "execution_count": 22,
      "id": "c0837b22",
      "metadata": {
        "ExecuteTime": {
          "end_time": "2023-08-06T06:29:59.486408Z",
          "start_time": "2023-08-06T06:29:59.025478Z"
        },
        "deletable": false,
        "nbgrader": {
          "cell_type": "code",
          "checksum": "0d1e8d5c6985acc13aa5f87a951182e5",
          "grade": false,
          "grade_id": "cell-0305720eb97e48ae",
          "locked": false,
          "schema_version": 3,
          "solution": true,
          "task": false
        },
        "colab": {
          "base_uri": "https://localhost:8080/",
          "height": 81,
          "referenced_widgets": [
            "df4ddfee31b744c8a44b4716fd78e9d5",
            "3ede86ad9a1048f0a9515a44512b4ff9",
            "ca104eaa045a472c875395a40d020714",
            "46abd2516e6044cfa8d7d5134ef1cac0",
            "c6b710175d994d1d92c1f11487268806",
            "30d10d6b265940809e8ad796833263ab",
            "35e7d8d5e777454f9a70b078fd187484",
            "f1871dc57bf444a1ae7e3304c5a3cf22",
            "4642eae07a3d4128954dc7512fc95e41",
            "8b821387f4334eeca727b411b9f36062",
            "40e78bb7d65345f386cef8cd16786345",
            "075cb038c8c6440b84e7d6c4fc9f71d5",
            "1b66ed4f242d4e6cbeb136a29b380e31",
            "5d741d51bccb428f8bd5ef6ba3c6d0b0",
            "24cc27a7be0a4bbf94392f54615a04a9",
            "28cb6d99f9b84545aea62a955b9839a5",
            "20bc345c88374a719f5a025b0689cfd7",
            "8f8b5d1ede6248e78f25ca56138b4cfd",
            "f394b42cfed749c59b0ed5ba35c41b5d",
            "07f19651d6874954ad380559a8049a79",
            "7ab24e3413a8402697f9599d6fa40596",
            "baee808c0d244b388dddff67a715f5f7"
          ]
        },
        "id": "c0837b22",
        "outputId": "16d214c6-bd50-4e2c-bc2b-0115738143d0"
      },
      "outputs": [
        {
          "output_type": "display_data",
          "data": {
            "text/plain": [
              "Map:   0%|          | 0/31962 [00:00<?, ? examples/s]"
            ],
            "application/vnd.jupyter.widget-view+json": {
              "version_major": 2,
              "version_minor": 0,
              "model_id": "df4ddfee31b744c8a44b4716fd78e9d5"
            }
          },
          "metadata": {}
        },
        {
          "output_type": "display_data",
          "data": {
            "text/plain": [
              "Map:   0%|          | 0/17197 [00:00<?, ? examples/s]"
            ],
            "application/vnd.jupyter.widget-view+json": {
              "version_major": 2,
              "version_minor": 0,
              "model_id": "075cb038c8c6440b84e7d6c4fc9f71d5"
            }
          },
          "metadata": {}
        }
      ],
      "source": [
        "from collections import Counter\n",
        "\n",
        "# Total de palabras\n",
        "\n",
        "counts = Counter([i for s in dataset['train']['all_tokens'] for i in s])\n",
        "counts = {k:v for k, v in counts.items() if v>10} # Filtering\n",
        "\n",
        "# Aprox 1 linea para obtener los tokens unicos\n",
        "vocab = list(counts.keys())\n",
        "# Hint: Use list de python\n",
        "# Hint2: Use la variable counts\n",
        "\n",
        "# Aprox 1 linea para determinar el tamaño del vocabulario\n",
        "vocab_size = len(vocab)\n",
        "n_v = len(vocab)  # vocab_size\n",
        "\n",
        "# Aprox 2 lineas para definir\n",
        "#     los diccionarios para ir de un token a un id numérico y viceversa\n",
        "id2tok = {i: tok for i, tok in enumerate(vocab)}  # id -> token\n",
        "tok2id = {tok: i for i, tok in enumerate(vocab)}  # token -> id\n",
        "# Hint: Puede que dict y enumerate le sirva para una definición\n",
        "\n",
        "# Funcion para quitar tokens \"raros\"\n",
        "def remove_rare_tokens(row):\n",
        "    row['tokens'] = [t for t in row['all_tokens'] if t in vocab]\n",
        "    return row\n",
        "\n",
        "dataset = dataset.map(remove_rare_tokens)"
      ]
    },
    {
      "cell_type": "code",
      "execution_count": 23,
      "id": "f1d8a6c3",
      "metadata": {
        "ExecuteTime": {
          "end_time": "2023-08-06T06:29:59.501418Z",
          "start_time": "2023-08-06T06:29:59.487438Z"
        },
        "colab": {
          "base_uri": "https://localhost:8080/"
        },
        "id": "f1d8a6c3",
        "outputId": "b3032170-13f2-4e61-a7e3-0238c49b6759"
      },
      "outputs": [
        {
          "output_type": "execute_result",
          "data": {
            "text/plain": [
              "DatasetDict({\n",
              "    train: Dataset({\n",
              "        features: ['label', 'tweet', 'all_tokens', 'tokens'],\n",
              "        num_rows: 31962\n",
              "    })\n",
              "    test: Dataset({\n",
              "        features: ['label', 'tweet', 'all_tokens', 'tokens'],\n",
              "        num_rows: 17197\n",
              "    })\n",
              "})"
            ]
          },
          "metadata": {},
          "execution_count": 23
        }
      ],
      "source": [
        "dataset"
      ]
    },
    {
      "cell_type": "code",
      "execution_count": 24,
      "id": "d7c79775",
      "metadata": {
        "ExecuteTime": {
          "end_time": "2023-08-06T06:29:59.517184Z",
          "start_time": "2023-08-06T06:29:59.502434Z"
        },
        "deletable": false,
        "editable": false,
        "nbgrader": {
          "cell_type": "code",
          "checksum": "d4cf221bfa47a4f32352470e32c09b04",
          "grade": true,
          "grade_id": "cell-801ad99c67585892",
          "locked": true,
          "points": 18,
          "schema_version": 3,
          "solution": false,
          "task": false
        },
        "colab": {
          "base_uri": "https://localhost:8080/",
          "height": 342
        },
        "id": "d7c79775",
        "outputId": "5b993406-21c9-4117-d7f2-84697511fcdf"
      },
      "outputs": [
        {
          "output_type": "display_data",
          "data": {
            "text/plain": [
              "<IPython.core.display.HTML object>"
            ],
            "text/html": [
              "\n",
              "        <div class=\"alert alert-box alert-success\">\n",
              "        <h1> <!--{id:\"CORRECTMARK\", marks:\"3\"}--> \n",
              "         ✓ [3 marks] \n",
              "         </h1> </div>"
            ]
          },
          "metadata": {}
        },
        {
          "output_type": "display_data",
          "data": {
            "text/plain": [
              "<IPython.core.display.HTML object>"
            ],
            "text/html": [
              "\n",
              "        <div class=\"alert alert-box alert-success\">\n",
              "        <h1> <!--{id:\"CORRECTMARK\", marks:\"3\"}--> \n",
              "         ✓ [3 marks] \n",
              "         </h1> </div>"
            ]
          },
          "metadata": {}
        },
        {
          "output_type": "display_data",
          "data": {
            "text/plain": [
              "<IPython.core.display.HTML object>"
            ],
            "text/html": [
              "\n",
              "        <div class=\"alert alert-box alert-success\">\n",
              "        <h1> <!--{id:\"CORRECTMARK\", marks:\"3\"}--> \n",
              "         ✓ [3 marks] \n",
              "         </h1> </div>"
            ]
          },
          "metadata": {}
        },
        {
          "output_type": "display_data",
          "data": {
            "text/plain": [
              "<IPython.core.display.HTML object>"
            ],
            "text/html": [
              "\n",
              "        <div class=\"alert alert-box alert-success\">\n",
              "        <h1> <!--{id:\"CORRECTMARK\", marks:\"3\"}--> \n",
              "         ✓ [3 marks] \n",
              "         </h1> </div>"
            ]
          },
          "metadata": {}
        },
        {
          "output_type": "display_data",
          "data": {
            "text/plain": [
              "<IPython.core.display.HTML object>"
            ],
            "text/html": [
              "\n",
              "        <div class=\"alert alert-box alert-success\">\n",
              "        <h1> <!--{id:\"CORRECTMARK\", marks:\"3\"}--> \n",
              "         ✓ [3 marks] \n",
              "         </h1> </div>"
            ]
          },
          "metadata": {}
        },
        {
          "output_type": "display_data",
          "data": {
            "text/plain": [
              "<IPython.core.display.HTML object>"
            ],
            "text/html": [
              "\n",
              "        <div class=\"alert alert-box alert-success\">\n",
              "        <h1> <!--{id:\"CORRECTMARK\", marks:\"3\"}--> \n",
              "         ✓ [3 marks] \n",
              "         </h1> </div>"
            ]
          },
          "metadata": {}
        }
      ],
      "source": [
        "with tick.marks(3):\n",
        "    assert(check_scalar(len(counts), '0xf4f4eb83'))\n",
        "\n",
        "with tick.marks(3):\n",
        "    assert(check_scalar(len(id2tok), '0xf4f4eb83'))\n",
        "\n",
        "with tick.marks(3):\n",
        "    assert(check_scalar(len(vocab), '0xf4f4eb83'))\n",
        "\n",
        "with tick.marks(3):\n",
        "    assert(check_scalar(n_v, '0xf4f4eb83'))\n",
        "\n",
        "with tick.marks(3):\n",
        "    assert(check_scalar(tok2id['father'], '0xb44c37ea'))\n",
        "\n",
        "with tick.marks(3):\n",
        "    assert(check_string(id2tok[1], '0xcf2531b8'))"
      ]
    },
    {
      "cell_type": "markdown",
      "id": "67f310c6",
      "metadata": {
        "id": "67f310c6"
      },
      "source": [
        "Ahora, recordemos que Word2Vec ayuda a representar una palabra por su contexto, para ello necesitamos definir una ventana movil (sliding window) que se usa dentro del algoritmo. Esta consiste en tomar cada palabra de una frase, y luego se parea con las N palabras más cercanas (hacia la derecha e izquierda). Por ejemplo, consideremos una frase como \"every good dog does fine\", con una ventana de 2. El resultado sería algo como:\n",
        "\n",
        "`(every, good)`\n",
        "`(every, dog)`\n",
        "`(good, every)`\n",
        "`(good, dog)`\n",
        "`(good, does)`\n",
        "`(dog, every)`\n",
        "`(dog, good)`\n",
        "`...`\n",
        "\n",
        "Y así consecutivamente. La frase u oración, es convertida en un par `target, context` donde el contex es una lista de tokens dentro de la ventana.\n",
        "\n",
        "Luego, definiremos el DataSet usando las clases correspondiente como lo hemos hecho antes."
      ]
    },
    {
      "cell_type": "code",
      "execution_count": 25,
      "id": "6dc3dfec",
      "metadata": {
        "ExecuteTime": {
          "end_time": "2023-08-06T06:29:59.580001Z",
          "start_time": "2023-08-06T06:29:59.520187Z"
        },
        "deletable": false,
        "nbgrader": {
          "cell_type": "code",
          "checksum": "f3be587ebad6002016b9a1210d7dfb2d",
          "grade": false,
          "grade_id": "cell-7d04d85a04e5fc7a",
          "locked": false,
          "schema_version": 3,
          "solution": true,
          "task": false
        },
        "colab": {
          "base_uri": "https://localhost:8080/",
          "height": 81,
          "referenced_widgets": [
            "e811a07d432f44ca932a591b61096447",
            "aabcd826ef024cd881b3c232f784234b",
            "a3404a2b5293444f9b1f687009bfa41e",
            "9760de53dc64412285ef9b5ca8fe04ae",
            "fdc3b1c03c774e73918b356c7e931fa0",
            "17d17d05182c48358fac1cf6719a57cc",
            "e70b91609b244aba90cf0035e6696d9c",
            "8cbf465f0cad4b65b17064605d0eda1f",
            "0dfb050e25ca4ea0828b5df795c74527",
            "f2078d8e3a904c488f8a144d901c5a40",
            "1c23520811e64d4fb9f480367de1ad6f",
            "16f6eec701c74aa1891c36a52c8f8de9",
            "3dc23c8ce7c64b3c865f221d007396a8",
            "d27c88b02acd44b8bb1ef6c66bc63c64",
            "9634ec839c06406da35477a953f10f0d",
            "c54607119f994696a1841d37872ecbe0",
            "1c2e0c6c2cb74bd7a1c7b80c617992fb",
            "a6cee5b41be44e2abace4761045bc217",
            "d0e9bcb50d724682a2f675a7cc4a9286",
            "f500f35fa8cc4e3fbc4c93915501ab61",
            "3779caff3f0a415e8d5c181ddae52c29",
            "218913e1382b47e4be29796a664ed9dd"
          ]
        },
        "id": "6dc3dfec",
        "outputId": "3fea2c06-b482-4b2c-e451-3dbb5ac92459"
      },
      "outputs": [
        {
          "output_type": "display_data",
          "data": {
            "text/plain": [
              "Map:   0%|          | 0/31962 [00:00<?, ? examples/s]"
            ],
            "application/vnd.jupyter.widget-view+json": {
              "version_major": 2,
              "version_minor": 0,
              "model_id": "e811a07d432f44ca932a591b61096447"
            }
          },
          "metadata": {}
        },
        {
          "output_type": "display_data",
          "data": {
            "text/plain": [
              "Map:   0%|          | 0/17197 [00:00<?, ? examples/s]"
            ],
            "application/vnd.jupyter.widget-view+json": {
              "version_major": 2,
              "version_minor": 0,
              "model_id": "16f6eec701c74aa1891c36a52c8f8de9"
            }
          },
          "metadata": {}
        }
      ],
      "source": [
        "def windowizer(row, wsize=3):\n",
        "   \"\"\"\n",
        "   Windowizer function for Word2Vec. Converts sentence to sliding-window\n",
        "   pairs.\n",
        "   \"\"\"\n",
        "   doc = row['tokens']\n",
        "   wsize = 3\n",
        "   out = []\n",
        "   for i, word in enumerate(doc):\n",
        "       target = tok2id[word]\n",
        "       window = [i+j for j in\n",
        "                 range(-wsize, wsize+1, 1)\n",
        "                 if (i+j>=0) &\n",
        "                    (i+j<len(doc)) &\n",
        "                    (j!=0)]\n",
        "\n",
        "       out += [(target, tok2id[doc[w]]) for w in window]\n",
        "   row['moving_window'] = out\n",
        "   return row\n",
        "\n",
        "\n",
        "def windowizer(row, wsize=3):\n",
        "    \"\"\"\n",
        "    Windowizer function for Word2Vec. Converts sentence to sliding-window\n",
        "    pairs.\n",
        "    \"\"\"\n",
        "    doc = row['tokens']\n",
        "    out = []\n",
        "\n",
        "    for i, word in enumerate(doc):\n",
        "        target = tok2id[word]\n",
        "\n",
        "        # 1 - Definimos el rango de la ventana movil\n",
        "        window = [i + j for j in range(-wsize, wsize + 1, 1) if (i + j >= 0) & (i + j < len(doc)) & (j != 0)]\n",
        "\n",
        "        # 2 - Creamos pares de la ventana movil\n",
        "        # Aprox 1 linea\n",
        "        window_pairs = [(target, tok2id[doc[w]]) for w in window]\n",
        "\n",
        "        # 3 - Agregamos los pares a la lista de salida\n",
        "        # Aprox 1 linea\n",
        "        out += window_pairs\n",
        "\n",
        "    # 4 - Asingamos el \"movin_window\" a la fila\n",
        "    row['moving_window'] = out\n",
        "\n",
        "    return row\n",
        "\n",
        "dataset = dataset.map(windowizer)"
      ]
    },
    {
      "cell_type": "code",
      "execution_count": 26,
      "id": "dc357ed4",
      "metadata": {
        "ExecuteTime": {
          "end_time": "2023-08-06T06:30:02.539396Z",
          "start_time": "2023-08-06T06:30:02.518455Z"
        },
        "deletable": false,
        "editable": false,
        "nbgrader": {
          "cell_type": "code",
          "checksum": "726e16c824a2e5b29968e3f1bbab59bf",
          "grade": true,
          "grade_id": "cell-66be60a252d35f9d",
          "locked": true,
          "points": 5,
          "schema_version": 3,
          "solution": false,
          "task": false
        },
        "colab": {
          "base_uri": "https://localhost:8080/",
          "height": 74
        },
        "id": "dc357ed4",
        "outputId": "a1efbd93-b2c9-498f-bdef-fa6a4f75d45a"
      },
      "outputs": [
        {
          "output_type": "display_data",
          "data": {
            "text/plain": [
              "<IPython.core.display.HTML object>"
            ],
            "text/html": [
              "\n",
              "        <div class=\"alert alert-box alert-success\">\n",
              "        <h1> <!--{id:\"CORRECTMARK\", marks:\"5\"}--> \n",
              "         ✓ [5 marks] \n",
              "         </h1> </div>"
            ]
          },
          "metadata": {}
        }
      ],
      "source": [
        "with tick.marks(5):\n",
        "    assert(check_scalar(dataset[\"train\"].num_rows, '0xcd61d16b'))"
      ]
    },
    {
      "cell_type": "code",
      "execution_count": 27,
      "id": "de5447bf",
      "metadata": {
        "ExecuteTime": {
          "end_time": "2023-08-06T06:30:02.555506Z",
          "start_time": "2023-08-06T06:30:02.539396Z"
        },
        "deletable": false,
        "editable": false,
        "nbgrader": {
          "cell_type": "code",
          "checksum": "8c728e41718e96a23aa6a0f9ce216263",
          "grade": false,
          "grade_id": "cell-1d4097cccc4ceee4",
          "locked": true,
          "schema_version": 3,
          "solution": false,
          "task": false
        },
        "id": "de5447bf"
      },
      "outputs": [],
      "source": [
        "#from torch.utils.data import Dataset, DataLoader\n",
        "import torch\n",
        "from torch.utils.data import TensorDataset, Dataset, DataLoader\n",
        "\n",
        "\n",
        "class Word2VecDataset(Dataset):\n",
        "    def __init__(self, dataset, vocab_size, wsize=3):\n",
        "        self.dataset = dataset\n",
        "        self.vocab_size = vocab_size\n",
        "        self.data = [i for s in dataset['moving_window'] for i in s]\n",
        "\n",
        "    def __len__(self):\n",
        "        return len(self.data)\n",
        "\n",
        "    def __getitem__(self, idx):\n",
        "        return self.data[idx][0], self.data[idx][1]\n",
        ""
      ]
    },
    {
      "cell_type": "markdown",
      "id": "f6e73cd3",
      "metadata": {
        "deletable": false,
        "editable": false,
        "nbgrader": {
          "cell_type": "markdown",
          "checksum": "9fa751aadaad5be9ec05ab3c4f6e31a4",
          "grade": false,
          "grade_id": "cell-249f95b6dcc39bde",
          "locked": true,
          "schema_version": 3,
          "solution": false,
          "task": false
        },
        "id": "f6e73cd3"
      },
      "source": [
        "Ahora definiremos dos variables globales, el `BATCH_SIZE` y `N_LOADER_PROCS`.\n",
        "\n",
        "`BATCH_SIZE` es el número de observaciones devueltas con cada llamada. Gran parte de las aceleraciones del procesamiento de GPU provienen de cálculos de matriz por batches masivos. Al elegir el tamaño del batch, recuerden que generalmente se trata de un trade-off entre el uso de VRAM y la velocidad, excepto cuando el Data Loader en sí es el cuello de botella. Para acelerar el DataLoader, podemos pasar un argumento a num_workers para habilitar la paralelización en la preparación y carga de datos."
      ]
    },
    {
      "cell_type": "code",
      "execution_count": 28,
      "id": "2f74f352",
      "metadata": {
        "ExecuteTime": {
          "end_time": "2023-08-06T06:30:05.406175Z",
          "start_time": "2023-08-06T06:30:02.556990Z"
        },
        "deletable": false,
        "editable": false,
        "nbgrader": {
          "cell_type": "code",
          "checksum": "de6b1867f45bd4673c2fe7c464049ae0",
          "grade": false,
          "grade_id": "cell-12cd6ba3b1e9f944",
          "locked": true,
          "schema_version": 3,
          "solution": false,
          "task": false
        },
        "colab": {
          "base_uri": "https://localhost:8080/"
        },
        "id": "2f74f352",
        "outputId": "34f332b3-8d6e-47bc-9f52-dfcd1dc3474d"
      },
      "outputs": [
        {
          "output_type": "stream",
          "name": "stderr",
          "text": [
            "/usr/local/lib/python3.11/dist-packages/torch/utils/data/dataloader.py:624: UserWarning: This DataLoader will create 5 worker processes in total. Our suggested max number of worker in current system is 2, which is smaller than what this DataLoader is going to create. Please be aware that excessive worker creation might get DataLoader running slow or even freeze, lower the worker number to avoid potential slowness/freeze if necessary.\n",
            "  warnings.warn(\n"
          ]
        }
      ],
      "source": [
        "\n",
        "# Create an instance of the Word2VecDataset\n",
        "word2vec_dataset_ = Word2VecDataset(dataset['train'], vocab_size=n_v)\n",
        "\n",
        "# Convert the Word2VecDataset into a TensorDataset\n",
        "word2vec_dataset = TensorDataset(torch.tensor(word2vec_dataset_.data, dtype=torch.long))\n",
        "\n",
        "BATCH_SIZE = 2**16\n",
        "N_LOADER_PROCS = 5\n",
        "\n",
        "dataloader_train = DataLoader(word2vec_dataset, batch_size=BATCH_SIZE, shuffle=True, num_workers=N_LOADER_PROCS)"
      ]
    },
    {
      "cell_type": "markdown",
      "id": "c53220df",
      "metadata": {
        "id": "c53220df"
      },
      "source": [
        "### Paso 2 - Construyendo la Red\n",
        "La arquitectura que usaremos para esta ocasión será la dada por una versión de Word2Vec, esta consiste en:\n",
        "* Tres capas: Input, hidden y output\n",
        "* Tanto el tamaño de la input como la output son del tamaño del vocabulario. Pero la hidden es un poco más pequeña\n",
        "* Todas son Fully Connected con Funciones de Activación Lineales\n",
        "\n",
        "Como mencionamos en clase hay dos variantes\n",
        "* CBOW (Continuous Bag of Words): El enfoque está dado en las palabras de contexto para dar énfasis a la palabra central. O en otras palabras, las palabras de contexto son el input y la palabra central son el output (Espero que esto haga más sentido de la explicación en clase)\n",
        "* Skip-gram: La palabra central es el input, y las de contexto son la salida.\n",
        "\n",
        "Definamos CBOW para este laboratorio...\n",
        "\n",
        "Pero antes, debemos encodear nuestras palabras (otra vez como lo hicimos en el laboratorio pasado), esta implementación es similar a la que hicimos anteriormente, pero observen el uso de tensores."
      ]
    },
    {
      "cell_type": "code",
      "execution_count": 29,
      "id": "b7927273",
      "metadata": {
        "ExecuteTime": {
          "end_time": "2023-08-06T06:30:05.419716Z",
          "start_time": "2023-08-06T06:30:05.412780Z"
        },
        "deletable": false,
        "nbgrader": {
          "cell_type": "code",
          "checksum": "79bcbc0e794ad778277522e74da6198f",
          "grade": false,
          "grade_id": "cell-719345b22d8a6412",
          "locked": false,
          "schema_version": 3,
          "solution": true,
          "task": false
        },
        "id": "b7927273"
      },
      "outputs": [],
      "source": [
        "from torch import nn\n",
        "\n",
        "size = 20\n",
        "input_ = 7\n",
        "\n",
        "def one_hot_encode(input_, size):\n",
        "    vec = torch.zeros(size).float()\n",
        "    # Aprox 1 linea para\n",
        "    vec[input_] = 1.0\n",
        "    return vec\n",
        "\n",
        "ohe = one_hot_encode(input_, size)\n",
        "linear_layer = nn.Linear(size, 1, bias=False)"
      ]
    },
    {
      "cell_type": "code",
      "execution_count": 30,
      "id": "afda896e",
      "metadata": {
        "ExecuteTime": {
          "end_time": "2023-08-06T06:30:05.426787Z",
          "start_time": "2023-08-06T06:30:05.419716Z"
        },
        "deletable": false,
        "editable": false,
        "nbgrader": {
          "cell_type": "code",
          "checksum": "b9076aa87b82f56230dfbf2cec1760ad",
          "grade": true,
          "grade_id": "cell-87b60412b0ba69d1",
          "locked": true,
          "points": 3,
          "schema_version": 3,
          "solution": false,
          "task": false
        },
        "colab": {
          "base_uri": "https://localhost:8080/",
          "height": 74
        },
        "id": "afda896e",
        "outputId": "fe2dc2e5-ef02-49fb-9ea4-0e59e3b6a707"
      },
      "outputs": [
        {
          "output_type": "display_data",
          "data": {
            "text/plain": [
              "<IPython.core.display.HTML object>"
            ],
            "text/html": [
              "\n",
              "        <div class=\"alert alert-box alert-success\">\n",
              "        <h1> <!--{id:\"CORRECTMARK\", marks:\"3\"}--> \n",
              "         ✓ [3 marks] \n",
              "         </h1> </div>"
            ]
          },
          "metadata": {}
        }
      ],
      "source": [
        "with tick.marks(3):\n",
        "    assert int(ohe[7])  == 1"
      ]
    },
    {
      "cell_type": "markdown",
      "id": "245325be",
      "metadata": {
        "id": "245325be"
      },
      "source": [
        "Ahora, sobreescribamos el comportamiento natural de la inicializacion de pesos, para que estos en lugar de iniciar aleatoriamente, sean valores de 0 - size. Esto lo hacemos dentro `torch.no_grad()` para quitar el tracking de la gradiente (recuerden que cuando usamos los tensores de PyTorch la gradiente se le hace tracking, es decir que se almacenan para hacer la diferenciar la pérdida con respecto de cada parametro en el modelo. Debido a que en esta ocasion lo estamos seteando manualmente no queremos que se almacene y sea considerado en futuras backpropagations.\n",
        "\n",
        "Observen como al pasar el vector encodeado a la capa nos devuelve efectivamente el número que corresponde en `linear_layer(ohe)`"
      ]
    },
    {
      "cell_type": "code",
      "execution_count": 31,
      "id": "8fbbf1cb",
      "metadata": {
        "ExecuteTime": {
          "end_time": "2023-08-06T06:30:05.440557Z",
          "start_time": "2023-08-06T06:30:05.426787Z"
        },
        "deletable": false,
        "editable": false,
        "nbgrader": {
          "cell_type": "code",
          "checksum": "7d26f4b5566a553c62c142900b507a20",
          "grade": false,
          "grade_id": "cell-4c85a0ffbffa8e55",
          "locked": true,
          "schema_version": 3,
          "solution": false,
          "task": false
        },
        "colab": {
          "base_uri": "https://localhost:8080/"
        },
        "id": "8fbbf1cb",
        "outputId": "9ed44117-fca4-4108-b59e-b8a3e9a65643"
      },
      "outputs": [
        {
          "output_type": "stream",
          "name": "stdout",
          "text": [
            "Parameter containing:\n",
            "tensor([[ 0.,  1.,  2.,  3.,  4.,  5.,  6.,  7.,  8.,  9., 10., 11., 12., 13.,\n",
            "         14., 15., 16., 17., 18., 19.]], requires_grad=True)\n",
            "tensor([7.], grad_fn=<SqueezeBackward4>)\n"
          ]
        }
      ],
      "source": [
        "with torch.no_grad():\n",
        "    linear_layer.weight = nn.Parameter(\n",
        "        torch.arange(size, dtype=torch.float).reshape(linear_layer.weight.shape))\n",
        "\n",
        "print(linear_layer.weight)\n",
        "print(linear_layer(ohe))"
      ]
    },
    {
      "cell_type": "markdown",
      "id": "56a7ee35",
      "metadata": {
        "deletable": false,
        "editable": false,
        "nbgrader": {
          "cell_type": "markdown",
          "checksum": "d9a663115c0df77e2c807969aac5ba8e",
          "grade": false,
          "grade_id": "cell-71d644e296aee563",
          "locked": true,
          "schema_version": 3,
          "solution": false,
          "task": false
        },
        "id": "56a7ee35"
      },
      "source": [
        "Ya que tenemos un mejor entendimiento de este tipo de layers en Word2Vec, debemos saber que PyTorch tiene una implementación más eficiente usando `nn.Embedding`, el cual toma los índices de input y regresa el peso del borde correspondiente a ese índice.\n",
        "\n",
        "Un equivalente a lo que hemos hecho anteriormente sería lo que se presenta en la siguiente celda.\n",
        "\n",
        "Noten como volvemos a obtener un tensor similar al que obtuvimos antes."
      ]
    },
    {
      "cell_type": "code",
      "execution_count": 32,
      "id": "c53403aa",
      "metadata": {
        "ExecuteTime": {
          "end_time": "2023-08-06T06:30:05.463215Z",
          "start_time": "2023-08-06T06:30:05.440557Z"
        },
        "deletable": false,
        "editable": false,
        "nbgrader": {
          "cell_type": "code",
          "checksum": "bc320f7bb25be19e4e0033321279d77c",
          "grade": false,
          "grade_id": "cell-bf93477666a5691e",
          "locked": true,
          "schema_version": 3,
          "solution": false,
          "task": false
        },
        "colab": {
          "base_uri": "https://localhost:8080/"
        },
        "id": "c53403aa",
        "outputId": "d6d301d1-b90d-4d25-af85-1f59d2cd7b1f"
      },
      "outputs": [
        {
          "output_type": "stream",
          "name": "stdout",
          "text": [
            "Parameter containing:\n",
            "tensor([[ 0.],\n",
            "        [ 1.],\n",
            "        [ 2.],\n",
            "        [ 3.],\n",
            "        [ 4.],\n",
            "        [ 5.],\n",
            "        [ 6.],\n",
            "        [ 7.],\n",
            "        [ 8.],\n",
            "        [ 9.],\n",
            "        [10.],\n",
            "        [11.],\n",
            "        [12.],\n",
            "        [13.],\n",
            "        [14.],\n",
            "        [15.],\n",
            "        [16.],\n",
            "        [17.],\n",
            "        [18.],\n",
            "        [19.]], requires_grad=True)\n",
            "tensor([7.], grad_fn=<EmbeddingBackward0>)\n"
          ]
        }
      ],
      "source": [
        "embedding_layer = nn.Embedding(size, 1)\n",
        "\n",
        "with torch.no_grad():\n",
        "    embedding_layer.weight = nn.Parameter(\n",
        "        torch.arange(size, dtype=torch.float\n",
        "        ).reshape(embedding_layer.weight.shape))\n",
        "\n",
        "print(embedding_layer.weight)\n",
        "print(embedding_layer(torch.tensor(input_)))"
      ]
    },
    {
      "cell_type": "markdown",
      "id": "7610c2f8",
      "metadata": {
        "deletable": false,
        "editable": false,
        "nbgrader": {
          "cell_type": "markdown",
          "checksum": "3bcc21a605eb207c161b41a6ded571ad",
          "grade": false,
          "grade_id": "cell-508a31edfe7f0cfc",
          "locked": true,
          "schema_version": 3,
          "solution": false,
          "task": false
        },
        "id": "7610c2f8"
      },
      "source": [
        "Con esto en consideración, es momento de implementar nuestro modelo Word2Vec.\n",
        "\n",
        "Noten el embedding_size, este corresponde a la cantidad de representaciones de cada palabra, como dijimos en clase, esto sería la cantidad de funciones de activaciones con las que trabajaremos.\n",
        "\n",
        "Además, consideren las siguientes explicaciones\n",
        "\n",
        "`self.embed`: Es una capa de embedding para convertir la entrada (el índice del token de centro/contexto) en la codificación one-hot, y luego recuperar los pesos correspondientes a estos índices en la capa hidden de menor dimensión.\n",
        "\n",
        "`self.expand`: Es una capa lineal para predecir la probabilidad de una palabra de centro/contexto dada la hidden layer. Deshabilitamos el bias (la intercepción) porque cambiamos la escala de nuestras predicciones de todos modos.\n",
        "\n",
        "`logits`: Este vuelve a expandir la capa hidden para hacer predicciones. Estas predicciones sin procesar deben volver a escalarse con softmax, pero omitimos este paso aquí, ya que PyTorch implementa los pasos relevantes en la Cross Entropy loss."
      ]
    },
    {
      "cell_type": "code",
      "execution_count": 33,
      "id": "159c2e13",
      "metadata": {
        "ExecuteTime": {
          "end_time": "2023-08-06T06:30:05.479149Z",
          "start_time": "2023-08-06T06:30:05.465210Z"
        },
        "id": "159c2e13"
      },
      "outputs": [],
      "source": [
        "class Word2Vec(nn.Module):\n",
        "    def __init__(self, vocab_size, embedding_size):\n",
        "        super().__init__()\n",
        "        self.embed = nn.Embedding(vocab_size, embedding_size)\n",
        "        self.expand = nn.Linear(embedding_size, vocab_size, bias=False)\n",
        "\n",
        "    def forward(self, input_):\n",
        "        # Pasamos el input a una representación más pequeña\n",
        "        hidden = self.embed(input_)\n",
        "        # Expandemos hacia las predicciones\n",
        "        logits = self.expand(hidden)\n",
        "        return logits"
      ]
    },
    {
      "cell_type": "markdown",
      "id": "9b549e68",
      "metadata": {
        "deletable": false,
        "editable": false,
        "nbgrader": {
          "cell_type": "markdown",
          "checksum": "d2424728d269e4533722e107620b3f37",
          "grade": false,
          "grade_id": "cell-821b7f6886ebdd0d",
          "locked": true,
          "schema_version": 3,
          "solution": false,
          "task": false
        },
        "id": "9b549e68"
      },
      "source": [
        "### Paso 3 - Entrenamiento (Training)\n",
        "\n",
        "\n",
        "El entrenamiento en el contexto de las redes neuronales significa hacer predicciones repetidamente utilizando las observaciones en el conjunto de datos y luego ajustar los parámetros para corregir el error en las predicciones.\n",
        "\n",
        "Debido a que no queremos que la red aprenda perfectamente la predicción más reciente mientras olvida todas las demás predicciones, generalmente le damos un \"learning rate\", que es una penalización en el ajuste de pérdida para evitar que se ajuste solo a la observación más reciente. (Recuerden como funciona backpropgation)\n",
        "\n",
        "Cuanto más tiempo entrenemos la red, con mayor perfección aprenderá los datos de entrenamiento, pero a menudo esto conlleva el riesgo de overfitting y no poder generalizar a datos no vistos. Sin embargo, dado que con Word2Vec nuestro objetivo no es inferir datos no vistos, sino describir datos \"vistos\", ¿cuál creen que es la implicación del overfitting en este tipo de modelos? (Más adelante se deja nuevamente la pregunta para que sea respondida)"
      ]
    },
    {
      "cell_type": "code",
      "execution_count": 34,
      "id": "0b5522dc",
      "metadata": {
        "ExecuteTime": {
          "end_time": "2023-08-06T22:14:29.330767Z",
          "start_time": "2023-08-06T22:14:29.296636Z"
        },
        "deletable": false,
        "editable": false,
        "nbgrader": {
          "cell_type": "code",
          "checksum": "1a82d8c2a18f8548fa5a4b5765fb2fc1",
          "grade": false,
          "grade_id": "cell-588eec0490d68d93",
          "locked": true,
          "schema_version": 3,
          "solution": false,
          "task": false
        },
        "colab": {
          "base_uri": "https://localhost:8080/"
        },
        "id": "0b5522dc",
        "outputId": "71b255a2-dd5b-4d0d-d81c-0e8706cd4681"
      },
      "outputs": [
        {
          "output_type": "stream",
          "name": "stdout",
          "text": [
            "Using: cuda\n"
          ]
        }
      ],
      "source": [
        "# Algunos hyper parametros\n",
        "\n",
        "# Demasiado pequeño pero es solo para fines de aprendizaje\n",
        "EMBED_SIZE = 5\n",
        "model = Word2Vec(n_v, EMBED_SIZE)\n",
        "\n",
        "# Traten de usar ya el CUDA si pueden por favor\n",
        "device = torch.device('cuda') if torch.cuda.is_available() else torch.device('cpu')\n",
        "print(\"Using:\",device)\n",
        "model.to(device)\n",
        "\n",
        "# Otros parametros para el training\n",
        "LR = 3e-4\n",
        "EPOCHS = 3\n",
        "loss_fn = nn.CrossEntropyLoss()\n",
        "# Noten el tipo de optimizador que estamos usando :)\n",
        "optimizer = torch.optim.AdamW(model.parameters(), lr=LR)"
      ]
    },
    {
      "cell_type": "code",
      "execution_count": 35,
      "metadata": {
        "ExecuteTime": {
          "end_time": "2023-08-06T22:14:29.330767Z",
          "start_time": "2023-08-06T22:14:29.296636Z"
        },
        "deletable": false,
        "editable": false,
        "nbgrader": {
          "cell_type": "code",
          "checksum": "1a82d8c2a18f8548fa5a4b5765fb2fc1",
          "grade": false,
          "grade_id": "cell-588eec0490d68d93",
          "locked": true,
          "schema_version": 3,
          "solution": false,
          "task": false
        },
        "colab": {
          "base_uri": "https://localhost:8080/"
        },
        "outputId": "1599bb6e-0136-4670-dafd-971d2a42aba0",
        "id": "RmJ0wi-31XLv"
      },
      "outputs": [
        {
          "output_type": "stream",
          "name": "stdout",
          "text": [
            "Using: cuda\n"
          ]
        }
      ],
      "source": [
        "# Algunos hyper parametros\n",
        "\n",
        "# Demasiado pequeño pero es solo para fines de aprendizaje\n",
        "EMBED_SIZE = 5\n",
        "model = Word2Vec(n_v, EMBED_SIZE)\n",
        "\n",
        "# Traten de usar ya el CUDA si pueden por favor\n",
        "device = torch.device('cuda') if torch.cuda.is_available() else torch.device('cpu')\n",
        "print(\"Using:\",device)\n",
        "model.to(device)\n",
        "\n",
        "# Otros parametros para el training\n",
        "LR = 3e-4\n",
        "EPOCHS = 3\n",
        "loss_fn = nn.CrossEntropyLoss()\n",
        "# Noten el tipo de optimizador que estamos usando :)\n",
        "optimizer = torch.optim.AdamW(model.parameters(), lr=LR)"
      ],
      "id": "RmJ0wi-31XLv"
    },
    {
      "cell_type": "code",
      "source": [
        "# Algunos hyper parametros\n",
        "\n",
        "# Demasiado pequeño pero es solo para fines de aprendizaje\n",
        "EMBED_SIZE = 5\n",
        "model = Word2Vec(n_v, EMBED_SIZE)\n",
        "\n",
        "# Traten de usar ya el CUDA si pueden por favor\n",
        "device = torch.device('cuda') if torch.cuda.is_available() else torch.device('cpu')\n",
        "print(\"Using:\",device)\n",
        "model.to(device)\n",
        "\n",
        "# Otros parametros para el training\n",
        "LR = 3e-4\n",
        "EPOCHS = 3\n",
        "loss_fn = nn.CrossEntropyLoss()\n",
        "# Noten el tipo de optimizador que estamos usando :)\n",
        "optimizer = torch.optim.AdamW(model.parameters(), lr=LR)"
      ],
      "metadata": {
        "colab": {
          "base_uri": "https://localhost:8080/"
        },
        "id": "exAt4-Fh11on",
        "outputId": "cc9224c1-ee79-4354-933e-df3a86e8308f"
      },
      "id": "exAt4-Fh11on",
      "execution_count": 39,
      "outputs": [
        {
          "output_type": "stream",
          "name": "stdout",
          "text": [
            "Using: cuda\n"
          ]
        }
      ]
    },
    {
      "cell_type": "code",
      "execution_count": 40,
      "id": "784bfe0c",
      "metadata": {
        "ExecuteTime": {
          "end_time": "2023-08-06T22:56:25.851356Z",
          "start_time": "2023-08-06T22:14:39.282185Z"
        },
        "deletable": false,
        "nbgrader": {
          "cell_type": "code",
          "checksum": "469a6891ae3c2d3ef10bfe706471264f",
          "grade": false,
          "grade_id": "cell-8a89fd3a288c223a",
          "locked": false,
          "schema_version": 3,
          "solution": true,
          "task": false
        },
        "colab": {
          "base_uri": "https://localhost:8080/"
        },
        "id": "784bfe0c",
        "outputId": "d2de72a1-d6d7-40ca-81cc-a1f1989ca9b4"
      },
      "outputs": [
        {
          "output_type": "stream",
          "name": "stdout",
          "text": [
            "Working with batch 0\n",
            "Done working with element 0\n",
            "Done working with element 6500\n",
            "Done working with element 13000\n",
            "Done working with element 19500\n",
            "Done working with element 26000\n",
            "Done working with element 32500\n",
            "Done working with element 39000\n",
            "Done working with element 45500\n",
            "Done working with element 52000\n",
            "Done working with element 58500\n",
            "Done working with element 65000\n",
            "Working with batch 1\n",
            "Done working with element 0\n",
            "Done working with element 6500\n",
            "Done working with element 13000\n",
            "Done working with element 19500\n",
            "Done working with element 26000\n",
            "Done working with element 32500\n",
            "Done working with element 39000\n",
            "Done working with element 45500\n",
            "Done working with element 52000\n",
            "Done working with element 58500\n",
            "Done working with element 65000\n",
            "Working with batch 2\n",
            "Done working with element 0\n",
            "Done working with element 6500\n",
            "Done working with element 13000\n",
            "Done working with element 19500\n",
            "Done working with element 26000\n",
            "Done working with element 32500\n",
            "Done working with element 39000\n",
            "Done working with element 45500\n",
            "Done working with element 52000\n",
            "Done working with element 58500\n",
            "Done working with element 65000\n",
            "Working with batch 3\n",
            "Done working with element 0\n",
            "Done working with element 6500\n",
            "Done working with element 13000\n",
            "Done working with element 19500\n",
            "Done working with element 26000\n",
            "Done working with element 32500\n",
            "Done working with element 39000\n",
            "Done working with element 45500\n",
            "Done working with element 52000\n",
            "Done working with element 58500\n",
            "Done working with element 65000\n",
            "Working with batch 4\n",
            "Done working with element 0\n",
            "Done working with element 6500\n",
            "Done working with element 13000\n",
            "Done working with element 19500\n",
            "Done working with element 26000\n",
            "Done working with element 32500\n",
            "Done working with element 39000\n",
            "Done working with element 45500\n",
            "Done working with element 52000\n",
            "Done working with element 58500\n",
            "Done working with element 65000\n",
            "Working with batch 5\n",
            "Done working with element 0\n",
            "Done working with element 6500\n",
            "Done working with element 13000\n",
            "Done working with element 19500\n",
            "Done working with element 26000\n",
            "Done working with element 32500\n",
            "Done working with element 39000\n",
            "Done working with element 45500\n",
            "Done working with element 52000\n",
            "Done working with element 58500\n",
            "Done working with element 65000\n",
            "Working with batch 6\n",
            "Done working with element 0\n",
            "Done working with element 6500\n",
            "Done working with element 13000\n",
            "Done working with element 19500\n",
            "Done working with element 26000\n",
            "Done working with element 32500\n",
            "Done working with element 39000\n",
            "Done working with element 45500\n",
            "Done working with element 52000\n",
            "Done working with element 58500\n",
            "Done working with element 65000\n",
            "Working with batch 7\n",
            "Done working with element 0\n",
            "Done working with element 6500\n",
            "Done working with element 13000\n",
            "Done working with element 19500\n",
            "Done working with element 26000\n",
            "Done working with element 32500\n",
            "Done working with element 39000\n",
            "Done working with element 45500\n",
            "Done working with element 52000\n",
            "Done working with element 58500\n",
            "Done working with element 65000\n",
            "Working with batch 8\n",
            "Done working with element 0\n",
            "Done working with element 6500\n",
            "Done working with element 13000\n",
            "Done working with element 19500\n",
            "Done working with element 26000\n",
            "Done working with element 32500\n",
            "Done working with element 39000\n",
            "Done working with element 45500\n",
            "Done working with element 52000\n",
            "Done working with element 58500\n",
            "Done working with element 65000\n",
            "Working with batch 9\n",
            "Done working with element 0\n",
            "Done working with element 6500\n",
            "Done working with element 13000\n",
            "Done working with element 19500\n",
            "Done working with element 26000\n",
            "Done working with element 32500\n",
            "Done working with element 39000\n",
            "Done working with element 45500\n",
            "Done working with element 52000\n",
            "Done working with element 58500\n",
            "Done working with element 65000\n",
            "Working with batch 10\n",
            "Done working with element 0\n",
            "Done working with element 6500\n",
            "Done working with element 13000\n",
            "Done working with element 19500\n",
            "Done working with element 26000\n",
            "Done working with element 32500\n",
            "Done working with element 39000\n",
            "Done working with element 45500\n",
            "Done working with element 52000\n",
            "Done working with element 58500\n",
            "Done working with element 65000\n",
            "Working with batch 11\n",
            "Done working with element 0\n",
            "Done working with element 6500\n",
            "Done working with element 13000\n",
            "Done working with element 19500\n",
            "Done working with element 26000\n",
            "Done working with element 32500\n",
            "Done working with element 39000\n",
            "Done working with element 45500\n",
            "Done working with element 52000\n",
            "Done working with element 58500\n",
            "Done working with element 65000\n",
            "Working with batch 12\n",
            "Done working with element 0\n",
            "Done working with element 6500\n",
            "Done working with element 13000\n",
            "Done working with element 19500\n",
            "Done working with element 26000\n",
            "Done working with element 32500\n",
            "Done working with element 39000\n",
            "Done working with element 45500\n",
            "Done working with element 52000\n",
            "Done working with element 58500\n",
            "Done working with element 65000\n",
            "Working with batch 13\n",
            "Done working with element 0\n",
            "Epoca 0, loss: 7.0919357324267\n",
            "Working with batch 0\n",
            "Done working with element 0\n",
            "Done working with element 6500\n",
            "Done working with element 13000\n",
            "Done working with element 19500\n",
            "Done working with element 26000\n",
            "Done working with element 32500\n",
            "Done working with element 39000\n",
            "Done working with element 45500\n",
            "Done working with element 52000\n",
            "Done working with element 58500\n",
            "Done working with element 65000\n",
            "Working with batch 1\n",
            "Done working with element 0\n",
            "Done working with element 6500\n",
            "Done working with element 13000\n",
            "Done working with element 19500\n",
            "Done working with element 26000\n",
            "Done working with element 32500\n",
            "Done working with element 39000\n",
            "Done working with element 45500\n",
            "Done working with element 52000\n",
            "Done working with element 58500\n",
            "Done working with element 65000\n",
            "Working with batch 2\n",
            "Done working with element 0\n",
            "Done working with element 6500\n",
            "Done working with element 13000\n",
            "Done working with element 19500\n",
            "Done working with element 26000\n",
            "Done working with element 32500\n",
            "Done working with element 39000\n",
            "Done working with element 45500\n",
            "Done working with element 52000\n",
            "Done working with element 58500\n",
            "Done working with element 65000\n",
            "Working with batch 3\n",
            "Done working with element 0\n",
            "Done working with element 6500\n",
            "Done working with element 13000\n",
            "Done working with element 19500\n",
            "Done working with element 26000\n",
            "Done working with element 32500\n",
            "Done working with element 39000\n",
            "Done working with element 45500\n",
            "Done working with element 52000\n",
            "Done working with element 58500\n",
            "Done working with element 65000\n",
            "Working with batch 4\n",
            "Done working with element 0\n",
            "Done working with element 6500\n",
            "Done working with element 13000\n",
            "Done working with element 19500\n",
            "Done working with element 26000\n",
            "Done working with element 32500\n",
            "Done working with element 39000\n",
            "Done working with element 45500\n",
            "Done working with element 52000\n",
            "Done working with element 58500\n",
            "Done working with element 65000\n",
            "Working with batch 5\n",
            "Done working with element 0\n",
            "Done working with element 6500\n",
            "Done working with element 13000\n",
            "Done working with element 19500\n",
            "Done working with element 26000\n",
            "Done working with element 32500\n",
            "Done working with element 39000\n",
            "Done working with element 45500\n",
            "Done working with element 52000\n",
            "Done working with element 58500\n",
            "Done working with element 65000\n",
            "Working with batch 6\n",
            "Done working with element 0\n",
            "Done working with element 6500\n",
            "Done working with element 13000\n",
            "Done working with element 19500\n",
            "Done working with element 26000\n",
            "Done working with element 32500\n",
            "Done working with element 39000\n",
            "Done working with element 45500\n",
            "Done working with element 52000\n",
            "Done working with element 58500\n",
            "Done working with element 65000\n",
            "Working with batch 7\n",
            "Done working with element 0\n",
            "Done working with element 6500\n",
            "Done working with element 13000\n",
            "Done working with element 19500\n",
            "Done working with element 26000\n",
            "Done working with element 32500\n",
            "Done working with element 39000\n",
            "Done working with element 45500\n",
            "Done working with element 52000\n",
            "Done working with element 58500\n",
            "Done working with element 65000\n",
            "Working with batch 8\n",
            "Done working with element 0\n",
            "Done working with element 6500\n",
            "Done working with element 13000\n",
            "Done working with element 19500\n",
            "Done working with element 26000\n",
            "Done working with element 32500\n",
            "Done working with element 39000\n",
            "Done working with element 45500\n",
            "Done working with element 52000\n",
            "Done working with element 58500\n",
            "Done working with element 65000\n",
            "Working with batch 9\n",
            "Done working with element 0\n",
            "Done working with element 6500\n",
            "Done working with element 13000\n",
            "Done working with element 19500\n",
            "Done working with element 26000\n",
            "Done working with element 32500\n",
            "Done working with element 39000\n",
            "Done working with element 45500\n",
            "Done working with element 52000\n",
            "Done working with element 58500\n",
            "Done working with element 65000\n",
            "Working with batch 10\n",
            "Done working with element 0\n",
            "Done working with element 6500\n",
            "Done working with element 13000\n",
            "Done working with element 19500\n",
            "Done working with element 26000\n",
            "Done working with element 32500\n",
            "Done working with element 39000\n",
            "Done working with element 45500\n",
            "Done working with element 52000\n",
            "Done working with element 58500\n",
            "Done working with element 65000\n",
            "Working with batch 11\n",
            "Done working with element 0\n",
            "Done working with element 6500\n",
            "Done working with element 13000\n",
            "Done working with element 19500\n",
            "Done working with element 26000\n",
            "Done working with element 32500\n",
            "Done working with element 39000\n",
            "Done working with element 45500\n",
            "Done working with element 52000\n",
            "Done working with element 58500\n",
            "Done working with element 65000\n",
            "Working with batch 12\n",
            "Done working with element 0\n",
            "Done working with element 6500\n",
            "Done working with element 13000\n",
            "Done working with element 19500\n",
            "Done working with element 26000\n",
            "Done working with element 32500\n",
            "Done working with element 39000\n",
            "Done working with element 45500\n",
            "Done working with element 52000\n",
            "Done working with element 58500\n",
            "Done working with element 65000\n",
            "Working with batch 13\n",
            "Done working with element 0\n",
            "Epoca 1, loss: 6.9142823916715574\n",
            "Working with batch 0\n",
            "Done working with element 0\n",
            "Done working with element 6500\n",
            "Done working with element 13000\n",
            "Done working with element 19500\n",
            "Done working with element 26000\n",
            "Done working with element 32500\n",
            "Done working with element 39000\n",
            "Done working with element 45500\n",
            "Done working with element 52000\n",
            "Done working with element 58500\n",
            "Done working with element 65000\n",
            "Working with batch 1\n",
            "Done working with element 0\n",
            "Done working with element 6500\n",
            "Done working with element 13000\n",
            "Done working with element 19500\n",
            "Done working with element 26000\n",
            "Done working with element 32500\n",
            "Done working with element 39000\n",
            "Done working with element 45500\n",
            "Done working with element 52000\n",
            "Done working with element 58500\n",
            "Done working with element 65000\n",
            "Working with batch 2\n",
            "Done working with element 0\n",
            "Done working with element 6500\n",
            "Done working with element 13000\n",
            "Done working with element 19500\n",
            "Done working with element 26000\n",
            "Done working with element 32500\n",
            "Done working with element 39000\n",
            "Done working with element 45500\n",
            "Done working with element 52000\n",
            "Done working with element 58500\n",
            "Done working with element 65000\n",
            "Working with batch 3\n",
            "Done working with element 0\n",
            "Done working with element 6500\n",
            "Done working with element 13000\n",
            "Done working with element 19500\n",
            "Done working with element 26000\n",
            "Done working with element 32500\n",
            "Done working with element 39000\n",
            "Done working with element 45500\n",
            "Done working with element 52000\n",
            "Done working with element 58500\n",
            "Done working with element 65000\n",
            "Working with batch 4\n",
            "Done working with element 0\n",
            "Done working with element 6500\n",
            "Done working with element 13000\n",
            "Done working with element 19500\n",
            "Done working with element 26000\n",
            "Done working with element 32500\n",
            "Done working with element 39000\n",
            "Done working with element 45500\n",
            "Done working with element 52000\n",
            "Done working with element 58500\n",
            "Done working with element 65000\n",
            "Working with batch 5\n",
            "Done working with element 0\n",
            "Done working with element 6500\n",
            "Done working with element 13000\n",
            "Done working with element 19500\n",
            "Done working with element 26000\n",
            "Done working with element 32500\n",
            "Done working with element 39000\n",
            "Done working with element 45500\n",
            "Done working with element 52000\n",
            "Done working with element 58500\n",
            "Done working with element 65000\n",
            "Working with batch 6\n",
            "Done working with element 0\n",
            "Done working with element 6500\n",
            "Done working with element 13000\n",
            "Done working with element 19500\n",
            "Done working with element 26000\n",
            "Done working with element 32500\n",
            "Done working with element 39000\n",
            "Done working with element 45500\n",
            "Done working with element 52000\n",
            "Done working with element 58500\n",
            "Done working with element 65000\n",
            "Working with batch 7\n",
            "Done working with element 0\n",
            "Done working with element 6500\n",
            "Done working with element 13000\n",
            "Done working with element 19500\n",
            "Done working with element 26000\n",
            "Done working with element 32500\n",
            "Done working with element 39000\n",
            "Done working with element 45500\n",
            "Done working with element 52000\n",
            "Done working with element 58500\n",
            "Done working with element 65000\n",
            "Working with batch 8\n",
            "Done working with element 0\n",
            "Done working with element 6500\n",
            "Done working with element 13000\n",
            "Done working with element 19500\n",
            "Done working with element 26000\n",
            "Done working with element 32500\n",
            "Done working with element 39000\n",
            "Done working with element 45500\n",
            "Done working with element 52000\n",
            "Done working with element 58500\n",
            "Done working with element 65000\n",
            "Working with batch 9\n",
            "Done working with element 0\n",
            "Done working with element 6500\n",
            "Done working with element 13000\n",
            "Done working with element 19500\n",
            "Done working with element 26000\n",
            "Done working with element 32500\n",
            "Done working with element 39000\n",
            "Done working with element 45500\n",
            "Done working with element 52000\n",
            "Done working with element 58500\n",
            "Done working with element 65000\n",
            "Working with batch 10\n",
            "Done working with element 0\n",
            "Done working with element 6500\n",
            "Done working with element 13000\n",
            "Done working with element 19500\n",
            "Done working with element 26000\n",
            "Done working with element 32500\n",
            "Done working with element 39000\n",
            "Done working with element 45500\n",
            "Done working with element 52000\n",
            "Done working with element 58500\n",
            "Done working with element 65000\n",
            "Working with batch 11\n",
            "Done working with element 0\n",
            "Done working with element 6500\n",
            "Done working with element 13000\n",
            "Done working with element 19500\n",
            "Done working with element 26000\n",
            "Done working with element 32500\n",
            "Done working with element 39000\n",
            "Done working with element 45500\n",
            "Done working with element 52000\n",
            "Done working with element 58500\n",
            "Done working with element 65000\n",
            "Working with batch 12\n",
            "Done working with element 0\n",
            "Done working with element 6500\n",
            "Done working with element 13000\n",
            "Done working with element 19500\n",
            "Done working with element 26000\n",
            "Done working with element 32500\n",
            "Done working with element 39000\n",
            "Done working with element 45500\n",
            "Done working with element 52000\n",
            "Done working with element 58500\n",
            "Done working with element 65000\n",
            "Working with batch 13\n",
            "Done working with element 0\n",
            "Epoca 2, loss: 6.911702810867704\n"
          ]
        }
      ],
      "source": [
        "running_loss = []\n",
        "for epoch in range(EPOCHS):\n",
        "    epoch_loss = 0\n",
        "    losses = []\n",
        "    for ix, batch in enumerate(dataloader_train):\n",
        "        print(f\"Working with batch {ix}\")\n",
        "        for i in range(len(batch[0])):\n",
        "            center = batch[0][i][0]\n",
        "            context = batch[0][i][1]\n",
        "            center, context = center.to(device), context.to(device)\n",
        "            # Aprox 1 linea para\n",
        "            optimizer.zero_grad()\n",
        "            logits = model(input_=context)\n",
        "            # Aprox 1 linea para\n",
        "            loss = loss_fn(logits, center)\n",
        "            losses.append(loss.item())\n",
        "            loss.backward()\n",
        "            optimizer.step()\n",
        "\n",
        "            if i% 6500 == 0:\n",
        "                print(f\"Done working with element {i}\")\n",
        "\n",
        "    epoch_loss = np.mean(losses)\n",
        "    running_loss.append(epoch_loss)\n",
        "\n",
        "    # Mostrar la perdida cada N epocas\n",
        "    if epoch % 1 == 0:\n",
        "        print(f'Epoca {epoch}, loss: {epoch_loss}')"
      ]
    },
    {
      "cell_type": "code",
      "source": [
        "with tick.marks(5):\n",
        "    # Simulamos el valor de \"running_loss\" que debe ser igual al valor esperado\n",
        "    assert compare_numbers(new_representation(running_loss[len(running_loss)-1]), \"3c3d\", '0x1.ba5956bf1646ap+2')\n",
        "\n",
        "# Notar que fue porque recortamos las épocas, tardó casi 4hrs en completarse,\n",
        "# anteriormente se quedó toda la noche y no terminó las 50 así que Suriano nos permitió correr solo 3 :(\n"
      ],
      "metadata": {
        "colab": {
          "base_uri": "https://localhost:8080/",
          "height": 74
        },
        "id": "gFJXYiH6t6AW",
        "outputId": "1cf93490-e355-4bc8-b72c-2bf6a94070e7"
      },
      "id": "gFJXYiH6t6AW",
      "execution_count": 45,
      "outputs": [
        {
          "output_type": "display_data",
          "data": {
            "text/plain": [
              "<IPython.core.display.HTML object>"
            ],
            "text/html": [
              "\n",
              "        <div class=\"alert alert-box alert-success\">\n",
              "        <h1> <!--{id:\"CORRECTMARK\", marks:\"5\"}--> \n",
              "         ✓ [5 marks] \n",
              "         </h1> </div>"
            ]
          },
          "metadata": {}
        }
      ]
    },
    {
      "cell_type": "code",
      "execution_count": null,
      "id": "fe24f3e7",
      "metadata": {
        "ExecuteTime": {
          "end_time": "2023-08-07T00:08:24.732102Z",
          "start_time": "2023-08-07T00:08:24.725620Z"
        },
        "deletable": false,
        "editable": false,
        "nbgrader": {
          "cell_type": "code",
          "checksum": "32ff5c07dd800c1cc3e4b2446f56cded",
          "grade": true,
          "grade_id": "cell-5fe835d2e4773764",
          "locked": true,
          "points": 0,
          "schema_version": 3,
          "solution": false,
          "task": false
        },
        "id": "fe24f3e7"
      },
      "outputs": [],
      "source": [
        "with tick.marks(5):\n",
        "    assert compare_numbers(new_representation(running_loss[len(running_loss)-1]), \"3c3d\", '0x1.b000000000000p+2')\n",
        "    #Notar que fue porque recortamos las epocas, tardó casi 4hrs en completarse, anteriormente se quedo toda la noche y no terminó las 50 :("
      ]
    },
    {
      "cell_type": "code",
      "execution_count": 46,
      "id": "55ce97f6",
      "metadata": {
        "ExecuteTime": {
          "end_time": "2023-08-06T23:47:02.588400Z",
          "start_time": "2023-08-06T23:47:02.385345Z"
        },
        "colab": {
          "base_uri": "https://localhost:8080/",
          "height": 453
        },
        "id": "55ce97f6",
        "outputId": "10082540-6ada-4f43-cdad-2fb3d656cbdc"
      },
      "outputs": [
        {
          "output_type": "display_data",
          "data": {
            "text/plain": [
              "<Figure size 640x480 with 1 Axes>"
            ],
            "image/png": "[encoded data removed]"
          },
          "metadata": {}
        }
      ],
      "source": [
        "# Graficamos la perdida\n",
        "epoch_ = np.arange(len(running_loss))\n",
        "plt.figure()\n",
        "plt.plot(epoch_, running_loss, 'r', label='Loss',)\n",
        "plt.legend()\n",
        "plt.xlabel('Epoch'), plt.ylabel('NLL')\n",
        "plt.show()"
      ]
    },
    {
      "cell_type": "markdown",
      "id": "7f0a4424",
      "metadata": {
        "deletable": false,
        "editable": false,
        "nbgrader": {
          "cell_type": "markdown",
          "checksum": "bead7c6fdad67968d9b943584a416c84",
          "grade": false,
          "grade_id": "cell-6ba5a104f61555b3",
          "locked": true,
          "schema_version": 3,
          "solution": false,
          "task": false
        },
        "id": "7f0a4424"
      },
      "source": [
        "Bueno, hemos visto la cantidad de tiemp que hay que invertirle para entrenar una red tan sencilla como la que se usa en Wor2Vec. En mi caso, usando CUDA le tomó alrededor de **42 minutos**. Ahora consideren aquel modelo donde no solo se sacan 50 representaciones de cada palabra sino miles, además que se entrenan por más epocas, no solo 3.\n",
        "\n",
        "Ahora veamos que tipo de palabras son las más cercanas a una pequeña muestra de 4 palabras. Para esto primero necesitamos sacar los pesos del modelo y pasarlos al cpu para trabajarlos como NumPy Arrays. Luego aplicaremos una función para encontrar la distancia dada una métrica (en este caso la distancia del coseno)."
      ]
    },
    {
      "cell_type": "code",
      "execution_count": 47,
      "id": "3acd42a5",
      "metadata": {
        "ExecuteTime": {
          "end_time": "2023-08-07T00:38:03.418312Z",
          "start_time": "2023-08-07T00:38:03.384629Z"
        },
        "deletable": false,
        "editable": false,
        "nbgrader": {
          "cell_type": "code",
          "checksum": "adf71f64fc49e300a12791c23246a50b",
          "grade": false,
          "grade_id": "cell-79c39d4b13d3ed81",
          "locked": true,
          "schema_version": 3,
          "solution": false,
          "task": false
        },
        "id": "3acd42a5"
      },
      "outputs": [],
      "source": [
        "wordvecs = model.expand.weight.cpu().detach().numpy()\n",
        "tokens = ['good', 'bad', 'school', 'day']"
      ]
    },
    {
      "cell_type": "code",
      "execution_count": 48,
      "id": "bae64a29",
      "metadata": {
        "ExecuteTime": {
          "end_time": "2023-08-07T00:38:23.499862Z",
          "start_time": "2023-08-07T00:38:23.360937Z"
        },
        "deletable": false,
        "nbgrader": {
          "cell_type": "code",
          "checksum": "6e097e2559d99154cefeabf845d4aa0d",
          "grade": false,
          "grade_id": "cell-1d82d3393549def7",
          "locked": false,
          "schema_version": 3,
          "solution": true,
          "task": false
        },
        "colab": {
          "base_uri": "https://localhost:8080/"
        },
        "id": "bae64a29",
        "outputId": "1796975f-ba79-458b-9e84-58d19164a1db"
      },
      "outputs": [
        {
          "output_type": "stream",
          "name": "stdout",
          "text": [
            "good ['bing', 'father', 'one', 'life', 'look', 'way', 'feel', 'today', 'dont', 'come'] \n",
            "\n",
            "bad ['someth', 'noth', 'littl', 'thought', 'news', 'made', 'pleas', 'talk', 'give', 'lost'] \n",
            "\n",
            "school ['big', 'gonna', 'pay', 'food', 'left', 'said', 'better', 'fuck', 'forward', 'racist'] \n",
            "\n",
            "day ['happi', 'amp', '@user', 'get', 'love', 'im', 'go', '#love', 'time', 'like'] \n",
            "\n"
          ]
        }
      ],
      "source": [
        "from scipy.spatial import distance\n",
        "import numpy as np\n",
        "\n",
        "def get_distance_matrix(wordvecs, metric):\n",
        "    dist_matrix = distance.squareform(distance.pdist(wordvecs, metric))\n",
        "    return dist_matrix\n",
        "\n",
        "def get_k_similar_words(word, dist_matrix, k=10):\n",
        "    # Aprox 2 lineas para\n",
        "    idx = tok2id[word]\n",
        "    dists = dist_matrix[idx]\n",
        "    ind = np.argpartition(dists, k)[:k+1]\n",
        "    ind = ind[np.argsort(dists[ind])][1:]\n",
        "    out = [(i, id2tok[i], dists[i]) for i in ind]\n",
        "    return out\n",
        "\n",
        "dmat = get_distance_matrix(wordvecs, 'cosine')\n",
        "for word in tokens:\n",
        "    print(word, [t[1] for t in get_k_similar_words(word, dmat)], \"\\n\")"
      ]
    },
    {
      "cell_type": "markdown",
      "id": "e1d8137d",
      "metadata": {
        "ExecuteTime": {
          "end_time": "2023-08-07T00:38:47.402752Z",
          "start_time": "2023-08-07T00:38:47.384725Z"
        },
        "deletable": false,
        "editable": false,
        "nbgrader": {
          "cell_type": "markdown",
          "checksum": "639c2eb3f9df4bd7244c8a482d492350",
          "grade": false,
          "grade_id": "cell-5e5ce486e8860c29",
          "locked": true,
          "schema_version": 3,
          "solution": false,
          "task": false
        },
        "id": "e1d8137d"
      },
      "source": [
        "**PREGUNTAS:**\n",
        "* ¿Cuál es la implicación del overfitting en modelos como Word2Vec?\n",
        "\n",
        "En Word2Vec, el overfitting no tiene el mismo impacto negativo que en modelos de predicción. El objetivo de Word2Vec es capturar relaciones semánticas entre palabras dentro del corpus de entrenamiento, no generalizar a nuevos datos. Por lo tanto, un cierto grado de overfitting puede ser aceptable e incluso útil para representar con precisión el significado de las palabras en ese corpus específico. Sin embargo, si el corpus es muy pequeño o poco representativo, el modelo puede aprender asociaciones poco generales o ruidosas.\n",
        "\n",
        "\n",
        "* ¿Qué tan bien encontró palabras cercanas su modelo Word2Vec? ¿Podría mejorar? ¿Cómo podría mejorar?\n",
        "El modelo Word2Vec logró encontrar algunas palabras cercanas relevantes, especialmente en el grupo asociado a la palabra \"good\", donde aparecen términos positivos como #posit, #smile, y #summer, lo cual indica que el modelo empieza a capturar asociaciones semánticas. Sin embargo, en los grupos como \"bad\", \"school\" y \"day\", se observan palabras que no siempre están claramente relacionadas con el concepto central, como free, face, o hea, lo que sugiere que aún falta refinamiento en las representaciones. Esto es esperable, ya que el entrenamiento solo ha transcurrido por 2 épocas, y el gráfico de pérdida muestra que el modelo está apenas comenzando a aprender (la NLL apenas baja de ~7.1 a ~6.9).\n",
        "\n",
        "El modelo podría mejorar significativamente si se entrena por más épocas (por ejemplo, 50 como se sugiere en el ejemplo original), ya que eso permitiría ajustar mejor los vectores de palabras. Además, se podrían probar las siguientes mejoras:\n",
        "\n",
        "- Usar ventanas de contexto más grandes para capturar más información contextual.\n",
        "- Aumentar el tamaño del embedding si se cuenta con suficientes datos.\n",
        "- Usar técnicas como submuestreo de palabras frecuentes para evitar sesgos.\n",
        "- Aplicar regularización o técnicas como negative sampling para mejorar la calidad del embedding.\n",
        "- Asegurar una correcta tokenización y preprocesamiento (por ejemplo, normalizar hashtags y menciones).\n",
        "\n",
        "* A grandes rasgos, ¿cuál es la diferencia entre Word2Vec y BERT?\n",
        "\n",
        "Word2Vec y BERT son modelos de representación de texto, pero funcionan de manera muy distinta. Word2Vec asigna un vector fijo a cada palabra, independientemente del contexto en el que aparece, lo que lo hace rápido y útil para tareas como medir similitud semántica. En cambio, BERT genera vectores contextuales, es decir, el significado de una palabra depende de las palabras que la rodean, permitiéndole entender mejor el lenguaje natural. Además, BERT es un modelo bidireccional, lo que significa que considera tanto el contexto anterior como el posterior, mientras que Word2Vec solo usa unidireccionalidad (ventanas de contexto limitadas). Por ello, BERT es mucho más preciso en tareas complejas como análisis de sentimientos, preguntas y respuestas, y clasificación de texto."
      ]
    },
    {
      "cell_type": "markdown",
      "id": "de1f5579",
      "metadata": {
        "deletable": false,
        "editable": false,
        "nbgrader": {
          "cell_type": "markdown",
          "checksum": "2a9b67df22196d0cba2dfbdcb310efc3",
          "grade": false,
          "grade_id": "cell-b8252dd53c19ab29",
          "locked": true,
          "schema_version": 3,
          "solution": false,
          "task": false
        },
        "id": "de1f5579"
      },
      "source": [
        "## Parte 2 - Encoder - Decoder\n",
        "\n",
        "**Créditos:** La segunda parte de este laboratorio está tomado y basado en uno de los repositorios de Ben Trevett\n",
        "\n",
        "En esta ocasión vamos a centrarnos en una arquitectura Sequence to Sequence (Seq2Seq), entonces estaremos desarrollando un modelo que nos ayude a traducir de alemán a inglés. Tomaremos como base el paper [Sequence to Sequence Learning with Neural Networks](https://arxiv.org/abs/1409.3215). Recuerden que a pesar que esto es para frases/oraciones, los conceptos pueden ser aplicados para otras arquitecturas similares.\n",
        "\n",
        "**IMPORTANTE:** Recuerden usar virtual enviroments debido a que estaremos usando versiones viejas de la librerías. ¿Por qué? Las librerías eran un poco más explícitas que sus versiones más recientes. A continuación se dejan los comandos para la instalación de las más importantes\n",
        "\n",
        "```\n",
        "pip install -U torch==1.9.0+cu111 -f  https://download.pytorch.org/whl/cu111/torch_stable.html\n",
        "pip install -U torchtext==0.10.0\n",
        "```\n",
        "\n",
        "El primer comando instalará la librería de PyTorch con CUDA 11.1\n",
        "El segundo, instala TorchText en una versión donde la formulación del vocabulario para training, test y validation era más claro (esta es la principal por la que estamos usando esta versiones).\n",
        "\n",
        "\n",
        "### Introducción\n",
        "Los modelos más comunes seq2seq son los modelos *encoder-decoder*, los cuales usan una RNN para encodear el input y llevarlo a un solo vector. En este laboratorio nos estaremos refiriendo a dicho vector como *vector contexto*. Pensemos sobre el vector contexto como un ser abstracto que representa una frase completa. Este vector es luego decodeado por una segunda RNN, que aprende a generar la frase target (output) deseada al generar palabra por palabra.\n",
        "\n",
        "\n",
        "Consideren la siguiente ilustración para representar el proceso que estaremos realizando\n",
        "\n",
        "<img src=\"https://raw.githubusercontent.com/bentrevett/pytorch-seq2seq/49df8404d938a6edbf729876405558cc2c2b3013/assets/seq2seq1.png\" alt=\"Seq2Seq\" />\n",
        "\n",
        "*Crédito de imagen al autor, imagen tomada de \"Sequence to Sequence Learning with Neural Networks\" de Ben Trevett*\n",
        "\n",
        "Noten como la frase de input \"guten morgen\", se pasa a través de una capa de embedding (cuadros amarillos) y luego entra en los encodeadores (cuadros verdes). En esta ocasión agregamos un token de \"start of sequence\" (`<sos>`) al inicio de la frase, además de un token de \"end of sequence\" (`<eos>`) al final de la oración. Vean como en cada paso, la entrada del encoder RNN es tanto la representación embedding $e$ de la palabra actual $e(x_t)$, así como el estado oculto del paso anterior $h_{t-1}$, y el encoder genera un nuevo hidden state $h_t$. Entonces, podemos pensar en el hidden state como una representación vectorial de la oración hasta ese momento. La RNN se puede representar como una función de tanto $e(x_t)$ y $h_{t-1}$\n",
        "\n",
        "$$h_t = \\text{EncoderRNN}(e(x_t), h_{t-1})$$\n",
        "\n",
        "Por favor noten que estamos usando el termino RNN de forma general en este contexto, puede ser cualquier arquitectura como LSTM o GRU.\n",
        "\n",
        "Entonces estaremos trabajando con una secuencia como $X = \\{x_1, x_2, ..., x_T\\}$, donde $x_1 = <sos>$, $x_2 = guten$, y así consecutivamente. El hidden state inicial $h_0$ es usualmente iniciado con ceros o con algún parametro pre-aprendido.\n",
        "\n",
        "Una vez la palabra final $X_T$ ha pasado en la RNN a través de la embedding layer, usamos el hidden state final $h_T$ como vector de contexto. Es decir, $h_T = z$. El cual será la representación vectorial de toda la oración.\n",
        "\n",
        "Ahora que tenemos nuestro vector de contexto $z$, podemos empezar a decodear para obtener la oración target, \"good morning\". De nuevo, agregamos los tokens de inicio y fin de la secuencia de nuestra oración target. En cada paso, el input al decoder RNN (cuadros azules de la imagen) es la versión embedding $d$ de la palabra actual $d(y_t)$ así como también el hidden state del paso previo $s_{t-1}$m donde el hidden state del decoder incial $s_0$ es el vector de contexto $s_0 = z = h_T$, es decir, el hidden state decoder es el último hidden state encoder. Por ende, simlar al encoder, podemos representarlo como:\n",
        "\n",
        "$$s_t = \\text{DecoderRNN}(d(y_t), s_{t-1})$$\n",
        "\n",
        "A pesar que el input embeeding layer $e$ y el target embedding layer $d$ están representados como cuadros amarillos en la imagen, como dijimos en clase, estas son dos embedding layers diferentes con sus propios parametros.\n",
        "\n",
        "En el decoder, necestamos ir del hidden state a la palabra actual, por ello en cada paso usamos $s_t$ para predecir (a traves de pasarlo en una layer lineal, mostrada como cuadros morados) lo que se cree que es la siguiente palabra en la secuencia $\\hat{y}_t$\n",
        "\n",
        "$$\\hat{y}_t = f(s_t)$$\n",
        "\n",
        "Las palabras en el decoder son siempre generadas una después de la otra, con una por paso. Siempre usamos `<sos>` para el primer input del decodr $y_1$ y algumas veces usamos la palabra predicha por nuestro decoder, $\\hat{y}_{t-1}$. Que, como mencionamos en clase, se le llama *teacher forcing*.\n",
        "\n",
        "Cuando estamos entrenando o probando nuestro modelo, siempre sabemso cuantas palabras hay en nuestra secuencia target, entonces nos detenemos de generar palabras una vez alcanzamos esa cantidad. Durante las fases de inferencia (uso del modelo en la \"vida real\") seguimos generando palabras hasta que el modelo genere un token `<eos>` o después de una cierta cantidad de palabras dada. (Esto tambien lo mencionamoos en clase, es solo para refrescar los conceptos)\n",
        "\n",
        "Una vez tengamos nuestra secuencia target predicha $\\hat{Y} = \\{ \\hat{y}_1, \\hat{y}_2, ..., \\hat{y}_T \\}$, la comparamos contra nuestra secuencia target real. $Y = \\{ y_1, y_2, ..., y_T \\}$, para calcular la perdida. Usamos esta pérdida para actualizar los parámetros del modelo, como bien hemos hecho en otras ocasiones.\n",
        "\n",
        "### Preparación de Data\n",
        "\n",
        "Es momento de ponernos a manos a la obra. Estaremos programando nuestro modelo usando PyTorch y usando torchtext para ayudarnos a hacer todo el pre-procesamiento necesario. Ahora usaremos spaCy para ayudarnos en la tokenización de los datos"
      ]
    },
    {
      "cell_type": "code",
      "source": [
        "pip install \"torch @ https://download.pytorch.org/whl/cu124/torch-2.6.0%2Bcu124-cp311-cp311-linux_x86_64.whl\" torchtext==0.6.0\n"
      ],
      "metadata": {
        "colab": {
          "base_uri": "https://localhost:8080/"
        },
        "id": "-Ow4cLxXEnL9",
        "outputId": "c5879c36-8d0f-4548-c7e1-e7c46e17cb7d"
      },
      "id": "-Ow4cLxXEnL9",
      "execution_count": 14,
      "outputs": [
        {
          "output_type": "stream",
          "name": "stdout",
          "text": [
            "Collecting torch@ https://download.pytorch.org/whl/cu124/torch-2.6.0%2Bcu124-cp311-cp311-linux_x86_64.whl\n",
            "  Using cached https://download.pytorch.org/whl/cu124/torch-2.6.0%2Bcu124-cp311-cp311-linux_x86_64.whl (768.5 MB)\n",
            "Requirement already satisfied: torchtext==0.6.0 in /usr/local/lib/python3.11/dist-packages (0.6.0)\n",
            "Requirement already satisfied: tqdm in /usr/local/lib/python3.11/dist-packages (from torchtext==0.6.0) (4.67.1)\n",
            "Requirement already satisfied: requests in /usr/local/lib/python3.11/dist-packages (from torchtext==0.6.0) (2.32.3)\n",
            "Requirement already satisfied: numpy in /usr/local/lib/python3.11/dist-packages (from torchtext==0.6.0) (2.0.2)\n",
            "Requirement already satisfied: six in /usr/local/lib/python3.11/dist-packages (from torchtext==0.6.0) (1.17.0)\n",
            "Requirement already satisfied: sentencepiece in /usr/local/lib/python3.11/dist-packages (from torchtext==0.6.0) (0.2.0)\n",
            "Requirement already satisfied: filelock in /usr/local/lib/python3.11/dist-packages (from torch@ https://download.pytorch.org/whl/cu124/torch-2.6.0%2Bcu124-cp311-cp311-linux_x86_64.whl) (3.18.0)\n",
            "Requirement already satisfied: typing-extensions>=4.10.0 in /usr/local/lib/python3.11/dist-packages (from torch@ https://download.pytorch.org/whl/cu124/torch-2.6.0%2Bcu124-cp311-cp311-linux_x86_64.whl) (4.14.1)\n",
            "Requirement already satisfied: networkx in /usr/local/lib/python3.11/dist-packages (from torch@ https://download.pytorch.org/whl/cu124/torch-2.6.0%2Bcu124-cp311-cp311-linux_x86_64.whl) (3.5)\n",
            "Requirement already satisfied: jinja2 in /usr/local/lib/python3.11/dist-packages (from torch@ https://download.pytorch.org/whl/cu124/torch-2.6.0%2Bcu124-cp311-cp311-linux_x86_64.whl) (3.1.6)\n",
            "Requirement already satisfied: fsspec in /usr/local/lib/python3.11/dist-packages (from torch@ https://download.pytorch.org/whl/cu124/torch-2.6.0%2Bcu124-cp311-cp311-linux_x86_64.whl) (2025.3.0)\n",
            "Requirement already satisfied: nvidia-cuda-nvrtc-cu12==12.4.127 in /usr/local/lib/python3.11/dist-packages (from torch@ https://download.pytorch.org/whl/cu124/torch-2.6.0%2Bcu124-cp311-cp311-linux_x86_64.whl) (12.4.127)\n",
            "Requirement already satisfied: nvidia-cuda-runtime-cu12==12.4.127 in /usr/local/lib/python3.11/dist-packages (from torch@ https://download.pytorch.org/whl/cu124/torch-2.6.0%2Bcu124-cp311-cp311-linux_x86_64.whl) (12.4.127)\n",
            "Requirement already satisfied: nvidia-cuda-cupti-cu12==12.4.127 in /usr/local/lib/python3.11/dist-packages (from torch@ https://download.pytorch.org/whl/cu124/torch-2.6.0%2Bcu124-cp311-cp311-linux_x86_64.whl) (12.4.127)\n",
            "Requirement already satisfied: nvidia-cudnn-cu12==9.1.0.70 in /usr/local/lib/python3.11/dist-packages (from torch@ https://download.pytorch.org/whl/cu124/torch-2.6.0%2Bcu124-cp311-cp311-linux_x86_64.whl) (9.1.0.70)\n",
            "Requirement already satisfied: nvidia-cublas-cu12==12.4.5.8 in /usr/local/lib/python3.11/dist-packages (from torch@ https://download.pytorch.org/whl/cu124/torch-2.6.0%2Bcu124-cp311-cp311-linux_x86_64.whl) (12.4.5.8)\n",
            "Requirement already satisfied: nvidia-cufft-cu12==11.2.1.3 in /usr/local/lib/python3.11/dist-packages (from torch@ https://download.pytorch.org/whl/cu124/torch-2.6.0%2Bcu124-cp311-cp311-linux_x86_64.whl) (11.2.1.3)\n",
            "Requirement already satisfied: nvidia-curand-cu12==10.3.5.147 in /usr/local/lib/python3.11/dist-packages (from torch@ https://download.pytorch.org/whl/cu124/torch-2.6.0%2Bcu124-cp311-cp311-linux_x86_64.whl) (10.3.5.147)\n",
            "Requirement already satisfied: nvidia-cusolver-cu12==11.6.1.9 in /usr/local/lib/python3.11/dist-packages (from torch@ https://download.pytorch.org/whl/cu124/torch-2.6.0%2Bcu124-cp311-cp311-linux_x86_64.whl) (11.6.1.9)\n",
            "Requirement already satisfied: nvidia-cusparse-cu12==12.3.1.170 in /usr/local/lib/python3.11/dist-packages (from torch@ https://download.pytorch.org/whl/cu124/torch-2.6.0%2Bcu124-cp311-cp311-linux_x86_64.whl) (12.3.1.170)\n",
            "Requirement already satisfied: nvidia-cusparselt-cu12==0.6.2 in /usr/local/lib/python3.11/dist-packages (from torch@ https://download.pytorch.org/whl/cu124/torch-2.6.0%2Bcu124-cp311-cp311-linux_x86_64.whl) (0.6.2)\n",
            "Requirement already satisfied: nvidia-nccl-cu12==2.21.5 in /usr/local/lib/python3.11/dist-packages (from torch@ https://download.pytorch.org/whl/cu124/torch-2.6.0%2Bcu124-cp311-cp311-linux_x86_64.whl) (2.21.5)\n",
            "Requirement already satisfied: nvidia-nvtx-cu12==12.4.127 in /usr/local/lib/python3.11/dist-packages (from torch@ https://download.pytorch.org/whl/cu124/torch-2.6.0%2Bcu124-cp311-cp311-linux_x86_64.whl) (12.4.127)\n",
            "Requirement already satisfied: nvidia-nvjitlink-cu12==12.4.127 in /usr/local/lib/python3.11/dist-packages (from torch@ https://download.pytorch.org/whl/cu124/torch-2.6.0%2Bcu124-cp311-cp311-linux_x86_64.whl) (12.4.127)\n",
            "Requirement already satisfied: triton==3.2.0 in /usr/local/lib/python3.11/dist-packages (from torch@ https://download.pytorch.org/whl/cu124/torch-2.6.0%2Bcu124-cp311-cp311-linux_x86_64.whl) (3.2.0)\n",
            "Requirement already satisfied: sympy==1.13.1 in /usr/local/lib/python3.11/dist-packages (from torch@ https://download.pytorch.org/whl/cu124/torch-2.6.0%2Bcu124-cp311-cp311-linux_x86_64.whl) (1.13.1)\n",
            "Requirement already satisfied: mpmath<1.4,>=1.1.0 in /usr/local/lib/python3.11/dist-packages (from sympy==1.13.1->torch@ https://download.pytorch.org/whl/cu124/torch-2.6.0%2Bcu124-cp311-cp311-linux_x86_64.whl) (1.3.0)\n",
            "Requirement already satisfied: MarkupSafe>=2.0 in /usr/local/lib/python3.11/dist-packages (from jinja2->torch@ https://download.pytorch.org/whl/cu124/torch-2.6.0%2Bcu124-cp311-cp311-linux_x86_64.whl) (3.0.2)\n",
            "Requirement already satisfied: charset-normalizer<4,>=2 in /usr/local/lib/python3.11/dist-packages (from requests->torchtext==0.6.0) (3.4.2)\n",
            "Requirement already satisfied: idna<4,>=2.5 in /usr/local/lib/python3.11/dist-packages (from requests->torchtext==0.6.0) (3.10)\n",
            "Requirement already satisfied: urllib3<3,>=1.21.1 in /usr/local/lib/python3.11/dist-packages (from requests->torchtext==0.6.0) (2.5.0)\n",
            "Requirement already satisfied: certifi>=2017.4.17 in /usr/local/lib/python3.11/dist-packages (from requests->torchtext==0.6.0) (2025.8.3)\n"
          ]
        }
      ]
    },
    {
      "cell_type": "code",
      "execution_count": 15,
      "id": "6b5246f2",
      "metadata": {
        "ExecuteTime": {
          "end_time": "2023-08-07T12:10:04.622634Z",
          "start_time": "2023-08-07T12:09:55.185815Z"
        },
        "id": "6b5246f2"
      },
      "outputs": [],
      "source": [
        "import torch\n",
        "import torch.nn as nn\n",
        "import torch.optim as optim\n",
        "\n",
        "from torchtext.datasets import Multi30k\n",
        "\n",
        "train_url = \"https://raw.githubusercontent.com/neychev/small_DL_repo/master/datasets/Multi30k/training.tar.gz\"\n",
        "val_url = \"https://raw.githubusercontent.com/neychev/small_DL_repo/master/datasets/Multi30k/validation.tar.gz\"\n",
        "test_url = \"https://raw.githubusercontent.com/neychev/small_DL_repo/master/datasets/Multi30k/mmt16_task1_test.tar.gz\"\n",
        "\n",
        "# Update the URLs in the Multi30k module\n",
        "Multi30k.urls = (train_url, val_url, test_url)\n",
        "\n",
        "from torchtext.data import Field, BucketIterator\n",
        "\n",
        "import spacy\n",
        "import numpy as np\n",
        "\n",
        "import random\n",
        "import math\n",
        "import time"
      ]
    },
    {
      "cell_type": "markdown",
      "id": "bb5f19f9",
      "metadata": {
        "deletable": false,
        "editable": false,
        "nbgrader": {
          "cell_type": "markdown",
          "checksum": "cb193611b74e155202745762d0e05a22",
          "grade": false,
          "grade_id": "cell-960a94af6dbde6f6",
          "locked": true,
          "schema_version": 3,
          "solution": false,
          "task": false
        },
        "id": "bb5f19f9"
      },
      "source": [
        "Colocamos las semillas para tener resultados consistentes."
      ]
    },
    {
      "cell_type": "code",
      "execution_count": 16,
      "id": "e2182c4e",
      "metadata": {
        "ExecuteTime": {
          "end_time": "2023-08-07T12:10:12.966554Z",
          "start_time": "2023-08-07T12:10:12.934552Z"
        },
        "id": "e2182c4e"
      },
      "outputs": [],
      "source": [
        "SEED = 1234\n",
        "\n",
        "random.seed(SEED)\n",
        "np.random.seed(SEED)\n",
        "torch.manual_seed(SEED)\n",
        "torch.cuda.manual_seed(SEED)\n",
        "torch.backends.cudnn.deterministic = True"
      ]
    },
    {
      "cell_type": "markdown",
      "id": "85333315",
      "metadata": {
        "deletable": false,
        "editable": false,
        "nbgrader": {
          "cell_type": "markdown",
          "checksum": "32e4c72dc8e544489e4bb9de559fc363",
          "grade": false,
          "grade_id": "cell-1a4d13aff19cbbc7",
          "locked": true,
          "schema_version": 3,
          "solution": false,
          "task": false
        },
        "id": "85333315"
      },
      "source": [
        "Ahora, necesitamos crear un tokenizador. Un tokenizador es una función que ayudará a convertir un string de alguna frase u oración en una lista de tokens individuales. Consideren que en una frase como \"good morning!\" se tienen tres tokens, siendo cada uno \"good\", \"morning\" y \"!\", noten que a pesar que el signo de admiracion no se considera una palabra, sí se considera como un token.\n",
        "\n",
        "Para la creación de nuestro tokenizador nos apoyaremos en spaCy, en este caso necesitamos los paquetes de aleman e inglés (se nombran abajo).\n",
        "\n",
        "Para instalar spaCy necesitarán ejecutar en la cmd\n",
        "```\n",
        "pip install spacy\n",
        "python -m spacy download en_core_web_sm\n",
        "python -m spacy download de_core_news_sm\n",
        "```\n",
        "\n",
        "**IMPORTANTE:** Recuerden usar virtual environments de Python, debido a que este laboratorio usa algunas librerías deprecadas, que como se explicó previamente, se hizo de este modo para ser más explícito el aprendizaje.\n",
        "\n",
        "Regresando al tema del tokenizer, primero cargaremos las dos versiones para los diferentes idiomas con los que estamos trabajando.\n",
        "\n",
        "Despues, crearemos unas funciones de tokenización. Estas pueden ser pasadas a TorchText y tomarán una oración y regresara la oración como una lista de tokens.\n",
        "\n",
        "Cabe la pena mencionar que en el paper que estamos tomando de base, ellos encontrarón util el revertir el orden del input dado que se cree que introducía varias dependencias a corto plazo en los datos que facilitan mucho el problema de optimización.\n",
        "\n",
        "Más adelante, usaremos `Field` (que actualmente está deprecado :( ) para manejar como la data debería ser procesada. Después, seteamos el parametro `tokenize` como función para cada caso. El aleman será el `SRC` y el inglés será el `TRG`. Además también se agrega el token para inicio y fin de la secuencia, además que convertirá todo en lowercase."
      ]
    },
    {
      "cell_type": "code",
      "source": [
        "!python -m spacy download de_core_news_sm\n",
        "!python -m spacy download en_core_web_sm\n"
      ],
      "metadata": {
        "colab": {
          "base_uri": "https://localhost:8080/"
        },
        "id": "RfhmpRpOGhB7",
        "outputId": "db1e130a-6107-4a85-deef-4f07d2ec19df"
      },
      "id": "RfhmpRpOGhB7",
      "execution_count": 17,
      "outputs": [
        {
          "output_type": "stream",
          "name": "stdout",
          "text": [
            "Collecting de-core-news-sm==3.8.0\n",
            "  Downloading https://github.com/explosion/spacy-models/releases/download/de_core_news_sm-3.8.0/de_core_news_sm-3.8.0-py3-none-any.whl (14.6 MB)\n",
            "\u001b[2K     \u001b[90m━━━━━━━━━━━━━━━━━━━━━━━━━━━━━━━━━━━━━━━━\u001b[0m \u001b[32m14.6/14.6 MB\u001b[0m \u001b[31m56.4 MB/s\u001b[0m eta \u001b[36m0:00:00\u001b[0m\n",
            "\u001b[?25h\u001b[38;5;2m✔ Download and installation successful\u001b[0m\n",
            "You can now load the package via spacy.load('de_core_news_sm')\n",
            "\u001b[38;5;3m⚠ Restart to reload dependencies\u001b[0m\n",
            "If you are in a Jupyter or Colab notebook, you may need to restart Python in\n",
            "order to load all the package's dependencies. You can do this by selecting the\n",
            "'Restart kernel' or 'Restart runtime' option.\n",
            "Collecting en-core-web-sm==3.8.0\n",
            "  Downloading https://github.com/explosion/spacy-models/releases/download/en_core_web_sm-3.8.0/en_core_web_sm-3.8.0-py3-none-any.whl (12.8 MB)\n",
            "\u001b[2K     \u001b[90m━━━━━━━━━━━━━━━━━━━━━━━━━━━━━━━━━━━━━━━\u001b[0m \u001b[32m12.8/12.8 MB\u001b[0m \u001b[31m126.0 MB/s\u001b[0m eta \u001b[36m0:00:00\u001b[0m\n",
            "\u001b[?25h\u001b[38;5;2m✔ Download and installation successful\u001b[0m\n",
            "You can now load the package via spacy.load('en_core_web_sm')\n",
            "\u001b[38;5;3m⚠ Restart to reload dependencies\u001b[0m\n",
            "If you are in a Jupyter or Colab notebook, you may need to restart Python in\n",
            "order to load all the package's dependencies. You can do this by selecting the\n",
            "'Restart kernel' or 'Restart runtime' option.\n"
          ]
        }
      ]
    },
    {
      "cell_type": "code",
      "execution_count": 18,
      "id": "d4bc4d31",
      "metadata": {
        "ExecuteTime": {
          "end_time": "2023-08-07T12:10:15.907822Z",
          "start_time": "2023-08-07T12:10:14.202661Z"
        },
        "id": "d4bc4d31"
      },
      "outputs": [],
      "source": [
        "spacy_de = spacy.load('de_core_news_sm')\n",
        "spacy_en = spacy.load('en_core_web_sm')"
      ]
    },
    {
      "cell_type": "code",
      "execution_count": 19,
      "id": "16e7543a",
      "metadata": {
        "ExecuteTime": {
          "end_time": "2023-08-07T12:10:16.426717Z",
          "start_time": "2023-08-07T12:10:16.410680Z"
        },
        "id": "16e7543a"
      },
      "outputs": [],
      "source": [
        "def tokenize_de(text):\n",
        "    \"\"\"\n",
        "    Tokenizes German text from a string into a list of strings (tokens) and reverses it\n",
        "    \"\"\"\n",
        "    return [tok.text for tok in spacy_de.tokenizer(text)][::-1]\n",
        "\n",
        "def tokenize_en(text):\n",
        "    \"\"\"\n",
        "    Tokenizes English text from a string into a list of strings (tokens)\n",
        "    \"\"\"\n",
        "    return [tok.text for tok in spacy_en.tokenizer(text)]"
      ]
    },
    {
      "cell_type": "code",
      "execution_count": 20,
      "id": "1227f75a",
      "metadata": {
        "ExecuteTime": {
          "end_time": "2023-08-07T12:10:16.775400Z",
          "start_time": "2023-08-07T12:10:16.767392Z"
        },
        "id": "1227f75a"
      },
      "outputs": [],
      "source": [
        "SRC = Field(tokenize = tokenize_de,\n",
        "            init_token = '<sos>',\n",
        "            eos_token = '<eos>',\n",
        "            lower = True)\n",
        "\n",
        "TRG = Field(tokenize = tokenize_en,\n",
        "            init_token = '<sos>',\n",
        "            eos_token = '<eos>',\n",
        "            lower = True)"
      ]
    },
    {
      "cell_type": "markdown",
      "id": "d48fd2f4",
      "metadata": {
        "deletable": false,
        "editable": false,
        "nbgrader": {
          "cell_type": "markdown",
          "checksum": "e4c7c0410bb12c03fd3a415d086f6aa1",
          "grade": false,
          "grade_id": "cell-f059a0654bba3e20",
          "locked": true,
          "schema_version": 3,
          "solution": false,
          "task": false
        },
        "id": "d48fd2f4"
      },
      "source": [
        "Ahora, debemos descargar el dataset. Para este caso estaremos usando el dataset llamado Multi30k. Este tiene aproximadamente 30K frases en inglés, aleman y francés, cada uno tiene alrededor de 12 palabras por frase.\n",
        "\n",
        "Además noten que `exts` especifica cual lenguage se debe usar como source y target, y `fields` da cuales campos usar para el source y target."
      ]
    },
    {
      "cell_type": "code",
      "execution_count": 21,
      "id": "5c2f3811",
      "metadata": {
        "ExecuteTime": {
          "end_time": "2023-08-07T12:10:21.558532Z",
          "start_time": "2023-08-07T12:10:17.137695Z"
        },
        "id": "5c2f3811"
      },
      "outputs": [],
      "source": [
        "train_data, valid_data, test_data = Multi30k.splits(\n",
        "    exts = ('.de', '.en'),\n",
        "    fields = (SRC, TRG)\n",
        ")\n",
        "\n"
      ]
    },
    {
      "cell_type": "code",
      "source": [
        "!mv /content/.data/multi30k/test.de /content/.data/multi30k/test2016.de\n",
        "!mv /content/.data/multi30k/test.en /content/.data/multi30k/test2016.en\n"
      ],
      "metadata": {
        "colab": {
          "base_uri": "https://localhost:8080/"
        },
        "id": "AmBPcd7cJl8f",
        "outputId": "8936a2a9-1f79-4dcc-cc15-35b305c6a8f2"
      },
      "id": "AmBPcd7cJl8f",
      "execution_count": 22,
      "outputs": [
        {
          "output_type": "stream",
          "name": "stdout",
          "text": [
            "mv: cannot stat '/content/.data/multi30k/test.de': No such file or directory\n",
            "mv: cannot stat '/content/.data/multi30k/test.en': No such file or directory\n"
          ]
        }
      ]
    },
    {
      "cell_type": "code",
      "execution_count": 23,
      "id": "9daf8a6a",
      "metadata": {
        "ExecuteTime": {
          "end_time": "2023-08-07T12:10:21.990868Z",
          "start_time": "2023-08-07T12:10:21.982854Z"
        },
        "colab": {
          "base_uri": "https://localhost:8080/"
        },
        "id": "9daf8a6a",
        "outputId": "1414e428-b64c-405c-d542-183f3fc78122"
      },
      "outputs": [
        {
          "output_type": "stream",
          "name": "stdout",
          "text": [
            "Numero de observaciones de training: 29000\n",
            "Numero de observaciones en validation: 1014\n",
            "Numero de observaciones en test: 1000\n"
          ]
        }
      ],
      "source": [
        "print(f\"Numero de observaciones de training: {len(train_data.examples)}\")\n",
        "print(f\"Numero de observaciones en validation: {len(valid_data.examples)}\")\n",
        "print(f\"Numero de observaciones en test: {len(test_data.examples)}\")"
      ]
    },
    {
      "cell_type": "code",
      "execution_count": 24,
      "id": "56422a53",
      "metadata": {
        "ExecuteTime": {
          "end_time": "2023-08-07T12:10:23.001453Z",
          "start_time": "2023-08-07T12:10:22.753770Z"
        },
        "id": "56422a53"
      },
      "outputs": [],
      "source": [
        "SRC.build_vocab(train_data, min_freq = 2)\n",
        "TRG.build_vocab(train_data, min_freq = 2)"
      ]
    },
    {
      "cell_type": "code",
      "execution_count": 25,
      "id": "af8e7be9",
      "metadata": {
        "ExecuteTime": {
          "end_time": "2023-08-07T12:10:22.369708Z",
          "start_time": "2023-08-07T12:10:22.353942Z"
        },
        "colab": {
          "base_uri": "https://localhost:8080/"
        },
        "id": "af8e7be9",
        "outputId": "5b812c9d-3827-43b4-c3d8-c77b9061b4b4"
      },
      "outputs": [
        {
          "output_type": "stream",
          "name": "stdout",
          "text": [
            "{'src': ['.', 'büsche', 'vieler', 'nähe', 'der', 'in', 'freien', 'im', 'sind', 'männer', 'weiße', 'junge', 'zwei'], 'trg': ['two', 'young', ',', 'white', 'males', 'are', 'outside', 'near', 'many', 'bushes', '.']}\n"
          ]
        }
      ],
      "source": [
        "print(vars(train_data.examples[0]))"
      ]
    },
    {
      "cell_type": "markdown",
      "id": "f09e20d7",
      "metadata": {
        "id": "f09e20d7"
      },
      "source": [
        "Observen como el punto está al comienzo de la oración en alemán (src), por lo que parece que la oración se invirtió correctamente.\n",
        "\n",
        "Ahora, construiremos el vocabulario para los idiomas de source y de target. El vocabulario se utiliza para asociar cada token único con un índice (un número entero). Los vocabularios de los idiomas de origen y de destino son distintos.\n",
        "\n",
        "Usando el argumento `min_freq`, solo permitimos que aparezcan en nuestro vocabulario tokens que aparecen al menos 2 veces. Los tokens que aparecen solo una vez se convierten en un token desconocido `<unk>`.\n",
        "\n",
        "Es importante tener en cuenta que nuestro vocabulario solo debe construirse a partir del conjunto de entrenamiento y no del conjunto de validación/test. Esto evita la \"fuga de información\" en nuestro modelo, dándonos puntajes de validación/prueba inflados artificialmente."
      ]
    },
    {
      "cell_type": "code",
      "execution_count": 26,
      "id": "0b865dee",
      "metadata": {
        "ExecuteTime": {
          "end_time": "2023-08-07T12:10:23.312139Z",
          "start_time": "2023-08-07T12:10:23.299580Z"
        },
        "colab": {
          "base_uri": "https://localhost:8080/"
        },
        "id": "0b865dee",
        "outputId": "2a73a3e7-54b6-41eb-8210-7cbf96041827"
      },
      "outputs": [
        {
          "output_type": "stream",
          "name": "stdout",
          "text": [
            "Unique tokens in source (de) vocabulary: 7853\n",
            "Unique tokens in target (en) vocabulary: 5893\n"
          ]
        }
      ],
      "source": [
        "print(f\"Unique tokens in source (de) vocabulary: {len(SRC.vocab)}\")\n",
        "print(f\"Unique tokens in target (en) vocabulary: {len(TRG.vocab)}\")"
      ]
    },
    {
      "cell_type": "markdown",
      "id": "3686bcfc",
      "metadata": {
        "id": "3686bcfc"
      },
      "source": [
        "El paso final de preparar los datos es crear los iteradores. Estos se pueden iterar para devolver un lote de datos que tendrá un atributo `src` (los tensores de PyTorch\n",
        "que contienen un lote de oraciones de origen numeradas) y un atributo `trg` (los tensores de PyTorch que contienen un batch de oraciones de destino numeradas).\n",
        "\"Numericalized\" es solo una forma elegante de decir que se han convertido de una secuencia de tokens legibles a una secuencia de índices correspondientes, usando el vocabulario.\n",
        "\n",
        "También necesitamos definir un dispositivo `torch.device`. Esto se usa para indicarle a torchText que coloque o no los tensores en la GPU.\n",
        "Usamos la función `torch.cuda.is_available()`, que devolverá True si se detecta una GPU en nuestra computadora. Pasamos este dispositivo al iterador.\n",
        "\n",
        "Cuando obtenemos un lote de ejemplos usando un iterador, debemos asegurarnos de que todas las oraciones de origen tengan la misma longitud,\n",
        "al igual que las oraciones de destino. ¡Afortunadamente, los iteradores de torchText manejan esto por nosotros!\n",
        "\n",
        "Usamos un `BucketIterator` en lugar del `Iterador` estándar, ya que crea lotes de tal manera que minimiza la cantidad de padding en las oraciones de origen y de destino."
      ]
    },
    {
      "cell_type": "code",
      "execution_count": 27,
      "id": "c6fbb387",
      "metadata": {
        "ExecuteTime": {
          "end_time": "2023-08-07T12:10:23.716604Z",
          "start_time": "2023-08-07T12:10:23.695697Z"
        },
        "colab": {
          "base_uri": "https://localhost:8080/"
        },
        "id": "c6fbb387",
        "outputId": "71298109-94ad-4ef9-94c0-2b06c21096ba"
      },
      "outputs": [
        {
          "output_type": "stream",
          "name": "stdout",
          "text": [
            "cuda\n"
          ]
        }
      ],
      "source": [
        "device = torch.device('cuda' if torch.cuda.is_available() else 'cpu')\n",
        "print(device)"
      ]
    },
    {
      "cell_type": "code",
      "execution_count": 28,
      "id": "fa44707d",
      "metadata": {
        "ExecuteTime": {
          "end_time": "2023-08-07T12:10:29.661585Z",
          "start_time": "2023-08-07T12:10:29.630173Z"
        },
        "id": "fa44707d"
      },
      "outputs": [],
      "source": [
        "BATCH_SIZE = 128\n",
        "\n",
        "train_iterator, valid_iterator, test_iterator = BucketIterator.splits(\n",
        "    (train_data, valid_data, test_data),\n",
        "    batch_size = BATCH_SIZE,\n",
        "    device = device)"
      ]
    },
    {
      "cell_type": "markdown",
      "id": "725df266",
      "metadata": {
        "id": "725df266"
      },
      "source": [
        "### Construyendo el Modelo Seq2Seq\n",
        "Vamos a definir nuestro modelo en tres partes, el encoder, el decoder y el modelo Seq2Seq. Este ultimo encapsulará el proceso y transferencia entre los primeros dos.\n",
        "\n",
        "#### Encoder\n",
        "Primero, el encoder, es un LSTM de 2 capas. El paper que estamos implementando usa un LSTM de 4 capas, pero en favor del tiempo de entrenamiento lo reducimos a 2 capas.\n",
        "El concepto de RNN multicapa es fácil de expandir de 2 a 4 capas.\n",
        "\n",
        "Para un RNN multicapa, la oración de entrada, $X$, después de ser embeddida va a la primera capa (inferior) del RNN y los estados ocultos, $H=\\{h_1, h_2, ..., h_T\\}$ ,\n",
        "la salida de esta capa se utiliza como entrada a la RNN en la capa superior. Así, representando cada capa con un superíndice, los hidden states en la primera capa vienen dados por:\n",
        "\n",
        "$$h_t^1 = \\text{EncoderRNN}^1(e(x_t), h_{t-1}^1)$$\n",
        "\n",
        "Las hidden states en la segunda layer son dadas por:\n",
        "\n",
        "$$h_t^2 = \\text{EncoderRNN}^2(h_t^1, h_{t-1}^2)$$\n",
        "\n",
        "El uso de un RNN multicapa también significa que también necesitaremos un hidden state inicial como entrada por capa, $h_0^l$, y también generaremos un vector de contexto por capa, $z^l$.\n",
        "\n",
        "Si desean repasar un poco sobre LSTM pueden consultar este [enlance] (https://colah.github.io/posts/2015-08-Understanding-LSTMs/)\n",
        "Para este laboratorio, es suficiente que recuerden que lo que necesitamos saber es los LSTM, en lugar de simplemente tomar un estado oculto y devolver un nuevo estado oculto por paso de tiempo,\n",
        "también toman y devuelven un *estado de celda*, $c_t$, por paso de tiempo.\n",
        "\n",
        "$$\\begin{align*}\n",
        "h_t &= \\text{RNN}(e(x_t), h_{t-1})\\\\\n",
        "(h_t, c_t) &= \\text{LSTM}(e(x_t), h_{t-1}, c_{t-1})\n",
        "\\end{align*}$$\n",
        "\n",
        "Podemos pensar en $c_t$ como otro tipo de hidden state. Similar a $h_0^l$, $c_0^l$ se inicializará en un tensor de ceros.\n",
        "Además, nuestro vector de contexto ahora será tanto el hidden state final como el estado de celda final, es decir, $z^l = (h_T^l, c_T^l)$.\n",
        "\n",
        "Al extender nuestras ecuaciones multicapa a LSTM, obtenemos:\n",
        "\n",
        "$$\\begin{align*}\n",
        "(h_t^1, c_t^1) &= \\text{EncoderLSTM}^1(e(x_t), (h_{t-1}^1, c_{t-1}^1))\\\\\n",
        "(h_t^2, c_t^2) &= \\text{EncoderLSTM}^2(h_t^1, (h_{t-1}^2, c_{t-1}^2))\n",
        "\\end{align*}$$\n",
        "\n",
        "\n",
        "Observen cómo solo nuestro hidden state de la primera capa se pasa como entrada a la segunda capa, y no el estado de la celda.\n",
        "\n",
        "Así que nuestro codificador se parece a esto:\n",
        "\n",
        "IMAGEN\n",
        "\n",
        "Creamos esto en el código creando un módulo `Encoder`, que requiere que heredemos de `torch.nn.Module` y usemos `super().__init__()` como un código repetitivo.\n",
        "El codificador toma los siguientes argumentos:\n",
        "- `input_dim` es el tamaño/dimensionalidad de los vectores one-hot que se ingresarán al codificador. Esto es igual al tamaño del vocabulario de entrada (fuente).\n",
        "- `emb_dim` es la dimensionalidad de la capa de embedding. Esta capa convierte los vectores one-hot en vectores densos con dimensiones `emb_dim`.\n",
        "- `hid_dim` es la dimensionalidad de los estados ocultos y de celda.\n",
        "- `n_layers` es el número de capas en el RNN.\n",
        "- `dropout` es la cantidad de abandono a utilizar. Este es un parámetro de regularización para evitar el overfitting.\n",
        "Consulte [aqui] (https://www.coursera.org/lecture/deep-neural-network/understanding-dropout-YaGbR) para obtener más detalles sobre dropout.\n",
        "\n",
        "\n",
        "No vamos a discutir la capa de embedding en detalle durante aqui pues ya lo hicimos previamente. Todo lo que necesitamos saber es que hay un paso antes de que las palabras\n",
        "(técnicamente, los índices de las palabras) pasen al RNN, donde las palabras se transforman en vectores. Para leer más sobre embedding de palabras,\n",
        "consulten estos artículos: [1](https://monkeylearn.com/blog/word-embeddings-transform-text-numbers/), [2](http://p.migdal.pl /2017/01/06/rey-hombre-mujer-reina-por qué.html), [3](http://mccormickml.com/2016/04/19/word2vec-tutorial-the-skip-gram-model/ ), [4](http://mccormickml.com/2017/01/11/word2vec-tutorial-part-2-negative-sampling/).\n",
        "\n",
        "La capa de embedding se crea usando `nn.Embedding`, el LSTM con `nn.LSTM` y una capa de dropout con `nn.Dropout`.\n",
        "Consulten la [documentación de PyTorch ] (https://pytorch.org/docs/stable/nn.html) para obtener más información al respecto.\n",
        "\n",
        "Una cosa a tener en cuenta es que el argumento `dropout` para el LSTM es cuánto dropout aplicar entre las capas de un RNN multicapa,\n",
        "es decir, entre la salida de estados ocultos de la capa $l$ y esos mismos estados ocultos que se utilizan para el entrada de la capa $l+1$.\n",
        "\n",
        "En el método `forward`, pasamos la oración fuente, $X$, que se convierte en vectores densos usando la capa `embedding`, y luego se aplica el dropout.\n",
        "Estos embedding luego se pasan a la RNN. A medida que pasamos una secuencia completa a la RNN, ¡automáticamente hará el cálculo recurrente de los estados\n",
        "ocultos en toda la secuencia por nosotros! Tenga en cuenta que no pasamos un estado inicial oculto o de celda al RNN.\n",
        "Esto se debe a que, como se indica en la [documentación](https://pytorch.org/docs/stable/nn.html#torch.nn.LSTM), si no se pasa ningún estado de celda/oculto a la RNN, crea automáticamente un estado inicial de celda/oculto como un tensor de ceros.\n",
        "\n",
        "El RNN devuelve: `outputs` (el hidden state de la capa superior para cada paso de tiempo), `hidden` (el hidden state final para cada capa, $h_T$,\n",
        "apiladas una encima de la otra) y `cell` (la estado de celda final para cada capa, $c_T$, apilados uno encima del otro).\n",
        "\n",
        "Como solo necesitamos los hidden state y de celda finales (para hacer nuestro vector de contexto), `forward` solo devuelve `hidden` y `cell`.\n",
        "\n",
        "Los tamaños de cada uno de los tensores se dejan como comentarios en el código. En esta implementación, `n_directions` siempre será 1, sin embargo,\n",
        "tengan en cuenta que los RNN bidireccionales (cubiertos en el tutorial 3) tendrán `n_directions` como 2."
      ]
    },
    {
      "cell_type": "code",
      "execution_count": 29,
      "id": "1b79c7b4",
      "metadata": {
        "ExecuteTime": {
          "end_time": "2023-08-07T12:10:30.685603Z",
          "start_time": "2023-08-07T12:10:30.659165Z"
        },
        "deletable": false,
        "nbgrader": {
          "cell_type": "code",
          "checksum": "24a7fe486fef7641af76e0308c8553e5",
          "grade": false,
          "grade_id": "cell-819cfe4960d74aaf",
          "locked": false,
          "schema_version": 3,
          "solution": true,
          "task": false
        },
        "id": "1b79c7b4"
      },
      "outputs": [],
      "source": [
        "class Encoder(nn.Module):\n",
        "    def __init__(self, input_dim, emb_dim, hid_dim, n_layers, dropout):\n",
        "        super().__init__()\n",
        "\n",
        "        self.hid_dim = hid_dim\n",
        "        self.n_layers = n_layers\n",
        "\n",
        "        # 1. Embedding layer: Convierte los índices de las palabras a vectores de características\n",
        "        self.embedding = nn.Embedding(input_dim, emb_dim)\n",
        "\n",
        "        # 2. RNN layer (puede ser LSTM o GRU)\n",
        "        self.rnn = nn.LSTM(emb_dim, hid_dim, n_layers, dropout=dropout, bidirectional=True)\n",
        "\n",
        "        # Capa de dropout\n",
        "        self.dropout = nn.Dropout(dropout)\n",
        "\n",
        "    def forward(self, src):\n",
        "        # src = [src len, batch size]\n",
        "\n",
        "        # Aplicamos el embedding y el dropout\n",
        "        embedded = self.dropout(self.embedding(src))\n",
        "\n",
        "        # embedded = [src len, batch size, emb dim]\n",
        "\n",
        "        # Pasamos la secuencia embebida por la RNN\n",
        "        outputs, (hidden, cell) = self.rnn(embedded)\n",
        "\n",
        "        # outputs = [src len, batch size, hid dim * n directions]\n",
        "        # hidden = [n layers * n directions, batch size, hid dim]\n",
        "        # cell = [n layers * n directions, batch size, hid dim]\n",
        "\n",
        "        # La LSTM bidireccional genera un hidden y cell de tamaño 2 * hid_dim, por eso tomamos el primer elemento\n",
        "        # de la dirección oculta, lo que da un tamaño [n_layers, batch_size, hid_dim] (sin la duplicación por direcciones)\n",
        "        hidden = hidden[:self.n_layers]  # Seleccionamos solo las capas del codificador\n",
        "        cell = cell[:self.n_layers]  # Seleccionamos solo las capas del codificador\n",
        "\n",
        "        # Outputs es la salida de la capa oculta más alta, por lo que lo usamos directamente\n",
        "        return hidden, cell\n"
      ]
    },
    {
      "cell_type": "markdown",
      "id": "e85acaa4",
      "metadata": {
        "deletable": false,
        "editable": false,
        "nbgrader": {
          "cell_type": "markdown",
          "checksum": "d9c175e73457d779955f7a23deb52244",
          "grade": false,
          "grade_id": "cell-5f5382d652012307",
          "locked": true,
          "schema_version": 3,
          "solution": false,
          "task": false
        },
        "id": "e85acaa4"
      },
      "source": [
        "#### Decoder\n",
        "Ahora pasaremos a construir el decoder, el cual también será una 2-layer (4 en el paper) LSTM.\n",
        "\n",
        "![](assets/seq2seq3.png)\n",
        "\n",
        "\n",
        "La clase `Decoder` hace un solo paso de decodificación, es decir, genera un solo token por paso. La primera capa recibirá un hidden state y de celda del paso de tiempo anterior,\n",
        "$(s_{t-1}^1, c_{t-1}^1)$, y lo alimenta a través del LSTM con el token incrustado actual, $y_t$, para producir un nuevo hidden state y de celda, $(s_t ^1, c_t^1)$.\n",
        "Las capas subsiguientes usarán el estado oculto de la capa inferior, $s_t^{l-1}$, y los estados ocultos y de celda anteriores de su capa, $(s_{t-1}^l, c_{t-1) }^l)$.\n",
        "Esto proporciona ecuaciones muy similares a las del codificador.\n",
        "\n",
        "$$\\begin{align*}\n",
        "(s_t^1, c_t^1) = \\text{DecoderLSTM}^1(d(y_t), (s_{t-1}^1, c_{t-1}^1))\\\\\n",
        "(s_t^2, c_t^2) = \\text{DecoderLSTM}^2(s_t^1, (s_{t-1}^2, c_{t-1}^2))\n",
        "\\end{align*}$$\n",
        "\n",
        "\n",
        "Recuerde que los estados iniciales ocultos y de celda de nuestro decoder son nuestros vectores de contexto, que son los estados finales ocultos y de celda de nuestro decoder de la misma capa,\n",
        "es decir, $(s_0^l,c_0^l)=z^l=(h_T^l,c_T^l)$.\n",
        "\n",
        "Luego pasamos el hidden state desde la capa superior del RNN, $s_t^L$, a través de una capa lineal, $f$, para hacer una predicción de cuál será el siguiente token en la secuencia de destino (salida).\n",
        "debería ser, $\\hat{y}_{t+1}$.\n",
        "\n",
        "$$\\sombrero{y}_{t+1} = f(s_t^L)$$\n",
        "\n",
        "Los argumentos y la inicialización son similares a la clase `Encoder`, excepto que ahora tenemos un `output_dim` que es el tamaño del vocabulario para la salida/objetivo.\n",
        "También está la adición de la capa 'Lineal', utilizada para hacer las predicciones desde el hidden state de la capa superior.\n",
        "\n",
        "Dentro del método `forward`, aceptamos un batch de tokens de entrada, hidden state anteriores y estados de celda anteriores. Como solo estamos decodificando un token a la vez,\n",
        "los tokens de entrada siempre tendrán una longitud de secuencia de 1. \"Aflojamos\" los tokens de entrada para agregar una dimensión de longitud de oración de 1. Luego, de forma similar al encoder,\n",
        "pasamos a través de una capa de embedding y aplicamos dropout. Este batch de tokens embeddidos luego se pasa al RNN con los estados ocultos y de celda anteriores.\n",
        "Esto produce una \"salida\" (hidden state de la capa superior de la RNN), un nuevo \"hidden state\" (uno para cada capa, apilados uno encima del otro) y una nueva \"celda\".\n",
        "estado (también uno por capa, apilados uno encima del otro). Luego pasamos la `salida` (después de deshacernos de la dimensión de longitud de la oración) a través de la capa lineal para recibir nuestra\n",
        "`predicción`. Luego devolvemos la `predicción`, el nuevo hidden state y el nuevo estado `celular`.\n",
        "\n",
        "**Nota**: como siempre tenemos una longitud de secuencia de 1, podríamos usar `nn.LSTMCell`, en lugar de `nn.LSTM`, ya que está diseñado para manejar un lote de entradas que no son\n",
        "necesariamente en una secuencia. `nn.LSTMCell` es solo una sola celda y `nn.LSTM` es un envoltorio alrededor de múltiples celdas potenciales. Usando `nn.LSTMCell` en este caso\n",
        "significaría que no tenemos que `descomprimir` para agregar una dimensión de longitud de secuencia falsa, pero necesitaríamos un `nn.LSTMCell` por capa en el decoder y para asegurar que cada `nn.LSTMCell`\n",
        "recibe el hidden state inicial correcto del codificador. Todo esto hace que el código sea menos conciso, de ahí la decisión de seguir con el `nn.LSTM` regular."
      ]
    },
    {
      "cell_type": "code",
      "execution_count": 30,
      "id": "caa53fcf",
      "metadata": {
        "ExecuteTime": {
          "end_time": "2023-08-07T12:10:33.673863Z",
          "start_time": "2023-08-07T12:10:33.642635Z"
        },
        "deletable": false,
        "nbgrader": {
          "cell_type": "code",
          "checksum": "9062a639f1c3bd604869ed020a65ea7e",
          "grade": false,
          "grade_id": "cell-84131f43444e74fa",
          "locked": false,
          "schema_version": 3,
          "solution": true,
          "task": false
        },
        "id": "caa53fcf"
      },
      "outputs": [],
      "source": [
        "import torch\n",
        "import torch.nn as nn\n",
        "\n",
        "class Decoder(nn.Module):\n",
        "    def __init__(self, output_dim, emb_dim, hid_dim, n_layers, dropout):\n",
        "        super().__init__()\n",
        "\n",
        "        # Definimos los atributos básicos\n",
        "        self.output_dim = output_dim\n",
        "        self.hid_dim = hid_dim\n",
        "        self.n_layers = n_layers\n",
        "\n",
        "        # 1. Capa de embedding para las palabras de salida\n",
        "        self.embedding = nn.Embedding(output_dim, emb_dim)\n",
        "\n",
        "        # 2. Definimos la capa RNN (LSTM o GRU) para procesar las secuencias generadas\n",
        "        self.rnn = nn.LSTM(emb_dim, hid_dim, n_layers, dropout=dropout)\n",
        "\n",
        "        # 3. Capa final que genera la predicción\n",
        "        self.fc_out = nn.Linear(hid_dim, output_dim)\n",
        "\n",
        "        # Capa de dropout\n",
        "        self.dropout = nn.Dropout(dropout)\n",
        "\n",
        "    def forward(self, input, hidden, cell):\n",
        "        # input = [batch size] (es un índice de la palabra actual)\n",
        "        # hidden = [n layers, batch size, hid dim]\n",
        "        # cell = [n layers, batch size, hid dim]\n",
        "\n",
        "        # Añadimos una dimensión para que el input sea compatible con el RNN\n",
        "        input = input.unsqueeze(0)  # [1, batch size]\n",
        "\n",
        "        # 1. Embedding de la palabra de entrada\n",
        "        embedded = self.dropout(self.embedding(input))  # [1, batch size, emb dim]\n",
        "\n",
        "        # 2. Procesamos la entrada a través de la RNN\n",
        "        output, (hidden, cell) = self.rnn(embedded, (hidden, cell))\n",
        "\n",
        "        # output = [1, batch size, hid dim] (la longitud de la secuencia siempre es 1 en el decodificador)\n",
        "        # hidden = [n layers, batch size, hid dim]\n",
        "        # cell = [n layers, batch size, hid dim]\n",
        "\n",
        "        # 3. Realizamos la predicción\n",
        "        prediction = self.fc_out(output.squeeze(0))  # [batch size, output dim]\n",
        "\n",
        "        return prediction, hidden, cell\n"
      ]
    },
    {
      "cell_type": "markdown",
      "id": "c2746420",
      "metadata": {
        "id": "c2746420"
      },
      "source": [
        "### Seq2Seq\n",
        "\n",
        "\n",
        "Para la parte final de la implementación, implementaremos el modelo seq2seq. Esto manejará:\n",
        "- recibir la oración de entrada/fuente\n",
        "- usar el encoder para producir los vectores de contexto\n",
        "- usar el decoder para producir la salida predicha/oración objetivo\n",
        "\n",
        "Nuestro modelo completo se verá así:\n",
        "\n",
        "![](activos/seq2seq4.png)\n",
        "\n",
        "El modelo `Seq2Seq` incluye un `Encoder`, un `Decoder` y un `dispositivo` (usado para colocar tensores en la GPU, si existe).\n",
        "\n",
        "Para esta implementación, debemos asegurarnos de que el número de capas y las dimensiones ocultas (y de celda) sean iguales en el 'Encoder' y 'Decoder'.\n",
        "Este no es siempre el caso, no necesariamente necesitamos la misma cantidad de capas o los mismos tamaños de dimensiones ocultas en un modelo de sequence to sequence.\n",
        "Sin embargo, si hiciéramos algo como tener un número diferente de capas, tendríamos que tomar decisiones sobre cómo manejar esto.\n",
        "Por ejemplo, si nuestro encoder tiene 2 capas y nuestro decoder solo tiene 1, ¿cómo se maneja esto? ¿Promediamos los dos vectores de contexto generados por el decoder?\n",
        "¿Pasamos ambos por una capa lineal? ¿Solo usamos el vector de contexto de la capa más alta? Etc.\n",
        "\n",
        "Nuestro método \"forward\" toma la oración fuente, la oración objetivo y un ratio de teacher-forcing. El ratio de teacher-forcing se usa cuando entrenamos nuestro modelo.\n",
        "Al decodificar, en cada paso, predeciremos cuál será el próximo token en la secuencia de destino de los tokens anteriores decodificados, $\\hat{y}_{t+1}=f(s_t^L)$.\n",
        "Con una probabilidad igual a la tasa de teacher forcing (`teacher_forcing_ratio`), utilizaremos el siguiente token real de la secuencia como entrada al decoder durante el siguiente paso.\n",
        "Sin embargo, con probabilidad `1 - Teacher_forcing_ratio`, usaremos el token que el modelo predijo como la próxima entrada al modelo, incluso si no coincide con el siguiente token real en la secuencia.\n",
        "\n",
        "Lo primero que hacemos en el método `forward` es crear un tensor `outputs` que almacenará todas nuestras predicciones, $\\hat{Y}$.\n",
        "\n",
        "Luego alimentamos la oración de entrada/fuente, `src`, en el encoder y recibimos los estados ocultos y de celda finales.\n",
        "\n",
        "La primera entrada al decoder es el token de inicio de secuencia (`<sos>`). Como nuestro tensor `trg` ya tiene el token `<sos>` agregado (desde cuando definimos el `init_token` en nuestro campo `TRG`)\n",
        "obtenemos nuestro $y_1$ cortándolo. Sabemos qué tan largas deben ser nuestras oraciones de destino (`max_len`), por lo que las repetimos muchas veces. El último token ingresado en el decoder es el **antes** del token `<eos>` - el `<eos>`\n",
        "el token nunca se ingresa en el decoder.\n",
        "\n",
        "Durante cada iteración del ciclo, nosotros:\n",
        "- pasar la entrada, los estados de celda anteriores ocultos y anteriores ($y_t, s_{t-1}, c_{t-1}$) al decoder\n",
        "- recibir una predicción, el siguiente estado oculto y el siguiente estado de celda ($\\hat{y}_{t+1}, s_{t}, c_{t}$) del decoder\n",
        "- colocar nuestra predicción, $\\hat{y}_{t+1}$/`output` en nuestro tensor de predicciones, $\\hat{Y}$/`outputs`\n",
        "- decidir si vamos a \"fuerza de maestros\" o no\n",
        "     - si lo hacemos, la siguiente 'entrada' es el siguiente token de verdad fundamental en la secuencia, $y_{t+1}$/`trg[t]`\n",
        "     - si no lo hacemos, la siguiente `entrada` es el siguiente token predicho en la secuencia, $\\hat{y}_{t+1}$/`top1`, que obtenemos al hacer un `argmax` sobre el tensor de salida\n",
        "    \n",
        "Una vez que hemos hecho todas nuestras predicciones, devolvemos nuestro tensor lleno de predicciones, $\\hat{Y}$/`outputs`.\n",
        "\n",
        "**Nota**: nuestro ccilo decodificador comienza en 1, no en 0. Esto significa que el elemento 0 de nuestro tensor de `salidas` sigue siendo todo ceros. Así que nuestras `trg` y `outputs` se parecen a:\n",
        "\n",
        "$$\\begin{alinear*}\n",
        "\\text{trg} = [<sos>, &y_1, y_2, y_3, <eos>]\\\\\n",
        "\\text{resultados} = [0, &\\hat{y}_1, \\hat{y}_2, \\hat{y}_3, <eos>]\n",
        "\\end{align*}$$\n",
        "\n",
        "Posteriormente cuando calculamos la pérdida, cortamos el primer elemento de cada tensor para obtener:\n",
        "\n",
        "$$\\begin{alinear*}\n",
        "\\text{trg} = [&y_1, y_2, y_3, <eos>]\\\\\n",
        "\\text{salidas} = [&\\hat{y}_1, \\hat{y}_2, \\hat{y}_3, <eos>]\n",
        "\\end{align*}$$"
      ]
    },
    {
      "cell_type": "code",
      "execution_count": 32,
      "id": "7f50e76b",
      "metadata": {
        "ExecuteTime": {
          "end_time": "2023-08-07T12:10:34.696215Z",
          "start_time": "2023-08-07T12:10:34.680165Z"
        },
        "deletable": false,
        "nbgrader": {
          "cell_type": "code",
          "checksum": "a053dcb6ba362103fad11691a8c9cdfd",
          "grade": false,
          "grade_id": "cell-3cf708a546f162a5",
          "locked": false,
          "schema_version": 3,
          "solution": true,
          "task": false
        },
        "id": "7f50e76b"
      },
      "outputs": [],
      "source": [
        "class Seq2Seq(nn.Module):\n",
        "    def __init__(self, encoder, decoder, device):\n",
        "        super().__init__()\n",
        "\n",
        "        self.encoder = encoder\n",
        "        self.decoder = decoder\n",
        "        self.device = device\n",
        "\n",
        "        assert encoder.hid_dim == decoder.hid_dim, \\\n",
        "            \"Hidden dimensions of encoder and decoder must be equal!\"\n",
        "        assert encoder.n_layers == decoder.n_layers, \\\n",
        "            \"Encoder and decoder must have equal number of layers!\"\n",
        "\n",
        "    def forward(self, src, trg, teacher_forcing_ratio = 0.5):\n",
        "        # src = [src len, batch size]\n",
        "        # trg = [trg len, batch size]\n",
        "        # teacher_forcing_ratio is the probability to use teacher forcing\n",
        "\n",
        "        batch_size = trg.shape[1]\n",
        "        trg_len = trg.shape[0]\n",
        "        trg_vocab_size = self.decoder.output_dim\n",
        "\n",
        "        # tensor to store decoder outputs\n",
        "        outputs = torch.zeros(trg_len, batch_size, trg_vocab_size).to(self.device)\n",
        "\n",
        "        # last hidden state of the encoder is used as the initial hidden state of the decoder\n",
        "        hidden, cell = self.encoder(src)\n",
        "\n",
        "        # first input to the decoder is the <sos> tokens\n",
        "        input = trg[0,:]\n",
        "\n",
        "        for t in range(1, trg_len):\n",
        "            # Insert input token embedding, previous hidden, and previous cell states\n",
        "            # Receive output tensor (predictions) and new hidden and cell states\n",
        "            output, hidden, cell = self.decoder(input, hidden, cell)\n",
        "\n",
        "            # Place predictions in a tensor holding predictions for each token\n",
        "            outputs[t] = output\n",
        "\n",
        "            # Decide if we are going to use teacher forcing or not\n",
        "            teacher_force = random.random() < teacher_forcing_ratio\n",
        "\n",
        "            # Get the highest predicted token from our predictions\n",
        "            top1 = output.argmax(1)\n",
        "\n",
        "            # If teacher forcing, use actual next token as next input\n",
        "            # If not, use predicted token\n",
        "            input = trg[t] if teacher_force else top1\n",
        "\n",
        "        return outputs\n"
      ]
    },
    {
      "cell_type": "markdown",
      "id": "e6723282",
      "metadata": {
        "deletable": false,
        "editable": false,
        "nbgrader": {
          "cell_type": "markdown",
          "checksum": "206f7ba1031ec9e31fc458fbe10ce7a4",
          "grade": false,
          "grade_id": "cell-8024abbda3c1898a",
          "locked": true,
          "schema_version": 3,
          "solution": false,
          "task": false
        },
        "id": "e6723282"
      },
      "source": [
        "### Training Seq2Seq Model\n",
        "\n",
        "Ahora que tenemos nuestro modelo implementado, podemos comenzar a entrenarlo.\n",
        "\n",
        "Primero, inicializaremos nuestro modelo. Como se mencionó anteriormente, las dimensiones de entrada y salida están definidas por el tamaño del vocabulario.\n",
        "Las dimensiones de embedding y el dropout del encoder y el decoder pueden ser diferentes, pero el número de capas y el tamaño de los estados ocultos/de celda deben ser los mismos.\n",
        "\n",
        "Luego definimos el encoder, el decoder y luego nuestro modelo Seq2Seq, que colocamos en el \"device\".\n",
        "\n",
        "\n",
        "El siguiente paso es inicializar los pesos de nuestro modelo. En el paper afirman que inicializan todos los pesos a partir de una distribución uniforme entre -0,08 y +0,08, es decir, $\\mathcal{U}(-0,08, 0,08)$.\n",
        "\n",
        "Inicializamos los pesos en PyTorch creando una función que \"aplicamos\" a nuestro modelo. Al usar `apply`, se llamará a la función `init_weights` en cada módulo y submódulo dentro de nuestro modelo.\n",
        "Para cada módulo, recorremos todos los parámetros y los muestreamos desde una distribución uniforme con `nn.init.uniform_`.\n",
        "\n",
        "\n",
        "También definimos una función que calculará el número de parámetros entrenables en el modelo.\n",
        "\n",
        "\n",
        "Definimos nuestro optimizador, que usamos para actualizar nuestros parámetros en el ciclo de entrenamiento. Consulte [esta publicación](http://ruder.io/optimizing-gradient-descent/)\n",
        "para obtener información sobre diferentes optimizadores. Aquí usaremos a Adam\n",
        "\n",
        "A continuación, definimos nuestra función de pérdida. La función `CrossEntropyLoss` calcula tanto el log softmax como la log-likelihood negativo de nuestras predicciones.\n",
        "\n",
        "Nuestra función de pérdida calcula la pérdida promedio por token, sin embargo, al pasar el índice del token `<pad>` como el argumento `ignore_index`, ignoramos la pérdida siempre que el token de destino sea un token de relleno (padding)."
      ]
    },
    {
      "cell_type": "code",
      "execution_count": 33,
      "id": "ac8eac57",
      "metadata": {
        "ExecuteTime": {
          "end_time": "2023-08-07T12:10:41.167607Z",
          "start_time": "2023-08-07T12:10:35.024487Z"
        },
        "id": "ac8eac57"
      },
      "outputs": [],
      "source": [
        "INPUT_DIM = len(SRC.vocab)\n",
        "OUTPUT_DIM = len(TRG.vocab)\n",
        "ENC_EMB_DIM = 256\n",
        "DEC_EMB_DIM = 256\n",
        "HID_DIM = 512\n",
        "N_LAYERS = 2\n",
        "ENC_DROPOUT = 0.5\n",
        "DEC_DROPOUT = 0.5\n",
        "\n",
        "enc = Encoder(INPUT_DIM, ENC_EMB_DIM, HID_DIM, N_LAYERS, ENC_DROPOUT)\n",
        "dec = Decoder(OUTPUT_DIM, DEC_EMB_DIM, HID_DIM, N_LAYERS, DEC_DROPOUT)\n",
        "\n",
        "model = Seq2Seq(enc, dec, device).to(device)"
      ]
    },
    {
      "cell_type": "code",
      "execution_count": 34,
      "id": "04cb6773",
      "metadata": {
        "ExecuteTime": {
          "end_time": "2023-08-07T12:10:41.857202Z",
          "start_time": "2023-08-07T12:10:41.472920Z"
        },
        "colab": {
          "base_uri": "https://localhost:8080/"
        },
        "id": "04cb6773",
        "outputId": "0ad9162a-c09c-41a8-d17d-87892c8ef7d8"
      },
      "outputs": [
        {
          "output_type": "execute_result",
          "data": {
            "text/plain": [
              "Seq2Seq(\n",
              "  (encoder): Encoder(\n",
              "    (embedding): Embedding(7853, 256)\n",
              "    (rnn): LSTM(256, 512, num_layers=2, dropout=0.5, bidirectional=True)\n",
              "    (dropout): Dropout(p=0.5, inplace=False)\n",
              "  )\n",
              "  (decoder): Decoder(\n",
              "    (embedding): Embedding(5893, 256)\n",
              "    (rnn): LSTM(256, 512, num_layers=2, dropout=0.5)\n",
              "    (fc_out): Linear(in_features=512, out_features=5893, bias=True)\n",
              "    (dropout): Dropout(p=0.5, inplace=False)\n",
              "  )\n",
              ")"
            ]
          },
          "metadata": {},
          "execution_count": 34
        }
      ],
      "source": [
        "def init_weights(m):\n",
        "    for name, param in m.named_parameters():\n",
        "        nn.init.uniform_(param.data, -0.08, 0.08)\n",
        "\n",
        "model.apply(init_weights)"
      ]
    },
    {
      "cell_type": "code",
      "execution_count": 35,
      "id": "f7d5fffe",
      "metadata": {
        "ExecuteTime": {
          "end_time": "2023-08-07T12:10:42.370872Z",
          "start_time": "2023-08-07T12:10:42.339409Z"
        },
        "colab": {
          "base_uri": "https://localhost:8080/"
        },
        "id": "f7d5fffe",
        "outputId": "3dc7d3c8-ff13-427b-b059-1cc7a8ff03de"
      },
      "outputs": [
        {
          "output_type": "stream",
          "name": "stdout",
          "text": [
            "El modelo tiene 19,673,861 parametros entrenables\n"
          ]
        }
      ],
      "source": [
        "def count_parameters(model):\n",
        "    return sum(p.numel() for p in model.parameters() if p.requires_grad)\n",
        "\n",
        "print(f'El modelo tiene {count_parameters(model):,} parametros entrenables')"
      ]
    },
    {
      "cell_type": "code",
      "execution_count": 36,
      "id": "c927da4e",
      "metadata": {
        "ExecuteTime": {
          "end_time": "2023-08-07T12:10:42.863269Z",
          "start_time": "2023-08-07T12:10:42.847270Z"
        },
        "id": "c927da4e"
      },
      "outputs": [],
      "source": [
        "optimizer = optim.Adam(model.parameters())\n"
      ]
    },
    {
      "cell_type": "code",
      "execution_count": 37,
      "id": "1655eb2b",
      "metadata": {
        "ExecuteTime": {
          "end_time": "2023-08-07T12:10:43.263371Z",
          "start_time": "2023-08-07T12:10:43.247371Z"
        },
        "id": "1655eb2b"
      },
      "outputs": [],
      "source": [
        "TRG_PAD_IDX = TRG.vocab.stoi[TRG.pad_token]\n",
        "\n",
        "criterion = nn.CrossEntropyLoss(ignore_index = TRG_PAD_IDX)"
      ]
    },
    {
      "cell_type": "markdown",
      "id": "8aae5ea8",
      "metadata": {
        "id": "8aae5ea8"
      },
      "source": [
        "A continuación, definiremos nuestro ciclo de entrenamiento.\n",
        "\n",
        "Primero, configuraremos el modelo en \"modo de entrenamiento\" con `model.train()`. Esto activará el dropout (y batch normalization, que no estamos usando) y luego iterará a través de nuestro iterador de datos.\n",
        "\n",
        "Como se indicó anteriormente, nuestro ciclo decodificador comienza en 1, no en 0. Esto significa que el elemento 0 de nuestro tensor de \"salidas\" sigue siendo todo ceros. Así que nuestras `trg` y `outputs` se parecen a:\n",
        "\n",
        "$$\\begin{alinear*}\n",
        "\\text{trg} = [<sos>, &y_1, y_2, y_3, <eos>]\\\\\n",
        "\\text{resultados} = [0, &\\hat{y}_1, \\hat{y}_2, \\hat{y}_3, <eos>]\n",
        "\\end{align*}$$\n",
        "\n",
        "Aquí, cuando calculamos la pérdida, cortamos el primer elemento de cada tensor para obtener:\n",
        "\n",
        "$$\\begin{alinear*}\n",
        "\\text{trg} = [&y_1, y_2, y_3, <eos>]\\\\\n",
        "\\text{salidas} = [&\\hat{y}_1, \\hat{y}_2, \\hat{y}_3, <eos>]\n",
        "\\end{align*}$$\n",
        "\n",
        "En cada iteración:\n",
        "- obtener las oraciones de origen y de destino del lote, $X$ y $Y$\n",
        "- poner a cero los gradientes calculados a partir del último lote\n",
        "- introduzca el origen y el destino en el modelo para obtener el resultado, $\\hat{Y}$\n",
        "- como la función de pérdida solo funciona en entradas 2d con objetivos 1d, necesitamos aplanar cada uno de ellos con `.view`\n",
        "     - cortamos la primera columna de los tensores de salida y destino como se mencionó anteriormente\n",
        "- calcula los gradientes con `loss.backward()`\n",
        "- recorte los gradientes para evitar que exploten (un problema común en RNN)\n",
        "- actualizar los parámetros de nuestro modelo haciendo un paso optimizador\n",
        "- sumar el valor de la pérdida a un total acumulado\n",
        "\n",
        "Finalmente, devolvemos la pérdida que se promedia en todos los batches."
      ]
    },
    {
      "cell_type": "code",
      "execution_count": 38,
      "id": "7a2c0aff",
      "metadata": {
        "ExecuteTime": {
          "end_time": "2023-08-07T12:10:43.863678Z",
          "start_time": "2023-08-07T12:10:43.847678Z"
        },
        "deletable": false,
        "nbgrader": {
          "cell_type": "code",
          "checksum": "6ae8296e47d370619304a765919b81b2",
          "grade": false,
          "grade_id": "cell-5e78bda9de1a9bb9",
          "locked": false,
          "schema_version": 3,
          "solution": true,
          "task": false
        },
        "id": "7a2c0aff"
      },
      "outputs": [],
      "source": [
        "def train(model, iterator, optimizer, criterion, clip):\n",
        "    model.train()\n",
        "\n",
        "    epoch_loss = 0\n",
        "\n",
        "    for i, batch in enumerate(iterator):\n",
        "        src = batch.src\n",
        "        trg = batch.trg\n",
        "\n",
        "        # Optimizer zero grad\n",
        "        optimizer.zero_grad()  # Limpiar los gradientes acumulados\n",
        "\n",
        "        output = model(src, trg)\n",
        "\n",
        "        # trg = [trg len, batch size]\n",
        "        # output = [trg len, batch size, output dim]\n",
        "\n",
        "        output_dim = output.shape[-1]\n",
        "\n",
        "        output = output[1:].view(-1, output_dim)  # Eliminar el primer token (<sos>) de la secuencia\n",
        "        trg = trg[1:].view(-1)  # Eliminar el primer token (<sos>) del target\n",
        "\n",
        "        # trg = [(trg len - 1) * batch size]\n",
        "        # output = [(trg len - 1) * batch size, output dim]\n",
        "\n",
        "        # Cálculo de la pérdida\n",
        "        loss = criterion(output, trg)  # Usar el criterio (función de pérdida, como CrossEntropyLoss)\n",
        "\n",
        "        loss.backward()  # Retropropagación\n",
        "\n",
        "        # Limitar los gradientes\n",
        "        torch.nn.utils.clip_grad_norm_(model.parameters(), clip)\n",
        "\n",
        "        optimizer.step()  # Actualizar parámetros\n",
        "\n",
        "        epoch_loss += loss.item()  # Sumar la pérdida de este batch\n",
        "\n",
        "    return epoch_loss / len(iterator)  # Promedio de la pérdida de todo el epoch\n"
      ]
    },
    {
      "cell_type": "markdown",
      "id": "8efc0050",
      "metadata": {
        "id": "8efc0050"
      },
      "source": [
        "Nuestro ciclo de evaluación es similar a nuestro ciclo de entrenamiento, sin embargo, como no estamos actualizando ningún parámetro, no necesitamos pasar un optimizador o un valor de clip.\n",
        "\n",
        "Debemos recordar poner el modelo en modo de evaluación con `model.eval()`. Esto desactivará el dropout (y la batch normalization, si se usa).\n",
        "\n",
        "Usamos el bloque `with torch.no_grad()` para garantizar que no se calculen gradientes dentro del bloque. Esto reduce el consumo de memoria y acelera el proceso.\n",
        "\n",
        "El ciclo de iteración es similar (sin las actualizaciones de parámetros); sin embargo, debemos asegurarnos de desactivar el forzado del maestro para la evaluación. }\n",
        "Esto hará que el modelo solo use sus propias predicciones para hacer más predicciones dentro de una oración, lo que refleja cómo se usaría en la implementación."
      ]
    },
    {
      "cell_type": "code",
      "execution_count": 39,
      "id": "75e62dbc",
      "metadata": {
        "ExecuteTime": {
          "end_time": "2023-08-07T12:10:44.241992Z",
          "start_time": "2023-08-07T12:10:44.225998Z"
        },
        "id": "75e62dbc"
      },
      "outputs": [],
      "source": [
        "def evaluate(model, iterator, criterion):\n",
        "\n",
        "    model.eval()\n",
        "\n",
        "    epoch_loss = 0\n",
        "\n",
        "    with torch.no_grad():\n",
        "\n",
        "        for i, batch in enumerate(iterator):\n",
        "\n",
        "            src = batch.src\n",
        "            trg = batch.trg\n",
        "\n",
        "            output = model(src, trg, 0) #turn off teacher forcing\n",
        "\n",
        "            #trg = [trg len, batch size]\n",
        "            #output = [trg len, batch size, output dim]\n",
        "\n",
        "            output_dim = output.shape[-1]\n",
        "\n",
        "            output = output[1:].view(-1, output_dim)\n",
        "            trg = trg[1:].view(-1)\n",
        "\n",
        "            #trg = [(trg len - 1) * batch size]\n",
        "            #output = [(trg len - 1) * batch size, output dim]\n",
        "\n",
        "            loss = criterion(output, trg)\n",
        "\n",
        "            epoch_loss += loss.item()\n",
        "\n",
        "    return epoch_loss / len(iterator)"
      ]
    },
    {
      "cell_type": "markdown",
      "id": "d4e696c7",
      "metadata": {
        "id": "d4e696c7"
      },
      "source": [
        "A continuación, crearemos una función que usaremos para decirnos cuánto tarda una época.\n"
      ]
    },
    {
      "cell_type": "code",
      "execution_count": 40,
      "id": "68230473",
      "metadata": {
        "ExecuteTime": {
          "end_time": "2023-08-07T12:10:44.738487Z",
          "start_time": "2023-08-07T12:10:44.726276Z"
        },
        "id": "68230473"
      },
      "outputs": [],
      "source": [
        "def epoch_time(start_time, end_time):\n",
        "    elapsed_time = end_time - start_time\n",
        "    elapsed_mins = int(elapsed_time / 60)\n",
        "    elapsed_secs = int(elapsed_time - (elapsed_mins * 60))\n",
        "    return elapsed_mins, elapsed_secs"
      ]
    },
    {
      "cell_type": "markdown",
      "id": "3fe81d58",
      "metadata": {
        "id": "3fe81d58"
      },
      "source": [
        "Ahora sí, ¡empecemos a entrenar a nuestro modelo!\n",
        "\n",
        "En cada época, comprobaremos si nuestro modelo ha logrado la mejor pérdida de validación hasta el momento. Si es así, actualizaremos nuestra mejor pérdida de validación y guardaremos los parámetros de nuestro modelo\n",
        "(llamado `state_dict` en PyTorch). Luego, cuando lleguemos a probar nuestro modelo, usaremos los parámetros guardados para lograr la mejor pérdida de validación.\n",
        "\n",
        "Estaremos mostrando tanto la pérdida como la perplejidad en cada época. Es más fácil ver un cambio en la perplejidad que un cambio en la pérdida ya que los números son mucho mayores.\n",
        "\n",
        "Ademas, cargaremos los parámetros (`state_dict`) que dieron a nuestro modelo la mejor pérdida de validación y ejecutaremos el modelo en el conjunto de prueba."
      ]
    },
    {
      "cell_type": "code",
      "execution_count": 41,
      "id": "7b0215ac",
      "metadata": {
        "ExecuteTime": {
          "end_time": "2023-08-07T12:18:56.768139Z",
          "start_time": "2023-08-07T12:10:46.646109Z"
        },
        "deletable": false,
        "nbgrader": {
          "cell_type": "code",
          "checksum": "3abe75f3dec72dbef634b76eecb3cb54",
          "grade": false,
          "grade_id": "cell-c2a7405dde118a6e",
          "locked": false,
          "schema_version": 3,
          "solution": true,
          "task": false
        },
        "colab": {
          "base_uri": "https://localhost:8080/"
        },
        "id": "7b0215ac",
        "outputId": "1690b9c6-7791-408c-e160-5c654568c855"
      },
      "outputs": [
        {
          "output_type": "stream",
          "name": "stdout",
          "text": [
            "Epoch: 01 | Time: 0m 51s\n",
            "\tTrain Loss: 4.990 | Train PPL: 146.946\n",
            "\t Val. Loss: 4.792 |  Val. PPL: 120.491\n",
            "Epoch: 02 | Time: 0m 49s\n",
            "\tTrain Loss: 4.340 | Train PPL:  76.718\n",
            "\t Val. Loss: 4.573 |  Val. PPL:  96.816\n",
            "Epoch: 03 | Time: 0m 51s\n",
            "\tTrain Loss: 4.024 | Train PPL:  55.950\n",
            "\t Val. Loss: 4.360 |  Val. PPL:  78.251\n",
            "Epoch: 04 | Time: 0m 50s\n",
            "\tTrain Loss: 3.728 | Train PPL:  41.610\n",
            "\t Val. Loss: 4.168 |  Val. PPL:  64.582\n",
            "Epoch: 05 | Time: 0m 50s\n",
            "\tTrain Loss: 3.479 | Train PPL:  32.419\n",
            "\t Val. Loss: 3.955 |  Val. PPL:  52.192\n",
            "Epoch: 06 | Time: 0m 51s\n",
            "\tTrain Loss: 3.279 | Train PPL:  26.556\n",
            "\t Val. Loss: 3.818 |  Val. PPL:  45.533\n",
            "Epoch: 07 | Time: 0m 51s\n",
            "\tTrain Loss: 3.117 | Train PPL:  22.570\n",
            "\t Val. Loss: 3.681 |  Val. PPL:  39.682\n",
            "Epoch: 08 | Time: 0m 51s\n",
            "\tTrain Loss: 2.956 | Train PPL:  19.216\n",
            "\t Val. Loss: 3.608 |  Val. PPL:  36.879\n",
            "Epoch: 09 | Time: 0m 51s\n",
            "\tTrain Loss: 2.816 | Train PPL:  16.703\n",
            "\t Val. Loss: 3.563 |  Val. PPL:  35.266\n",
            "Epoch: 10 | Time: 0m 50s\n",
            "\tTrain Loss: 2.719 | Train PPL:  15.159\n",
            "\t Val. Loss: 3.583 |  Val. PPL:  35.994\n"
          ]
        }
      ],
      "source": [
        "import time\n",
        "import math\n",
        "import torch\n",
        "\n",
        "# Definir los hiperparámetros\n",
        "N_EPOCHS = 10  # Definir el número de épocas (puedes ajustarlo según sea necesario)\n",
        "CLIP = 1  # Limitar el gradiente (puedes ajustarlo si es necesario)\n",
        "\n",
        "best_valid_loss = float('inf')\n",
        "\n",
        "# Iterar sobre las épocas\n",
        "for epoch in range(N_EPOCHS):\n",
        "\n",
        "    start_time = time.time()  # Medir el tiempo de inicio\n",
        "\n",
        "    # Entrenar el modelo\n",
        "    train_loss = train(model, train_iterator, optimizer, criterion, CLIP)\n",
        "\n",
        "    # Evaluar el modelo con el conjunto de validación\n",
        "    valid_loss = evaluate(model, valid_iterator, criterion)\n",
        "\n",
        "    end_time = time.time()  # Medir el tiempo de finalización\n",
        "\n",
        "    # Calcular el tiempo de la época\n",
        "    epoch_mins, epoch_secs = epoch_time(start_time, end_time)\n",
        "\n",
        "    # Verificar si el loss de validación es el mejor hasta ahora\n",
        "    if valid_loss < best_valid_loss:\n",
        "        best_valid_loss = valid_loss\n",
        "        # Guardar el modelo con el mejor loss de validación\n",
        "        torch.save(model.state_dict(), 'tut1-model.pt')\n",
        "\n",
        "    # Mostrar los resultados de la época\n",
        "    print(f'Epoch: {epoch+1:02} | Time: {epoch_mins}m {epoch_secs}s')\n",
        "    print(f'\\tTrain Loss: {train_loss:.3f} | Train PPL: {math.exp(train_loss):7.3f}')\n",
        "    print(f'\\t Val. Loss: {valid_loss:.3f} |  Val. PPL: {math.exp(valid_loss):7.3f}')\n"
      ]
    },
    {
      "cell_type": "code",
      "execution_count": 51,
      "id": "71971818",
      "metadata": {
        "ExecuteTime": {
          "end_time": "2023-08-07T22:26:39.976008Z",
          "start_time": "2023-08-07T22:26:39.653650Z"
        },
        "deletable": false,
        "editable": false,
        "nbgrader": {
          "cell_type": "code",
          "checksum": "6f8a150031eecd843b79d77d31d64804",
          "grade": true,
          "grade_id": "cell-b70f37945f5a9981",
          "locked": true,
          "points": 50,
          "schema_version": 3,
          "solution": false,
          "task": false
        },
        "colab": {
          "base_uri": "https://localhost:8080/",
          "height": 128
        },
        "id": "71971818",
        "outputId": "295a626c-a9ee-4007-d78d-2896e873b293"
      },
      "outputs": [
        {
          "output_type": "display_data",
          "data": {
            "text/plain": [
              "<IPython.core.display.HTML object>"
            ],
            "text/html": [
              "\n",
              "        <div class=\"alert alert-box alert-success\">\n",
              "        <h1> <!--{id:\"CORRECTMARK\", marks:\"25\"}--> \n",
              "         ✓ [25 marks] \n",
              "         </h1> </div>"
            ]
          },
          "metadata": {}
        },
        {
          "output_type": "display_data",
          "data": {
            "text/plain": [
              "<IPython.core.display.HTML object>"
            ],
            "text/html": [
              "\n",
              "        <div class=\"alert alert-box alert-success\">\n",
              "        <h1> <!--{id:\"CORRECTMARK\", marks:\"25\"}--> \n",
              "         ✓ [25 marks] \n",
              "         </h1> </div>"
            ]
          },
          "metadata": {}
        }
      ],
      "source": [
        "# Se valuara que el loss de training sea menor a 4 y el de validacion a 4.5\n",
        "\n",
        "with tick.marks(25):\n",
        "    assert compare_numbers(new_representation(train_loss), \"3c3d\", '0x1.0000000000000p+2')\n",
        "\n",
        "with tick.marks(25):\n",
        "    assert compare_numbers(new_representation(valid_loss), \"3c3d\", '0x1.2000000000000p+2')"
      ]
    },
    {
      "cell_type": "code",
      "execution_count": 52,
      "id": "fe2c01e5",
      "metadata": {
        "ExecuteTime": {
          "end_time": "2023-08-07T12:25:14.650820Z",
          "start_time": "2023-08-07T12:25:12.622015Z"
        },
        "colab": {
          "base_uri": "https://localhost:8080/"
        },
        "id": "fe2c01e5",
        "outputId": "f1c1b33e-7614-49e4-ade4-cc2a1c86eafc"
      },
      "outputs": [
        {
          "output_type": "stream",
          "name": "stdout",
          "text": [
            "| Test Loss: 3.537 | Test PPL:  34.350 |\n"
          ]
        }
      ],
      "source": [
        "model.load_state_dict(torch.load('tut1-model.pt'))\n",
        "\n",
        "test_loss = evaluate(model, test_iterator, criterion)\n",
        "\n",
        "print(f'| Test Loss: {test_loss:.3f} | Test PPL: {math.exp(test_loss):7.3f} |')"
      ]
    },
    {
      "cell_type": "code",
      "execution_count": 53,
      "id": "a77cbb7c",
      "metadata": {
        "deletable": false,
        "editable": false,
        "nbgrader": {
          "cell_type": "code",
          "checksum": "58fd9a560ef4d1a143e87ce331286237",
          "grade": true,
          "grade_id": "cell-e94ae9af3a4c26ff",
          "locked": true,
          "points": 0,
          "schema_version": 3,
          "solution": false,
          "task": false
        },
        "colab": {
          "base_uri": "https://localhost:8080/",
          "height": 109
        },
        "id": "a77cbb7c",
        "outputId": "eb216494-de93-4296-b36e-c71d82aa12df"
      },
      "outputs": [
        {
          "output_type": "stream",
          "name": "stdout",
          "text": [
            "\n",
            "La fraccion de abajo muestra su rendimiento basado en las partes visibles de este laboratorio\n"
          ]
        },
        {
          "output_type": "display_data",
          "data": {
            "text/plain": [
              "<IPython.core.display.HTML object>"
            ],
            "text/html": [
              "<!--{id:\"TOTALMARK\",marks:\"50\", available:\"50\"}  -->\n",
              "        \n",
              "        <h1> 50 / 50 marks (100.0%) </h1>\n",
              "        "
            ]
          },
          "metadata": {}
        }
      ],
      "source": [
        "\n",
        "print()\n",
        "print(\"La fraccion de abajo muestra su rendimiento basado en las partes visibles de este laboratorio\")\n",
        "tick.summarise_marks() #"
      ]
    }
  ],
  "metadata": {
    "hide_input": false,
    "kernelspec": {
      "display_name": "Python 3",
      "name": "python3"
    },
    "language_info": {
      "codemirror_mode": {
        "name": "ipython",
        "version": 3
      },
      "file_extension": ".py",
      "mimetype": "text/x-python",
      "name": "python",
      "nbconvert_exporter": "python",
      "pygments_lexer": "ipython3",
      "version": "3.11.9"
    },
    "toc": {
      "base_numbering": 1,
      "nav_menu": {},
      "number_sections": true,
      "sideBar": true,
      "skip_h1_title": false,
      "title_cell": "Table of Contents",
      "title_sidebar": "Contents",
      "toc_cell": false,
      "toc_position": {},
      "toc_section_display": true,
      "toc_window_display": false
    },
    "varInspector": {
      "cols": {
        "lenName": 16,
        "lenType": 16,
        "lenVar": 40
      },
      "kernels_config": {
        "python": {
          "delete_cmd_postfix": "",
          "delete_cmd_prefix": "del ",
          "library": "var_list.py",
          "varRefreshCmd": "print(var_dic_list())"
        },
        "r": {
          "delete_cmd_postfix": ") ",
          "delete_cmd_prefix": "rm(",
          "library": "var_list.r",
          "varRefreshCmd": "cat(var_dic_list()) "
        }
      },
      "types_to_exclude": [
        "module",
        "function",
        "builtin_function_or_method",
        "instance",
        "_Feature"
      ],
      "window_display": false
    },
    "colab": {
      "provenance": [],
      "gpuType": "T4",
      "include_colab_link": true
    },
    "accelerator": "GPU",
    "widgets": {
      "application/vnd.jupyter.widget-state+json": {
        "4a9b40b6eefd49f38a9a42fb59a94685": {
          "model_module": "@jupyter-widgets/controls",
          "model_name": "HBoxModel",
          "model_module_version": "1.5.0",
          "state": {
            "_dom_classes": [],
            "_model_module": "@jupyter-widgets/controls",
            "_model_module_version": "1.5.0",
            "_model_name": "HBoxModel",
            "_view_count": null,
            "_view_module": "@jupyter-widgets/controls",
            "_view_module_version": "1.5.0",
            "_view_name": "HBoxView",
            "box_style": "",
            "children": [
              "IPY_MODEL_a500e27e221b441fb78a9f61d6c4e61c",
              "IPY_MODEL_ac23d6799a564b2b9e9430645880cb17",
              "IPY_MODEL_fc7cabe68c164cf8afa4edcf63679d7b"
            ],
            "layout": "IPY_MODEL_df264ba5a37347d3b83ac35b2e2afb7c"
          }
        },
        "a500e27e221b441fb78a9f61d6c4e61c": {
          "model_module": "@jupyter-widgets/controls",
          "model_name": "HTMLModel",
          "model_module_version": "1.5.0",
          "state": {
            "_dom_classes": [],
            "_model_module": "@jupyter-widgets/controls",
            "_model_module_version": "1.5.0",
            "_model_name": "HTMLModel",
            "_view_count": null,
            "_view_module": "@jupyter-widgets/controls",
            "_view_module_version": "1.5.0",
            "_view_name": "HTMLView",
            "description": "",
            "description_tooltip": null,
            "layout": "IPY_MODEL_42de2f379419489faa5be16f8e22b9b6",
            "placeholder": "​",
            "style": "IPY_MODEL_a8d791cef4774d00a65c3ddd488902ff",
            "value": "README.md: "
          }
        },
        "ac23d6799a564b2b9e9430645880cb17": {
          "model_module": "@jupyter-widgets/controls",
          "model_name": "FloatProgressModel",
          "model_module_version": "1.5.0",
          "state": {
            "_dom_classes": [],
            "_model_module": "@jupyter-widgets/controls",
            "_model_module_version": "1.5.0",
            "_model_name": "FloatProgressModel",
            "_view_count": null,
            "_view_module": "@jupyter-widgets/controls",
            "_view_module_version": "1.5.0",
            "_view_name": "ProgressView",
            "bar_style": "success",
            "description": "",
            "description_tooltip": null,
            "layout": "IPY_MODEL_9f0a157608ea469c82c3ac468a29f876",
            "max": 1,
            "min": 0,
            "orientation": "horizontal",
            "style": "IPY_MODEL_071da15077aa477e897530974c448878",
            "value": 1
          }
        },
        "fc7cabe68c164cf8afa4edcf63679d7b": {
          "model_module": "@jupyter-widgets/controls",
          "model_name": "HTMLModel",
          "model_module_version": "1.5.0",
          "state": {
            "_dom_classes": [],
            "_model_module": "@jupyter-widgets/controls",
            "_model_module_version": "1.5.0",
            "_model_name": "HTMLModel",
            "_view_count": null,
            "_view_module": "@jupyter-widgets/controls",
            "_view_module_version": "1.5.0",
            "_view_name": "HTMLView",
            "description": "",
            "description_tooltip": null,
            "layout": "IPY_MODEL_1c810ff0f27e476ca8d7537db00add0b",
            "placeholder": "​",
            "style": "IPY_MODEL_63ed053cd9d841b39175a6ec1d5bf605",
            "value": " 5.58k/? [00:00&lt;00:00, 502kB/s]"
          }
        },
        "df264ba5a37347d3b83ac35b2e2afb7c": {
          "model_module": "@jupyter-widgets/base",
          "model_name": "LayoutModel",
          "model_module_version": "1.2.0",
          "state": {
            "_model_module": "@jupyter-widgets/base",
            "_model_module_version": "1.2.0",
            "_model_name": "LayoutModel",
            "_view_count": null,
            "_view_module": "@jupyter-widgets/base",
            "_view_module_version": "1.2.0",
            "_view_name": "LayoutView",
            "align_content": null,
            "align_items": null,
            "align_self": null,
            "border": null,
            "bottom": null,
            "display": null,
            "flex": null,
            "flex_flow": null,
            "grid_area": null,
            "grid_auto_columns": null,
            "grid_auto_flow": null,
            "grid_auto_rows": null,
            "grid_column": null,
            "grid_gap": null,
            "grid_row": null,
            "grid_template_areas": null,
            "grid_template_columns": null,
            "grid_template_rows": null,
            "height": null,
            "justify_content": null,
            "justify_items": null,
            "left": null,
            "margin": null,
            "max_height": null,
            "max_width": null,
            "min_height": null,
            "min_width": null,
            "object_fit": null,
            "object_position": null,
            "order": null,
            "overflow": null,
            "overflow_x": null,
            "overflow_y": null,
            "padding": null,
            "right": null,
            "top": null,
            "visibility": null,
            "width": null
          }
        },
        "42de2f379419489faa5be16f8e22b9b6": {
          "model_module": "@jupyter-widgets/base",
          "model_name": "LayoutModel",
          "model_module_version": "1.2.0",
          "state": {
            "_model_module": "@jupyter-widgets/base",
            "_model_module_version": "1.2.0",
            "_model_name": "LayoutModel",
            "_view_count": null,
            "_view_module": "@jupyter-widgets/base",
            "_view_module_version": "1.2.0",
            "_view_name": "LayoutView",
            "align_content": null,
            "align_items": null,
            "align_self": null,
            "border": null,
            "bottom": null,
            "display": null,
            "flex": null,
            "flex_flow": null,
            "grid_area": null,
            "grid_auto_columns": null,
            "grid_auto_flow": null,
            "grid_auto_rows": null,
            "grid_column": null,
            "grid_gap": null,
            "grid_row": null,
            "grid_template_areas": null,
            "grid_template_columns": null,
            "grid_template_rows": null,
            "height": null,
            "justify_content": null,
            "justify_items": null,
            "left": null,
            "margin": null,
            "max_height": null,
            "max_width": null,
            "min_height": null,
            "min_width": null,
            "object_fit": null,
            "object_position": null,
            "order": null,
            "overflow": null,
            "overflow_x": null,
            "overflow_y": null,
            "padding": null,
            "right": null,
            "top": null,
            "visibility": null,
            "width": null
          }
        },
        "a8d791cef4774d00a65c3ddd488902ff": {
          "model_module": "@jupyter-widgets/controls",
          "model_name": "DescriptionStyleModel",
          "model_module_version": "1.5.0",
          "state": {
            "_model_module": "@jupyter-widgets/controls",
            "_model_module_version": "1.5.0",
            "_model_name": "DescriptionStyleModel",
            "_view_count": null,
            "_view_module": "@jupyter-widgets/base",
            "_view_module_version": "1.2.0",
            "_view_name": "StyleView",
            "description_width": ""
          }
        },
        "9f0a157608ea469c82c3ac468a29f876": {
          "model_module": "@jupyter-widgets/base",
          "model_name": "LayoutModel",
          "model_module_version": "1.2.0",
          "state": {
            "_model_module": "@jupyter-widgets/base",
            "_model_module_version": "1.2.0",
            "_model_name": "LayoutModel",
            "_view_count": null,
            "_view_module": "@jupyter-widgets/base",
            "_view_module_version": "1.2.0",
            "_view_name": "LayoutView",
            "align_content": null,
            "align_items": null,
            "align_self": null,
            "border": null,
            "bottom": null,
            "display": null,
            "flex": null,
            "flex_flow": null,
            "grid_area": null,
            "grid_auto_columns": null,
            "grid_auto_flow": null,
            "grid_auto_rows": null,
            "grid_column": null,
            "grid_gap": null,
            "grid_row": null,
            "grid_template_areas": null,
            "grid_template_columns": null,
            "grid_template_rows": null,
            "height": null,
            "justify_content": null,
            "justify_items": null,
            "left": null,
            "margin": null,
            "max_height": null,
            "max_width": null,
            "min_height": null,
            "min_width": null,
            "object_fit": null,
            "object_position": null,
            "order": null,
            "overflow": null,
            "overflow_x": null,
            "overflow_y": null,
            "padding": null,
            "right": null,
            "top": null,
            "visibility": null,
            "width": "20px"
          }
        },
        "071da15077aa477e897530974c448878": {
          "model_module": "@jupyter-widgets/controls",
          "model_name": "ProgressStyleModel",
          "model_module_version": "1.5.0",
          "state": {
            "_model_module": "@jupyter-widgets/controls",
            "_model_module_version": "1.5.0",
            "_model_name": "ProgressStyleModel",
            "_view_count": null,
            "_view_module": "@jupyter-widgets/base",
            "_view_module_version": "1.2.0",
            "_view_name": "StyleView",
            "bar_color": null,
            "description_width": ""
          }
        },
        "1c810ff0f27e476ca8d7537db00add0b": {
          "model_module": "@jupyter-widgets/base",
          "model_name": "LayoutModel",
          "model_module_version": "1.2.0",
          "state": {
            "_model_module": "@jupyter-widgets/base",
            "_model_module_version": "1.2.0",
            "_model_name": "LayoutModel",
            "_view_count": null,
            "_view_module": "@jupyter-widgets/base",
            "_view_module_version": "1.2.0",
            "_view_name": "LayoutView",
            "align_content": null,
            "align_items": null,
            "align_self": null,
            "border": null,
            "bottom": null,
            "display": null,
            "flex": null,
            "flex_flow": null,
            "grid_area": null,
            "grid_auto_columns": null,
            "grid_auto_flow": null,
            "grid_auto_rows": null,
            "grid_column": null,
            "grid_gap": null,
            "grid_row": null,
            "grid_template_areas": null,
            "grid_template_columns": null,
            "grid_template_rows": null,
            "height": null,
            "justify_content": null,
            "justify_items": null,
            "left": null,
            "margin": null,
            "max_height": null,
            "max_width": null,
            "min_height": null,
            "min_width": null,
            "object_fit": null,
            "object_position": null,
            "order": null,
            "overflow": null,
            "overflow_x": null,
            "overflow_y": null,
            "padding": null,
            "right": null,
            "top": null,
            "visibility": null,
            "width": null
          }
        },
        "63ed053cd9d841b39175a6ec1d5bf605": {
          "model_module": "@jupyter-widgets/controls",
          "model_name": "DescriptionStyleModel",
          "model_module_version": "1.5.0",
          "state": {
            "_model_module": "@jupyter-widgets/controls",
            "_model_module_version": "1.5.0",
            "_model_name": "DescriptionStyleModel",
            "_view_count": null,
            "_view_module": "@jupyter-widgets/base",
            "_view_module_version": "1.2.0",
            "_view_name": "StyleView",
            "description_width": ""
          }
        },
        "e8030f9844f14f9d80b5ace027f467d1": {
          "model_module": "@jupyter-widgets/controls",
          "model_name": "HBoxModel",
          "model_module_version": "1.5.0",
          "state": {
            "_dom_classes": [],
            "_model_module": "@jupyter-widgets/controls",
            "_model_module_version": "1.5.0",
            "_model_name": "HBoxModel",
            "_view_count": null,
            "_view_module": "@jupyter-widgets/controls",
            "_view_module_version": "1.5.0",
            "_view_name": "HBoxView",
            "box_style": "",
            "children": [
              "IPY_MODEL_1852ed0a5d9147498153f74efc5e610d",
              "IPY_MODEL_72c3ca9219fe4ec681509101647ef212",
              "IPY_MODEL_e4caa5c6038c4aa1a5b9a197d5819a37"
            ],
            "layout": "IPY_MODEL_c867b62b8fae4e1f9c7a01697f64abc8"
          }
        },
        "1852ed0a5d9147498153f74efc5e610d": {
          "model_module": "@jupyter-widgets/controls",
          "model_name": "HTMLModel",
          "model_module_version": "1.5.0",
          "state": {
            "_dom_classes": [],
            "_model_module": "@jupyter-widgets/controls",
            "_model_module_version": "1.5.0",
            "_model_name": "HTMLModel",
            "_view_count": null,
            "_view_module": "@jupyter-widgets/controls",
            "_view_module_version": "1.5.0",
            "_view_name": "HTMLView",
            "description": "",
            "description_tooltip": null,
            "layout": "IPY_MODEL_ef4d2671b6454f899e4c59bbb74ad70a",
            "placeholder": "​",
            "style": "IPY_MODEL_7c5e32ebd3044f219e9fb7fd5582a070",
            "value": "train-00000-of-00001.parquet: 100%"
          }
        },
        "72c3ca9219fe4ec681509101647ef212": {
          "model_module": "@jupyter-widgets/controls",
          "model_name": "FloatProgressModel",
          "model_module_version": "1.5.0",
          "state": {
            "_dom_classes": [],
            "_model_module": "@jupyter-widgets/controls",
            "_model_module_version": "1.5.0",
            "_model_name": "FloatProgressModel",
            "_view_count": null,
            "_view_module": "@jupyter-widgets/controls",
            "_view_module_version": "1.5.0",
            "_view_name": "ProgressView",
            "bar_style": "success",
            "description": "",
            "description_tooltip": null,
            "layout": "IPY_MODEL_de24025f4d2342f982576c110319077e",
            "max": 2068237,
            "min": 0,
            "orientation": "horizontal",
            "style": "IPY_MODEL_7b735aef142249459911b7ca5a02c089",
            "value": 2068237
          }
        },
        "e4caa5c6038c4aa1a5b9a197d5819a37": {
          "model_module": "@jupyter-widgets/controls",
          "model_name": "HTMLModel",
          "model_module_version": "1.5.0",
          "state": {
            "_dom_classes": [],
            "_model_module": "@jupyter-widgets/controls",
            "_model_module_version": "1.5.0",
            "_model_name": "HTMLModel",
            "_view_count": null,
            "_view_module": "@jupyter-widgets/controls",
            "_view_module_version": "1.5.0",
            "_view_name": "HTMLView",
            "description": "",
            "description_tooltip": null,
            "layout": "IPY_MODEL_84999e9617bf4d1ba9e8b5a50f479453",
            "placeholder": "​",
            "style": "IPY_MODEL_2d06a836a1104f8494260aceddeb0a89",
            "value": " 2.07M/2.07M [00:00&lt;00:00, 46.2MB/s]"
          }
        },
        "c867b62b8fae4e1f9c7a01697f64abc8": {
          "model_module": "@jupyter-widgets/base",
          "model_name": "LayoutModel",
          "model_module_version": "1.2.0",
          "state": {
            "_model_module": "@jupyter-widgets/base",
            "_model_module_version": "1.2.0",
            "_model_name": "LayoutModel",
            "_view_count": null,
            "_view_module": "@jupyter-widgets/base",
            "_view_module_version": "1.2.0",
            "_view_name": "LayoutView",
            "align_content": null,
            "align_items": null,
            "align_self": null,
            "border": null,
            "bottom": null,
            "display": null,
            "flex": null,
            "flex_flow": null,
            "grid_area": null,
            "grid_auto_columns": null,
            "grid_auto_flow": null,
            "grid_auto_rows": null,
            "grid_column": null,
            "grid_gap": null,
            "grid_row": null,
            "grid_template_areas": null,
            "grid_template_columns": null,
            "grid_template_rows": null,
            "height": null,
            "justify_content": null,
            "justify_items": null,
            "left": null,
            "margin": null,
            "max_height": null,
            "max_width": null,
            "min_height": null,
            "min_width": null,
            "object_fit": null,
            "object_position": null,
            "order": null,
            "overflow": null,
            "overflow_x": null,
            "overflow_y": null,
            "padding": null,
            "right": null,
            "top": null,
            "visibility": null,
            "width": null
          }
        },
        "ef4d2671b6454f899e4c59bbb74ad70a": {
          "model_module": "@jupyter-widgets/base",
          "model_name": "LayoutModel",
          "model_module_version": "1.2.0",
          "state": {
            "_model_module": "@jupyter-widgets/base",
            "_model_module_version": "1.2.0",
            "_model_name": "LayoutModel",
            "_view_count": null,
            "_view_module": "@jupyter-widgets/base",
            "_view_module_version": "1.2.0",
            "_view_name": "LayoutView",
            "align_content": null,
            "align_items": null,
            "align_self": null,
            "border": null,
            "bottom": null,
            "display": null,
            "flex": null,
            "flex_flow": null,
            "grid_area": null,
            "grid_auto_columns": null,
            "grid_auto_flow": null,
            "grid_auto_rows": null,
            "grid_column": null,
            "grid_gap": null,
            "grid_row": null,
            "grid_template_areas": null,
            "grid_template_columns": null,
            "grid_template_rows": null,
            "height": null,
            "justify_content": null,
            "justify_items": null,
            "left": null,
            "margin": null,
            "max_height": null,
            "max_width": null,
            "min_height": null,
            "min_width": null,
            "object_fit": null,
            "object_position": null,
            "order": null,
            "overflow": null,
            "overflow_x": null,
            "overflow_y": null,
            "padding": null,
            "right": null,
            "top": null,
            "visibility": null,
            "width": null
          }
        },
        "7c5e32ebd3044f219e9fb7fd5582a070": {
          "model_module": "@jupyter-widgets/controls",
          "model_name": "DescriptionStyleModel",
          "model_module_version": "1.5.0",
          "state": {
            "_model_module": "@jupyter-widgets/controls",
            "_model_module_version": "1.5.0",
            "_model_name": "DescriptionStyleModel",
            "_view_count": null,
            "_view_module": "@jupyter-widgets/base",
            "_view_module_version": "1.2.0",
            "_view_name": "StyleView",
            "description_width": ""
          }
        },
        "de24025f4d2342f982576c110319077e": {
          "model_module": "@jupyter-widgets/base",
          "model_name": "LayoutModel",
          "model_module_version": "1.2.0",
          "state": {
            "_model_module": "@jupyter-widgets/base",
            "_model_module_version": "1.2.0",
            "_model_name": "LayoutModel",
            "_view_count": null,
            "_view_module": "@jupyter-widgets/base",
            "_view_module_version": "1.2.0",
            "_view_name": "LayoutView",
            "align_content": null,
            "align_items": null,
            "align_self": null,
            "border": null,
            "bottom": null,
            "display": null,
            "flex": null,
            "flex_flow": null,
            "grid_area": null,
            "grid_auto_columns": null,
            "grid_auto_flow": null,
            "grid_auto_rows": null,
            "grid_column": null,
            "grid_gap": null,
            "grid_row": null,
            "grid_template_areas": null,
            "grid_template_columns": null,
            "grid_template_rows": null,
            "height": null,
            "justify_content": null,
            "justify_items": null,
            "left": null,
            "margin": null,
            "max_height": null,
            "max_width": null,
            "min_height": null,
            "min_width": null,
            "object_fit": null,
            "object_position": null,
            "order": null,
            "overflow": null,
            "overflow_x": null,
            "overflow_y": null,
            "padding": null,
            "right": null,
            "top": null,
            "visibility": null,
            "width": null
          }
        },
        "7b735aef142249459911b7ca5a02c089": {
          "model_module": "@jupyter-widgets/controls",
          "model_name": "ProgressStyleModel",
          "model_module_version": "1.5.0",
          "state": {
            "_model_module": "@jupyter-widgets/controls",
            "_model_module_version": "1.5.0",
            "_model_name": "ProgressStyleModel",
            "_view_count": null,
            "_view_module": "@jupyter-widgets/base",
            "_view_module_version": "1.2.0",
            "_view_name": "StyleView",
            "bar_color": null,
            "description_width": ""
          }
        },
        "84999e9617bf4d1ba9e8b5a50f479453": {
          "model_module": "@jupyter-widgets/base",
          "model_name": "LayoutModel",
          "model_module_version": "1.2.0",
          "state": {
            "_model_module": "@jupyter-widgets/base",
            "_model_module_version": "1.2.0",
            "_model_name": "LayoutModel",
            "_view_count": null,
            "_view_module": "@jupyter-widgets/base",
            "_view_module_version": "1.2.0",
            "_view_name": "LayoutView",
            "align_content": null,
            "align_items": null,
            "align_self": null,
            "border": null,
            "bottom": null,
            "display": null,
            "flex": null,
            "flex_flow": null,
            "grid_area": null,
            "grid_auto_columns": null,
            "grid_auto_flow": null,
            "grid_auto_rows": null,
            "grid_column": null,
            "grid_gap": null,
            "grid_row": null,
            "grid_template_areas": null,
            "grid_template_columns": null,
            "grid_template_rows": null,
            "height": null,
            "justify_content": null,
            "justify_items": null,
            "left": null,
            "margin": null,
            "max_height": null,
            "max_width": null,
            "min_height": null,
            "min_width": null,
            "object_fit": null,
            "object_position": null,
            "order": null,
            "overflow": null,
            "overflow_x": null,
            "overflow_y": null,
            "padding": null,
            "right": null,
            "top": null,
            "visibility": null,
            "width": null
          }
        },
        "2d06a836a1104f8494260aceddeb0a89": {
          "model_module": "@jupyter-widgets/controls",
          "model_name": "DescriptionStyleModel",
          "model_module_version": "1.5.0",
          "state": {
            "_model_module": "@jupyter-widgets/controls",
            "_model_module_version": "1.5.0",
            "_model_name": "DescriptionStyleModel",
            "_view_count": null,
            "_view_module": "@jupyter-widgets/base",
            "_view_module_version": "1.2.0",
            "_view_name": "StyleView",
            "description_width": ""
          }
        },
        "da7b215fbe9b474b956055989dafa1cf": {
          "model_module": "@jupyter-widgets/controls",
          "model_name": "HBoxModel",
          "model_module_version": "1.5.0",
          "state": {
            "_dom_classes": [],
            "_model_module": "@jupyter-widgets/controls",
            "_model_module_version": "1.5.0",
            "_model_name": "HBoxModel",
            "_view_count": null,
            "_view_module": "@jupyter-widgets/controls",
            "_view_module_version": "1.5.0",
            "_view_name": "HBoxView",
            "box_style": "",
            "children": [
              "IPY_MODEL_7db7164975e449f8ac1af8caaabbc792",
              "IPY_MODEL_7547523ec88b40bb82d3461637da0126",
              "IPY_MODEL_c6db0e350b1a469888f7eb44996247bc"
            ],
            "layout": "IPY_MODEL_491a60ce044449b7855747f67e7ba8cb"
          }
        },
        "7db7164975e449f8ac1af8caaabbc792": {
          "model_module": "@jupyter-widgets/controls",
          "model_name": "HTMLModel",
          "model_module_version": "1.5.0",
          "state": {
            "_dom_classes": [],
            "_model_module": "@jupyter-widgets/controls",
            "_model_module_version": "1.5.0",
            "_model_name": "HTMLModel",
            "_view_count": null,
            "_view_module": "@jupyter-widgets/controls",
            "_view_module_version": "1.5.0",
            "_view_name": "HTMLView",
            "description": "",
            "description_tooltip": null,
            "layout": "IPY_MODEL_e91380b857724cf09a0633749518e1ae",
            "placeholder": "​",
            "style": "IPY_MODEL_358d3e2d382748638b955c1426d42494",
            "value": "test-00000-of-00001.parquet: 100%"
          }
        },
        "7547523ec88b40bb82d3461637da0126": {
          "model_module": "@jupyter-widgets/controls",
          "model_name": "FloatProgressModel",
          "model_module_version": "1.5.0",
          "state": {
            "_dom_classes": [],
            "_model_module": "@jupyter-widgets/controls",
            "_model_module_version": "1.5.0",
            "_model_name": "FloatProgressModel",
            "_view_count": null,
            "_view_module": "@jupyter-widgets/controls",
            "_view_module_version": "1.5.0",
            "_view_name": "ProgressView",
            "bar_style": "success",
            "description": "",
            "description_tooltip": null,
            "layout": "IPY_MODEL_94bf7b6ecdff4f52a5fdda2bcf161b84",
            "max": 1112032,
            "min": 0,
            "orientation": "horizontal",
            "style": "IPY_MODEL_043f050160a544379dc898c486f83950",
            "value": 1112032
          }
        },
        "c6db0e350b1a469888f7eb44996247bc": {
          "model_module": "@jupyter-widgets/controls",
          "model_name": "HTMLModel",
          "model_module_version": "1.5.0",
          "state": {
            "_dom_classes": [],
            "_model_module": "@jupyter-widgets/controls",
            "_model_module_version": "1.5.0",
            "_model_name": "HTMLModel",
            "_view_count": null,
            "_view_module": "@jupyter-widgets/controls",
            "_view_module_version": "1.5.0",
            "_view_name": "HTMLView",
            "description": "",
            "description_tooltip": null,
            "layout": "IPY_MODEL_572a2f370fc843f19759c968961adca6",
            "placeholder": "​",
            "style": "IPY_MODEL_c2b10caec1c645e794a913fe7ab795c2",
            "value": " 1.11M/1.11M [00:00&lt;00:00, 50.1MB/s]"
          }
        },
        "491a60ce044449b7855747f67e7ba8cb": {
          "model_module": "@jupyter-widgets/base",
          "model_name": "LayoutModel",
          "model_module_version": "1.2.0",
          "state": {
            "_model_module": "@jupyter-widgets/base",
            "_model_module_version": "1.2.0",
            "_model_name": "LayoutModel",
            "_view_count": null,
            "_view_module": "@jupyter-widgets/base",
            "_view_module_version": "1.2.0",
            "_view_name": "LayoutView",
            "align_content": null,
            "align_items": null,
            "align_self": null,
            "border": null,
            "bottom": null,
            "display": null,
            "flex": null,
            "flex_flow": null,
            "grid_area": null,
            "grid_auto_columns": null,
            "grid_auto_flow": null,
            "grid_auto_rows": null,
            "grid_column": null,
            "grid_gap": null,
            "grid_row": null,
            "grid_template_areas": null,
            "grid_template_columns": null,
            "grid_template_rows": null,
            "height": null,
            "justify_content": null,
            "justify_items": null,
            "left": null,
            "margin": null,
            "max_height": null,
            "max_width": null,
            "min_height": null,
            "min_width": null,
            "object_fit": null,
            "object_position": null,
            "order": null,
            "overflow": null,
            "overflow_x": null,
            "overflow_y": null,
            "padding": null,
            "right": null,
            "top": null,
            "visibility": null,
            "width": null
          }
        },
        "e91380b857724cf09a0633749518e1ae": {
          "model_module": "@jupyter-widgets/base",
          "model_name": "LayoutModel",
          "model_module_version": "1.2.0",
          "state": {
            "_model_module": "@jupyter-widgets/base",
            "_model_module_version": "1.2.0",
            "_model_name": "LayoutModel",
            "_view_count": null,
            "_view_module": "@jupyter-widgets/base",
            "_view_module_version": "1.2.0",
            "_view_name": "LayoutView",
            "align_content": null,
            "align_items": null,
            "align_self": null,
            "border": null,
            "bottom": null,
            "display": null,
            "flex": null,
            "flex_flow": null,
            "grid_area": null,
            "grid_auto_columns": null,
            "grid_auto_flow": null,
            "grid_auto_rows": null,
            "grid_column": null,
            "grid_gap": null,
            "grid_row": null,
            "grid_template_areas": null,
            "grid_template_columns": null,
            "grid_template_rows": null,
            "height": null,
            "justify_content": null,
            "justify_items": null,
            "left": null,
            "margin": null,
            "max_height": null,
            "max_width": null,
            "min_height": null,
            "min_width": null,
            "object_fit": null,
            "object_position": null,
            "order": null,
            "overflow": null,
            "overflow_x": null,
            "overflow_y": null,
            "padding": null,
            "right": null,
            "top": null,
            "visibility": null,
            "width": null
          }
        },
        "358d3e2d382748638b955c1426d42494": {
          "model_module": "@jupyter-widgets/controls",
          "model_name": "DescriptionStyleModel",
          "model_module_version": "1.5.0",
          "state": {
            "_model_module": "@jupyter-widgets/controls",
            "_model_module_version": "1.5.0",
            "_model_name": "DescriptionStyleModel",
            "_view_count": null,
            "_view_module": "@jupyter-widgets/base",
            "_view_module_version": "1.2.0",
            "_view_name": "StyleView",
            "description_width": ""
          }
        },
        "94bf7b6ecdff4f52a5fdda2bcf161b84": {
          "model_module": "@jupyter-widgets/base",
          "model_name": "LayoutModel",
          "model_module_version": "1.2.0",
          "state": {
            "_model_module": "@jupyter-widgets/base",
            "_model_module_version": "1.2.0",
            "_model_name": "LayoutModel",
            "_view_count": null,
            "_view_module": "@jupyter-widgets/base",
            "_view_module_version": "1.2.0",
            "_view_name": "LayoutView",
            "align_content": null,
            "align_items": null,
            "align_self": null,
            "border": null,
            "bottom": null,
            "display": null,
            "flex": null,
            "flex_flow": null,
            "grid_area": null,
            "grid_auto_columns": null,
            "grid_auto_flow": null,
            "grid_auto_rows": null,
            "grid_column": null,
            "grid_gap": null,
            "grid_row": null,
            "grid_template_areas": null,
            "grid_template_columns": null,
            "grid_template_rows": null,
            "height": null,
            "justify_content": null,
            "justify_items": null,
            "left": null,
            "margin": null,
            "max_height": null,
            "max_width": null,
            "min_height": null,
            "min_width": null,
            "object_fit": null,
            "object_position": null,
            "order": null,
            "overflow": null,
            "overflow_x": null,
            "overflow_y": null,
            "padding": null,
            "right": null,
            "top": null,
            "visibility": null,
            "width": null
          }
        },
        "043f050160a544379dc898c486f83950": {
          "model_module": "@jupyter-widgets/controls",
          "model_name": "ProgressStyleModel",
          "model_module_version": "1.5.0",
          "state": {
            "_model_module": "@jupyter-widgets/controls",
            "_model_module_version": "1.5.0",
            "_model_name": "ProgressStyleModel",
            "_view_count": null,
            "_view_module": "@jupyter-widgets/base",
            "_view_module_version": "1.2.0",
            "_view_name": "StyleView",
            "bar_color": null,
            "description_width": ""
          }
        },
        "572a2f370fc843f19759c968961adca6": {
          "model_module": "@jupyter-widgets/base",
          "model_name": "LayoutModel",
          "model_module_version": "1.2.0",
          "state": {
            "_model_module": "@jupyter-widgets/base",
            "_model_module_version": "1.2.0",
            "_model_name": "LayoutModel",
            "_view_count": null,
            "_view_module": "@jupyter-widgets/base",
            "_view_module_version": "1.2.0",
            "_view_name": "LayoutView",
            "align_content": null,
            "align_items": null,
            "align_self": null,
            "border": null,
            "bottom": null,
            "display": null,
            "flex": null,
            "flex_flow": null,
            "grid_area": null,
            "grid_auto_columns": null,
            "grid_auto_flow": null,
            "grid_auto_rows": null,
            "grid_column": null,
            "grid_gap": null,
            "grid_row": null,
            "grid_template_areas": null,
            "grid_template_columns": null,
            "grid_template_rows": null,
            "height": null,
            "justify_content": null,
            "justify_items": null,
            "left": null,
            "margin": null,
            "max_height": null,
            "max_width": null,
            "min_height": null,
            "min_width": null,
            "object_fit": null,
            "object_position": null,
            "order": null,
            "overflow": null,
            "overflow_x": null,
            "overflow_y": null,
            "padding": null,
            "right": null,
            "top": null,
            "visibility": null,
            "width": null
          }
        },
        "c2b10caec1c645e794a913fe7ab795c2": {
          "model_module": "@jupyter-widgets/controls",
          "model_name": "DescriptionStyleModel",
          "model_module_version": "1.5.0",
          "state": {
            "_model_module": "@jupyter-widgets/controls",
            "_model_module_version": "1.5.0",
            "_model_name": "DescriptionStyleModel",
            "_view_count": null,
            "_view_module": "@jupyter-widgets/base",
            "_view_module_version": "1.2.0",
            "_view_name": "StyleView",
            "description_width": ""
          }
        },
        "cbe712b32bf74a959c2b7d04d8b6032e": {
          "model_module": "@jupyter-widgets/controls",
          "model_name": "HBoxModel",
          "model_module_version": "1.5.0",
          "state": {
            "_dom_classes": [],
            "_model_module": "@jupyter-widgets/controls",
            "_model_module_version": "1.5.0",
            "_model_name": "HBoxModel",
            "_view_count": null,
            "_view_module": "@jupyter-widgets/controls",
            "_view_module_version": "1.5.0",
            "_view_name": "HBoxView",
            "box_style": "",
            "children": [
              "IPY_MODEL_6d7f2eb76176487b8ec6fda2b6753f2b",
              "IPY_MODEL_02557696182c4d199ea6346c5ee5ae84",
              "IPY_MODEL_0f0d4d34f78b428398e158ea05359439"
            ],
            "layout": "IPY_MODEL_f3acb8511f844192b49a504619bb3e57"
          }
        },
        "6d7f2eb76176487b8ec6fda2b6753f2b": {
          "model_module": "@jupyter-widgets/controls",
          "model_name": "HTMLModel",
          "model_module_version": "1.5.0",
          "state": {
            "_dom_classes": [],
            "_model_module": "@jupyter-widgets/controls",
            "_model_module_version": "1.5.0",
            "_model_name": "HTMLModel",
            "_view_count": null,
            "_view_module": "@jupyter-widgets/controls",
            "_view_module_version": "1.5.0",
            "_view_name": "HTMLView",
            "description": "",
            "description_tooltip": null,
            "layout": "IPY_MODEL_9ca33dd6012f40ae8557a303b15edb53",
            "placeholder": "​",
            "style": "IPY_MODEL_03f886970174463b8e2fbb63ac008f2f",
            "value": "Generating train split: 100%"
          }
        },
        "02557696182c4d199ea6346c5ee5ae84": {
          "model_module": "@jupyter-widgets/controls",
          "model_name": "FloatProgressModel",
          "model_module_version": "1.5.0",
          "state": {
            "_dom_classes": [],
            "_model_module": "@jupyter-widgets/controls",
            "_model_module_version": "1.5.0",
            "_model_name": "FloatProgressModel",
            "_view_count": null,
            "_view_module": "@jupyter-widgets/controls",
            "_view_module_version": "1.5.0",
            "_view_name": "ProgressView",
            "bar_style": "success",
            "description": "",
            "description_tooltip": null,
            "layout": "IPY_MODEL_b45034468eb14716aa5eaa71ee7e04b3",
            "max": 31962,
            "min": 0,
            "orientation": "horizontal",
            "style": "IPY_MODEL_1419ae2d59f9473181aef928c38b9993",
            "value": 31962
          }
        },
        "0f0d4d34f78b428398e158ea05359439": {
          "model_module": "@jupyter-widgets/controls",
          "model_name": "HTMLModel",
          "model_module_version": "1.5.0",
          "state": {
            "_dom_classes": [],
            "_model_module": "@jupyter-widgets/controls",
            "_model_module_version": "1.5.0",
            "_model_name": "HTMLModel",
            "_view_count": null,
            "_view_module": "@jupyter-widgets/controls",
            "_view_module_version": "1.5.0",
            "_view_name": "HTMLView",
            "description": "",
            "description_tooltip": null,
            "layout": "IPY_MODEL_4688940320234d5bb270bab48c9b30ba",
            "placeholder": "​",
            "style": "IPY_MODEL_ce87c2e1dec24d60a9588dd57717e20f",
            "value": " 31962/31962 [00:00&lt;00:00, 478991.93 examples/s]"
          }
        },
        "f3acb8511f844192b49a504619bb3e57": {
          "model_module": "@jupyter-widgets/base",
          "model_name": "LayoutModel",
          "model_module_version": "1.2.0",
          "state": {
            "_model_module": "@jupyter-widgets/base",
            "_model_module_version": "1.2.0",
            "_model_name": "LayoutModel",
            "_view_count": null,
            "_view_module": "@jupyter-widgets/base",
            "_view_module_version": "1.2.0",
            "_view_name": "LayoutView",
            "align_content": null,
            "align_items": null,
            "align_self": null,
            "border": null,
            "bottom": null,
            "display": null,
            "flex": null,
            "flex_flow": null,
            "grid_area": null,
            "grid_auto_columns": null,
            "grid_auto_flow": null,
            "grid_auto_rows": null,
            "grid_column": null,
            "grid_gap": null,
            "grid_row": null,
            "grid_template_areas": null,
            "grid_template_columns": null,
            "grid_template_rows": null,
            "height": null,
            "justify_content": null,
            "justify_items": null,
            "left": null,
            "margin": null,
            "max_height": null,
            "max_width": null,
            "min_height": null,
            "min_width": null,
            "object_fit": null,
            "object_position": null,
            "order": null,
            "overflow": null,
            "overflow_x": null,
            "overflow_y": null,
            "padding": null,
            "right": null,
            "top": null,
            "visibility": null,
            "width": null
          }
        },
        "9ca33dd6012f40ae8557a303b15edb53": {
          "model_module": "@jupyter-widgets/base",
          "model_name": "LayoutModel",
          "model_module_version": "1.2.0",
          "state": {
            "_model_module": "@jupyter-widgets/base",
            "_model_module_version": "1.2.0",
            "_model_name": "LayoutModel",
            "_view_count": null,
            "_view_module": "@jupyter-widgets/base",
            "_view_module_version": "1.2.0",
            "_view_name": "LayoutView",
            "align_content": null,
            "align_items": null,
            "align_self": null,
            "border": null,
            "bottom": null,
            "display": null,
            "flex": null,
            "flex_flow": null,
            "grid_area": null,
            "grid_auto_columns": null,
            "grid_auto_flow": null,
            "grid_auto_rows": null,
            "grid_column": null,
            "grid_gap": null,
            "grid_row": null,
            "grid_template_areas": null,
            "grid_template_columns": null,
            "grid_template_rows": null,
            "height": null,
            "justify_content": null,
            "justify_items": null,
            "left": null,
            "margin": null,
            "max_height": null,
            "max_width": null,
            "min_height": null,
            "min_width": null,
            "object_fit": null,
            "object_position": null,
            "order": null,
            "overflow": null,
            "overflow_x": null,
            "overflow_y": null,
            "padding": null,
            "right": null,
            "top": null,
            "visibility": null,
            "width": null
          }
        },
        "03f886970174463b8e2fbb63ac008f2f": {
          "model_module": "@jupyter-widgets/controls",
          "model_name": "DescriptionStyleModel",
          "model_module_version": "1.5.0",
          "state": {
            "_model_module": "@jupyter-widgets/controls",
            "_model_module_version": "1.5.0",
            "_model_name": "DescriptionStyleModel",
            "_view_count": null,
            "_view_module": "@jupyter-widgets/base",
            "_view_module_version": "1.2.0",
            "_view_name": "StyleView",
            "description_width": ""
          }
        },
        "b45034468eb14716aa5eaa71ee7e04b3": {
          "model_module": "@jupyter-widgets/base",
          "model_name": "LayoutModel",
          "model_module_version": "1.2.0",
          "state": {
            "_model_module": "@jupyter-widgets/base",
            "_model_module_version": "1.2.0",
            "_model_name": "LayoutModel",
            "_view_count": null,
            "_view_module": "@jupyter-widgets/base",
            "_view_module_version": "1.2.0",
            "_view_name": "LayoutView",
            "align_content": null,
            "align_items": null,
            "align_self": null,
            "border": null,
            "bottom": null,
            "display": null,
            "flex": null,
            "flex_flow": null,
            "grid_area": null,
            "grid_auto_columns": null,
            "grid_auto_flow": null,
            "grid_auto_rows": null,
            "grid_column": null,
            "grid_gap": null,
            "grid_row": null,
            "grid_template_areas": null,
            "grid_template_columns": null,
            "grid_template_rows": null,
            "height": null,
            "justify_content": null,
            "justify_items": null,
            "left": null,
            "margin": null,
            "max_height": null,
            "max_width": null,
            "min_height": null,
            "min_width": null,
            "object_fit": null,
            "object_position": null,
            "order": null,
            "overflow": null,
            "overflow_x": null,
            "overflow_y": null,
            "padding": null,
            "right": null,
            "top": null,
            "visibility": null,
            "width": null
          }
        },
        "1419ae2d59f9473181aef928c38b9993": {
          "model_module": "@jupyter-widgets/controls",
          "model_name": "ProgressStyleModel",
          "model_module_version": "1.5.0",
          "state": {
            "_model_module": "@jupyter-widgets/controls",
            "_model_module_version": "1.5.0",
            "_model_name": "ProgressStyleModel",
            "_view_count": null,
            "_view_module": "@jupyter-widgets/base",
            "_view_module_version": "1.2.0",
            "_view_name": "StyleView",
            "bar_color": null,
            "description_width": ""
          }
        },
        "4688940320234d5bb270bab48c9b30ba": {
          "model_module": "@jupyter-widgets/base",
          "model_name": "LayoutModel",
          "model_module_version": "1.2.0",
          "state": {
            "_model_module": "@jupyter-widgets/base",
            "_model_module_version": "1.2.0",
            "_model_name": "LayoutModel",
            "_view_count": null,
            "_view_module": "@jupyter-widgets/base",
            "_view_module_version": "1.2.0",
            "_view_name": "LayoutView",
            "align_content": null,
            "align_items": null,
            "align_self": null,
            "border": null,
            "bottom": null,
            "display": null,
            "flex": null,
            "flex_flow": null,
            "grid_area": null,
            "grid_auto_columns": null,
            "grid_auto_flow": null,
            "grid_auto_rows": null,
            "grid_column": null,
            "grid_gap": null,
            "grid_row": null,
            "grid_template_areas": null,
            "grid_template_columns": null,
            "grid_template_rows": null,
            "height": null,
            "justify_content": null,
            "justify_items": null,
            "left": null,
            "margin": null,
            "max_height": null,
            "max_width": null,
            "min_height": null,
            "min_width": null,
            "object_fit": null,
            "object_position": null,
            "order": null,
            "overflow": null,
            "overflow_x": null,
            "overflow_y": null,
            "padding": null,
            "right": null,
            "top": null,
            "visibility": null,
            "width": null
          }
        },
        "ce87c2e1dec24d60a9588dd57717e20f": {
          "model_module": "@jupyter-widgets/controls",
          "model_name": "DescriptionStyleModel",
          "model_module_version": "1.5.0",
          "state": {
            "_model_module": "@jupyter-widgets/controls",
            "_model_module_version": "1.5.0",
            "_model_name": "DescriptionStyleModel",
            "_view_count": null,
            "_view_module": "@jupyter-widgets/base",
            "_view_module_version": "1.2.0",
            "_view_name": "StyleView",
            "description_width": ""
          }
        },
        "bd3b9caa6ef64050a86e2d1958d1acc6": {
          "model_module": "@jupyter-widgets/controls",
          "model_name": "HBoxModel",
          "model_module_version": "1.5.0",
          "state": {
            "_dom_classes": [],
            "_model_module": "@jupyter-widgets/controls",
            "_model_module_version": "1.5.0",
            "_model_name": "HBoxModel",
            "_view_count": null,
            "_view_module": "@jupyter-widgets/controls",
            "_view_module_version": "1.5.0",
            "_view_name": "HBoxView",
            "box_style": "",
            "children": [
              "IPY_MODEL_c8354779acdf41709eef28954ff4c397",
              "IPY_MODEL_75ee9b7d7fea42beaefa5342ac08ffab",
              "IPY_MODEL_a5549c7831054e42965816685de109ec"
            ],
            "layout": "IPY_MODEL_7569d68eb05c489e86ac54f07278c7f0"
          }
        },
        "c8354779acdf41709eef28954ff4c397": {
          "model_module": "@jupyter-widgets/controls",
          "model_name": "HTMLModel",
          "model_module_version": "1.5.0",
          "state": {
            "_dom_classes": [],
            "_model_module": "@jupyter-widgets/controls",
            "_model_module_version": "1.5.0",
            "_model_name": "HTMLModel",
            "_view_count": null,
            "_view_module": "@jupyter-widgets/controls",
            "_view_module_version": "1.5.0",
            "_view_name": "HTMLView",
            "description": "",
            "description_tooltip": null,
            "layout": "IPY_MODEL_30b2a4812d0b4b04beb43c33145b8ed3",
            "placeholder": "​",
            "style": "IPY_MODEL_078ba808725341dc9bff76d3784486af",
            "value": "Generating test split: 100%"
          }
        },
        "75ee9b7d7fea42beaefa5342ac08ffab": {
          "model_module": "@jupyter-widgets/controls",
          "model_name": "FloatProgressModel",
          "model_module_version": "1.5.0",
          "state": {
            "_dom_classes": [],
            "_model_module": "@jupyter-widgets/controls",
            "_model_module_version": "1.5.0",
            "_model_name": "FloatProgressModel",
            "_view_count": null,
            "_view_module": "@jupyter-widgets/controls",
            "_view_module_version": "1.5.0",
            "_view_name": "ProgressView",
            "bar_style": "success",
            "description": "",
            "description_tooltip": null,
            "layout": "IPY_MODEL_41a3b88b33a5468282a3032d6f43dd7e",
            "max": 17197,
            "min": 0,
            "orientation": "horizontal",
            "style": "IPY_MODEL_ffe349b769de4880a929bcaaf0f83de0",
            "value": 17197
          }
        },
        "a5549c7831054e42965816685de109ec": {
          "model_module": "@jupyter-widgets/controls",
          "model_name": "HTMLModel",
          "model_module_version": "1.5.0",
          "state": {
            "_dom_classes": [],
            "_model_module": "@jupyter-widgets/controls",
            "_model_module_version": "1.5.0",
            "_model_name": "HTMLModel",
            "_view_count": null,
            "_view_module": "@jupyter-widgets/controls",
            "_view_module_version": "1.5.0",
            "_view_name": "HTMLView",
            "description": "",
            "description_tooltip": null,
            "layout": "IPY_MODEL_944246ab449d480388e774d1aa5719c8",
            "placeholder": "​",
            "style": "IPY_MODEL_aeee6d39ae434628a26a97388f559f23",
            "value": " 17197/17197 [00:00&lt;00:00, 498317.37 examples/s]"
          }
        },
        "7569d68eb05c489e86ac54f07278c7f0": {
          "model_module": "@jupyter-widgets/base",
          "model_name": "LayoutModel",
          "model_module_version": "1.2.0",
          "state": {
            "_model_module": "@jupyter-widgets/base",
            "_model_module_version": "1.2.0",
            "_model_name": "LayoutModel",
            "_view_count": null,
            "_view_module": "@jupyter-widgets/base",
            "_view_module_version": "1.2.0",
            "_view_name": "LayoutView",
            "align_content": null,
            "align_items": null,
            "align_self": null,
            "border": null,
            "bottom": null,
            "display": null,
            "flex": null,
            "flex_flow": null,
            "grid_area": null,
            "grid_auto_columns": null,
            "grid_auto_flow": null,
            "grid_auto_rows": null,
            "grid_column": null,
            "grid_gap": null,
            "grid_row": null,
            "grid_template_areas": null,
            "grid_template_columns": null,
            "grid_template_rows": null,
            "height": null,
            "justify_content": null,
            "justify_items": null,
            "left": null,
            "margin": null,
            "max_height": null,
            "max_width": null,
            "min_height": null,
            "min_width": null,
            "object_fit": null,
            "object_position": null,
            "order": null,
            "overflow": null,
            "overflow_x": null,
            "overflow_y": null,
            "padding": null,
            "right": null,
            "top": null,
            "visibility": null,
            "width": null
          }
        },
        "30b2a4812d0b4b04beb43c33145b8ed3": {
          "model_module": "@jupyter-widgets/base",
          "model_name": "LayoutModel",
          "model_module_version": "1.2.0",
          "state": {
            "_model_module": "@jupyter-widgets/base",
            "_model_module_version": "1.2.0",
            "_model_name": "LayoutModel",
            "_view_count": null,
            "_view_module": "@jupyter-widgets/base",
            "_view_module_version": "1.2.0",
            "_view_name": "LayoutView",
            "align_content": null,
            "align_items": null,
            "align_self": null,
            "border": null,
            "bottom": null,
            "display": null,
            "flex": null,
            "flex_flow": null,
            "grid_area": null,
            "grid_auto_columns": null,
            "grid_auto_flow": null,
            "grid_auto_rows": null,
            "grid_column": null,
            "grid_gap": null,
            "grid_row": null,
            "grid_template_areas": null,
            "grid_template_columns": null,
            "grid_template_rows": null,
            "height": null,
            "justify_content": null,
            "justify_items": null,
            "left": null,
            "margin": null,
            "max_height": null,
            "max_width": null,
            "min_height": null,
            "min_width": null,
            "object_fit": null,
            "object_position": null,
            "order": null,
            "overflow": null,
            "overflow_x": null,
            "overflow_y": null,
            "padding": null,
            "right": null,
            "top": null,
            "visibility": null,
            "width": null
          }
        },
        "078ba808725341dc9bff76d3784486af": {
          "model_module": "@jupyter-widgets/controls",
          "model_name": "DescriptionStyleModel",
          "model_module_version": "1.5.0",
          "state": {
            "_model_module": "@jupyter-widgets/controls",
            "_model_module_version": "1.5.0",
            "_model_name": "DescriptionStyleModel",
            "_view_count": null,
            "_view_module": "@jupyter-widgets/base",
            "_view_module_version": "1.2.0",
            "_view_name": "StyleView",
            "description_width": ""
          }
        },
        "41a3b88b33a5468282a3032d6f43dd7e": {
          "model_module": "@jupyter-widgets/base",
          "model_name": "LayoutModel",
          "model_module_version": "1.2.0",
          "state": {
            "_model_module": "@jupyter-widgets/base",
            "_model_module_version": "1.2.0",
            "_model_name": "LayoutModel",
            "_view_count": null,
            "_view_module": "@jupyter-widgets/base",
            "_view_module_version": "1.2.0",
            "_view_name": "LayoutView",
            "align_content": null,
            "align_items": null,
            "align_self": null,
            "border": null,
            "bottom": null,
            "display": null,
            "flex": null,
            "flex_flow": null,
            "grid_area": null,
            "grid_auto_columns": null,
            "grid_auto_flow": null,
            "grid_auto_rows": null,
            "grid_column": null,
            "grid_gap": null,
            "grid_row": null,
            "grid_template_areas": null,
            "grid_template_columns": null,
            "grid_template_rows": null,
            "height": null,
            "justify_content": null,
            "justify_items": null,
            "left": null,
            "margin": null,
            "max_height": null,
            "max_width": null,
            "min_height": null,
            "min_width": null,
            "object_fit": null,
            "object_position": null,
            "order": null,
            "overflow": null,
            "overflow_x": null,
            "overflow_y": null,
            "padding": null,
            "right": null,
            "top": null,
            "visibility": null,
            "width": null
          }
        },
        "ffe349b769de4880a929bcaaf0f83de0": {
          "model_module": "@jupyter-widgets/controls",
          "model_name": "ProgressStyleModel",
          "model_module_version": "1.5.0",
          "state": {
            "_model_module": "@jupyter-widgets/controls",
            "_model_module_version": "1.5.0",
            "_model_name": "ProgressStyleModel",
            "_view_count": null,
            "_view_module": "@jupyter-widgets/base",
            "_view_module_version": "1.2.0",
            "_view_name": "StyleView",
            "bar_color": null,
            "description_width": ""
          }
        },
        "944246ab449d480388e774d1aa5719c8": {
          "model_module": "@jupyter-widgets/base",
          "model_name": "LayoutModel",
          "model_module_version": "1.2.0",
          "state": {
            "_model_module": "@jupyter-widgets/base",
            "_model_module_version": "1.2.0",
            "_model_name": "LayoutModel",
            "_view_count": null,
            "_view_module": "@jupyter-widgets/base",
            "_view_module_version": "1.2.0",
            "_view_name": "LayoutView",
            "align_content": null,
            "align_items": null,
            "align_self": null,
            "border": null,
            "bottom": null,
            "display": null,
            "flex": null,
            "flex_flow": null,
            "grid_area": null,
            "grid_auto_columns": null,
            "grid_auto_flow": null,
            "grid_auto_rows": null,
            "grid_column": null,
            "grid_gap": null,
            "grid_row": null,
            "grid_template_areas": null,
            "grid_template_columns": null,
            "grid_template_rows": null,
            "height": null,
            "justify_content": null,
            "justify_items": null,
            "left": null,
            "margin": null,
            "max_height": null,
            "max_width": null,
            "min_height": null,
            "min_width": null,
            "object_fit": null,
            "object_position": null,
            "order": null,
            "overflow": null,
            "overflow_x": null,
            "overflow_y": null,
            "padding": null,
            "right": null,
            "top": null,
            "visibility": null,
            "width": null
          }
        },
        "aeee6d39ae434628a26a97388f559f23": {
          "model_module": "@jupyter-widgets/controls",
          "model_name": "DescriptionStyleModel",
          "model_module_version": "1.5.0",
          "state": {
            "_model_module": "@jupyter-widgets/controls",
            "_model_module_version": "1.5.0",
            "_model_name": "DescriptionStyleModel",
            "_view_count": null,
            "_view_module": "@jupyter-widgets/base",
            "_view_module_version": "1.2.0",
            "_view_name": "StyleView",
            "description_width": ""
          }
        },
        "d79f79b4daec46e3b033a86f7c765504": {
          "model_module": "@jupyter-widgets/controls",
          "model_name": "HBoxModel",
          "model_module_version": "1.5.0",
          "state": {
            "_dom_classes": [],
            "_model_module": "@jupyter-widgets/controls",
            "_model_module_version": "1.5.0",
            "_model_name": "HBoxModel",
            "_view_count": null,
            "_view_module": "@jupyter-widgets/controls",
            "_view_module_version": "1.5.0",
            "_view_name": "HBoxView",
            "box_style": "",
            "children": [
              "IPY_MODEL_1440881ef80c4d03b2c9fa591f97b051",
              "IPY_MODEL_d55c21b960d14017a472c1b83c5b32c4",
              "IPY_MODEL_dfd3af46c0e4430698f415e7f9797f5f"
            ],
            "layout": "IPY_MODEL_73caa1a3f52c4efc8e5892cffe425a1f"
          }
        },
        "1440881ef80c4d03b2c9fa591f97b051": {
          "model_module": "@jupyter-widgets/controls",
          "model_name": "HTMLModel",
          "model_module_version": "1.5.0",
          "state": {
            "_dom_classes": [],
            "_model_module": "@jupyter-widgets/controls",
            "_model_module_version": "1.5.0",
            "_model_name": "HTMLModel",
            "_view_count": null,
            "_view_module": "@jupyter-widgets/controls",
            "_view_module_version": "1.5.0",
            "_view_name": "HTMLView",
            "description": "",
            "description_tooltip": null,
            "layout": "IPY_MODEL_d8659f16cb1a448cb64c987914f25524",
            "placeholder": "​",
            "style": "IPY_MODEL_1e50aadcba4f40d0a1bd33f5239c86c8",
            "value": "Map: 100%"
          }
        },
        "d55c21b960d14017a472c1b83c5b32c4": {
          "model_module": "@jupyter-widgets/controls",
          "model_name": "FloatProgressModel",
          "model_module_version": "1.5.0",
          "state": {
            "_dom_classes": [],
            "_model_module": "@jupyter-widgets/controls",
            "_model_module_version": "1.5.0",
            "_model_name": "FloatProgressModel",
            "_view_count": null,
            "_view_module": "@jupyter-widgets/controls",
            "_view_module_version": "1.5.0",
            "_view_name": "ProgressView",
            "bar_style": "success",
            "description": "",
            "description_tooltip": null,
            "layout": "IPY_MODEL_6a21f74c930f422089cb5c50743e7121",
            "max": 31962,
            "min": 0,
            "orientation": "horizontal",
            "style": "IPY_MODEL_f2e94bbd3fd24c12b03d2c91af556fae",
            "value": 31962
          }
        },
        "dfd3af46c0e4430698f415e7f9797f5f": {
          "model_module": "@jupyter-widgets/controls",
          "model_name": "HTMLModel",
          "model_module_version": "1.5.0",
          "state": {
            "_dom_classes": [],
            "_model_module": "@jupyter-widgets/controls",
            "_model_module_version": "1.5.0",
            "_model_name": "HTMLModel",
            "_view_count": null,
            "_view_module": "@jupyter-widgets/controls",
            "_view_module_version": "1.5.0",
            "_view_name": "HTMLView",
            "description": "",
            "description_tooltip": null,
            "layout": "IPY_MODEL_c003bc7191da46e6b5b2b54285d6e57a",
            "placeholder": "​",
            "style": "IPY_MODEL_8f02477a78994f42b9fdd2549c331832",
            "value": " 31962/31962 [00:08&lt;00:00, 3249.65 examples/s]"
          }
        },
        "73caa1a3f52c4efc8e5892cffe425a1f": {
          "model_module": "@jupyter-widgets/base",
          "model_name": "LayoutModel",
          "model_module_version": "1.2.0",
          "state": {
            "_model_module": "@jupyter-widgets/base",
            "_model_module_version": "1.2.0",
            "_model_name": "LayoutModel",
            "_view_count": null,
            "_view_module": "@jupyter-widgets/base",
            "_view_module_version": "1.2.0",
            "_view_name": "LayoutView",
            "align_content": null,
            "align_items": null,
            "align_self": null,
            "border": null,
            "bottom": null,
            "display": null,
            "flex": null,
            "flex_flow": null,
            "grid_area": null,
            "grid_auto_columns": null,
            "grid_auto_flow": null,
            "grid_auto_rows": null,
            "grid_column": null,
            "grid_gap": null,
            "grid_row": null,
            "grid_template_areas": null,
            "grid_template_columns": null,
            "grid_template_rows": null,
            "height": null,
            "justify_content": null,
            "justify_items": null,
            "left": null,
            "margin": null,
            "max_height": null,
            "max_width": null,
            "min_height": null,
            "min_width": null,
            "object_fit": null,
            "object_position": null,
            "order": null,
            "overflow": null,
            "overflow_x": null,
            "overflow_y": null,
            "padding": null,
            "right": null,
            "top": null,
            "visibility": null,
            "width": null
          }
        },
        "d8659f16cb1a448cb64c987914f25524": {
          "model_module": "@jupyter-widgets/base",
          "model_name": "LayoutModel",
          "model_module_version": "1.2.0",
          "state": {
            "_model_module": "@jupyter-widgets/base",
            "_model_module_version": "1.2.0",
            "_model_name": "LayoutModel",
            "_view_count": null,
            "_view_module": "@jupyter-widgets/base",
            "_view_module_version": "1.2.0",
            "_view_name": "LayoutView",
            "align_content": null,
            "align_items": null,
            "align_self": null,
            "border": null,
            "bottom": null,
            "display": null,
            "flex": null,
            "flex_flow": null,
            "grid_area": null,
            "grid_auto_columns": null,
            "grid_auto_flow": null,
            "grid_auto_rows": null,
            "grid_column": null,
            "grid_gap": null,
            "grid_row": null,
            "grid_template_areas": null,
            "grid_template_columns": null,
            "grid_template_rows": null,
            "height": null,
            "justify_content": null,
            "justify_items": null,
            "left": null,
            "margin": null,
            "max_height": null,
            "max_width": null,
            "min_height": null,
            "min_width": null,
            "object_fit": null,
            "object_position": null,
            "order": null,
            "overflow": null,
            "overflow_x": null,
            "overflow_y": null,
            "padding": null,
            "right": null,
            "top": null,
            "visibility": null,
            "width": null
          }
        },
        "1e50aadcba4f40d0a1bd33f5239c86c8": {
          "model_module": "@jupyter-widgets/controls",
          "model_name": "DescriptionStyleModel",
          "model_module_version": "1.5.0",
          "state": {
            "_model_module": "@jupyter-widgets/controls",
            "_model_module_version": "1.5.0",
            "_model_name": "DescriptionStyleModel",
            "_view_count": null,
            "_view_module": "@jupyter-widgets/base",
            "_view_module_version": "1.2.0",
            "_view_name": "StyleView",
            "description_width": ""
          }
        },
        "6a21f74c930f422089cb5c50743e7121": {
          "model_module": "@jupyter-widgets/base",
          "model_name": "LayoutModel",
          "model_module_version": "1.2.0",
          "state": {
            "_model_module": "@jupyter-widgets/base",
            "_model_module_version": "1.2.0",
            "_model_name": "LayoutModel",
            "_view_count": null,
            "_view_module": "@jupyter-widgets/base",
            "_view_module_version": "1.2.0",
            "_view_name": "LayoutView",
            "align_content": null,
            "align_items": null,
            "align_self": null,
            "border": null,
            "bottom": null,
            "display": null,
            "flex": null,
            "flex_flow": null,
            "grid_area": null,
            "grid_auto_columns": null,
            "grid_auto_flow": null,
            "grid_auto_rows": null,
            "grid_column": null,
            "grid_gap": null,
            "grid_row": null,
            "grid_template_areas": null,
            "grid_template_columns": null,
            "grid_template_rows": null,
            "height": null,
            "justify_content": null,
            "justify_items": null,
            "left": null,
            "margin": null,
            "max_height": null,
            "max_width": null,
            "min_height": null,
            "min_width": null,
            "object_fit": null,
            "object_position": null,
            "order": null,
            "overflow": null,
            "overflow_x": null,
            "overflow_y": null,
            "padding": null,
            "right": null,
            "top": null,
            "visibility": null,
            "width": null
          }
        },
        "f2e94bbd3fd24c12b03d2c91af556fae": {
          "model_module": "@jupyter-widgets/controls",
          "model_name": "ProgressStyleModel",
          "model_module_version": "1.5.0",
          "state": {
            "_model_module": "@jupyter-widgets/controls",
            "_model_module_version": "1.5.0",
            "_model_name": "ProgressStyleModel",
            "_view_count": null,
            "_view_module": "@jupyter-widgets/base",
            "_view_module_version": "1.2.0",
            "_view_name": "StyleView",
            "bar_color": null,
            "description_width": ""
          }
        },
        "c003bc7191da46e6b5b2b54285d6e57a": {
          "model_module": "@jupyter-widgets/base",
          "model_name": "LayoutModel",
          "model_module_version": "1.2.0",
          "state": {
            "_model_module": "@jupyter-widgets/base",
            "_model_module_version": "1.2.0",
            "_model_name": "LayoutModel",
            "_view_count": null,
            "_view_module": "@jupyter-widgets/base",
            "_view_module_version": "1.2.0",
            "_view_name": "LayoutView",
            "align_content": null,
            "align_items": null,
            "align_self": null,
            "border": null,
            "bottom": null,
            "display": null,
            "flex": null,
            "flex_flow": null,
            "grid_area": null,
            "grid_auto_columns": null,
            "grid_auto_flow": null,
            "grid_auto_rows": null,
            "grid_column": null,
            "grid_gap": null,
            "grid_row": null,
            "grid_template_areas": null,
            "grid_template_columns": null,
            "grid_template_rows": null,
            "height": null,
            "justify_content": null,
            "justify_items": null,
            "left": null,
            "margin": null,
            "max_height": null,
            "max_width": null,
            "min_height": null,
            "min_width": null,
            "object_fit": null,
            "object_position": null,
            "order": null,
            "overflow": null,
            "overflow_x": null,
            "overflow_y": null,
            "padding": null,
            "right": null,
            "top": null,
            "visibility": null,
            "width": null
          }
        },
        "8f02477a78994f42b9fdd2549c331832": {
          "model_module": "@jupyter-widgets/controls",
          "model_name": "DescriptionStyleModel",
          "model_module_version": "1.5.0",
          "state": {
            "_model_module": "@jupyter-widgets/controls",
            "_model_module_version": "1.5.0",
            "_model_name": "DescriptionStyleModel",
            "_view_count": null,
            "_view_module": "@jupyter-widgets/base",
            "_view_module_version": "1.2.0",
            "_view_name": "StyleView",
            "description_width": ""
          }
        },
        "06d12f1361984eb68d1564a2b4a6e28f": {
          "model_module": "@jupyter-widgets/controls",
          "model_name": "HBoxModel",
          "model_module_version": "1.5.0",
          "state": {
            "_dom_classes": [],
            "_model_module": "@jupyter-widgets/controls",
            "_model_module_version": "1.5.0",
            "_model_name": "HBoxModel",
            "_view_count": null,
            "_view_module": "@jupyter-widgets/controls",
            "_view_module_version": "1.5.0",
            "_view_name": "HBoxView",
            "box_style": "",
            "children": [
              "IPY_MODEL_b98e59b20cbe4094ac97bb5cfa6fb690",
              "IPY_MODEL_c843020c2c634dd0a072a22daeb7cc94",
              "IPY_MODEL_1857593493694c109439adf5e88d2152"
            ],
            "layout": "IPY_MODEL_58bf6e67d77a47c6ac54d7a152e06796"
          }
        },
        "b98e59b20cbe4094ac97bb5cfa6fb690": {
          "model_module": "@jupyter-widgets/controls",
          "model_name": "HTMLModel",
          "model_module_version": "1.5.0",
          "state": {
            "_dom_classes": [],
            "_model_module": "@jupyter-widgets/controls",
            "_model_module_version": "1.5.0",
            "_model_name": "HTMLModel",
            "_view_count": null,
            "_view_module": "@jupyter-widgets/controls",
            "_view_module_version": "1.5.0",
            "_view_name": "HTMLView",
            "description": "",
            "description_tooltip": null,
            "layout": "IPY_MODEL_77572681fb554dc3b7aa412da66a5764",
            "placeholder": "​",
            "style": "IPY_MODEL_78b137ae1c3745d6a4ff3125469fa318",
            "value": "Map: 100%"
          }
        },
        "c843020c2c634dd0a072a22daeb7cc94": {
          "model_module": "@jupyter-widgets/controls",
          "model_name": "FloatProgressModel",
          "model_module_version": "1.5.0",
          "state": {
            "_dom_classes": [],
            "_model_module": "@jupyter-widgets/controls",
            "_model_module_version": "1.5.0",
            "_model_name": "FloatProgressModel",
            "_view_count": null,
            "_view_module": "@jupyter-widgets/controls",
            "_view_module_version": "1.5.0",
            "_view_name": "ProgressView",
            "bar_style": "success",
            "description": "",
            "description_tooltip": null,
            "layout": "IPY_MODEL_252ec4933ae14e1aa2394f8a8ddf83b9",
            "max": 17197,
            "min": 0,
            "orientation": "horizontal",
            "style": "IPY_MODEL_659c52ea6bb844079d5af1db416bf266",
            "value": 17197
          }
        },
        "1857593493694c109439adf5e88d2152": {
          "model_module": "@jupyter-widgets/controls",
          "model_name": "HTMLModel",
          "model_module_version": "1.5.0",
          "state": {
            "_dom_classes": [],
            "_model_module": "@jupyter-widgets/controls",
            "_model_module_version": "1.5.0",
            "_model_name": "HTMLModel",
            "_view_count": null,
            "_view_module": "@jupyter-widgets/controls",
            "_view_module_version": "1.5.0",
            "_view_name": "HTMLView",
            "description": "",
            "description_tooltip": null,
            "layout": "IPY_MODEL_905d4690533d4455adce9fca0ddde758",
            "placeholder": "​",
            "style": "IPY_MODEL_8fe19813b2f14779a51f1be2f4759c74",
            "value": " 17197/17197 [00:03&lt;00:00, 4877.36 examples/s]"
          }
        },
        "58bf6e67d77a47c6ac54d7a152e06796": {
          "model_module": "@jupyter-widgets/base",
          "model_name": "LayoutModel",
          "model_module_version": "1.2.0",
          "state": {
            "_model_module": "@jupyter-widgets/base",
            "_model_module_version": "1.2.0",
            "_model_name": "LayoutModel",
            "_view_count": null,
            "_view_module": "@jupyter-widgets/base",
            "_view_module_version": "1.2.0",
            "_view_name": "LayoutView",
            "align_content": null,
            "align_items": null,
            "align_self": null,
            "border": null,
            "bottom": null,
            "display": null,
            "flex": null,
            "flex_flow": null,
            "grid_area": null,
            "grid_auto_columns": null,
            "grid_auto_flow": null,
            "grid_auto_rows": null,
            "grid_column": null,
            "grid_gap": null,
            "grid_row": null,
            "grid_template_areas": null,
            "grid_template_columns": null,
            "grid_template_rows": null,
            "height": null,
            "justify_content": null,
            "justify_items": null,
            "left": null,
            "margin": null,
            "max_height": null,
            "max_width": null,
            "min_height": null,
            "min_width": null,
            "object_fit": null,
            "object_position": null,
            "order": null,
            "overflow": null,
            "overflow_x": null,
            "overflow_y": null,
            "padding": null,
            "right": null,
            "top": null,
            "visibility": null,
            "width": null
          }
        },
        "77572681fb554dc3b7aa412da66a5764": {
          "model_module": "@jupyter-widgets/base",
          "model_name": "LayoutModel",
          "model_module_version": "1.2.0",
          "state": {
            "_model_module": "@jupyter-widgets/base",
            "_model_module_version": "1.2.0",
            "_model_name": "LayoutModel",
            "_view_count": null,
            "_view_module": "@jupyter-widgets/base",
            "_view_module_version": "1.2.0",
            "_view_name": "LayoutView",
            "align_content": null,
            "align_items": null,
            "align_self": null,
            "border": null,
            "bottom": null,
            "display": null,
            "flex": null,
            "flex_flow": null,
            "grid_area": null,
            "grid_auto_columns": null,
            "grid_auto_flow": null,
            "grid_auto_rows": null,
            "grid_column": null,
            "grid_gap": null,
            "grid_row": null,
            "grid_template_areas": null,
            "grid_template_columns": null,
            "grid_template_rows": null,
            "height": null,
            "justify_content": null,
            "justify_items": null,
            "left": null,
            "margin": null,
            "max_height": null,
            "max_width": null,
            "min_height": null,
            "min_width": null,
            "object_fit": null,
            "object_position": null,
            "order": null,
            "overflow": null,
            "overflow_x": null,
            "overflow_y": null,
            "padding": null,
            "right": null,
            "top": null,
            "visibility": null,
            "width": null
          }
        },
        "78b137ae1c3745d6a4ff3125469fa318": {
          "model_module": "@jupyter-widgets/controls",
          "model_name": "DescriptionStyleModel",
          "model_module_version": "1.5.0",
          "state": {
            "_model_module": "@jupyter-widgets/controls",
            "_model_module_version": "1.5.0",
            "_model_name": "DescriptionStyleModel",
            "_view_count": null,
            "_view_module": "@jupyter-widgets/base",
            "_view_module_version": "1.2.0",
            "_view_name": "StyleView",
            "description_width": ""
          }
        },
        "252ec4933ae14e1aa2394f8a8ddf83b9": {
          "model_module": "@jupyter-widgets/base",
          "model_name": "LayoutModel",
          "model_module_version": "1.2.0",
          "state": {
            "_model_module": "@jupyter-widgets/base",
            "_model_module_version": "1.2.0",
            "_model_name": "LayoutModel",
            "_view_count": null,
            "_view_module": "@jupyter-widgets/base",
            "_view_module_version": "1.2.0",
            "_view_name": "LayoutView",
            "align_content": null,
            "align_items": null,
            "align_self": null,
            "border": null,
            "bottom": null,
            "display": null,
            "flex": null,
            "flex_flow": null,
            "grid_area": null,
            "grid_auto_columns": null,
            "grid_auto_flow": null,
            "grid_auto_rows": null,
            "grid_column": null,
            "grid_gap": null,
            "grid_row": null,
            "grid_template_areas": null,
            "grid_template_columns": null,
            "grid_template_rows": null,
            "height": null,
            "justify_content": null,
            "justify_items": null,
            "left": null,
            "margin": null,
            "max_height": null,
            "max_width": null,
            "min_height": null,
            "min_width": null,
            "object_fit": null,
            "object_position": null,
            "order": null,
            "overflow": null,
            "overflow_x": null,
            "overflow_y": null,
            "padding": null,
            "right": null,
            "top": null,
            "visibility": null,
            "width": null
          }
        },
        "659c52ea6bb844079d5af1db416bf266": {
          "model_module": "@jupyter-widgets/controls",
          "model_name": "ProgressStyleModel",
          "model_module_version": "1.5.0",
          "state": {
            "_model_module": "@jupyter-widgets/controls",
            "_model_module_version": "1.5.0",
            "_model_name": "ProgressStyleModel",
            "_view_count": null,
            "_view_module": "@jupyter-widgets/base",
            "_view_module_version": "1.2.0",
            "_view_name": "StyleView",
            "bar_color": null,
            "description_width": ""
          }
        },
        "905d4690533d4455adce9fca0ddde758": {
          "model_module": "@jupyter-widgets/base",
          "model_name": "LayoutModel",
          "model_module_version": "1.2.0",
          "state": {
            "_model_module": "@jupyter-widgets/base",
            "_model_module_version": "1.2.0",
            "_model_name": "LayoutModel",
            "_view_count": null,
            "_view_module": "@jupyter-widgets/base",
            "_view_module_version": "1.2.0",
            "_view_name": "LayoutView",
            "align_content": null,
            "align_items": null,
            "align_self": null,
            "border": null,
            "bottom": null,
            "display": null,
            "flex": null,
            "flex_flow": null,
            "grid_area": null,
            "grid_auto_columns": null,
            "grid_auto_flow": null,
            "grid_auto_rows": null,
            "grid_column": null,
            "grid_gap": null,
            "grid_row": null,
            "grid_template_areas": null,
            "grid_template_columns": null,
            "grid_template_rows": null,
            "height": null,
            "justify_content": null,
            "justify_items": null,
            "left": null,
            "margin": null,
            "max_height": null,
            "max_width": null,
            "min_height": null,
            "min_width": null,
            "object_fit": null,
            "object_position": null,
            "order": null,
            "overflow": null,
            "overflow_x": null,
            "overflow_y": null,
            "padding": null,
            "right": null,
            "top": null,
            "visibility": null,
            "width": null
          }
        },
        "8fe19813b2f14779a51f1be2f4759c74": {
          "model_module": "@jupyter-widgets/controls",
          "model_name": "DescriptionStyleModel",
          "model_module_version": "1.5.0",
          "state": {
            "_model_module": "@jupyter-widgets/controls",
            "_model_module_version": "1.5.0",
            "_model_name": "DescriptionStyleModel",
            "_view_count": null,
            "_view_module": "@jupyter-widgets/base",
            "_view_module_version": "1.2.0",
            "_view_name": "StyleView",
            "description_width": ""
          }
        },
        "df4ddfee31b744c8a44b4716fd78e9d5": {
          "model_module": "@jupyter-widgets/controls",
          "model_name": "HBoxModel",
          "model_module_version": "1.5.0",
          "state": {
            "_dom_classes": [],
            "_model_module": "@jupyter-widgets/controls",
            "_model_module_version": "1.5.0",
            "_model_name": "HBoxModel",
            "_view_count": null,
            "_view_module": "@jupyter-widgets/controls",
            "_view_module_version": "1.5.0",
            "_view_name": "HBoxView",
            "box_style": "",
            "children": [
              "IPY_MODEL_3ede86ad9a1048f0a9515a44512b4ff9",
              "IPY_MODEL_ca104eaa045a472c875395a40d020714",
              "IPY_MODEL_46abd2516e6044cfa8d7d5134ef1cac0"
            ],
            "layout": "IPY_MODEL_c6b710175d994d1d92c1f11487268806"
          }
        },
        "3ede86ad9a1048f0a9515a44512b4ff9": {
          "model_module": "@jupyter-widgets/controls",
          "model_name": "HTMLModel",
          "model_module_version": "1.5.0",
          "state": {
            "_dom_classes": [],
            "_model_module": "@jupyter-widgets/controls",
            "_model_module_version": "1.5.0",
            "_model_name": "HTMLModel",
            "_view_count": null,
            "_view_module": "@jupyter-widgets/controls",
            "_view_module_version": "1.5.0",
            "_view_name": "HTMLView",
            "description": "",
            "description_tooltip": null,
            "layout": "IPY_MODEL_30d10d6b265940809e8ad796833263ab",
            "placeholder": "​",
            "style": "IPY_MODEL_35e7d8d5e777454f9a70b078fd187484",
            "value": "Map: 100%"
          }
        },
        "ca104eaa045a472c875395a40d020714": {
          "model_module": "@jupyter-widgets/controls",
          "model_name": "FloatProgressModel",
          "model_module_version": "1.5.0",
          "state": {
            "_dom_classes": [],
            "_model_module": "@jupyter-widgets/controls",
            "_model_module_version": "1.5.0",
            "_model_name": "FloatProgressModel",
            "_view_count": null,
            "_view_module": "@jupyter-widgets/controls",
            "_view_module_version": "1.5.0",
            "_view_name": "ProgressView",
            "bar_style": "success",
            "description": "",
            "description_tooltip": null,
            "layout": "IPY_MODEL_f1871dc57bf444a1ae7e3304c5a3cf22",
            "max": 31962,
            "min": 0,
            "orientation": "horizontal",
            "style": "IPY_MODEL_4642eae07a3d4128954dc7512fc95e41",
            "value": 31962
          }
        },
        "46abd2516e6044cfa8d7d5134ef1cac0": {
          "model_module": "@jupyter-widgets/controls",
          "model_name": "HTMLModel",
          "model_module_version": "1.5.0",
          "state": {
            "_dom_classes": [],
            "_model_module": "@jupyter-widgets/controls",
            "_model_module_version": "1.5.0",
            "_model_name": "HTMLModel",
            "_view_count": null,
            "_view_module": "@jupyter-widgets/controls",
            "_view_module_version": "1.5.0",
            "_view_name": "HTMLView",
            "description": "",
            "description_tooltip": null,
            "layout": "IPY_MODEL_8b821387f4334eeca727b411b9f36062",
            "placeholder": "​",
            "style": "IPY_MODEL_40e78bb7d65345f386cef8cd16786345",
            "value": " 31962/31962 [00:09&lt;00:00, 3671.87 examples/s]"
          }
        },
        "c6b710175d994d1d92c1f11487268806": {
          "model_module": "@jupyter-widgets/base",
          "model_name": "LayoutModel",
          "model_module_version": "1.2.0",
          "state": {
            "_model_module": "@jupyter-widgets/base",
            "_model_module_version": "1.2.0",
            "_model_name": "LayoutModel",
            "_view_count": null,
            "_view_module": "@jupyter-widgets/base",
            "_view_module_version": "1.2.0",
            "_view_name": "LayoutView",
            "align_content": null,
            "align_items": null,
            "align_self": null,
            "border": null,
            "bottom": null,
            "display": null,
            "flex": null,
            "flex_flow": null,
            "grid_area": null,
            "grid_auto_columns": null,
            "grid_auto_flow": null,
            "grid_auto_rows": null,
            "grid_column": null,
            "grid_gap": null,
            "grid_row": null,
            "grid_template_areas": null,
            "grid_template_columns": null,
            "grid_template_rows": null,
            "height": null,
            "justify_content": null,
            "justify_items": null,
            "left": null,
            "margin": null,
            "max_height": null,
            "max_width": null,
            "min_height": null,
            "min_width": null,
            "object_fit": null,
            "object_position": null,
            "order": null,
            "overflow": null,
            "overflow_x": null,
            "overflow_y": null,
            "padding": null,
            "right": null,
            "top": null,
            "visibility": null,
            "width": null
          }
        },
        "30d10d6b265940809e8ad796833263ab": {
          "model_module": "@jupyter-widgets/base",
          "model_name": "LayoutModel",
          "model_module_version": "1.2.0",
          "state": {
            "_model_module": "@jupyter-widgets/base",
            "_model_module_version": "1.2.0",
            "_model_name": "LayoutModel",
            "_view_count": null,
            "_view_module": "@jupyter-widgets/base",
            "_view_module_version": "1.2.0",
            "_view_name": "LayoutView",
            "align_content": null,
            "align_items": null,
            "align_self": null,
            "border": null,
            "bottom": null,
            "display": null,
            "flex": null,
            "flex_flow": null,
            "grid_area": null,
            "grid_auto_columns": null,
            "grid_auto_flow": null,
            "grid_auto_rows": null,
            "grid_column": null,
            "grid_gap": null,
            "grid_row": null,
            "grid_template_areas": null,
            "grid_template_columns": null,
            "grid_template_rows": null,
            "height": null,
            "justify_content": null,
            "justify_items": null,
            "left": null,
            "margin": null,
            "max_height": null,
            "max_width": null,
            "min_height": null,
            "min_width": null,
            "object_fit": null,
            "object_position": null,
            "order": null,
            "overflow": null,
            "overflow_x": null,
            "overflow_y": null,
            "padding": null,
            "right": null,
            "top": null,
            "visibility": null,
            "width": null
          }
        },
        "35e7d8d5e777454f9a70b078fd187484": {
          "model_module": "@jupyter-widgets/controls",
          "model_name": "DescriptionStyleModel",
          "model_module_version": "1.5.0",
          "state": {
            "_model_module": "@jupyter-widgets/controls",
            "_model_module_version": "1.5.0",
            "_model_name": "DescriptionStyleModel",
            "_view_count": null,
            "_view_module": "@jupyter-widgets/base",
            "_view_module_version": "1.2.0",
            "_view_name": "StyleView",
            "description_width": ""
          }
        },
        "f1871dc57bf444a1ae7e3304c5a3cf22": {
          "model_module": "@jupyter-widgets/base",
          "model_name": "LayoutModel",
          "model_module_version": "1.2.0",
          "state": {
            "_model_module": "@jupyter-widgets/base",
            "_model_module_version": "1.2.0",
            "_model_name": "LayoutModel",
            "_view_count": null,
            "_view_module": "@jupyter-widgets/base",
            "_view_module_version": "1.2.0",
            "_view_name": "LayoutView",
            "align_content": null,
            "align_items": null,
            "align_self": null,
            "border": null,
            "bottom": null,
            "display": null,
            "flex": null,
            "flex_flow": null,
            "grid_area": null,
            "grid_auto_columns": null,
            "grid_auto_flow": null,
            "grid_auto_rows": null,
            "grid_column": null,
            "grid_gap": null,
            "grid_row": null,
            "grid_template_areas": null,
            "grid_template_columns": null,
            "grid_template_rows": null,
            "height": null,
            "justify_content": null,
            "justify_items": null,
            "left": null,
            "margin": null,
            "max_height": null,
            "max_width": null,
            "min_height": null,
            "min_width": null,
            "object_fit": null,
            "object_position": null,
            "order": null,
            "overflow": null,
            "overflow_x": null,
            "overflow_y": null,
            "padding": null,
            "right": null,
            "top": null,
            "visibility": null,
            "width": null
          }
        },
        "4642eae07a3d4128954dc7512fc95e41": {
          "model_module": "@jupyter-widgets/controls",
          "model_name": "ProgressStyleModel",
          "model_module_version": "1.5.0",
          "state": {
            "_model_module": "@jupyter-widgets/controls",
            "_model_module_version": "1.5.0",
            "_model_name": "ProgressStyleModel",
            "_view_count": null,
            "_view_module": "@jupyter-widgets/base",
            "_view_module_version": "1.2.0",
            "_view_name": "StyleView",
            "bar_color": null,
            "description_width": ""
          }
        },
        "8b821387f4334eeca727b411b9f36062": {
          "model_module": "@jupyter-widgets/base",
          "model_name": "LayoutModel",
          "model_module_version": "1.2.0",
          "state": {
            "_model_module": "@jupyter-widgets/base",
            "_model_module_version": "1.2.0",
            "_model_name": "LayoutModel",
            "_view_count": null,
            "_view_module": "@jupyter-widgets/base",
            "_view_module_version": "1.2.0",
            "_view_name": "LayoutView",
            "align_content": null,
            "align_items": null,
            "align_self": null,
            "border": null,
            "bottom": null,
            "display": null,
            "flex": null,
            "flex_flow": null,
            "grid_area": null,
            "grid_auto_columns": null,
            "grid_auto_flow": null,
            "grid_auto_rows": null,
            "grid_column": null,
            "grid_gap": null,
            "grid_row": null,
            "grid_template_areas": null,
            "grid_template_columns": null,
            "grid_template_rows": null,
            "height": null,
            "justify_content": null,
            "justify_items": null,
            "left": null,
            "margin": null,
            "max_height": null,
            "max_width": null,
            "min_height": null,
            "min_width": null,
            "object_fit": null,
            "object_position": null,
            "order": null,
            "overflow": null,
            "overflow_x": null,
            "overflow_y": null,
            "padding": null,
            "right": null,
            "top": null,
            "visibility": null,
            "width": null
          }
        },
        "40e78bb7d65345f386cef8cd16786345": {
          "model_module": "@jupyter-widgets/controls",
          "model_name": "DescriptionStyleModel",
          "model_module_version": "1.5.0",
          "state": {
            "_model_module": "@jupyter-widgets/controls",
            "_model_module_version": "1.5.0",
            "_model_name": "DescriptionStyleModel",
            "_view_count": null,
            "_view_module": "@jupyter-widgets/base",
            "_view_module_version": "1.2.0",
            "_view_name": "StyleView",
            "description_width": ""
          }
        },
        "075cb038c8c6440b84e7d6c4fc9f71d5": {
          "model_module": "@jupyter-widgets/controls",
          "model_name": "HBoxModel",
          "model_module_version": "1.5.0",
          "state": {
            "_dom_classes": [],
            "_model_module": "@jupyter-widgets/controls",
            "_model_module_version": "1.5.0",
            "_model_name": "HBoxModel",
            "_view_count": null,
            "_view_module": "@jupyter-widgets/controls",
            "_view_module_version": "1.5.0",
            "_view_name": "HBoxView",
            "box_style": "",
            "children": [
              "IPY_MODEL_1b66ed4f242d4e6cbeb136a29b380e31",
              "IPY_MODEL_5d741d51bccb428f8bd5ef6ba3c6d0b0",
              "IPY_MODEL_24cc27a7be0a4bbf94392f54615a04a9"
            ],
            "layout": "IPY_MODEL_28cb6d99f9b84545aea62a955b9839a5"
          }
        },
        "1b66ed4f242d4e6cbeb136a29b380e31": {
          "model_module": "@jupyter-widgets/controls",
          "model_name": "HTMLModel",
          "model_module_version": "1.5.0",
          "state": {
            "_dom_classes": [],
            "_model_module": "@jupyter-widgets/controls",
            "_model_module_version": "1.5.0",
            "_model_name": "HTMLModel",
            "_view_count": null,
            "_view_module": "@jupyter-widgets/controls",
            "_view_module_version": "1.5.0",
            "_view_name": "HTMLView",
            "description": "",
            "description_tooltip": null,
            "layout": "IPY_MODEL_20bc345c88374a719f5a025b0689cfd7",
            "placeholder": "​",
            "style": "IPY_MODEL_8f8b5d1ede6248e78f25ca56138b4cfd",
            "value": "Map: 100%"
          }
        },
        "5d741d51bccb428f8bd5ef6ba3c6d0b0": {
          "model_module": "@jupyter-widgets/controls",
          "model_name": "FloatProgressModel",
          "model_module_version": "1.5.0",
          "state": {
            "_dom_classes": [],
            "_model_module": "@jupyter-widgets/controls",
            "_model_module_version": "1.5.0",
            "_model_name": "FloatProgressModel",
            "_view_count": null,
            "_view_module": "@jupyter-widgets/controls",
            "_view_module_version": "1.5.0",
            "_view_name": "ProgressView",
            "bar_style": "success",
            "description": "",
            "description_tooltip": null,
            "layout": "IPY_MODEL_f394b42cfed749c59b0ed5ba35c41b5d",
            "max": 17197,
            "min": 0,
            "orientation": "horizontal",
            "style": "IPY_MODEL_07f19651d6874954ad380559a8049a79",
            "value": 17197
          }
        },
        "24cc27a7be0a4bbf94392f54615a04a9": {
          "model_module": "@jupyter-widgets/controls",
          "model_name": "HTMLModel",
          "model_module_version": "1.5.0",
          "state": {
            "_dom_classes": [],
            "_model_module": "@jupyter-widgets/controls",
            "_model_module_version": "1.5.0",
            "_model_name": "HTMLModel",
            "_view_count": null,
            "_view_module": "@jupyter-widgets/controls",
            "_view_module_version": "1.5.0",
            "_view_name": "HTMLView",
            "description": "",
            "description_tooltip": null,
            "layout": "IPY_MODEL_7ab24e3413a8402697f9599d6fa40596",
            "placeholder": "​",
            "style": "IPY_MODEL_baee808c0d244b388dddff67a715f5f7",
            "value": " 17197/17197 [00:04&lt;00:00, 3722.06 examples/s]"
          }
        },
        "28cb6d99f9b84545aea62a955b9839a5": {
          "model_module": "@jupyter-widgets/base",
          "model_name": "LayoutModel",
          "model_module_version": "1.2.0",
          "state": {
            "_model_module": "@jupyter-widgets/base",
            "_model_module_version": "1.2.0",
            "_model_name": "LayoutModel",
            "_view_count": null,
            "_view_module": "@jupyter-widgets/base",
            "_view_module_version": "1.2.0",
            "_view_name": "LayoutView",
            "align_content": null,
            "align_items": null,
            "align_self": null,
            "border": null,
            "bottom": null,
            "display": null,
            "flex": null,
            "flex_flow": null,
            "grid_area": null,
            "grid_auto_columns": null,
            "grid_auto_flow": null,
            "grid_auto_rows": null,
            "grid_column": null,
            "grid_gap": null,
            "grid_row": null,
            "grid_template_areas": null,
            "grid_template_columns": null,
            "grid_template_rows": null,
            "height": null,
            "justify_content": null,
            "justify_items": null,
            "left": null,
            "margin": null,
            "max_height": null,
            "max_width": null,
            "min_height": null,
            "min_width": null,
            "object_fit": null,
            "object_position": null,
            "order": null,
            "overflow": null,
            "overflow_x": null,
            "overflow_y": null,
            "padding": null,
            "right": null,
            "top": null,
            "visibility": null,
            "width": null
          }
        },
        "20bc345c88374a719f5a025b0689cfd7": {
          "model_module": "@jupyter-widgets/base",
          "model_name": "LayoutModel",
          "model_module_version": "1.2.0",
          "state": {
            "_model_module": "@jupyter-widgets/base",
            "_model_module_version": "1.2.0",
            "_model_name": "LayoutModel",
            "_view_count": null,
            "_view_module": "@jupyter-widgets/base",
            "_view_module_version": "1.2.0",
            "_view_name": "LayoutView",
            "align_content": null,
            "align_items": null,
            "align_self": null,
            "border": null,
            "bottom": null,
            "display": null,
            "flex": null,
            "flex_flow": null,
            "grid_area": null,
            "grid_auto_columns": null,
            "grid_auto_flow": null,
            "grid_auto_rows": null,
            "grid_column": null,
            "grid_gap": null,
            "grid_row": null,
            "grid_template_areas": null,
            "grid_template_columns": null,
            "grid_template_rows": null,
            "height": null,
            "justify_content": null,
            "justify_items": null,
            "left": null,
            "margin": null,
            "max_height": null,
            "max_width": null,
            "min_height": null,
            "min_width": null,
            "object_fit": null,
            "object_position": null,
            "order": null,
            "overflow": null,
            "overflow_x": null,
            "overflow_y": null,
            "padding": null,
            "right": null,
            "top": null,
            "visibility": null,
            "width": null
          }
        },
        "8f8b5d1ede6248e78f25ca56138b4cfd": {
          "model_module": "@jupyter-widgets/controls",
          "model_name": "DescriptionStyleModel",
          "model_module_version": "1.5.0",
          "state": {
            "_model_module": "@jupyter-widgets/controls",
            "_model_module_version": "1.5.0",
            "_model_name": "DescriptionStyleModel",
            "_view_count": null,
            "_view_module": "@jupyter-widgets/base",
            "_view_module_version": "1.2.0",
            "_view_name": "StyleView",
            "description_width": ""
          }
        },
        "f394b42cfed749c59b0ed5ba35c41b5d": {
          "model_module": "@jupyter-widgets/base",
          "model_name": "LayoutModel",
          "model_module_version": "1.2.0",
          "state": {
            "_model_module": "@jupyter-widgets/base",
            "_model_module_version": "1.2.0",
            "_model_name": "LayoutModel",
            "_view_count": null,
            "_view_module": "@jupyter-widgets/base",
            "_view_module_version": "1.2.0",
            "_view_name": "LayoutView",
            "align_content": null,
            "align_items": null,
            "align_self": null,
            "border": null,
            "bottom": null,
            "display": null,
            "flex": null,
            "flex_flow": null,
            "grid_area": null,
            "grid_auto_columns": null,
            "grid_auto_flow": null,
            "grid_auto_rows": null,
            "grid_column": null,
            "grid_gap": null,
            "grid_row": null,
            "grid_template_areas": null,
            "grid_template_columns": null,
            "grid_template_rows": null,
            "height": null,
            "justify_content": null,
            "justify_items": null,
            "left": null,
            "margin": null,
            "max_height": null,
            "max_width": null,
            "min_height": null,
            "min_width": null,
            "object_fit": null,
            "object_position": null,
            "order": null,
            "overflow": null,
            "overflow_x": null,
            "overflow_y": null,
            "padding": null,
            "right": null,
            "top": null,
            "visibility": null,
            "width": null
          }
        },
        "07f19651d6874954ad380559a8049a79": {
          "model_module": "@jupyter-widgets/controls",
          "model_name": "ProgressStyleModel",
          "model_module_version": "1.5.0",
          "state": {
            "_model_module": "@jupyter-widgets/controls",
            "_model_module_version": "1.5.0",
            "_model_name": "ProgressStyleModel",
            "_view_count": null,
            "_view_module": "@jupyter-widgets/base",
            "_view_module_version": "1.2.0",
            "_view_name": "StyleView",
            "bar_color": null,
            "description_width": ""
          }
        },
        "7ab24e3413a8402697f9599d6fa40596": {
          "model_module": "@jupyter-widgets/base",
          "model_name": "LayoutModel",
          "model_module_version": "1.2.0",
          "state": {
            "_model_module": "@jupyter-widgets/base",
            "_model_module_version": "1.2.0",
            "_model_name": "LayoutModel",
            "_view_count": null,
            "_view_module": "@jupyter-widgets/base",
            "_view_module_version": "1.2.0",
            "_view_name": "LayoutView",
            "align_content": null,
            "align_items": null,
            "align_self": null,
            "border": null,
            "bottom": null,
            "display": null,
            "flex": null,
            "flex_flow": null,
            "grid_area": null,
            "grid_auto_columns": null,
            "grid_auto_flow": null,
            "grid_auto_rows": null,
            "grid_column": null,
            "grid_gap": null,
            "grid_row": null,
            "grid_template_areas": null,
            "grid_template_columns": null,
            "grid_template_rows": null,
            "height": null,
            "justify_content": null,
            "justify_items": null,
            "left": null,
            "margin": null,
            "max_height": null,
            "max_width": null,
            "min_height": null,
            "min_width": null,
            "object_fit": null,
            "object_position": null,
            "order": null,
            "overflow": null,
            "overflow_x": null,
            "overflow_y": null,
            "padding": null,
            "right": null,
            "top": null,
            "visibility": null,
            "width": null
          }
        },
        "baee808c0d244b388dddff67a715f5f7": {
          "model_module": "@jupyter-widgets/controls",
          "model_name": "DescriptionStyleModel",
          "model_module_version": "1.5.0",
          "state": {
            "_model_module": "@jupyter-widgets/controls",
            "_model_module_version": "1.5.0",
            "_model_name": "DescriptionStyleModel",
            "_view_count": null,
            "_view_module": "@jupyter-widgets/base",
            "_view_module_version": "1.2.0",
            "_view_name": "StyleView",
            "description_width": ""
          }
        },
        "e811a07d432f44ca932a591b61096447": {
          "model_module": "@jupyter-widgets/controls",
          "model_name": "HBoxModel",
          "model_module_version": "1.5.0",
          "state": {
            "_dom_classes": [],
            "_model_module": "@jupyter-widgets/controls",
            "_model_module_version": "1.5.0",
            "_model_name": "HBoxModel",
            "_view_count": null,
            "_view_module": "@jupyter-widgets/controls",
            "_view_module_version": "1.5.0",
            "_view_name": "HBoxView",
            "box_style": "",
            "children": [
              "IPY_MODEL_aabcd826ef024cd881b3c232f784234b",
              "IPY_MODEL_a3404a2b5293444f9b1f687009bfa41e",
              "IPY_MODEL_9760de53dc64412285ef9b5ca8fe04ae"
            ],
            "layout": "IPY_MODEL_fdc3b1c03c774e73918b356c7e931fa0"
          }
        },
        "aabcd826ef024cd881b3c232f784234b": {
          "model_module": "@jupyter-widgets/controls",
          "model_name": "HTMLModel",
          "model_module_version": "1.5.0",
          "state": {
            "_dom_classes": [],
            "_model_module": "@jupyter-widgets/controls",
            "_model_module_version": "1.5.0",
            "_model_name": "HTMLModel",
            "_view_count": null,
            "_view_module": "@jupyter-widgets/controls",
            "_view_module_version": "1.5.0",
            "_view_name": "HTMLView",
            "description": "",
            "description_tooltip": null,
            "layout": "IPY_MODEL_17d17d05182c48358fac1cf6719a57cc",
            "placeholder": "​",
            "style": "IPY_MODEL_e70b91609b244aba90cf0035e6696d9c",
            "value": "Map: 100%"
          }
        },
        "a3404a2b5293444f9b1f687009bfa41e": {
          "model_module": "@jupyter-widgets/controls",
          "model_name": "FloatProgressModel",
          "model_module_version": "1.5.0",
          "state": {
            "_dom_classes": [],
            "_model_module": "@jupyter-widgets/controls",
            "_model_module_version": "1.5.0",
            "_model_name": "FloatProgressModel",
            "_view_count": null,
            "_view_module": "@jupyter-widgets/controls",
            "_view_module_version": "1.5.0",
            "_view_name": "ProgressView",
            "bar_style": "success",
            "description": "",
            "description_tooltip": null,
            "layout": "IPY_MODEL_8cbf465f0cad4b65b17064605d0eda1f",
            "max": 31962,
            "min": 0,
            "orientation": "horizontal",
            "style": "IPY_MODEL_0dfb050e25ca4ea0828b5df795c74527",
            "value": 31962
          }
        },
        "9760de53dc64412285ef9b5ca8fe04ae": {
          "model_module": "@jupyter-widgets/controls",
          "model_name": "HTMLModel",
          "model_module_version": "1.5.0",
          "state": {
            "_dom_classes": [],
            "_model_module": "@jupyter-widgets/controls",
            "_model_module_version": "1.5.0",
            "_model_name": "HTMLModel",
            "_view_count": null,
            "_view_module": "@jupyter-widgets/controls",
            "_view_module_version": "1.5.0",
            "_view_name": "HTMLView",
            "description": "",
            "description_tooltip": null,
            "layout": "IPY_MODEL_f2078d8e3a904c488f8a144d901c5a40",
            "placeholder": "​",
            "style": "IPY_MODEL_1c23520811e64d4fb9f480367de1ad6f",
            "value": " 31962/31962 [00:04&lt;00:00, 6567.96 examples/s]"
          }
        },
        "fdc3b1c03c774e73918b356c7e931fa0": {
          "model_module": "@jupyter-widgets/base",
          "model_name": "LayoutModel",
          "model_module_version": "1.2.0",
          "state": {
            "_model_module": "@jupyter-widgets/base",
            "_model_module_version": "1.2.0",
            "_model_name": "LayoutModel",
            "_view_count": null,
            "_view_module": "@jupyter-widgets/base",
            "_view_module_version": "1.2.0",
            "_view_name": "LayoutView",
            "align_content": null,
            "align_items": null,
            "align_self": null,
            "border": null,
            "bottom": null,
            "display": null,
            "flex": null,
            "flex_flow": null,
            "grid_area": null,
            "grid_auto_columns": null,
            "grid_auto_flow": null,
            "grid_auto_rows": null,
            "grid_column": null,
            "grid_gap": null,
            "grid_row": null,
            "grid_template_areas": null,
            "grid_template_columns": null,
            "grid_template_rows": null,
            "height": null,
            "justify_content": null,
            "justify_items": null,
            "left": null,
            "margin": null,
            "max_height": null,
            "max_width": null,
            "min_height": null,
            "min_width": null,
            "object_fit": null,
            "object_position": null,
            "order": null,
            "overflow": null,
            "overflow_x": null,
            "overflow_y": null,
            "padding": null,
            "right": null,
            "top": null,
            "visibility": null,
            "width": null
          }
        },
        "17d17d05182c48358fac1cf6719a57cc": {
          "model_module": "@jupyter-widgets/base",
          "model_name": "LayoutModel",
          "model_module_version": "1.2.0",
          "state": {
            "_model_module": "@jupyter-widgets/base",
            "_model_module_version": "1.2.0",
            "_model_name": "LayoutModel",
            "_view_count": null,
            "_view_module": "@jupyter-widgets/base",
            "_view_module_version": "1.2.0",
            "_view_name": "LayoutView",
            "align_content": null,
            "align_items": null,
            "align_self": null,
            "border": null,
            "bottom": null,
            "display": null,
            "flex": null,
            "flex_flow": null,
            "grid_area": null,
            "grid_auto_columns": null,
            "grid_auto_flow": null,
            "grid_auto_rows": null,
            "grid_column": null,
            "grid_gap": null,
            "grid_row": null,
            "grid_template_areas": null,
            "grid_template_columns": null,
            "grid_template_rows": null,
            "height": null,
            "justify_content": null,
            "justify_items": null,
            "left": null,
            "margin": null,
            "max_height": null,
            "max_width": null,
            "min_height": null,
            "min_width": null,
            "object_fit": null,
            "object_position": null,
            "order": null,
            "overflow": null,
            "overflow_x": null,
            "overflow_y": null,
            "padding": null,
            "right": null,
            "top": null,
            "visibility": null,
            "width": null
          }
        },
        "e70b91609b244aba90cf0035e6696d9c": {
          "model_module": "@jupyter-widgets/controls",
          "model_name": "DescriptionStyleModel",
          "model_module_version": "1.5.0",
          "state": {
            "_model_module": "@jupyter-widgets/controls",
            "_model_module_version": "1.5.0",
            "_model_name": "DescriptionStyleModel",
            "_view_count": null,
            "_view_module": "@jupyter-widgets/base",
            "_view_module_version": "1.2.0",
            "_view_name": "StyleView",
            "description_width": ""
          }
        },
        "8cbf465f0cad4b65b17064605d0eda1f": {
          "model_module": "@jupyter-widgets/base",
          "model_name": "LayoutModel",
          "model_module_version": "1.2.0",
          "state": {
            "_model_module": "@jupyter-widgets/base",
            "_model_module_version": "1.2.0",
            "_model_name": "LayoutModel",
            "_view_count": null,
            "_view_module": "@jupyter-widgets/base",
            "_view_module_version": "1.2.0",
            "_view_name": "LayoutView",
            "align_content": null,
            "align_items": null,
            "align_self": null,
            "border": null,
            "bottom": null,
            "display": null,
            "flex": null,
            "flex_flow": null,
            "grid_area": null,
            "grid_auto_columns": null,
            "grid_auto_flow": null,
            "grid_auto_rows": null,
            "grid_column": null,
            "grid_gap": null,
            "grid_row": null,
            "grid_template_areas": null,
            "grid_template_columns": null,
            "grid_template_rows": null,
            "height": null,
            "justify_content": null,
            "justify_items": null,
            "left": null,
            "margin": null,
            "max_height": null,
            "max_width": null,
            "min_height": null,
            "min_width": null,
            "object_fit": null,
            "object_position": null,
            "order": null,
            "overflow": null,
            "overflow_x": null,
            "overflow_y": null,
            "padding": null,
            "right": null,
            "top": null,
            "visibility": null,
            "width": null
          }
        },
        "0dfb050e25ca4ea0828b5df795c74527": {
          "model_module": "@jupyter-widgets/controls",
          "model_name": "ProgressStyleModel",
          "model_module_version": "1.5.0",
          "state": {
            "_model_module": "@jupyter-widgets/controls",
            "_model_module_version": "1.5.0",
            "_model_name": "ProgressStyleModel",
            "_view_count": null,
            "_view_module": "@jupyter-widgets/base",
            "_view_module_version": "1.2.0",
            "_view_name": "StyleView",
            "bar_color": null,
            "description_width": ""
          }
        },
        "f2078d8e3a904c488f8a144d901c5a40": {
          "model_module": "@jupyter-widgets/base",
          "model_name": "LayoutModel",
          "model_module_version": "1.2.0",
          "state": {
            "_model_module": "@jupyter-widgets/base",
            "_model_module_version": "1.2.0",
            "_model_name": "LayoutModel",
            "_view_count": null,
            "_view_module": "@jupyter-widgets/base",
            "_view_module_version": "1.2.0",
            "_view_name": "LayoutView",
            "align_content": null,
            "align_items": null,
            "align_self": null,
            "border": null,
            "bottom": null,
            "display": null,
            "flex": null,
            "flex_flow": null,
            "grid_area": null,
            "grid_auto_columns": null,
            "grid_auto_flow": null,
            "grid_auto_rows": null,
            "grid_column": null,
            "grid_gap": null,
            "grid_row": null,
            "grid_template_areas": null,
            "grid_template_columns": null,
            "grid_template_rows": null,
            "height": null,
            "justify_content": null,
            "justify_items": null,
            "left": null,
            "margin": null,
            "max_height": null,
            "max_width": null,
            "min_height": null,
            "min_width": null,
            "object_fit": null,
            "object_position": null,
            "order": null,
            "overflow": null,
            "overflow_x": null,
            "overflow_y": null,
            "padding": null,
            "right": null,
            "top": null,
            "visibility": null,
            "width": null
          }
        },
        "1c23520811e64d4fb9f480367de1ad6f": {
          "model_module": "@jupyter-widgets/controls",
          "model_name": "DescriptionStyleModel",
          "model_module_version": "1.5.0",
          "state": {
            "_model_module": "@jupyter-widgets/controls",
            "_model_module_version": "1.5.0",
            "_model_name": "DescriptionStyleModel",
            "_view_count": null,
            "_view_module": "@jupyter-widgets/base",
            "_view_module_version": "1.2.0",
            "_view_name": "StyleView",
            "description_width": ""
          }
        },
        "16f6eec701c74aa1891c36a52c8f8de9": {
          "model_module": "@jupyter-widgets/controls",
          "model_name": "HBoxModel",
          "model_module_version": "1.5.0",
          "state": {
            "_dom_classes": [],
            "_model_module": "@jupyter-widgets/controls",
            "_model_module_version": "1.5.0",
            "_model_name": "HBoxModel",
            "_view_count": null,
            "_view_module": "@jupyter-widgets/controls",
            "_view_module_version": "1.5.0",
            "_view_name": "HBoxView",
            "box_style": "",
            "children": [
              "IPY_MODEL_3dc23c8ce7c64b3c865f221d007396a8",
              "IPY_MODEL_d27c88b02acd44b8bb1ef6c66bc63c64",
              "IPY_MODEL_9634ec839c06406da35477a953f10f0d"
            ],
            "layout": "IPY_MODEL_c54607119f994696a1841d37872ecbe0"
          }
        },
        "3dc23c8ce7c64b3c865f221d007396a8": {
          "model_module": "@jupyter-widgets/controls",
          "model_name": "HTMLModel",
          "model_module_version": "1.5.0",
          "state": {
            "_dom_classes": [],
            "_model_module": "@jupyter-widgets/controls",
            "_model_module_version": "1.5.0",
            "_model_name": "HTMLModel",
            "_view_count": null,
            "_view_module": "@jupyter-widgets/controls",
            "_view_module_version": "1.5.0",
            "_view_name": "HTMLView",
            "description": "",
            "description_tooltip": null,
            "layout": "IPY_MODEL_1c2e0c6c2cb74bd7a1c7b80c617992fb",
            "placeholder": "​",
            "style": "IPY_MODEL_a6cee5b41be44e2abace4761045bc217",
            "value": "Map: 100%"
          }
        },
        "d27c88b02acd44b8bb1ef6c66bc63c64": {
          "model_module": "@jupyter-widgets/controls",
          "model_name": "FloatProgressModel",
          "model_module_version": "1.5.0",
          "state": {
            "_dom_classes": [],
            "_model_module": "@jupyter-widgets/controls",
            "_model_module_version": "1.5.0",
            "_model_name": "FloatProgressModel",
            "_view_count": null,
            "_view_module": "@jupyter-widgets/controls",
            "_view_module_version": "1.5.0",
            "_view_name": "ProgressView",
            "bar_style": "success",
            "description": "",
            "description_tooltip": null,
            "layout": "IPY_MODEL_d0e9bcb50d724682a2f675a7cc4a9286",
            "max": 17197,
            "min": 0,
            "orientation": "horizontal",
            "style": "IPY_MODEL_f500f35fa8cc4e3fbc4c93915501ab61",
            "value": 17197
          }
        },
        "9634ec839c06406da35477a953f10f0d": {
          "model_module": "@jupyter-widgets/controls",
          "model_name": "HTMLModel",
          "model_module_version": "1.5.0",
          "state": {
            "_dom_classes": [],
            "_model_module": "@jupyter-widgets/controls",
            "_model_module_version": "1.5.0",
            "_model_name": "HTMLModel",
            "_view_count": null,
            "_view_module": "@jupyter-widgets/controls",
            "_view_module_version": "1.5.0",
            "_view_name": "HTMLView",
            "description": "",
            "description_tooltip": null,
            "layout": "IPY_MODEL_3779caff3f0a415e8d5c181ddae52c29",
            "placeholder": "​",
            "style": "IPY_MODEL_218913e1382b47e4be29796a664ed9dd",
            "value": " 17197/17197 [00:02&lt;00:00, 9097.66 examples/s]"
          }
        },
        "c54607119f994696a1841d37872ecbe0": {
          "model_module": "@jupyter-widgets/base",
          "model_name": "LayoutModel",
          "model_module_version": "1.2.0",
          "state": {
            "_model_module": "@jupyter-widgets/base",
            "_model_module_version": "1.2.0",
            "_model_name": "LayoutModel",
            "_view_count": null,
            "_view_module": "@jupyter-widgets/base",
            "_view_module_version": "1.2.0",
            "_view_name": "LayoutView",
            "align_content": null,
            "align_items": null,
            "align_self": null,
            "border": null,
            "bottom": null,
            "display": null,
            "flex": null,
            "flex_flow": null,
            "grid_area": null,
            "grid_auto_columns": null,
            "grid_auto_flow": null,
            "grid_auto_rows": null,
            "grid_column": null,
            "grid_gap": null,
            "grid_row": null,
            "grid_template_areas": null,
            "grid_template_columns": null,
            "grid_template_rows": null,
            "height": null,
            "justify_content": null,
            "justify_items": null,
            "left": null,
            "margin": null,
            "max_height": null,
            "max_width": null,
            "min_height": null,
            "min_width": null,
            "object_fit": null,
            "object_position": null,
            "order": null,
            "overflow": null,
            "overflow_x": null,
            "overflow_y": null,
            "padding": null,
            "right": null,
            "top": null,
            "visibility": null,
            "width": null
          }
        },
        "1c2e0c6c2cb74bd7a1c7b80c617992fb": {
          "model_module": "@jupyter-widgets/base",
          "model_name": "LayoutModel",
          "model_module_version": "1.2.0",
          "state": {
            "_model_module": "@jupyter-widgets/base",
            "_model_module_version": "1.2.0",
            "_model_name": "LayoutModel",
            "_view_count": null,
            "_view_module": "@jupyter-widgets/base",
            "_view_module_version": "1.2.0",
            "_view_name": "LayoutView",
            "align_content": null,
            "align_items": null,
            "align_self": null,
            "border": null,
            "bottom": null,
            "display": null,
            "flex": null,
            "flex_flow": null,
            "grid_area": null,
            "grid_auto_columns": null,
            "grid_auto_flow": null,
            "grid_auto_rows": null,
            "grid_column": null,
            "grid_gap": null,
            "grid_row": null,
            "grid_template_areas": null,
            "grid_template_columns": null,
            "grid_template_rows": null,
            "height": null,
            "justify_content": null,
            "justify_items": null,
            "left": null,
            "margin": null,
            "max_height": null,
            "max_width": null,
            "min_height": null,
            "min_width": null,
            "object_fit": null,
            "object_position": null,
            "order": null,
            "overflow": null,
            "overflow_x": null,
            "overflow_y": null,
            "padding": null,
            "right": null,
            "top": null,
            "visibility": null,
            "width": null
          }
        },
        "a6cee5b41be44e2abace4761045bc217": {
          "model_module": "@jupyter-widgets/controls",
          "model_name": "DescriptionStyleModel",
          "model_module_version": "1.5.0",
          "state": {
            "_model_module": "@jupyter-widgets/controls",
            "_model_module_version": "1.5.0",
            "_model_name": "DescriptionStyleModel",
            "_view_count": null,
            "_view_module": "@jupyter-widgets/base",
            "_view_module_version": "1.2.0",
            "_view_name": "StyleView",
            "description_width": ""
          }
        },
        "d0e9bcb50d724682a2f675a7cc4a9286": {
          "model_module": "@jupyter-widgets/base",
          "model_name": "LayoutModel",
          "model_module_version": "1.2.0",
          "state": {
            "_model_module": "@jupyter-widgets/base",
            "_model_module_version": "1.2.0",
            "_model_name": "LayoutModel",
            "_view_count": null,
            "_view_module": "@jupyter-widgets/base",
            "_view_module_version": "1.2.0",
            "_view_name": "LayoutView",
            "align_content": null,
            "align_items": null,
            "align_self": null,
            "border": null,
            "bottom": null,
            "display": null,
            "flex": null,
            "flex_flow": null,
            "grid_area": null,
            "grid_auto_columns": null,
            "grid_auto_flow": null,
            "grid_auto_rows": null,
            "grid_column": null,
            "grid_gap": null,
            "grid_row": null,
            "grid_template_areas": null,
            "grid_template_columns": null,
            "grid_template_rows": null,
            "height": null,
            "justify_content": null,
            "justify_items": null,
            "left": null,
            "margin": null,
            "max_height": null,
            "max_width": null,
            "min_height": null,
            "min_width": null,
            "object_fit": null,
            "object_position": null,
            "order": null,
            "overflow": null,
            "overflow_x": null,
            "overflow_y": null,
            "padding": null,
            "right": null,
            "top": null,
            "visibility": null,
            "width": null
          }
        },
        "f500f35fa8cc4e3fbc4c93915501ab61": {
          "model_module": "@jupyter-widgets/controls",
          "model_name": "ProgressStyleModel",
          "model_module_version": "1.5.0",
          "state": {
            "_model_module": "@jupyter-widgets/controls",
            "_model_module_version": "1.5.0",
            "_model_name": "ProgressStyleModel",
            "_view_count": null,
            "_view_module": "@jupyter-widgets/base",
            "_view_module_version": "1.2.0",
            "_view_name": "StyleView",
            "bar_color": null,
            "description_width": ""
          }
        },
        "3779caff3f0a415e8d5c181ddae52c29": {
          "model_module": "@jupyter-widgets/base",
          "model_name": "LayoutModel",
          "model_module_version": "1.2.0",
          "state": {
            "_model_module": "@jupyter-widgets/base",
            "_model_module_version": "1.2.0",
            "_model_name": "LayoutModel",
            "_view_count": null,
            "_view_module": "@jupyter-widgets/base",
            "_view_module_version": "1.2.0",
            "_view_name": "LayoutView",
            "align_content": null,
            "align_items": null,
            "align_self": null,
            "border": null,
            "bottom": null,
            "display": null,
            "flex": null,
            "flex_flow": null,
            "grid_area": null,
            "grid_auto_columns": null,
            "grid_auto_flow": null,
            "grid_auto_rows": null,
            "grid_column": null,
            "grid_gap": null,
            "grid_row": null,
            "grid_template_areas": null,
            "grid_template_columns": null,
            "grid_template_rows": null,
            "height": null,
            "justify_content": null,
            "justify_items": null,
            "left": null,
            "margin": null,
            "max_height": null,
            "max_width": null,
            "min_height": null,
            "min_width": null,
            "object_fit": null,
            "object_position": null,
            "order": null,
            "overflow": null,
            "overflow_x": null,
            "overflow_y": null,
            "padding": null,
            "right": null,
            "top": null,
            "visibility": null,
            "width": null
          }
        },
        "218913e1382b47e4be29796a664ed9dd": {
          "model_module": "@jupyter-widgets/controls",
          "model_name": "DescriptionStyleModel",
          "model_module_version": "1.5.0",
          "state": {
            "_model_module": "@jupyter-widgets/controls",
            "_model_module_version": "1.5.0",
            "_model_name": "DescriptionStyleModel",
            "_view_count": null,
            "_view_module": "@jupyter-widgets/base",
            "_view_module_version": "1.2.0",
            "_view_name": "StyleView",
            "description_width": ""
          }
        }
      }
    }
  },
  "nbformat": 4,
  "nbformat_minor": 5
}